{
  "cells": [
    {
      "cell_type": "markdown",
      "metadata": {
        "id": "view-in-github",
        "colab_type": "text"
      },
      "source": [
        "<a href=\"https://colab.research.google.com/github/skflwright/Python_Projects_Data_201/blob/main/Citibike_Analysis.ipynb\" target=\"_parent\"><img src=\"https://colab.research.google.com/assets/colab-badge.svg\" alt=\"Open In Colab\"/></a>"
      ]
    },
    {
      "cell_type": "markdown",
      "source": [
        "#**DATA 201 Capstone Project**#\n",
        "#NYC Bike Sharing An Analysis of Citibike Riders in Q1 2022#\n",
        "\n"
      ],
      "metadata": {
        "id": "ZoyXcMdooaIz"
      }
    },
    {
      "cell_type": "code",
      "execution_count": 1,
      "metadata": {
        "id": "uO24WBrNe-GW"
      },
      "outputs": [],
      "source": [
        "import pandas as pd\n",
        "import numpy as np\n",
        "import matplotlib.pyplot as plt\n",
        "import seaborn as sns\n",
        "#%matplotlib inline\n"
      ]
    },
    {
      "cell_type": "markdown",
      "source": [
        "#**Data Source & Dictionary**#\n",
        "\n",
        "The data for this analysis was taken from the citibike trip data available at https://s3.amazonaws.com/tripdata/index.html\n",
        "\n",
        "Given the density of data available, this analysis has been limited to first quarter 2022, providing an analysis of over four million rides (4,179,675) as attempts to include the second quarter brought the total number to over six million, which my computer could not manage to process for data visualizations.\n",
        "\n",
        "**Data Dictionary** There is no formal dictionary of the data provided by citibike via csv files. The csv data includes up to date monthly reports that entail the date and time of each ride, the start and end destinations, the membership status of the rider and the type of bike the rider used (electric or classic). \n",
        "\n",
        "**Data Challenges** Due to the rather large size of these csv files, it was necessary to upload the files into colab using the import files function. In addition to this, the large nature of the data slowed down upload times, making it necessary to upload each month separately, drop nonessential columns and then merge the months thereafter. \n",
        "\n",
        "Attempts were made to include six months worth of data for a quarterly comparison but the size of the combined data was too much for my computer to handle without crashing. \n"
      ],
      "metadata": {
        "id": "jOYxTeUEqHka"
      }
    },
    {
      "cell_type": "code",
      "source": [
        "from google.colab import files\n",
        "uploaded = files.upload()"
      ],
      "metadata": {
        "colab": {
          "resources": {
            "http://localhost:8080/nbextensions/google.colab/files.js": {
              "data": "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",
              "ok": true,
              "headers": [
                [
                  "content-type",
                  "application/javascript"
                ]
              ],
              "status": 200,
              "status_text": ""
            }
          },
          "base_uri": "https://localhost:8080/",
          "height": 73
        },
        "id": "4Mh9HTcbfGqh",
        "outputId": "1cbfdc77-6ebe-4060-db9e-03b36002d864"
      },
      "execution_count": 2,
      "outputs": [
        {
          "output_type": "display_data",
          "data": {
            "text/plain": [
              "<IPython.core.display.HTML object>"
            ],
            "text/html": [
              "\n",
              "     <input type=\"file\" id=\"files-930950c5-cde4-40b0-b149-f6e6e177a841\" name=\"files[]\" multiple disabled\n",
              "        style=\"border:none\" />\n",
              "     <output id=\"result-930950c5-cde4-40b0-b149-f6e6e177a841\">\n",
              "      Upload widget is only available when the cell has been executed in the\n",
              "      current browser session. Please rerun this cell to enable.\n",
              "      </output>\n",
              "      <script src=\"/nbextensions/google.colab/files.js\"></script> "
            ]
          },
          "metadata": {}
        },
        {
          "output_type": "stream",
          "name": "stdout",
          "text": [
            "Saving 202201-citibike-tripdata.csv to 202201-citibike-tripdata.csv\n"
          ]
        }
      ]
    },
    {
      "cell_type": "code",
      "source": [
        "import io\n",
        "jan = pd.read_csv(io.BytesIO(uploaded['202201-citibike-tripdata.csv']))"
      ],
      "metadata": {
        "colab": {
          "base_uri": "https://localhost:8080/"
        },
        "id": "Uf_yz8vJhKob",
        "outputId": "9bbb505d-0cc9-4b68-c245-d13ead990ab2"
      },
      "execution_count": 3,
      "outputs": [
        {
          "output_type": "stream",
          "name": "stderr",
          "text": [
            "/usr/local/lib/python3.7/dist-packages/IPython/core/interactiveshell.py:2882: DtypeWarning: Columns (5,7) have mixed types.Specify dtype option on import or set low_memory=False.\n",
            "  exec(code_obj, self.user_global_ns, self.user_ns)\n"
          ]
        }
      ]
    },
    {
      "cell_type": "code",
      "source": [
        "jan.head()"
      ],
      "metadata": {
        "id": "zj6A-VPOkKv_",
        "colab": {
          "base_uri": "https://localhost:8080/",
          "height": 323
        },
        "outputId": "a75c1c78-a9e5-43dd-9998-d586ccdfb613"
      },
      "execution_count": 4,
      "outputs": [
        {
          "output_type": "execute_result",
          "data": {
            "text/plain": [
              "            ride_id  rideable_type           started_at             ended_at  \\\n",
              "0  55262E4365A955A2   classic_bike  2022-01-18 08:23:52  2022-01-18 08:28:18   \n",
              "1  D272F1B15D841EC0   classic_bike  2022-01-21 09:03:22  2022-01-21 09:05:44   \n",
              "2  D1FCEF55EB4A807F   classic_bike  2022-01-22 14:28:32  2022-01-22 14:53:18   \n",
              "3  E9CBDC6A0162C068  electric_bike  2022-01-19 14:49:47  2022-01-19 14:54:02   \n",
              "4  2177A5B57326CE9B  electric_bike  2022-01-16 14:36:06  2022-01-16 14:44:06   \n",
              "\n",
              "        start_station_name start_station_id           end_station_name  \\\n",
              "0  Boerum Pl\\t& Pacific St          4488.09  Clinton St & Joralemon St   \n",
              "1          E 12 St & Ave C          5616.08         E 10 St & Avenue A   \n",
              "2          W 21 St & 6 Ave          6140.05           W 44 St & 11 Ave   \n",
              "3           38 St & 30 Ave          6850.01       Crescent St & 30 Ave   \n",
              "4   Pacific St & Nevins St          4362.04    Clinton St & Tillary St   \n",
              "\n",
              "  end_station_id  start_lat  start_lng    end_lat    end_lng member_casual  \n",
              "0        4605.04  40.688489 -73.991160  40.692395 -73.993379        member  \n",
              "1        5659.05  40.727243 -73.976831  40.727408 -73.981420        member  \n",
              "2        6756.05  40.741740 -73.994156  40.762009 -73.996975        member  \n",
              "3        6958.06  40.764175 -73.915840  40.768692 -73.924957        member  \n",
              "4        4748.07  40.685376 -73.983021  40.696233 -73.991421        member  "
            ],
            "text/html": [
              "\n",
              "  <div id=\"df-8643e300-e509-446c-85ec-f2e02effc43d\">\n",
              "    <div class=\"colab-df-container\">\n",
              "      <div>\n",
              "<style scoped>\n",
              "    .dataframe tbody tr th:only-of-type {\n",
              "        vertical-align: middle;\n",
              "    }\n",
              "\n",
              "    .dataframe tbody tr th {\n",
              "        vertical-align: top;\n",
              "    }\n",
              "\n",
              "    .dataframe thead th {\n",
              "        text-align: right;\n",
              "    }\n",
              "</style>\n",
              "<table border=\"1\" class=\"dataframe\">\n",
              "  <thead>\n",
              "    <tr style=\"text-align: right;\">\n",
              "      <th></th>\n",
              "      <th>ride_id</th>\n",
              "      <th>rideable_type</th>\n",
              "      <th>started_at</th>\n",
              "      <th>ended_at</th>\n",
              "      <th>start_station_name</th>\n",
              "      <th>start_station_id</th>\n",
              "      <th>end_station_name</th>\n",
              "      <th>end_station_id</th>\n",
              "      <th>start_lat</th>\n",
              "      <th>start_lng</th>\n",
              "      <th>end_lat</th>\n",
              "      <th>end_lng</th>\n",
              "      <th>member_casual</th>\n",
              "    </tr>\n",
              "  </thead>\n",
              "  <tbody>\n",
              "    <tr>\n",
              "      <th>0</th>\n",
              "      <td>55262E4365A955A2</td>\n",
              "      <td>classic_bike</td>\n",
              "      <td>2022-01-18 08:23:52</td>\n",
              "      <td>2022-01-18 08:28:18</td>\n",
              "      <td>Boerum Pl\\t&amp; Pacific St</td>\n",
              "      <td>4488.09</td>\n",
              "      <td>Clinton St &amp; Joralemon St</td>\n",
              "      <td>4605.04</td>\n",
              "      <td>40.688489</td>\n",
              "      <td>-73.991160</td>\n",
              "      <td>40.692395</td>\n",
              "      <td>-73.993379</td>\n",
              "      <td>member</td>\n",
              "    </tr>\n",
              "    <tr>\n",
              "      <th>1</th>\n",
              "      <td>D272F1B15D841EC0</td>\n",
              "      <td>classic_bike</td>\n",
              "      <td>2022-01-21 09:03:22</td>\n",
              "      <td>2022-01-21 09:05:44</td>\n",
              "      <td>E 12 St &amp; Ave C</td>\n",
              "      <td>5616.08</td>\n",
              "      <td>E 10 St &amp; Avenue A</td>\n",
              "      <td>5659.05</td>\n",
              "      <td>40.727243</td>\n",
              "      <td>-73.976831</td>\n",
              "      <td>40.727408</td>\n",
              "      <td>-73.981420</td>\n",
              "      <td>member</td>\n",
              "    </tr>\n",
              "    <tr>\n",
              "      <th>2</th>\n",
              "      <td>D1FCEF55EB4A807F</td>\n",
              "      <td>classic_bike</td>\n",
              "      <td>2022-01-22 14:28:32</td>\n",
              "      <td>2022-01-22 14:53:18</td>\n",
              "      <td>W 21 St &amp; 6 Ave</td>\n",
              "      <td>6140.05</td>\n",
              "      <td>W 44 St &amp; 11 Ave</td>\n",
              "      <td>6756.05</td>\n",
              "      <td>40.741740</td>\n",
              "      <td>-73.994156</td>\n",
              "      <td>40.762009</td>\n",
              "      <td>-73.996975</td>\n",
              "      <td>member</td>\n",
              "    </tr>\n",
              "    <tr>\n",
              "      <th>3</th>\n",
              "      <td>E9CBDC6A0162C068</td>\n",
              "      <td>electric_bike</td>\n",
              "      <td>2022-01-19 14:49:47</td>\n",
              "      <td>2022-01-19 14:54:02</td>\n",
              "      <td>38 St &amp; 30 Ave</td>\n",
              "      <td>6850.01</td>\n",
              "      <td>Crescent St &amp; 30 Ave</td>\n",
              "      <td>6958.06</td>\n",
              "      <td>40.764175</td>\n",
              "      <td>-73.915840</td>\n",
              "      <td>40.768692</td>\n",
              "      <td>-73.924957</td>\n",
              "      <td>member</td>\n",
              "    </tr>\n",
              "    <tr>\n",
              "      <th>4</th>\n",
              "      <td>2177A5B57326CE9B</td>\n",
              "      <td>electric_bike</td>\n",
              "      <td>2022-01-16 14:36:06</td>\n",
              "      <td>2022-01-16 14:44:06</td>\n",
              "      <td>Pacific St &amp; Nevins St</td>\n",
              "      <td>4362.04</td>\n",
              "      <td>Clinton St &amp; Tillary St</td>\n",
              "      <td>4748.07</td>\n",
              "      <td>40.685376</td>\n",
              "      <td>-73.983021</td>\n",
              "      <td>40.696233</td>\n",
              "      <td>-73.991421</td>\n",
              "      <td>member</td>\n",
              "    </tr>\n",
              "  </tbody>\n",
              "</table>\n",
              "</div>\n",
              "      <button class=\"colab-df-convert\" onclick=\"convertToInteractive('df-8643e300-e509-446c-85ec-f2e02effc43d')\"\n",
              "              title=\"Convert this dataframe to an interactive table.\"\n",
              "              style=\"display:none;\">\n",
              "        \n",
              "  <svg xmlns=\"http://www.w3.org/2000/svg\" height=\"24px\"viewBox=\"0 0 24 24\"\n",
              "       width=\"24px\">\n",
              "    <path d=\"M0 0h24v24H0V0z\" fill=\"none\"/>\n",
              "    <path d=\"M18.56 5.44l.94 2.06.94-2.06 2.06-.94-2.06-.94-.94-2.06-.94 2.06-2.06.94zm-11 1L8.5 8.5l.94-2.06 2.06-.94-2.06-.94L8.5 2.5l-.94 2.06-2.06.94zm10 10l.94 2.06.94-2.06 2.06-.94-2.06-.94-.94-2.06-.94 2.06-2.06.94z\"/><path d=\"M17.41 7.96l-1.37-1.37c-.4-.4-.92-.59-1.43-.59-.52 0-1.04.2-1.43.59L10.3 9.45l-7.72 7.72c-.78.78-.78 2.05 0 2.83L4 21.41c.39.39.9.59 1.41.59.51 0 1.02-.2 1.41-.59l7.78-7.78 2.81-2.81c.8-.78.8-2.07 0-2.86zM5.41 20L4 18.59l7.72-7.72 1.47 1.35L5.41 20z\"/>\n",
              "  </svg>\n",
              "      </button>\n",
              "      \n",
              "  <style>\n",
              "    .colab-df-container {\n",
              "      display:flex;\n",
              "      flex-wrap:wrap;\n",
              "      gap: 12px;\n",
              "    }\n",
              "\n",
              "    .colab-df-convert {\n",
              "      background-color: #E8F0FE;\n",
              "      border: none;\n",
              "      border-radius: 50%;\n",
              "      cursor: pointer;\n",
              "      display: none;\n",
              "      fill: #1967D2;\n",
              "      height: 32px;\n",
              "      padding: 0 0 0 0;\n",
              "      width: 32px;\n",
              "    }\n",
              "\n",
              "    .colab-df-convert:hover {\n",
              "      background-color: #E2EBFA;\n",
              "      box-shadow: 0px 1px 2px rgba(60, 64, 67, 0.3), 0px 1px 3px 1px rgba(60, 64, 67, 0.15);\n",
              "      fill: #174EA6;\n",
              "    }\n",
              "\n",
              "    [theme=dark] .colab-df-convert {\n",
              "      background-color: #3B4455;\n",
              "      fill: #D2E3FC;\n",
              "    }\n",
              "\n",
              "    [theme=dark] .colab-df-convert:hover {\n",
              "      background-color: #434B5C;\n",
              "      box-shadow: 0px 1px 3px 1px rgba(0, 0, 0, 0.15);\n",
              "      filter: drop-shadow(0px 1px 2px rgba(0, 0, 0, 0.3));\n",
              "      fill: #FFFFFF;\n",
              "    }\n",
              "  </style>\n",
              "\n",
              "      <script>\n",
              "        const buttonEl =\n",
              "          document.querySelector('#df-8643e300-e509-446c-85ec-f2e02effc43d button.colab-df-convert');\n",
              "        buttonEl.style.display =\n",
              "          google.colab.kernel.accessAllowed ? 'block' : 'none';\n",
              "\n",
              "        async function convertToInteractive(key) {\n",
              "          const element = document.querySelector('#df-8643e300-e509-446c-85ec-f2e02effc43d');\n",
              "          const dataTable =\n",
              "            await google.colab.kernel.invokeFunction('convertToInteractive',\n",
              "                                                     [key], {});\n",
              "          if (!dataTable) return;\n",
              "\n",
              "          const docLinkHtml = 'Like what you see? Visit the ' +\n",
              "            '<a target=\"_blank\" href=https://colab.research.google.com/notebooks/data_table.ipynb>data table notebook</a>'\n",
              "            + ' to learn more about interactive tables.';\n",
              "          element.innerHTML = '';\n",
              "          dataTable['output_type'] = 'display_data';\n",
              "          await google.colab.output.renderOutput(dataTable, element);\n",
              "          const docLink = document.createElement('div');\n",
              "          docLink.innerHTML = docLinkHtml;\n",
              "          element.appendChild(docLink);\n",
              "        }\n",
              "      </script>\n",
              "    </div>\n",
              "  </div>\n",
              "  "
            ]
          },
          "metadata": {},
          "execution_count": 4
        }
      ]
    },
    {
      "cell_type": "code",
      "execution_count": 5,
      "metadata": {
        "id": "jOkrM3Kpe-Ga",
        "colab": {
          "base_uri": "https://localhost:8080/"
        },
        "outputId": "6c76c2d6-21e3-497e-b148-defabadc7e7c"
      },
      "outputs": [
        {
          "output_type": "execute_result",
          "data": {
            "text/plain": [
              "(1052418, 13)"
            ]
          },
          "metadata": {},
          "execution_count": 5
        }
      ],
      "source": [
        "jan.shape"
      ]
    },
    {
      "cell_type": "markdown",
      "source": [
        ""
      ],
      "metadata": {
        "id": "pHFQfXYpv-Ae"
      }
    },
    {
      "cell_type": "markdown",
      "source": [
        "#**Data Wrangling and Exploratory Data Analysis**#\n",
        "\n",
        "**Data Wrangling**\n",
        "\n",
        "The data provided by Citibank was very clean in the sense that there are no typos or incorrect data entries.  Those areas where there were null values were only found in the end_station and end station geocoordinate columns. This might indicate that the bikes could not dock properly at the end destination, that the bikes were simply abandoned or that they were stolen, all of which fall outside of the scope of this ananlysis. As such, any such null values have been removed. \n",
        "\n",
        "Removing the null values decreased the number of rows by 13,375, leaving 4,179,576 trips to analyze. \n",
        "\n",
        "To facilitate analysis, I dropped nonessential columns, including station ids, and latitude & longitude geo-coordinates.\n",
        "\n",
        "I reformated the started_at and ended_at columns to datetime format so that I could create a new column called 'ride_time' to calculate the time of each ride from the start point unti the end point based on the unique ride ID. \n",
        "\n",
        "As each of the months are in separate csv files, I imported each month and then merged them using an outer merge. \n",
        "\n",
        "**Exploratory Data Analysis**\n",
        "\n",
        "In looking at the data, I learned that it would be possible to analyze users based on membership status, and types of bikes used (electric versus classic) and determine basic descriptive statistics about the average ride time, number of rides, types of rides and top start and end destinations. "
      ],
      "metadata": {
        "id": "2VFWlq3Qt0qu"
      }
    },
    {
      "cell_type": "code",
      "source": [
        "drop_cols=['start_station_id','end_station_id','start_lat','start_lng','end_lat','end_lng']\n"
      ],
      "metadata": {
        "id": "lFEIS6_7SQc_"
      },
      "execution_count": 6,
      "outputs": []
    },
    {
      "cell_type": "code",
      "source": [
        "jan.drop(drop_cols,inplace=True,axis=1)"
      ],
      "metadata": {
        "id": "uwG1VIsNS67r"
      },
      "execution_count": 7,
      "outputs": []
    },
    {
      "cell_type": "code",
      "source": [
        "jan.head(2)"
      ],
      "metadata": {
        "colab": {
          "base_uri": "https://localhost:8080/",
          "height": 106
        },
        "id": "ppczjLjkTTKK",
        "outputId": "c69b3391-b982-4f28-8674-a82b582ff969"
      },
      "execution_count": 8,
      "outputs": [
        {
          "output_type": "execute_result",
          "data": {
            "text/plain": [
              "            ride_id rideable_type           started_at             ended_at  \\\n",
              "0  55262E4365A955A2  classic_bike  2022-01-18 08:23:52  2022-01-18 08:28:18   \n",
              "1  D272F1B15D841EC0  classic_bike  2022-01-21 09:03:22  2022-01-21 09:05:44   \n",
              "\n",
              "        start_station_name           end_station_name member_casual  \n",
              "0  Boerum Pl\\t& Pacific St  Clinton St & Joralemon St        member  \n",
              "1          E 12 St & Ave C         E 10 St & Avenue A        member  "
            ],
            "text/html": [
              "\n",
              "  <div id=\"df-30572106-2351-4b03-ba54-d8b0ebc1fc2c\">\n",
              "    <div class=\"colab-df-container\">\n",
              "      <div>\n",
              "<style scoped>\n",
              "    .dataframe tbody tr th:only-of-type {\n",
              "        vertical-align: middle;\n",
              "    }\n",
              "\n",
              "    .dataframe tbody tr th {\n",
              "        vertical-align: top;\n",
              "    }\n",
              "\n",
              "    .dataframe thead th {\n",
              "        text-align: right;\n",
              "    }\n",
              "</style>\n",
              "<table border=\"1\" class=\"dataframe\">\n",
              "  <thead>\n",
              "    <tr style=\"text-align: right;\">\n",
              "      <th></th>\n",
              "      <th>ride_id</th>\n",
              "      <th>rideable_type</th>\n",
              "      <th>started_at</th>\n",
              "      <th>ended_at</th>\n",
              "      <th>start_station_name</th>\n",
              "      <th>end_station_name</th>\n",
              "      <th>member_casual</th>\n",
              "    </tr>\n",
              "  </thead>\n",
              "  <tbody>\n",
              "    <tr>\n",
              "      <th>0</th>\n",
              "      <td>55262E4365A955A2</td>\n",
              "      <td>classic_bike</td>\n",
              "      <td>2022-01-18 08:23:52</td>\n",
              "      <td>2022-01-18 08:28:18</td>\n",
              "      <td>Boerum Pl\\t&amp; Pacific St</td>\n",
              "      <td>Clinton St &amp; Joralemon St</td>\n",
              "      <td>member</td>\n",
              "    </tr>\n",
              "    <tr>\n",
              "      <th>1</th>\n",
              "      <td>D272F1B15D841EC0</td>\n",
              "      <td>classic_bike</td>\n",
              "      <td>2022-01-21 09:03:22</td>\n",
              "      <td>2022-01-21 09:05:44</td>\n",
              "      <td>E 12 St &amp; Ave C</td>\n",
              "      <td>E 10 St &amp; Avenue A</td>\n",
              "      <td>member</td>\n",
              "    </tr>\n",
              "  </tbody>\n",
              "</table>\n",
              "</div>\n",
              "      <button class=\"colab-df-convert\" onclick=\"convertToInteractive('df-30572106-2351-4b03-ba54-d8b0ebc1fc2c')\"\n",
              "              title=\"Convert this dataframe to an interactive table.\"\n",
              "              style=\"display:none;\">\n",
              "        \n",
              "  <svg xmlns=\"http://www.w3.org/2000/svg\" height=\"24px\"viewBox=\"0 0 24 24\"\n",
              "       width=\"24px\">\n",
              "    <path d=\"M0 0h24v24H0V0z\" fill=\"none\"/>\n",
              "    <path d=\"M18.56 5.44l.94 2.06.94-2.06 2.06-.94-2.06-.94-.94-2.06-.94 2.06-2.06.94zm-11 1L8.5 8.5l.94-2.06 2.06-.94-2.06-.94L8.5 2.5l-.94 2.06-2.06.94zm10 10l.94 2.06.94-2.06 2.06-.94-2.06-.94-.94-2.06-.94 2.06-2.06.94z\"/><path d=\"M17.41 7.96l-1.37-1.37c-.4-.4-.92-.59-1.43-.59-.52 0-1.04.2-1.43.59L10.3 9.45l-7.72 7.72c-.78.78-.78 2.05 0 2.83L4 21.41c.39.39.9.59 1.41.59.51 0 1.02-.2 1.41-.59l7.78-7.78 2.81-2.81c.8-.78.8-2.07 0-2.86zM5.41 20L4 18.59l7.72-7.72 1.47 1.35L5.41 20z\"/>\n",
              "  </svg>\n",
              "      </button>\n",
              "      \n",
              "  <style>\n",
              "    .colab-df-container {\n",
              "      display:flex;\n",
              "      flex-wrap:wrap;\n",
              "      gap: 12px;\n",
              "    }\n",
              "\n",
              "    .colab-df-convert {\n",
              "      background-color: #E8F0FE;\n",
              "      border: none;\n",
              "      border-radius: 50%;\n",
              "      cursor: pointer;\n",
              "      display: none;\n",
              "      fill: #1967D2;\n",
              "      height: 32px;\n",
              "      padding: 0 0 0 0;\n",
              "      width: 32px;\n",
              "    }\n",
              "\n",
              "    .colab-df-convert:hover {\n",
              "      background-color: #E2EBFA;\n",
              "      box-shadow: 0px 1px 2px rgba(60, 64, 67, 0.3), 0px 1px 3px 1px rgba(60, 64, 67, 0.15);\n",
              "      fill: #174EA6;\n",
              "    }\n",
              "\n",
              "    [theme=dark] .colab-df-convert {\n",
              "      background-color: #3B4455;\n",
              "      fill: #D2E3FC;\n",
              "    }\n",
              "\n",
              "    [theme=dark] .colab-df-convert:hover {\n",
              "      background-color: #434B5C;\n",
              "      box-shadow: 0px 1px 3px 1px rgba(0, 0, 0, 0.15);\n",
              "      filter: drop-shadow(0px 1px 2px rgba(0, 0, 0, 0.3));\n",
              "      fill: #FFFFFF;\n",
              "    }\n",
              "  </style>\n",
              "\n",
              "      <script>\n",
              "        const buttonEl =\n",
              "          document.querySelector('#df-30572106-2351-4b03-ba54-d8b0ebc1fc2c button.colab-df-convert');\n",
              "        buttonEl.style.display =\n",
              "          google.colab.kernel.accessAllowed ? 'block' : 'none';\n",
              "\n",
              "        async function convertToInteractive(key) {\n",
              "          const element = document.querySelector('#df-30572106-2351-4b03-ba54-d8b0ebc1fc2c');\n",
              "          const dataTable =\n",
              "            await google.colab.kernel.invokeFunction('convertToInteractive',\n",
              "                                                     [key], {});\n",
              "          if (!dataTable) return;\n",
              "\n",
              "          const docLinkHtml = 'Like what you see? Visit the ' +\n",
              "            '<a target=\"_blank\" href=https://colab.research.google.com/notebooks/data_table.ipynb>data table notebook</a>'\n",
              "            + ' to learn more about interactive tables.';\n",
              "          element.innerHTML = '';\n",
              "          dataTable['output_type'] = 'display_data';\n",
              "          await google.colab.output.renderOutput(dataTable, element);\n",
              "          const docLink = document.createElement('div');\n",
              "          docLink.innerHTML = docLinkHtml;\n",
              "          element.appendChild(docLink);\n",
              "        }\n",
              "      </script>\n",
              "    </div>\n",
              "  </div>\n",
              "  "
            ]
          },
          "metadata": {},
          "execution_count": 8
        }
      ]
    },
    {
      "cell_type": "code",
      "source": [
        "jan.shape"
      ],
      "metadata": {
        "colab": {
          "base_uri": "https://localhost:8080/"
        },
        "id": "awu3Bi2HTdcU",
        "outputId": "4d929dd5-fa5c-43cf-bd69-81c25fde909d"
      },
      "execution_count": 9,
      "outputs": [
        {
          "output_type": "execute_result",
          "data": {
            "text/plain": [
              "(1052418, 7)"
            ]
          },
          "metadata": {},
          "execution_count": 9
        }
      ]
    },
    {
      "cell_type": "code",
      "source": [
        "sns.heatmap(jan.isnull(),cbar=True,vmin=.2,vmax=.8)"
      ],
      "metadata": {
        "colab": {
          "base_uri": "https://localhost:8080/",
          "height": 374
        },
        "id": "9py3usoxT7P2",
        "outputId": "6ca876f6-195a-46ee-9b60-86ee4f574f01"
      },
      "execution_count": 10,
      "outputs": [
        {
          "output_type": "execute_result",
          "data": {
            "text/plain": [
              "<matplotlib.axes._subplots.AxesSubplot at 0x7fd7840cc310>"
            ]
          },
          "metadata": {},
          "execution_count": 10
        },
        {
          "output_type": "display_data",
          "data": {
            "text/plain": [
              "<Figure size 432x288 with 2 Axes>"
            ],
            "image/png": "[encoded data removed]"
          },
          "metadata": {
            "needs_background": "light"
          }
        }
      ]
    },
    {
      "cell_type": "code",
      "source": [
        "jan.isnull().sum()"
      ],
      "metadata": {
        "colab": {
          "base_uri": "https://localhost:8080/"
        },
        "id": "D6oUJvTcUucu",
        "outputId": "6c7c0df4-e199-4e21-98f1-13174b63b6ac"
      },
      "execution_count": 11,
      "outputs": [
        {
          "output_type": "execute_result",
          "data": {
            "text/plain": [
              "ride_id                  0\n",
              "rideable_type            0\n",
              "started_at               0\n",
              "ended_at                 0\n",
              "start_station_name       0\n",
              "end_station_name      9231\n",
              "member_casual            0\n",
              "dtype: int64"
            ]
          },
          "metadata": {},
          "execution_count": 11
        }
      ]
    },
    {
      "cell_type": "code",
      "source": [
        "jan.dropna() #Dropping null values removed 9,231 rows of dataj from the 'end_station_name'.\n",
        "#This could indicate improper docking (check) or abandoned/stolen bikes (check inventory)"
      ],
      "metadata": {
        "colab": {
          "base_uri": "https://localhost:8080/",
          "height": 399
        },
        "id": "X5aLp_83URY_",
        "outputId": "82f06caf-c7f3-41a6-f3ff-40e204f29ac3"
      },
      "execution_count": 12,
      "outputs": [
        {
          "output_type": "execute_result",
          "data": {
            "text/plain": [
              "                  ride_id  rideable_type           started_at  \\\n",
              "0        55262E4365A955A2   classic_bike  2022-01-18 08:23:52   \n",
              "1        D272F1B15D841EC0   classic_bike  2022-01-21 09:03:22   \n",
              "2        D1FCEF55EB4A807F   classic_bike  2022-01-22 14:28:32   \n",
              "3        E9CBDC6A0162C068  electric_bike  2022-01-19 14:49:47   \n",
              "4        2177A5B57326CE9B  electric_bike  2022-01-16 14:36:06   \n",
              "...                   ...            ...                  ...   \n",
              "1052413  3A8436E896501EB6   classic_bike  2022-01-09 09:40:49   \n",
              "1052414  31EE3AF319AE47D2   classic_bike  2022-01-26 16:11:27   \n",
              "1052415  C27D809EC458BE2A  electric_bike  2022-01-20 11:39:41   \n",
              "1052416  4968572973DEDCB2  electric_bike  2022-01-18 21:17:11   \n",
              "1052417  B40238814400C8B2   classic_bike  2022-01-22 19:05:54   \n",
              "\n",
              "                    ended_at         start_station_name  \\\n",
              "0        2022-01-18 08:28:18    Boerum Pl\\t& Pacific St   \n",
              "1        2022-01-21 09:05:44            E 12 St & Ave C   \n",
              "2        2022-01-22 14:53:18            W 21 St & 6 Ave   \n",
              "3        2022-01-19 14:54:02             38 St & 30 Ave   \n",
              "4        2022-01-16 14:44:06     Pacific St & Nevins St   \n",
              "...                      ...                        ...   \n",
              "1052413  2022-01-09 09:58:55          27 St & Hunter St   \n",
              "1052414  2022-01-26 16:17:20    Monroe St & Bedford Ave   \n",
              "1052415  2022-01-20 11:44:46           E 118 St & 1 Ave   \n",
              "1052416  2022-01-18 21:25:57       Allen St & Hester St   \n",
              "1052417  2022-01-22 19:16:39  Gansevoort St & Hudson St   \n",
              "\n",
              "                  end_station_name member_casual  \n",
              "0        Clinton St & Joralemon St        member  \n",
              "1               E 10 St & Avenue A        member  \n",
              "2                 W 44 St & 11 Ave        member  \n",
              "3             Crescent St & 30 Ave        member  \n",
              "4          Clinton St & Tillary St        member  \n",
              "...                            ...           ...  \n",
              "1052413       Vernon Blvd & 50 Ave        casual  \n",
              "1052414    Putnam Ave & Throop Ave        casual  \n",
              "1052415   Lexington Ave & E 111 St        member  \n",
              "1052416            1 Ave & E 18 St        member  \n",
              "1052417           12 Ave & W 40 St        member  \n",
              "\n",
              "[1043187 rows x 7 columns]"
            ],
            "text/html": [
              "\n",
              "  <div id=\"df-da0b15c5-410a-4f46-807e-5a40911ecb20\">\n",
              "    <div class=\"colab-df-container\">\n",
              "      <div>\n",
              "<style scoped>\n",
              "    .dataframe tbody tr th:only-of-type {\n",
              "        vertical-align: middle;\n",
              "    }\n",
              "\n",
              "    .dataframe tbody tr th {\n",
              "        vertical-align: top;\n",
              "    }\n",
              "\n",
              "    .dataframe thead th {\n",
              "        text-align: right;\n",
              "    }\n",
              "</style>\n",
              "<table border=\"1\" class=\"dataframe\">\n",
              "  <thead>\n",
              "    <tr style=\"text-align: right;\">\n",
              "      <th></th>\n",
              "      <th>ride_id</th>\n",
              "      <th>rideable_type</th>\n",
              "      <th>started_at</th>\n",
              "      <th>ended_at</th>\n",
              "      <th>start_station_name</th>\n",
              "      <th>end_station_name</th>\n",
              "      <th>member_casual</th>\n",
              "    </tr>\n",
              "  </thead>\n",
              "  <tbody>\n",
              "    <tr>\n",
              "      <th>0</th>\n",
              "      <td>55262E4365A955A2</td>\n",
              "      <td>classic_bike</td>\n",
              "      <td>2022-01-18 08:23:52</td>\n",
              "      <td>2022-01-18 08:28:18</td>\n",
              "      <td>Boerum Pl\\t&amp; Pacific St</td>\n",
              "      <td>Clinton St &amp; Joralemon St</td>\n",
              "      <td>member</td>\n",
              "    </tr>\n",
              "    <tr>\n",
              "      <th>1</th>\n",
              "      <td>D272F1B15D841EC0</td>\n",
              "      <td>classic_bike</td>\n",
              "      <td>2022-01-21 09:03:22</td>\n",
              "      <td>2022-01-21 09:05:44</td>\n",
              "      <td>E 12 St &amp; Ave C</td>\n",
              "      <td>E 10 St &amp; Avenue A</td>\n",
              "      <td>member</td>\n",
              "    </tr>\n",
              "    <tr>\n",
              "      <th>2</th>\n",
              "      <td>D1FCEF55EB4A807F</td>\n",
              "      <td>classic_bike</td>\n",
              "      <td>2022-01-22 14:28:32</td>\n",
              "      <td>2022-01-22 14:53:18</td>\n",
              "      <td>W 21 St &amp; 6 Ave</td>\n",
              "      <td>W 44 St &amp; 11 Ave</td>\n",
              "      <td>member</td>\n",
              "    </tr>\n",
              "    <tr>\n",
              "      <th>3</th>\n",
              "      <td>E9CBDC6A0162C068</td>\n",
              "      <td>electric_bike</td>\n",
              "      <td>2022-01-19 14:49:47</td>\n",
              "      <td>2022-01-19 14:54:02</td>\n",
              "      <td>38 St &amp; 30 Ave</td>\n",
              "      <td>Crescent St &amp; 30 Ave</td>\n",
              "      <td>member</td>\n",
              "    </tr>\n",
              "    <tr>\n",
              "      <th>4</th>\n",
              "      <td>2177A5B57326CE9B</td>\n",
              "      <td>electric_bike</td>\n",
              "      <td>2022-01-16 14:36:06</td>\n",
              "      <td>2022-01-16 14:44:06</td>\n",
              "      <td>Pacific St &amp; Nevins St</td>\n",
              "      <td>Clinton St &amp; Tillary St</td>\n",
              "      <td>member</td>\n",
              "    </tr>\n",
              "    <tr>\n",
              "      <th>...</th>\n",
              "      <td>...</td>\n",
              "      <td>...</td>\n",
              "      <td>...</td>\n",
              "      <td>...</td>\n",
              "      <td>...</td>\n",
              "      <td>...</td>\n",
              "      <td>...</td>\n",
              "    </tr>\n",
              "    <tr>\n",
              "      <th>1052413</th>\n",
              "      <td>3A8436E896501EB6</td>\n",
              "      <td>classic_bike</td>\n",
              "      <td>2022-01-09 09:40:49</td>\n",
              "      <td>2022-01-09 09:58:55</td>\n",
              "      <td>27 St &amp; Hunter St</td>\n",
              "      <td>Vernon Blvd &amp; 50 Ave</td>\n",
              "      <td>casual</td>\n",
              "    </tr>\n",
              "    <tr>\n",
              "      <th>1052414</th>\n",
              "      <td>31EE3AF319AE47D2</td>\n",
              "      <td>classic_bike</td>\n",
              "      <td>2022-01-26 16:11:27</td>\n",
              "      <td>2022-01-26 16:17:20</td>\n",
              "      <td>Monroe St &amp; Bedford Ave</td>\n",
              "      <td>Putnam Ave &amp; Throop Ave</td>\n",
              "      <td>casual</td>\n",
              "    </tr>\n",
              "    <tr>\n",
              "      <th>1052415</th>\n",
              "      <td>C27D809EC458BE2A</td>\n",
              "      <td>electric_bike</td>\n",
              "      <td>2022-01-20 11:39:41</td>\n",
              "      <td>2022-01-20 11:44:46</td>\n",
              "      <td>E 118 St &amp; 1 Ave</td>\n",
              "      <td>Lexington Ave &amp; E 111 St</td>\n",
              "      <td>member</td>\n",
              "    </tr>\n",
              "    <tr>\n",
              "      <th>1052416</th>\n",
              "      <td>4968572973DEDCB2</td>\n",
              "      <td>electric_bike</td>\n",
              "      <td>2022-01-18 21:17:11</td>\n",
              "      <td>2022-01-18 21:25:57</td>\n",
              "      <td>Allen St &amp; Hester St</td>\n",
              "      <td>1 Ave &amp; E 18 St</td>\n",
              "      <td>member</td>\n",
              "    </tr>\n",
              "    <tr>\n",
              "      <th>1052417</th>\n",
              "      <td>B40238814400C8B2</td>\n",
              "      <td>classic_bike</td>\n",
              "      <td>2022-01-22 19:05:54</td>\n",
              "      <td>2022-01-22 19:16:39</td>\n",
              "      <td>Gansevoort St &amp; Hudson St</td>\n",
              "      <td>12 Ave &amp; W 40 St</td>\n",
              "      <td>member</td>\n",
              "    </tr>\n",
              "  </tbody>\n",
              "</table>\n",
              "<p>1043187 rows × 7 columns</p>\n",
              "</div>\n",
              "      <button class=\"colab-df-convert\" onclick=\"convertToInteractive('df-da0b15c5-410a-4f46-807e-5a40911ecb20')\"\n",
              "              title=\"Convert this dataframe to an interactive table.\"\n",
              "              style=\"display:none;\">\n",
              "        \n",
              "  <svg xmlns=\"http://www.w3.org/2000/svg\" height=\"24px\"viewBox=\"0 0 24 24\"\n",
              "       width=\"24px\">\n",
              "    <path d=\"M0 0h24v24H0V0z\" fill=\"none\"/>\n",
              "    <path d=\"M18.56 5.44l.94 2.06.94-2.06 2.06-.94-2.06-.94-.94-2.06-.94 2.06-2.06.94zm-11 1L8.5 8.5l.94-2.06 2.06-.94-2.06-.94L8.5 2.5l-.94 2.06-2.06.94zm10 10l.94 2.06.94-2.06 2.06-.94-2.06-.94-.94-2.06-.94 2.06-2.06.94z\"/><path d=\"M17.41 7.96l-1.37-1.37c-.4-.4-.92-.59-1.43-.59-.52 0-1.04.2-1.43.59L10.3 9.45l-7.72 7.72c-.78.78-.78 2.05 0 2.83L4 21.41c.39.39.9.59 1.41.59.51 0 1.02-.2 1.41-.59l7.78-7.78 2.81-2.81c.8-.78.8-2.07 0-2.86zM5.41 20L4 18.59l7.72-7.72 1.47 1.35L5.41 20z\"/>\n",
              "  </svg>\n",
              "      </button>\n",
              "      \n",
              "  <style>\n",
              "    .colab-df-container {\n",
              "      display:flex;\n",
              "      flex-wrap:wrap;\n",
              "      gap: 12px;\n",
              "    }\n",
              "\n",
              "    .colab-df-convert {\n",
              "      background-color: #E8F0FE;\n",
              "      border: none;\n",
              "      border-radius: 50%;\n",
              "      cursor: pointer;\n",
              "      display: none;\n",
              "      fill: #1967D2;\n",
              "      height: 32px;\n",
              "      padding: 0 0 0 0;\n",
              "      width: 32px;\n",
              "    }\n",
              "\n",
              "    .colab-df-convert:hover {\n",
              "      background-color: #E2EBFA;\n",
              "      box-shadow: 0px 1px 2px rgba(60, 64, 67, 0.3), 0px 1px 3px 1px rgba(60, 64, 67, 0.15);\n",
              "      fill: #174EA6;\n",
              "    }\n",
              "\n",
              "    [theme=dark] .colab-df-convert {\n",
              "      background-color: #3B4455;\n",
              "      fill: #D2E3FC;\n",
              "    }\n",
              "\n",
              "    [theme=dark] .colab-df-convert:hover {\n",
              "      background-color: #434B5C;\n",
              "      box-shadow: 0px 1px 3px 1px rgba(0, 0, 0, 0.15);\n",
              "      filter: drop-shadow(0px 1px 2px rgba(0, 0, 0, 0.3));\n",
              "      fill: #FFFFFF;\n",
              "    }\n",
              "  </style>\n",
              "\n",
              "      <script>\n",
              "        const buttonEl =\n",
              "          document.querySelector('#df-da0b15c5-410a-4f46-807e-5a40911ecb20 button.colab-df-convert');\n",
              "        buttonEl.style.display =\n",
              "          google.colab.kernel.accessAllowed ? 'block' : 'none';\n",
              "\n",
              "        async function convertToInteractive(key) {\n",
              "          const element = document.querySelector('#df-da0b15c5-410a-4f46-807e-5a40911ecb20');\n",
              "          const dataTable =\n",
              "            await google.colab.kernel.invokeFunction('convertToInteractive',\n",
              "                                                     [key], {});\n",
              "          if (!dataTable) return;\n",
              "\n",
              "          const docLinkHtml = 'Like what you see? Visit the ' +\n",
              "            '<a target=\"_blank\" href=https://colab.research.google.com/notebooks/data_table.ipynb>data table notebook</a>'\n",
              "            + ' to learn more about interactive tables.';\n",
              "          element.innerHTML = '';\n",
              "          dataTable['output_type'] = 'display_data';\n",
              "          await google.colab.output.renderOutput(dataTable, element);\n",
              "          const docLink = document.createElement('div');\n",
              "          docLink.innerHTML = docLinkHtml;\n",
              "          element.appendChild(docLink);\n",
              "        }\n",
              "      </script>\n",
              "    </div>\n",
              "  </div>\n",
              "  "
            ]
          },
          "metadata": {},
          "execution_count": 12
        }
      ]
    },
    {
      "cell_type": "code",
      "source": [
        "jan.to_csv(\"C:\\\\Users\\\\Kimberly\\\\Documents\\\\jan.csv\") # tried to see if I could export the file to a local host csv file but it did not work, perhaps due to file size?"
      ],
      "metadata": {
        "id": "hh0bIVMgXGpT"
      },
      "execution_count": 13,
      "outputs": []
    },
    {
      "cell_type": "code",
      "source": [
        "from google.colab import files\n",
        "uploaded = files.upload()"
      ],
      "metadata": {
        "id": "LYRZq-juka66",
        "colab": {
          "resources": {
            "http://localhost:8080/nbextensions/google.colab/files.js": {
              "data": "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",
              "ok": true,
              "headers": [
                [
                  "content-type",
                  "application/javascript"
                ]
              ],
              "status": 200,
              "status_text": ""
            }
          },
          "base_uri": "https://localhost:8080/",
          "height": 73
        },
        "outputId": "a5651147-13de-495f-8485-2ba400f35cb7"
      },
      "execution_count": 14,
      "outputs": [
        {
          "output_type": "display_data",
          "data": {
            "text/plain": [
              "<IPython.core.display.HTML object>"
            ],
            "text/html": [
              "\n",
              "     <input type=\"file\" id=\"files-e1530896-e54e-460c-bb86-2dcd0a14dd6b\" name=\"files[]\" multiple disabled\n",
              "        style=\"border:none\" />\n",
              "     <output id=\"result-e1530896-e54e-460c-bb86-2dcd0a14dd6b\">\n",
              "      Upload widget is only available when the cell has been executed in the\n",
              "      current browser session. Please rerun this cell to enable.\n",
              "      </output>\n",
              "      <script src=\"/nbextensions/google.colab/files.js\"></script> "
            ]
          },
          "metadata": {}
        },
        {
          "output_type": "stream",
          "name": "stdout",
          "text": [
            "Saving 202202-citibike-tripdata.csv to 202202-citibike-tripdata.csv\n"
          ]
        }
      ]
    },
    {
      "cell_type": "code",
      "source": [
        "import io\n",
        "feb = pd.read_csv(io.BytesIO(uploaded['202202-citibike-tripdata.csv']))"
      ],
      "metadata": {
        "id": "fLXae6CPoFHk",
        "colab": {
          "base_uri": "https://localhost:8080/"
        },
        "outputId": "4f3fdad0-f580-4b56-d194-dfa04d60168f"
      },
      "execution_count": 15,
      "outputs": [
        {
          "output_type": "stream",
          "name": "stderr",
          "text": [
            "/usr/local/lib/python3.7/dist-packages/IPython/core/interactiveshell.py:2882: DtypeWarning: Columns (5,7) have mixed types.Specify dtype option on import or set low_memory=False.\n",
            "  exec(code_obj, self.user_global_ns, self.user_ns)\n"
          ]
        }
      ]
    },
    {
      "cell_type": "code",
      "source": [
        "feb.head(2)"
      ],
      "metadata": {
        "id": "J4yQaGlCodYn",
        "colab": {
          "base_uri": "https://localhost:8080/",
          "height": 184
        },
        "outputId": "cb668089-dd60-404f-9dad-e143bfd6134e"
      },
      "execution_count": 16,
      "outputs": [
        {
          "output_type": "execute_result",
          "data": {
            "text/plain": [
              "            ride_id  rideable_type           started_at             ended_at  \\\n",
              "0  6C29577D0141AACD  electric_bike  2022-02-27 16:00:58  2022-02-27 16:10:09   \n",
              "1  353462A61AFB32C8   classic_bike  2022-02-02 18:09:30  2022-02-02 18:28:55   \n",
              "\n",
              "     start_station_name start_station_id        end_station_name  \\\n",
              "0  Cliff St & Fulton St          5065.14  Norfolk St & Broome St   \n",
              "1       2 Ave & E 31 St          6197.02  Norfolk St & Broome St   \n",
              "\n",
              "  end_station_id  start_lat  start_lng    end_lat    end_lng member_casual  \n",
              "0        5374.01  40.708380 -74.004950  40.717227 -73.988021        member  \n",
              "1        5374.01  40.742909 -73.977061  40.717227 -73.988021        member  "
            ],
            "text/html": [
              "\n",
              "  <div id=\"df-def73147-2de4-492b-9a85-4c13af3f515d\">\n",
              "    <div class=\"colab-df-container\">\n",
              "      <div>\n",
              "<style scoped>\n",
              "    .dataframe tbody tr th:only-of-type {\n",
              "        vertical-align: middle;\n",
              "    }\n",
              "\n",
              "    .dataframe tbody tr th {\n",
              "        vertical-align: top;\n",
              "    }\n",
              "\n",
              "    .dataframe thead th {\n",
              "        text-align: right;\n",
              "    }\n",
              "</style>\n",
              "<table border=\"1\" class=\"dataframe\">\n",
              "  <thead>\n",
              "    <tr style=\"text-align: right;\">\n",
              "      <th></th>\n",
              "      <th>ride_id</th>\n",
              "      <th>rideable_type</th>\n",
              "      <th>started_at</th>\n",
              "      <th>ended_at</th>\n",
              "      <th>start_station_name</th>\n",
              "      <th>start_station_id</th>\n",
              "      <th>end_station_name</th>\n",
              "      <th>end_station_id</th>\n",
              "      <th>start_lat</th>\n",
              "      <th>start_lng</th>\n",
              "      <th>end_lat</th>\n",
              "      <th>end_lng</th>\n",
              "      <th>member_casual</th>\n",
              "    </tr>\n",
              "  </thead>\n",
              "  <tbody>\n",
              "    <tr>\n",
              "      <th>0</th>\n",
              "      <td>6C29577D0141AACD</td>\n",
              "      <td>electric_bike</td>\n",
              "      <td>2022-02-27 16:00:58</td>\n",
              "      <td>2022-02-27 16:10:09</td>\n",
              "      <td>Cliff St &amp; Fulton St</td>\n",
              "      <td>5065.14</td>\n",
              "      <td>Norfolk St &amp; Broome St</td>\n",
              "      <td>5374.01</td>\n",
              "      <td>40.708380</td>\n",
              "      <td>-74.004950</td>\n",
              "      <td>40.717227</td>\n",
              "      <td>-73.988021</td>\n",
              "      <td>member</td>\n",
              "    </tr>\n",
              "    <tr>\n",
              "      <th>1</th>\n",
              "      <td>353462A61AFB32C8</td>\n",
              "      <td>classic_bike</td>\n",
              "      <td>2022-02-02 18:09:30</td>\n",
              "      <td>2022-02-02 18:28:55</td>\n",
              "      <td>2 Ave &amp; E 31 St</td>\n",
              "      <td>6197.02</td>\n",
              "      <td>Norfolk St &amp; Broome St</td>\n",
              "      <td>5374.01</td>\n",
              "      <td>40.742909</td>\n",
              "      <td>-73.977061</td>\n",
              "      <td>40.717227</td>\n",
              "      <td>-73.988021</td>\n",
              "      <td>member</td>\n",
              "    </tr>\n",
              "  </tbody>\n",
              "</table>\n",
              "</div>\n",
              "      <button class=\"colab-df-convert\" onclick=\"convertToInteractive('df-def73147-2de4-492b-9a85-4c13af3f515d')\"\n",
              "              title=\"Convert this dataframe to an interactive table.\"\n",
              "              style=\"display:none;\">\n",
              "        \n",
              "  <svg xmlns=\"http://www.w3.org/2000/svg\" height=\"24px\"viewBox=\"0 0 24 24\"\n",
              "       width=\"24px\">\n",
              "    <path d=\"M0 0h24v24H0V0z\" fill=\"none\"/>\n",
              "    <path d=\"M18.56 5.44l.94 2.06.94-2.06 2.06-.94-2.06-.94-.94-2.06-.94 2.06-2.06.94zm-11 1L8.5 8.5l.94-2.06 2.06-.94-2.06-.94L8.5 2.5l-.94 2.06-2.06.94zm10 10l.94 2.06.94-2.06 2.06-.94-2.06-.94-.94-2.06-.94 2.06-2.06.94z\"/><path d=\"M17.41 7.96l-1.37-1.37c-.4-.4-.92-.59-1.43-.59-.52 0-1.04.2-1.43.59L10.3 9.45l-7.72 7.72c-.78.78-.78 2.05 0 2.83L4 21.41c.39.39.9.59 1.41.59.51 0 1.02-.2 1.41-.59l7.78-7.78 2.81-2.81c.8-.78.8-2.07 0-2.86zM5.41 20L4 18.59l7.72-7.72 1.47 1.35L5.41 20z\"/>\n",
              "  </svg>\n",
              "      </button>\n",
              "      \n",
              "  <style>\n",
              "    .colab-df-container {\n",
              "      display:flex;\n",
              "      flex-wrap:wrap;\n",
              "      gap: 12px;\n",
              "    }\n",
              "\n",
              "    .colab-df-convert {\n",
              "      background-color: #E8F0FE;\n",
              "      border: none;\n",
              "      border-radius: 50%;\n",
              "      cursor: pointer;\n",
              "      display: none;\n",
              "      fill: #1967D2;\n",
              "      height: 32px;\n",
              "      padding: 0 0 0 0;\n",
              "      width: 32px;\n",
              "    }\n",
              "\n",
              "    .colab-df-convert:hover {\n",
              "      background-color: #E2EBFA;\n",
              "      box-shadow: 0px 1px 2px rgba(60, 64, 67, 0.3), 0px 1px 3px 1px rgba(60, 64, 67, 0.15);\n",
              "      fill: #174EA6;\n",
              "    }\n",
              "\n",
              "    [theme=dark] .colab-df-convert {\n",
              "      background-color: #3B4455;\n",
              "      fill: #D2E3FC;\n",
              "    }\n",
              "\n",
              "    [theme=dark] .colab-df-convert:hover {\n",
              "      background-color: #434B5C;\n",
              "      box-shadow: 0px 1px 3px 1px rgba(0, 0, 0, 0.15);\n",
              "      filter: drop-shadow(0px 1px 2px rgba(0, 0, 0, 0.3));\n",
              "      fill: #FFFFFF;\n",
              "    }\n",
              "  </style>\n",
              "\n",
              "      <script>\n",
              "        const buttonEl =\n",
              "          document.querySelector('#df-def73147-2de4-492b-9a85-4c13af3f515d button.colab-df-convert');\n",
              "        buttonEl.style.display =\n",
              "          google.colab.kernel.accessAllowed ? 'block' : 'none';\n",
              "\n",
              "        async function convertToInteractive(key) {\n",
              "          const element = document.querySelector('#df-def73147-2de4-492b-9a85-4c13af3f515d');\n",
              "          const dataTable =\n",
              "            await google.colab.kernel.invokeFunction('convertToInteractive',\n",
              "                                                     [key], {});\n",
              "          if (!dataTable) return;\n",
              "\n",
              "          const docLinkHtml = 'Like what you see? Visit the ' +\n",
              "            '<a target=\"_blank\" href=https://colab.research.google.com/notebooks/data_table.ipynb>data table notebook</a>'\n",
              "            + ' to learn more about interactive tables.';\n",
              "          element.innerHTML = '';\n",
              "          dataTable['output_type'] = 'display_data';\n",
              "          await google.colab.output.renderOutput(dataTable, element);\n",
              "          const docLink = document.createElement('div');\n",
              "          docLink.innerHTML = docLinkHtml;\n",
              "          element.appendChild(docLink);\n",
              "        }\n",
              "      </script>\n",
              "    </div>\n",
              "  </div>\n",
              "  "
            ]
          },
          "metadata": {},
          "execution_count": 16
        }
      ]
    },
    {
      "cell_type": "code",
      "execution_count": 17,
      "metadata": {
        "id": "0DswWq2Ve-Gb",
        "colab": {
          "base_uri": "https://localhost:8080/"
        },
        "outputId": "1fec3a5e-ce3b-4ae7-f276-f95894f6cf89"
      },
      "outputs": [
        {
          "output_type": "execute_result",
          "data": {
            "text/plain": [
              "(1233714, 13)"
            ]
          },
          "metadata": {},
          "execution_count": 17
        }
      ],
      "source": [
        "feb.shape"
      ]
    },
    {
      "cell_type": "code",
      "source": [
        "feb.drop(drop_cols,inplace=True,axis=1)"
      ],
      "metadata": {
        "id": "q9jBIl9YZHML"
      },
      "execution_count": 18,
      "outputs": []
    },
    {
      "cell_type": "code",
      "source": [
        "feb.shape"
      ],
      "metadata": {
        "colab": {
          "base_uri": "https://localhost:8080/"
        },
        "id": "FvkcNq_DZP7F",
        "outputId": "385a5b5b-db38-4c92-a427-7ddc534cdff1"
      },
      "execution_count": 19,
      "outputs": [
        {
          "output_type": "execute_result",
          "data": {
            "text/plain": [
              "(1233714, 7)"
            ]
          },
          "metadata": {},
          "execution_count": 19
        }
      ]
    },
    {
      "cell_type": "code",
      "source": [
        "sns.heatmap(feb.isnull(),cbar=True,vmin=.2,vmax=.8)"
      ],
      "metadata": {
        "colab": {
          "base_uri": "https://localhost:8080/",
          "height": 374
        },
        "id": "7zY3SRWuZZS1",
        "outputId": "3b280790-7414-4565-c0a8-25ea58f9f641"
      },
      "execution_count": 20,
      "outputs": [
        {
          "output_type": "execute_result",
          "data": {
            "text/plain": [
              "<matplotlib.axes._subplots.AxesSubplot at 0x7fd77799be10>"
            ]
          },
          "metadata": {},
          "execution_count": 20
        },
        {
          "output_type": "display_data",
          "data": {
            "text/plain": [
              "<Figure size 432x288 with 2 Axes>"
            ],
            "image/png": "[encoded data removed]"
          },
          "metadata": {
            "needs_background": "light"
          }
        }
      ]
    },
    {
      "cell_type": "code",
      "source": [
        "feb.isnull().sum()"
      ],
      "metadata": {
        "colab": {
          "base_uri": "https://localhost:8080/"
        },
        "id": "AdhZHBg7ZmS3",
        "outputId": "67bb8f8b-5174-4012-8a5c-b02b8d13738e"
      },
      "execution_count": 21,
      "outputs": [
        {
          "output_type": "execute_result",
          "data": {
            "text/plain": [
              "ride_id                  0\n",
              "rideable_type            0\n",
              "started_at               0\n",
              "ended_at                 0\n",
              "start_station_name       1\n",
              "end_station_name      2324\n",
              "member_casual            0\n",
              "dtype: int64"
            ]
          },
          "metadata": {},
          "execution_count": 21
        }
      ]
    },
    {
      "cell_type": "code",
      "source": [
        "feb.dropna() #Dropping null values removed 2,324 rows of dataj from the 'end_station_name'.\n",
        "#This could indicate improper docking (check) or abandoned/stolen bikes (check inventory)"
      ],
      "metadata": {
        "colab": {
          "base_uri": "https://localhost:8080/",
          "height": 399
        },
        "id": "iEPJNwF_Zz7t",
        "outputId": "291b49d2-9ab6-49a9-c215-61632eaef7a6"
      },
      "execution_count": 22,
      "outputs": [
        {
          "output_type": "execute_result",
          "data": {
            "text/plain": [
              "                  ride_id  rideable_type           started_at  \\\n",
              "0        6C29577D0141AACD  electric_bike  2022-02-27 16:00:58   \n",
              "1        353462A61AFB32C8   classic_bike  2022-02-02 18:09:30   \n",
              "2        220081222C7CC84D   classic_bike  2022-02-10 19:41:09   \n",
              "3        C66CB5EDE74A7404   classic_bike  2022-02-14 15:52:02   \n",
              "4        6B997C1E4DCDD6BF   classic_bike  2022-02-23 13:25:07   \n",
              "...                   ...            ...                  ...   \n",
              "1233709  DB7E2CCB36FE2470   classic_bike  2022-02-02 20:20:40   \n",
              "1233710  2589BCEF3734CEFA  electric_bike  2022-02-12 18:21:44   \n",
              "1233711  D808B985BB9F9D72   classic_bike  2022-02-26 12:58:46   \n",
              "1233712  F3CBF555F8561BF0  electric_bike  2022-02-18 11:03:02   \n",
              "1233713  2F8F2920C1A9D0E8  electric_bike  2022-02-19 18:11:55   \n",
              "\n",
              "                    ended_at           start_station_name  \\\n",
              "0        2022-02-27 16:10:09         Cliff St & Fulton St   \n",
              "1        2022-02-02 18:28:55              2 Ave & E 31 St   \n",
              "2        2022-02-10 19:46:03              2 Ave & E 31 St   \n",
              "3        2022-02-14 16:01:58         Bridge St & Water St   \n",
              "4        2022-02-23 15:36:45     Lafayette St & Jersey St   \n",
              "...                      ...                          ...   \n",
              "1233709  2022-02-02 20:32:36       Columbus Ave & W 95 St   \n",
              "1233710  2022-02-12 18:30:48  Central Park West & W 85 St   \n",
              "1233711  2022-02-26 13:11:58       Stanton St & Mangin St   \n",
              "1233712  2022-02-18 11:06:01              E 11 St & 3 Ave   \n",
              "1233713  2022-02-19 18:38:39              E 33 St & 5 Ave   \n",
              "\n",
              "                end_station_name member_casual  \n",
              "0         Norfolk St & Broome St        member  \n",
              "1         Norfolk St & Broome St        member  \n",
              "2                5 Ave & E 29 St        member  \n",
              "3        Henry St & Atlantic Ave        member  \n",
              "4           Fulton St & Broadway        member  \n",
              "...                          ...           ...  \n",
              "1233709   E 110 St & Madison Ave        member  \n",
              "1233710   E 110 St & Madison Ave        member  \n",
              "1233711          E 10 St & 2 Ave        casual  \n",
              "1233712          E 10 St & 2 Ave        casual  \n",
              "1233713      Mott St & Prince St        casual  \n",
              "\n",
              "[1231390 rows x 7 columns]"
            ],
            "text/html": [
              "\n",
              "  <div id=\"df-e8a966c7-b2f6-47dd-b5ef-113a9ca6d827\">\n",
              "    <div class=\"colab-df-container\">\n",
              "      <div>\n",
              "<style scoped>\n",
              "    .dataframe tbody tr th:only-of-type {\n",
              "        vertical-align: middle;\n",
              "    }\n",
              "\n",
              "    .dataframe tbody tr th {\n",
              "        vertical-align: top;\n",
              "    }\n",
              "\n",
              "    .dataframe thead th {\n",
              "        text-align: right;\n",
              "    }\n",
              "</style>\n",
              "<table border=\"1\" class=\"dataframe\">\n",
              "  <thead>\n",
              "    <tr style=\"text-align: right;\">\n",
              "      <th></th>\n",
              "      <th>ride_id</th>\n",
              "      <th>rideable_type</th>\n",
              "      <th>started_at</th>\n",
              "      <th>ended_at</th>\n",
              "      <th>start_station_name</th>\n",
              "      <th>end_station_name</th>\n",
              "      <th>member_casual</th>\n",
              "    </tr>\n",
              "  </thead>\n",
              "  <tbody>\n",
              "    <tr>\n",
              "      <th>0</th>\n",
              "      <td>6C29577D0141AACD</td>\n",
              "      <td>electric_bike</td>\n",
              "      <td>2022-02-27 16:00:58</td>\n",
              "      <td>2022-02-27 16:10:09</td>\n",
              "      <td>Cliff St &amp; Fulton St</td>\n",
              "      <td>Norfolk St &amp; Broome St</td>\n",
              "      <td>member</td>\n",
              "    </tr>\n",
              "    <tr>\n",
              "      <th>1</th>\n",
              "      <td>353462A61AFB32C8</td>\n",
              "      <td>classic_bike</td>\n",
              "      <td>2022-02-02 18:09:30</td>\n",
              "      <td>2022-02-02 18:28:55</td>\n",
              "      <td>2 Ave &amp; E 31 St</td>\n",
              "      <td>Norfolk St &amp; Broome St</td>\n",
              "      <td>member</td>\n",
              "    </tr>\n",
              "    <tr>\n",
              "      <th>2</th>\n",
              "      <td>220081222C7CC84D</td>\n",
              "      <td>classic_bike</td>\n",
              "      <td>2022-02-10 19:41:09</td>\n",
              "      <td>2022-02-10 19:46:03</td>\n",
              "      <td>2 Ave &amp; E 31 St</td>\n",
              "      <td>5 Ave &amp; E 29 St</td>\n",
              "      <td>member</td>\n",
              "    </tr>\n",
              "    <tr>\n",
              "      <th>3</th>\n",
              "      <td>C66CB5EDE74A7404</td>\n",
              "      <td>classic_bike</td>\n",
              "      <td>2022-02-14 15:52:02</td>\n",
              "      <td>2022-02-14 16:01:58</td>\n",
              "      <td>Bridge St &amp; Water St</td>\n",
              "      <td>Henry St &amp; Atlantic Ave</td>\n",
              "      <td>member</td>\n",
              "    </tr>\n",
              "    <tr>\n",
              "      <th>4</th>\n",
              "      <td>6B997C1E4DCDD6BF</td>\n",
              "      <td>classic_bike</td>\n",
              "      <td>2022-02-23 13:25:07</td>\n",
              "      <td>2022-02-23 15:36:45</td>\n",
              "      <td>Lafayette St &amp; Jersey St</td>\n",
              "      <td>Fulton St &amp; Broadway</td>\n",
              "      <td>member</td>\n",
              "    </tr>\n",
              "    <tr>\n",
              "      <th>...</th>\n",
              "      <td>...</td>\n",
              "      <td>...</td>\n",
              "      <td>...</td>\n",
              "      <td>...</td>\n",
              "      <td>...</td>\n",
              "      <td>...</td>\n",
              "      <td>...</td>\n",
              "    </tr>\n",
              "    <tr>\n",
              "      <th>1233709</th>\n",
              "      <td>DB7E2CCB36FE2470</td>\n",
              "      <td>classic_bike</td>\n",
              "      <td>2022-02-02 20:20:40</td>\n",
              "      <td>2022-02-02 20:32:36</td>\n",
              "      <td>Columbus Ave &amp; W 95 St</td>\n",
              "      <td>E 110 St &amp; Madison Ave</td>\n",
              "      <td>member</td>\n",
              "    </tr>\n",
              "    <tr>\n",
              "      <th>1233710</th>\n",
              "      <td>2589BCEF3734CEFA</td>\n",
              "      <td>electric_bike</td>\n",
              "      <td>2022-02-12 18:21:44</td>\n",
              "      <td>2022-02-12 18:30:48</td>\n",
              "      <td>Central Park West &amp; W 85 St</td>\n",
              "      <td>E 110 St &amp; Madison Ave</td>\n",
              "      <td>member</td>\n",
              "    </tr>\n",
              "    <tr>\n",
              "      <th>1233711</th>\n",
              "      <td>D808B985BB9F9D72</td>\n",
              "      <td>classic_bike</td>\n",
              "      <td>2022-02-26 12:58:46</td>\n",
              "      <td>2022-02-26 13:11:58</td>\n",
              "      <td>Stanton St &amp; Mangin St</td>\n",
              "      <td>E 10 St &amp; 2 Ave</td>\n",
              "      <td>casual</td>\n",
              "    </tr>\n",
              "    <tr>\n",
              "      <th>1233712</th>\n",
              "      <td>F3CBF555F8561BF0</td>\n",
              "      <td>electric_bike</td>\n",
              "      <td>2022-02-18 11:03:02</td>\n",
              "      <td>2022-02-18 11:06:01</td>\n",
              "      <td>E 11 St &amp; 3 Ave</td>\n",
              "      <td>E 10 St &amp; 2 Ave</td>\n",
              "      <td>casual</td>\n",
              "    </tr>\n",
              "    <tr>\n",
              "      <th>1233713</th>\n",
              "      <td>2F8F2920C1A9D0E8</td>\n",
              "      <td>electric_bike</td>\n",
              "      <td>2022-02-19 18:11:55</td>\n",
              "      <td>2022-02-19 18:38:39</td>\n",
              "      <td>E 33 St &amp; 5 Ave</td>\n",
              "      <td>Mott St &amp; Prince St</td>\n",
              "      <td>casual</td>\n",
              "    </tr>\n",
              "  </tbody>\n",
              "</table>\n",
              "<p>1231390 rows × 7 columns</p>\n",
              "</div>\n",
              "      <button class=\"colab-df-convert\" onclick=\"convertToInteractive('df-e8a966c7-b2f6-47dd-b5ef-113a9ca6d827')\"\n",
              "              title=\"Convert this dataframe to an interactive table.\"\n",
              "              style=\"display:none;\">\n",
              "        \n",
              "  <svg xmlns=\"http://www.w3.org/2000/svg\" height=\"24px\"viewBox=\"0 0 24 24\"\n",
              "       width=\"24px\">\n",
              "    <path d=\"M0 0h24v24H0V0z\" fill=\"none\"/>\n",
              "    <path d=\"M18.56 5.44l.94 2.06.94-2.06 2.06-.94-2.06-.94-.94-2.06-.94 2.06-2.06.94zm-11 1L8.5 8.5l.94-2.06 2.06-.94-2.06-.94L8.5 2.5l-.94 2.06-2.06.94zm10 10l.94 2.06.94-2.06 2.06-.94-2.06-.94-.94-2.06-.94 2.06-2.06.94z\"/><path d=\"M17.41 7.96l-1.37-1.37c-.4-.4-.92-.59-1.43-.59-.52 0-1.04.2-1.43.59L10.3 9.45l-7.72 7.72c-.78.78-.78 2.05 0 2.83L4 21.41c.39.39.9.59 1.41.59.51 0 1.02-.2 1.41-.59l7.78-7.78 2.81-2.81c.8-.78.8-2.07 0-2.86zM5.41 20L4 18.59l7.72-7.72 1.47 1.35L5.41 20z\"/>\n",
              "  </svg>\n",
              "      </button>\n",
              "      \n",
              "  <style>\n",
              "    .colab-df-container {\n",
              "      display:flex;\n",
              "      flex-wrap:wrap;\n",
              "      gap: 12px;\n",
              "    }\n",
              "\n",
              "    .colab-df-convert {\n",
              "      background-color: #E8F0FE;\n",
              "      border: none;\n",
              "      border-radius: 50%;\n",
              "      cursor: pointer;\n",
              "      display: none;\n",
              "      fill: #1967D2;\n",
              "      height: 32px;\n",
              "      padding: 0 0 0 0;\n",
              "      width: 32px;\n",
              "    }\n",
              "\n",
              "    .colab-df-convert:hover {\n",
              "      background-color: #E2EBFA;\n",
              "      box-shadow: 0px 1px 2px rgba(60, 64, 67, 0.3), 0px 1px 3px 1px rgba(60, 64, 67, 0.15);\n",
              "      fill: #174EA6;\n",
              "    }\n",
              "\n",
              "    [theme=dark] .colab-df-convert {\n",
              "      background-color: #3B4455;\n",
              "      fill: #D2E3FC;\n",
              "    }\n",
              "\n",
              "    [theme=dark] .colab-df-convert:hover {\n",
              "      background-color: #434B5C;\n",
              "      box-shadow: 0px 1px 3px 1px rgba(0, 0, 0, 0.15);\n",
              "      filter: drop-shadow(0px 1px 2px rgba(0, 0, 0, 0.3));\n",
              "      fill: #FFFFFF;\n",
              "    }\n",
              "  </style>\n",
              "\n",
              "      <script>\n",
              "        const buttonEl =\n",
              "          document.querySelector('#df-e8a966c7-b2f6-47dd-b5ef-113a9ca6d827 button.colab-df-convert');\n",
              "        buttonEl.style.display =\n",
              "          google.colab.kernel.accessAllowed ? 'block' : 'none';\n",
              "\n",
              "        async function convertToInteractive(key) {\n",
              "          const element = document.querySelector('#df-e8a966c7-b2f6-47dd-b5ef-113a9ca6d827');\n",
              "          const dataTable =\n",
              "            await google.colab.kernel.invokeFunction('convertToInteractive',\n",
              "                                                     [key], {});\n",
              "          if (!dataTable) return;\n",
              "\n",
              "          const docLinkHtml = 'Like what you see? Visit the ' +\n",
              "            '<a target=\"_blank\" href=https://colab.research.google.com/notebooks/data_table.ipynb>data table notebook</a>'\n",
              "            + ' to learn more about interactive tables.';\n",
              "          element.innerHTML = '';\n",
              "          dataTable['output_type'] = 'display_data';\n",
              "          await google.colab.output.renderOutput(dataTable, element);\n",
              "          const docLink = document.createElement('div');\n",
              "          docLink.innerHTML = docLinkHtml;\n",
              "          element.appendChild(docLink);\n",
              "        }\n",
              "      </script>\n",
              "    </div>\n",
              "  </div>\n",
              "  "
            ]
          },
          "metadata": {},
          "execution_count": 22
        }
      ]
    },
    {
      "cell_type": "code",
      "source": [
        "from google.colab import files\n",
        "uploaded = files.upload()"
      ],
      "metadata": {
        "id": "pwr22irn4E6y",
        "colab": {
          "resources": {
            "http://localhost:8080/nbextensions/google.colab/files.js": {
              "data": "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",
              "ok": true,
              "headers": [
                [
                  "content-type",
                  "application/javascript"
                ]
              ],
              "status": 200,
              "status_text": ""
            }
          },
          "base_uri": "https://localhost:8080/",
          "height": 73
        },
        "outputId": "e1deb18c-f93a-412a-a6da-f31b1ad1e57d"
      },
      "execution_count": 23,
      "outputs": [
        {
          "output_type": "display_data",
          "data": {
            "text/plain": [
              "<IPython.core.display.HTML object>"
            ],
            "text/html": [
              "\n",
              "     <input type=\"file\" id=\"files-dbf709db-b526-4a4e-ab52-3942d894b020\" name=\"files[]\" multiple disabled\n",
              "        style=\"border:none\" />\n",
              "     <output id=\"result-dbf709db-b526-4a4e-ab52-3942d894b020\">\n",
              "      Upload widget is only available when the cell has been executed in the\n",
              "      current browser session. Please rerun this cell to enable.\n",
              "      </output>\n",
              "      <script src=\"/nbextensions/google.colab/files.js\"></script> "
            ]
          },
          "metadata": {}
        },
        {
          "output_type": "stream",
          "name": "stdout",
          "text": [
            "Saving 202203-citibike-tripdata.csv to 202203-citibike-tripdata.csv\n"
          ]
        }
      ]
    },
    {
      "cell_type": "code",
      "source": [
        "import io\n",
        "march = pd.read_csv(io.BytesIO(uploaded['202203-citibike-tripdata.csv']))"
      ],
      "metadata": {
        "id": "PHD3AO0yo8IC",
        "colab": {
          "base_uri": "https://localhost:8080/"
        },
        "outputId": "44f7fe3b-39cc-4465-db61-bf820c24213f"
      },
      "execution_count": 24,
      "outputs": [
        {
          "output_type": "stream",
          "name": "stderr",
          "text": [
            "/usr/local/lib/python3.7/dist-packages/IPython/core/interactiveshell.py:2882: DtypeWarning: Columns (5,7) have mixed types.Specify dtype option on import or set low_memory=False.\n",
            "  exec(code_obj, self.user_global_ns, self.user_ns)\n"
          ]
        }
      ]
    },
    {
      "cell_type": "code",
      "source": [
        "march.shape"
      ],
      "metadata": {
        "id": "51rRo1D4rYz5",
        "colab": {
          "base_uri": "https://localhost:8080/"
        },
        "outputId": "3c4343cd-8fd7-4462-ede0-13735d97e2e9"
      },
      "execution_count": 25,
      "outputs": [
        {
          "output_type": "execute_result",
          "data": {
            "text/plain": [
              "(1893444, 13)"
            ]
          },
          "metadata": {},
          "execution_count": 25
        }
      ]
    },
    {
      "cell_type": "code",
      "source": [
        "march.drop(drop_cols,inplace=True,axis=1)"
      ],
      "metadata": {
        "id": "cMpkPuMNdSGK"
      },
      "execution_count": 26,
      "outputs": []
    },
    {
      "cell_type": "code",
      "source": [
        "march.shape"
      ],
      "metadata": {
        "colab": {
          "base_uri": "https://localhost:8080/"
        },
        "id": "ffMpFilKdZ9Z",
        "outputId": "fe41d1bd-4105-4230-de68-c17c8d749040"
      },
      "execution_count": 27,
      "outputs": [
        {
          "output_type": "execute_result",
          "data": {
            "text/plain": [
              "(1893444, 7)"
            ]
          },
          "metadata": {},
          "execution_count": 27
        }
      ]
    },
    {
      "cell_type": "code",
      "source": [
        "sns.heatmap(march.isnull(),cbar=True,vmin=.2,vmax=.8)"
      ],
      "metadata": {
        "colab": {
          "base_uri": "https://localhost:8080/",
          "height": 374
        },
        "id": "Nledcm2qdu4B",
        "outputId": "4fe91333-5a53-4849-d55c-71dc731c41ad"
      },
      "execution_count": 28,
      "outputs": [
        {
          "output_type": "execute_result",
          "data": {
            "text/plain": [
              "<matplotlib.axes._subplots.AxesSubplot at 0x7fd76cddd790>"
            ]
          },
          "metadata": {},
          "execution_count": 28
        },
        {
          "output_type": "display_data",
          "data": {
            "text/plain": [
              "<Figure size 432x288 with 2 Axes>"
            ],
            "image/png": "[encoded data removed]"
          },
          "metadata": {
            "needs_background": "light"
          }
        }
      ]
    },
    {
      "cell_type": "code",
      "source": [
        "march.isnull().sum()"
      ],
      "metadata": {
        "colab": {
          "base_uri": "https://localhost:8080/"
        },
        "id": "p1ynpQILdysm",
        "outputId": "ad8c77b1-6624-45ab-d860-da4f54012ab2"
      },
      "execution_count": 29,
      "outputs": [
        {
          "output_type": "execute_result",
          "data": {
            "text/plain": [
              "ride_id                  0\n",
              "rideable_type            0\n",
              "started_at               0\n",
              "ended_at                 0\n",
              "start_station_name       7\n",
              "end_station_name      1820\n",
              "member_casual            0\n",
              "dtype: int64"
            ]
          },
          "metadata": {},
          "execution_count": 29
        }
      ]
    },
    {
      "cell_type": "code",
      "source": [
        "march.dropna() #Dropping null values removed 2,324 rows of dataj from the 'end_station_name'.\n",
        "#This could indicate improper docking (check) or abandoned/stolen bikes (check inventory)"
      ],
      "metadata": {
        "colab": {
          "base_uri": "https://localhost:8080/",
          "height": 399
        },
        "id": "VuPk2B79d8l3",
        "outputId": "46dfa4de-b896-4a8e-b73a-3ccd9a2eff47"
      },
      "execution_count": 30,
      "outputs": [
        {
          "output_type": "execute_result",
          "data": {
            "text/plain": [
              "                  ride_id  rideable_type           started_at  \\\n",
              "0        FA2F660C8D433037  electric_bike  2022-03-04 18:58:36   \n",
              "1        03B6FE6FAEE61465   classic_bike  2022-03-06 20:37:09   \n",
              "2        6E6995761B4A5760   classic_bike  2022-03-01 15:13:49   \n",
              "3        AA51CCF6CEDD6033   classic_bike  2022-03-11 13:59:03   \n",
              "4        72AA3A7D430D8EF8   classic_bike  2022-03-08 14:59:16   \n",
              "...                   ...            ...                  ...   \n",
              "1893439  79E49EA8727CA662   classic_bike  2022-03-30 21:12:45   \n",
              "1893440  9C4F6A095779AAE2  electric_bike  2022-03-21 09:33:21   \n",
              "1893441  C1966A89B5078124  electric_bike  2022-03-04 14:31:36   \n",
              "1893442  A11D1F167EF1B8C6   classic_bike  2022-03-18 18:43:43   \n",
              "1893443  74A6A40E386BE88F  electric_bike  2022-03-10 17:21:52   \n",
              "\n",
              "                    ended_at            start_station_name  \\\n",
              "0        2022-03-04 19:13:51     Washington St & Barrow St   \n",
              "1        2022-03-06 20:45:28     Washington St & Barrow St   \n",
              "2        2022-03-01 15:19:53              1 Ave & E 110 St   \n",
              "3        2022-03-11 14:06:43        Crescent St & Broadway   \n",
              "4        2022-03-08 15:05:04        Crescent St & Broadway   \n",
              "...                      ...                           ...   \n",
              "1893439  2022-03-30 21:22:15            E 72 St & York Ave   \n",
              "1893440  2022-03-21 09:39:45  W 48 St &  Rockefeller Plaza   \n",
              "1893441  2022-03-04 14:43:16   Central Park West & W 85 St   \n",
              "1893442  2022-03-18 18:53:41               W 56 St & 6 Ave   \n",
              "1893443  2022-03-10 17:29:53               5 Ave & E 72 St   \n",
              "\n",
              "                end_station_name member_casual  \n",
              "0        University Pl & E 14 St        member  \n",
              "1                W 11 St & 6 Ave        member  \n",
              "2         E 110 St & Madison Ave        member  \n",
              "3                  31 Rd & 21 St        member  \n",
              "4                  31 Rd & 21 St        member  \n",
              "...                          ...           ...  \n",
              "1893439          E 58 St & 3 Ave        member  \n",
              "1893440          E 58 St & 3 Ave        member  \n",
              "1893441          E 58 St & 3 Ave        member  \n",
              "1893442          E 58 St & 3 Ave        member  \n",
              "1893443          E 58 St & 3 Ave        casual  \n",
              "\n",
              "[1891624 rows x 7 columns]"
            ],
            "text/html": [
              "\n",
              "  <div id=\"df-10dd64a4-fed5-4875-86a0-9d02bee172f5\">\n",
              "    <div class=\"colab-df-container\">\n",
              "      <div>\n",
              "<style scoped>\n",
              "    .dataframe tbody tr th:only-of-type {\n",
              "        vertical-align: middle;\n",
              "    }\n",
              "\n",
              "    .dataframe tbody tr th {\n",
              "        vertical-align: top;\n",
              "    }\n",
              "\n",
              "    .dataframe thead th {\n",
              "        text-align: right;\n",
              "    }\n",
              "</style>\n",
              "<table border=\"1\" class=\"dataframe\">\n",
              "  <thead>\n",
              "    <tr style=\"text-align: right;\">\n",
              "      <th></th>\n",
              "      <th>ride_id</th>\n",
              "      <th>rideable_type</th>\n",
              "      <th>started_at</th>\n",
              "      <th>ended_at</th>\n",
              "      <th>start_station_name</th>\n",
              "      <th>end_station_name</th>\n",
              "      <th>member_casual</th>\n",
              "    </tr>\n",
              "  </thead>\n",
              "  <tbody>\n",
              "    <tr>\n",
              "      <th>0</th>\n",
              "      <td>FA2F660C8D433037</td>\n",
              "      <td>electric_bike</td>\n",
              "      <td>2022-03-04 18:58:36</td>\n",
              "      <td>2022-03-04 19:13:51</td>\n",
              "      <td>Washington St &amp; Barrow St</td>\n",
              "      <td>University Pl &amp; E 14 St</td>\n",
              "      <td>member</td>\n",
              "    </tr>\n",
              "    <tr>\n",
              "      <th>1</th>\n",
              "      <td>03B6FE6FAEE61465</td>\n",
              "      <td>classic_bike</td>\n",
              "      <td>2022-03-06 20:37:09</td>\n",
              "      <td>2022-03-06 20:45:28</td>\n",
              "      <td>Washington St &amp; Barrow St</td>\n",
              "      <td>W 11 St &amp; 6 Ave</td>\n",
              "      <td>member</td>\n",
              "    </tr>\n",
              "    <tr>\n",
              "      <th>2</th>\n",
              "      <td>6E6995761B4A5760</td>\n",
              "      <td>classic_bike</td>\n",
              "      <td>2022-03-01 15:13:49</td>\n",
              "      <td>2022-03-01 15:19:53</td>\n",
              "      <td>1 Ave &amp; E 110 St</td>\n",
              "      <td>E 110 St &amp; Madison Ave</td>\n",
              "      <td>member</td>\n",
              "    </tr>\n",
              "    <tr>\n",
              "      <th>3</th>\n",
              "      <td>AA51CCF6CEDD6033</td>\n",
              "      <td>classic_bike</td>\n",
              "      <td>2022-03-11 13:59:03</td>\n",
              "      <td>2022-03-11 14:06:43</td>\n",
              "      <td>Crescent St &amp; Broadway</td>\n",
              "      <td>31 Rd &amp; 21 St</td>\n",
              "      <td>member</td>\n",
              "    </tr>\n",
              "    <tr>\n",
              "      <th>4</th>\n",
              "      <td>72AA3A7D430D8EF8</td>\n",
              "      <td>classic_bike</td>\n",
              "      <td>2022-03-08 14:59:16</td>\n",
              "      <td>2022-03-08 15:05:04</td>\n",
              "      <td>Crescent St &amp; Broadway</td>\n",
              "      <td>31 Rd &amp; 21 St</td>\n",
              "      <td>member</td>\n",
              "    </tr>\n",
              "    <tr>\n",
              "      <th>...</th>\n",
              "      <td>...</td>\n",
              "      <td>...</td>\n",
              "      <td>...</td>\n",
              "      <td>...</td>\n",
              "      <td>...</td>\n",
              "      <td>...</td>\n",
              "      <td>...</td>\n",
              "    </tr>\n",
              "    <tr>\n",
              "      <th>1893439</th>\n",
              "      <td>79E49EA8727CA662</td>\n",
              "      <td>classic_bike</td>\n",
              "      <td>2022-03-30 21:12:45</td>\n",
              "      <td>2022-03-30 21:22:15</td>\n",
              "      <td>E 72 St &amp; York Ave</td>\n",
              "      <td>E 58 St &amp; 3 Ave</td>\n",
              "      <td>member</td>\n",
              "    </tr>\n",
              "    <tr>\n",
              "      <th>1893440</th>\n",
              "      <td>9C4F6A095779AAE2</td>\n",
              "      <td>electric_bike</td>\n",
              "      <td>2022-03-21 09:33:21</td>\n",
              "      <td>2022-03-21 09:39:45</td>\n",
              "      <td>W 48 St &amp;  Rockefeller Plaza</td>\n",
              "      <td>E 58 St &amp; 3 Ave</td>\n",
              "      <td>member</td>\n",
              "    </tr>\n",
              "    <tr>\n",
              "      <th>1893441</th>\n",
              "      <td>C1966A89B5078124</td>\n",
              "      <td>electric_bike</td>\n",
              "      <td>2022-03-04 14:31:36</td>\n",
              "      <td>2022-03-04 14:43:16</td>\n",
              "      <td>Central Park West &amp; W 85 St</td>\n",
              "      <td>E 58 St &amp; 3 Ave</td>\n",
              "      <td>member</td>\n",
              "    </tr>\n",
              "    <tr>\n",
              "      <th>1893442</th>\n",
              "      <td>A11D1F167EF1B8C6</td>\n",
              "      <td>classic_bike</td>\n",
              "      <td>2022-03-18 18:43:43</td>\n",
              "      <td>2022-03-18 18:53:41</td>\n",
              "      <td>W 56 St &amp; 6 Ave</td>\n",
              "      <td>E 58 St &amp; 3 Ave</td>\n",
              "      <td>member</td>\n",
              "    </tr>\n",
              "    <tr>\n",
              "      <th>1893443</th>\n",
              "      <td>74A6A40E386BE88F</td>\n",
              "      <td>electric_bike</td>\n",
              "      <td>2022-03-10 17:21:52</td>\n",
              "      <td>2022-03-10 17:29:53</td>\n",
              "      <td>5 Ave &amp; E 72 St</td>\n",
              "      <td>E 58 St &amp; 3 Ave</td>\n",
              "      <td>casual</td>\n",
              "    </tr>\n",
              "  </tbody>\n",
              "</table>\n",
              "<p>1891624 rows × 7 columns</p>\n",
              "</div>\n",
              "      <button class=\"colab-df-convert\" onclick=\"convertToInteractive('df-10dd64a4-fed5-4875-86a0-9d02bee172f5')\"\n",
              "              title=\"Convert this dataframe to an interactive table.\"\n",
              "              style=\"display:none;\">\n",
              "        \n",
              "  <svg xmlns=\"http://www.w3.org/2000/svg\" height=\"24px\"viewBox=\"0 0 24 24\"\n",
              "       width=\"24px\">\n",
              "    <path d=\"M0 0h24v24H0V0z\" fill=\"none\"/>\n",
              "    <path d=\"M18.56 5.44l.94 2.06.94-2.06 2.06-.94-2.06-.94-.94-2.06-.94 2.06-2.06.94zm-11 1L8.5 8.5l.94-2.06 2.06-.94-2.06-.94L8.5 2.5l-.94 2.06-2.06.94zm10 10l.94 2.06.94-2.06 2.06-.94-2.06-.94-.94-2.06-.94 2.06-2.06.94z\"/><path d=\"M17.41 7.96l-1.37-1.37c-.4-.4-.92-.59-1.43-.59-.52 0-1.04.2-1.43.59L10.3 9.45l-7.72 7.72c-.78.78-.78 2.05 0 2.83L4 21.41c.39.39.9.59 1.41.59.51 0 1.02-.2 1.41-.59l7.78-7.78 2.81-2.81c.8-.78.8-2.07 0-2.86zM5.41 20L4 18.59l7.72-7.72 1.47 1.35L5.41 20z\"/>\n",
              "  </svg>\n",
              "      </button>\n",
              "      \n",
              "  <style>\n",
              "    .colab-df-container {\n",
              "      display:flex;\n",
              "      flex-wrap:wrap;\n",
              "      gap: 12px;\n",
              "    }\n",
              "\n",
              "    .colab-df-convert {\n",
              "      background-color: #E8F0FE;\n",
              "      border: none;\n",
              "      border-radius: 50%;\n",
              "      cursor: pointer;\n",
              "      display: none;\n",
              "      fill: #1967D2;\n",
              "      height: 32px;\n",
              "      padding: 0 0 0 0;\n",
              "      width: 32px;\n",
              "    }\n",
              "\n",
              "    .colab-df-convert:hover {\n",
              "      background-color: #E2EBFA;\n",
              "      box-shadow: 0px 1px 2px rgba(60, 64, 67, 0.3), 0px 1px 3px 1px rgba(60, 64, 67, 0.15);\n",
              "      fill: #174EA6;\n",
              "    }\n",
              "\n",
              "    [theme=dark] .colab-df-convert {\n",
              "      background-color: #3B4455;\n",
              "      fill: #D2E3FC;\n",
              "    }\n",
              "\n",
              "    [theme=dark] .colab-df-convert:hover {\n",
              "      background-color: #434B5C;\n",
              "      box-shadow: 0px 1px 3px 1px rgba(0, 0, 0, 0.15);\n",
              "      filter: drop-shadow(0px 1px 2px rgba(0, 0, 0, 0.3));\n",
              "      fill: #FFFFFF;\n",
              "    }\n",
              "  </style>\n",
              "\n",
              "      <script>\n",
              "        const buttonEl =\n",
              "          document.querySelector('#df-10dd64a4-fed5-4875-86a0-9d02bee172f5 button.colab-df-convert');\n",
              "        buttonEl.style.display =\n",
              "          google.colab.kernel.accessAllowed ? 'block' : 'none';\n",
              "\n",
              "        async function convertToInteractive(key) {\n",
              "          const element = document.querySelector('#df-10dd64a4-fed5-4875-86a0-9d02bee172f5');\n",
              "          const dataTable =\n",
              "            await google.colab.kernel.invokeFunction('convertToInteractive',\n",
              "                                                     [key], {});\n",
              "          if (!dataTable) return;\n",
              "\n",
              "          const docLinkHtml = 'Like what you see? Visit the ' +\n",
              "            '<a target=\"_blank\" href=https://colab.research.google.com/notebooks/data_table.ipynb>data table notebook</a>'\n",
              "            + ' to learn more about interactive tables.';\n",
              "          element.innerHTML = '';\n",
              "          dataTable['output_type'] = 'display_data';\n",
              "          await google.colab.output.renderOutput(dataTable, element);\n",
              "          const docLink = document.createElement('div');\n",
              "          docLink.innerHTML = docLinkHtml;\n",
              "          element.appendChild(docLink);\n",
              "        }\n",
              "      </script>\n",
              "    </div>\n",
              "  </div>\n",
              "  "
            ]
          },
          "metadata": {},
          "execution_count": 30
        }
      ]
    },
    {
      "cell_type": "code",
      "execution_count": 31,
      "metadata": {
        "id": "VJAFtbB_e-Ge",
        "colab": {
          "base_uri": "https://localhost:8080/",
          "height": 194
        },
        "outputId": "0d3c948d-04df-4bac-fa62-c19dede81d9b"
      },
      "outputs": [
        {
          "output_type": "execute_result",
          "data": {
            "text/plain": [
              "            ride_id  rideable_type           started_at             ended_at  \\\n",
              "0  55262E4365A955A2   classic_bike  2022-01-18 08:23:52  2022-01-18 08:28:18   \n",
              "1  D272F1B15D841EC0   classic_bike  2022-01-21 09:03:22  2022-01-21 09:05:44   \n",
              "2  D1FCEF55EB4A807F   classic_bike  2022-01-22 14:28:32  2022-01-22 14:53:18   \n",
              "3  E9CBDC6A0162C068  electric_bike  2022-01-19 14:49:47  2022-01-19 14:54:02   \n",
              "4  2177A5B57326CE9B  electric_bike  2022-01-16 14:36:06  2022-01-16 14:44:06   \n",
              "\n",
              "        start_station_name           end_station_name member_casual  \n",
              "0  Boerum Pl\\t& Pacific St  Clinton St & Joralemon St        member  \n",
              "1          E 12 St & Ave C         E 10 St & Avenue A        member  \n",
              "2          W 21 St & 6 Ave           W 44 St & 11 Ave        member  \n",
              "3           38 St & 30 Ave       Crescent St & 30 Ave        member  \n",
              "4   Pacific St & Nevins St    Clinton St & Tillary St        member  "
            ],
            "text/html": [
              "\n",
              "  <div id=\"df-1227622b-b3d1-4cb3-a4bb-01630dd5bdab\">\n",
              "    <div class=\"colab-df-container\">\n",
              "      <div>\n",
              "<style scoped>\n",
              "    .dataframe tbody tr th:only-of-type {\n",
              "        vertical-align: middle;\n",
              "    }\n",
              "\n",
              "    .dataframe tbody tr th {\n",
              "        vertical-align: top;\n",
              "    }\n",
              "\n",
              "    .dataframe thead th {\n",
              "        text-align: right;\n",
              "    }\n",
              "</style>\n",
              "<table border=\"1\" class=\"dataframe\">\n",
              "  <thead>\n",
              "    <tr style=\"text-align: right;\">\n",
              "      <th></th>\n",
              "      <th>ride_id</th>\n",
              "      <th>rideable_type</th>\n",
              "      <th>started_at</th>\n",
              "      <th>ended_at</th>\n",
              "      <th>start_station_name</th>\n",
              "      <th>end_station_name</th>\n",
              "      <th>member_casual</th>\n",
              "    </tr>\n",
              "  </thead>\n",
              "  <tbody>\n",
              "    <tr>\n",
              "      <th>0</th>\n",
              "      <td>55262E4365A955A2</td>\n",
              "      <td>classic_bike</td>\n",
              "      <td>2022-01-18 08:23:52</td>\n",
              "      <td>2022-01-18 08:28:18</td>\n",
              "      <td>Boerum Pl\\t&amp; Pacific St</td>\n",
              "      <td>Clinton St &amp; Joralemon St</td>\n",
              "      <td>member</td>\n",
              "    </tr>\n",
              "    <tr>\n",
              "      <th>1</th>\n",
              "      <td>D272F1B15D841EC0</td>\n",
              "      <td>classic_bike</td>\n",
              "      <td>2022-01-21 09:03:22</td>\n",
              "      <td>2022-01-21 09:05:44</td>\n",
              "      <td>E 12 St &amp; Ave C</td>\n",
              "      <td>E 10 St &amp; Avenue A</td>\n",
              "      <td>member</td>\n",
              "    </tr>\n",
              "    <tr>\n",
              "      <th>2</th>\n",
              "      <td>D1FCEF55EB4A807F</td>\n",
              "      <td>classic_bike</td>\n",
              "      <td>2022-01-22 14:28:32</td>\n",
              "      <td>2022-01-22 14:53:18</td>\n",
              "      <td>W 21 St &amp; 6 Ave</td>\n",
              "      <td>W 44 St &amp; 11 Ave</td>\n",
              "      <td>member</td>\n",
              "    </tr>\n",
              "    <tr>\n",
              "      <th>3</th>\n",
              "      <td>E9CBDC6A0162C068</td>\n",
              "      <td>electric_bike</td>\n",
              "      <td>2022-01-19 14:49:47</td>\n",
              "      <td>2022-01-19 14:54:02</td>\n",
              "      <td>38 St &amp; 30 Ave</td>\n",
              "      <td>Crescent St &amp; 30 Ave</td>\n",
              "      <td>member</td>\n",
              "    </tr>\n",
              "    <tr>\n",
              "      <th>4</th>\n",
              "      <td>2177A5B57326CE9B</td>\n",
              "      <td>electric_bike</td>\n",
              "      <td>2022-01-16 14:36:06</td>\n",
              "      <td>2022-01-16 14:44:06</td>\n",
              "      <td>Pacific St &amp; Nevins St</td>\n",
              "      <td>Clinton St &amp; Tillary St</td>\n",
              "      <td>member</td>\n",
              "    </tr>\n",
              "  </tbody>\n",
              "</table>\n",
              "</div>\n",
              "      <button class=\"colab-df-convert\" onclick=\"convertToInteractive('df-1227622b-b3d1-4cb3-a4bb-01630dd5bdab')\"\n",
              "              title=\"Convert this dataframe to an interactive table.\"\n",
              "              style=\"display:none;\">\n",
              "        \n",
              "  <svg xmlns=\"http://www.w3.org/2000/svg\" height=\"24px\"viewBox=\"0 0 24 24\"\n",
              "       width=\"24px\">\n",
              "    <path d=\"M0 0h24v24H0V0z\" fill=\"none\"/>\n",
              "    <path d=\"M18.56 5.44l.94 2.06.94-2.06 2.06-.94-2.06-.94-.94-2.06-.94 2.06-2.06.94zm-11 1L8.5 8.5l.94-2.06 2.06-.94-2.06-.94L8.5 2.5l-.94 2.06-2.06.94zm10 10l.94 2.06.94-2.06 2.06-.94-2.06-.94-.94-2.06-.94 2.06-2.06.94z\"/><path d=\"M17.41 7.96l-1.37-1.37c-.4-.4-.92-.59-1.43-.59-.52 0-1.04.2-1.43.59L10.3 9.45l-7.72 7.72c-.78.78-.78 2.05 0 2.83L4 21.41c.39.39.9.59 1.41.59.51 0 1.02-.2 1.41-.59l7.78-7.78 2.81-2.81c.8-.78.8-2.07 0-2.86zM5.41 20L4 18.59l7.72-7.72 1.47 1.35L5.41 20z\"/>\n",
              "  </svg>\n",
              "      </button>\n",
              "      \n",
              "  <style>\n",
              "    .colab-df-container {\n",
              "      display:flex;\n",
              "      flex-wrap:wrap;\n",
              "      gap: 12px;\n",
              "    }\n",
              "\n",
              "    .colab-df-convert {\n",
              "      background-color: #E8F0FE;\n",
              "      border: none;\n",
              "      border-radius: 50%;\n",
              "      cursor: pointer;\n",
              "      display: none;\n",
              "      fill: #1967D2;\n",
              "      height: 32px;\n",
              "      padding: 0 0 0 0;\n",
              "      width: 32px;\n",
              "    }\n",
              "\n",
              "    .colab-df-convert:hover {\n",
              "      background-color: #E2EBFA;\n",
              "      box-shadow: 0px 1px 2px rgba(60, 64, 67, 0.3), 0px 1px 3px 1px rgba(60, 64, 67, 0.15);\n",
              "      fill: #174EA6;\n",
              "    }\n",
              "\n",
              "    [theme=dark] .colab-df-convert {\n",
              "      background-color: #3B4455;\n",
              "      fill: #D2E3FC;\n",
              "    }\n",
              "\n",
              "    [theme=dark] .colab-df-convert:hover {\n",
              "      background-color: #434B5C;\n",
              "      box-shadow: 0px 1px 3px 1px rgba(0, 0, 0, 0.15);\n",
              "      filter: drop-shadow(0px 1px 2px rgba(0, 0, 0, 0.3));\n",
              "      fill: #FFFFFF;\n",
              "    }\n",
              "  </style>\n",
              "\n",
              "      <script>\n",
              "        const buttonEl =\n",
              "          document.querySelector('#df-1227622b-b3d1-4cb3-a4bb-01630dd5bdab button.colab-df-convert');\n",
              "        buttonEl.style.display =\n",
              "          google.colab.kernel.accessAllowed ? 'block' : 'none';\n",
              "\n",
              "        async function convertToInteractive(key) {\n",
              "          const element = document.querySelector('#df-1227622b-b3d1-4cb3-a4bb-01630dd5bdab');\n",
              "          const dataTable =\n",
              "            await google.colab.kernel.invokeFunction('convertToInteractive',\n",
              "                                                     [key], {});\n",
              "          if (!dataTable) return;\n",
              "\n",
              "          const docLinkHtml = 'Like what you see? Visit the ' +\n",
              "            '<a target=\"_blank\" href=https://colab.research.google.com/notebooks/data_table.ipynb>data table notebook</a>'\n",
              "            + ' to learn more about interactive tables.';\n",
              "          element.innerHTML = '';\n",
              "          dataTable['output_type'] = 'display_data';\n",
              "          await google.colab.output.renderOutput(dataTable, element);\n",
              "          const docLink = document.createElement('div');\n",
              "          docLink.innerHTML = docLinkHtml;\n",
              "          element.appendChild(docLink);\n",
              "        }\n",
              "      </script>\n",
              "    </div>\n",
              "  </div>\n",
              "  "
            ]
          },
          "metadata": {},
          "execution_count": 31
        }
      ],
      "source": [
        "pd.merge(jan,feb,how='outer')\n",
        "FirstQuarter = pd.merge(jan,feb,how='outer')\n",
        "FirstQuarter.head()"
      ]
    },
    {
      "cell_type": "code",
      "execution_count": 32,
      "metadata": {
        "id": "6915Ejcre-Ge",
        "colab": {
          "base_uri": "https://localhost:8080/"
        },
        "outputId": "39da6e48-aa24-450c-995d-21ae3602a620"
      },
      "outputs": [
        {
          "output_type": "execute_result",
          "data": {
            "text/plain": [
              "(2286132, 7)"
            ]
          },
          "metadata": {},
          "execution_count": 32
        }
      ],
      "source": [
        "FirstQuarter.shape #Confirming that the dfs merged "
      ]
    },
    {
      "cell_type": "code",
      "execution_count": 33,
      "metadata": {
        "id": "cMSohJS_e-Gf",
        "colab": {
          "base_uri": "https://localhost:8080/",
          "height": 399
        },
        "outputId": "d51e6f58-f7cb-4fc8-ecfc-e16a010a2b01"
      },
      "outputs": [
        {
          "output_type": "execute_result",
          "data": {
            "text/plain": [
              "                  ride_id  rideable_type           started_at  \\\n",
              "0        55262E4365A955A2   classic_bike  2022-01-18 08:23:52   \n",
              "1        D272F1B15D841EC0   classic_bike  2022-01-21 09:03:22   \n",
              "2        D1FCEF55EB4A807F   classic_bike  2022-01-22 14:28:32   \n",
              "3        E9CBDC6A0162C068  electric_bike  2022-01-19 14:49:47   \n",
              "4        2177A5B57326CE9B  electric_bike  2022-01-16 14:36:06   \n",
              "...                   ...            ...                  ...   \n",
              "4179571  79E49EA8727CA662   classic_bike  2022-03-30 21:12:45   \n",
              "4179572  9C4F6A095779AAE2  electric_bike  2022-03-21 09:33:21   \n",
              "4179573  C1966A89B5078124  electric_bike  2022-03-04 14:31:36   \n",
              "4179574  A11D1F167EF1B8C6   classic_bike  2022-03-18 18:43:43   \n",
              "4179575  74A6A40E386BE88F  electric_bike  2022-03-10 17:21:52   \n",
              "\n",
              "                    ended_at            start_station_name  \\\n",
              "0        2022-01-18 08:28:18       Boerum Pl\\t& Pacific St   \n",
              "1        2022-01-21 09:05:44               E 12 St & Ave C   \n",
              "2        2022-01-22 14:53:18               W 21 St & 6 Ave   \n",
              "3        2022-01-19 14:54:02                38 St & 30 Ave   \n",
              "4        2022-01-16 14:44:06        Pacific St & Nevins St   \n",
              "...                      ...                           ...   \n",
              "4179571  2022-03-30 21:22:15            E 72 St & York Ave   \n",
              "4179572  2022-03-21 09:39:45  W 48 St &  Rockefeller Plaza   \n",
              "4179573  2022-03-04 14:43:16   Central Park West & W 85 St   \n",
              "4179574  2022-03-18 18:53:41               W 56 St & 6 Ave   \n",
              "4179575  2022-03-10 17:29:53               5 Ave & E 72 St   \n",
              "\n",
              "                  end_station_name member_casual  \n",
              "0        Clinton St & Joralemon St        member  \n",
              "1               E 10 St & Avenue A        member  \n",
              "2                 W 44 St & 11 Ave        member  \n",
              "3             Crescent St & 30 Ave        member  \n",
              "4          Clinton St & Tillary St        member  \n",
              "...                            ...           ...  \n",
              "4179571            E 58 St & 3 Ave        member  \n",
              "4179572            E 58 St & 3 Ave        member  \n",
              "4179573            E 58 St & 3 Ave        member  \n",
              "4179574            E 58 St & 3 Ave        member  \n",
              "4179575            E 58 St & 3 Ave        casual  \n",
              "\n",
              "[4179576 rows x 7 columns]"
            ],
            "text/html": [
              "\n",
              "  <div id=\"df-0dbdfa28-32b2-4d13-9be6-9af8049b1957\">\n",
              "    <div class=\"colab-df-container\">\n",
              "      <div>\n",
              "<style scoped>\n",
              "    .dataframe tbody tr th:only-of-type {\n",
              "        vertical-align: middle;\n",
              "    }\n",
              "\n",
              "    .dataframe tbody tr th {\n",
              "        vertical-align: top;\n",
              "    }\n",
              "\n",
              "    .dataframe thead th {\n",
              "        text-align: right;\n",
              "    }\n",
              "</style>\n",
              "<table border=\"1\" class=\"dataframe\">\n",
              "  <thead>\n",
              "    <tr style=\"text-align: right;\">\n",
              "      <th></th>\n",
              "      <th>ride_id</th>\n",
              "      <th>rideable_type</th>\n",
              "      <th>started_at</th>\n",
              "      <th>ended_at</th>\n",
              "      <th>start_station_name</th>\n",
              "      <th>end_station_name</th>\n",
              "      <th>member_casual</th>\n",
              "    </tr>\n",
              "  </thead>\n",
              "  <tbody>\n",
              "    <tr>\n",
              "      <th>0</th>\n",
              "      <td>55262E4365A955A2</td>\n",
              "      <td>classic_bike</td>\n",
              "      <td>2022-01-18 08:23:52</td>\n",
              "      <td>2022-01-18 08:28:18</td>\n",
              "      <td>Boerum Pl\\t&amp; Pacific St</td>\n",
              "      <td>Clinton St &amp; Joralemon St</td>\n",
              "      <td>member</td>\n",
              "    </tr>\n",
              "    <tr>\n",
              "      <th>1</th>\n",
              "      <td>D272F1B15D841EC0</td>\n",
              "      <td>classic_bike</td>\n",
              "      <td>2022-01-21 09:03:22</td>\n",
              "      <td>2022-01-21 09:05:44</td>\n",
              "      <td>E 12 St &amp; Ave C</td>\n",
              "      <td>E 10 St &amp; Avenue A</td>\n",
              "      <td>member</td>\n",
              "    </tr>\n",
              "    <tr>\n",
              "      <th>2</th>\n",
              "      <td>D1FCEF55EB4A807F</td>\n",
              "      <td>classic_bike</td>\n",
              "      <td>2022-01-22 14:28:32</td>\n",
              "      <td>2022-01-22 14:53:18</td>\n",
              "      <td>W 21 St &amp; 6 Ave</td>\n",
              "      <td>W 44 St &amp; 11 Ave</td>\n",
              "      <td>member</td>\n",
              "    </tr>\n",
              "    <tr>\n",
              "      <th>3</th>\n",
              "      <td>E9CBDC6A0162C068</td>\n",
              "      <td>electric_bike</td>\n",
              "      <td>2022-01-19 14:49:47</td>\n",
              "      <td>2022-01-19 14:54:02</td>\n",
              "      <td>38 St &amp; 30 Ave</td>\n",
              "      <td>Crescent St &amp; 30 Ave</td>\n",
              "      <td>member</td>\n",
              "    </tr>\n",
              "    <tr>\n",
              "      <th>4</th>\n",
              "      <td>2177A5B57326CE9B</td>\n",
              "      <td>electric_bike</td>\n",
              "      <td>2022-01-16 14:36:06</td>\n",
              "      <td>2022-01-16 14:44:06</td>\n",
              "      <td>Pacific St &amp; Nevins St</td>\n",
              "      <td>Clinton St &amp; Tillary St</td>\n",
              "      <td>member</td>\n",
              "    </tr>\n",
              "    <tr>\n",
              "      <th>...</th>\n",
              "      <td>...</td>\n",
              "      <td>...</td>\n",
              "      <td>...</td>\n",
              "      <td>...</td>\n",
              "      <td>...</td>\n",
              "      <td>...</td>\n",
              "      <td>...</td>\n",
              "    </tr>\n",
              "    <tr>\n",
              "      <th>4179571</th>\n",
              "      <td>79E49EA8727CA662</td>\n",
              "      <td>classic_bike</td>\n",
              "      <td>2022-03-30 21:12:45</td>\n",
              "      <td>2022-03-30 21:22:15</td>\n",
              "      <td>E 72 St &amp; York Ave</td>\n",
              "      <td>E 58 St &amp; 3 Ave</td>\n",
              "      <td>member</td>\n",
              "    </tr>\n",
              "    <tr>\n",
              "      <th>4179572</th>\n",
              "      <td>9C4F6A095779AAE2</td>\n",
              "      <td>electric_bike</td>\n",
              "      <td>2022-03-21 09:33:21</td>\n",
              "      <td>2022-03-21 09:39:45</td>\n",
              "      <td>W 48 St &amp;  Rockefeller Plaza</td>\n",
              "      <td>E 58 St &amp; 3 Ave</td>\n",
              "      <td>member</td>\n",
              "    </tr>\n",
              "    <tr>\n",
              "      <th>4179573</th>\n",
              "      <td>C1966A89B5078124</td>\n",
              "      <td>electric_bike</td>\n",
              "      <td>2022-03-04 14:31:36</td>\n",
              "      <td>2022-03-04 14:43:16</td>\n",
              "      <td>Central Park West &amp; W 85 St</td>\n",
              "      <td>E 58 St &amp; 3 Ave</td>\n",
              "      <td>member</td>\n",
              "    </tr>\n",
              "    <tr>\n",
              "      <th>4179574</th>\n",
              "      <td>A11D1F167EF1B8C6</td>\n",
              "      <td>classic_bike</td>\n",
              "      <td>2022-03-18 18:43:43</td>\n",
              "      <td>2022-03-18 18:53:41</td>\n",
              "      <td>W 56 St &amp; 6 Ave</td>\n",
              "      <td>E 58 St &amp; 3 Ave</td>\n",
              "      <td>member</td>\n",
              "    </tr>\n",
              "    <tr>\n",
              "      <th>4179575</th>\n",
              "      <td>74A6A40E386BE88F</td>\n",
              "      <td>electric_bike</td>\n",
              "      <td>2022-03-10 17:21:52</td>\n",
              "      <td>2022-03-10 17:29:53</td>\n",
              "      <td>5 Ave &amp; E 72 St</td>\n",
              "      <td>E 58 St &amp; 3 Ave</td>\n",
              "      <td>casual</td>\n",
              "    </tr>\n",
              "  </tbody>\n",
              "</table>\n",
              "<p>4179576 rows × 7 columns</p>\n",
              "</div>\n",
              "      <button class=\"colab-df-convert\" onclick=\"convertToInteractive('df-0dbdfa28-32b2-4d13-9be6-9af8049b1957')\"\n",
              "              title=\"Convert this dataframe to an interactive table.\"\n",
              "              style=\"display:none;\">\n",
              "        \n",
              "  <svg xmlns=\"http://www.w3.org/2000/svg\" height=\"24px\"viewBox=\"0 0 24 24\"\n",
              "       width=\"24px\">\n",
              "    <path d=\"M0 0h24v24H0V0z\" fill=\"none\"/>\n",
              "    <path d=\"M18.56 5.44l.94 2.06.94-2.06 2.06-.94-2.06-.94-.94-2.06-.94 2.06-2.06.94zm-11 1L8.5 8.5l.94-2.06 2.06-.94-2.06-.94L8.5 2.5l-.94 2.06-2.06.94zm10 10l.94 2.06.94-2.06 2.06-.94-2.06-.94-.94-2.06-.94 2.06-2.06.94z\"/><path d=\"M17.41 7.96l-1.37-1.37c-.4-.4-.92-.59-1.43-.59-.52 0-1.04.2-1.43.59L10.3 9.45l-7.72 7.72c-.78.78-.78 2.05 0 2.83L4 21.41c.39.39.9.59 1.41.59.51 0 1.02-.2 1.41-.59l7.78-7.78 2.81-2.81c.8-.78.8-2.07 0-2.86zM5.41 20L4 18.59l7.72-7.72 1.47 1.35L5.41 20z\"/>\n",
              "  </svg>\n",
              "      </button>\n",
              "      \n",
              "  <style>\n",
              "    .colab-df-container {\n",
              "      display:flex;\n",
              "      flex-wrap:wrap;\n",
              "      gap: 12px;\n",
              "    }\n",
              "\n",
              "    .colab-df-convert {\n",
              "      background-color: #E8F0FE;\n",
              "      border: none;\n",
              "      border-radius: 50%;\n",
              "      cursor: pointer;\n",
              "      display: none;\n",
              "      fill: #1967D2;\n",
              "      height: 32px;\n",
              "      padding: 0 0 0 0;\n",
              "      width: 32px;\n",
              "    }\n",
              "\n",
              "    .colab-df-convert:hover {\n",
              "      background-color: #E2EBFA;\n",
              "      box-shadow: 0px 1px 2px rgba(60, 64, 67, 0.3), 0px 1px 3px 1px rgba(60, 64, 67, 0.15);\n",
              "      fill: #174EA6;\n",
              "    }\n",
              "\n",
              "    [theme=dark] .colab-df-convert {\n",
              "      background-color: #3B4455;\n",
              "      fill: #D2E3FC;\n",
              "    }\n",
              "\n",
              "    [theme=dark] .colab-df-convert:hover {\n",
              "      background-color: #434B5C;\n",
              "      box-shadow: 0px 1px 3px 1px rgba(0, 0, 0, 0.15);\n",
              "      filter: drop-shadow(0px 1px 2px rgba(0, 0, 0, 0.3));\n",
              "      fill: #FFFFFF;\n",
              "    }\n",
              "  </style>\n",
              "\n",
              "      <script>\n",
              "        const buttonEl =\n",
              "          document.querySelector('#df-0dbdfa28-32b2-4d13-9be6-9af8049b1957 button.colab-df-convert');\n",
              "        buttonEl.style.display =\n",
              "          google.colab.kernel.accessAllowed ? 'block' : 'none';\n",
              "\n",
              "        async function convertToInteractive(key) {\n",
              "          const element = document.querySelector('#df-0dbdfa28-32b2-4d13-9be6-9af8049b1957');\n",
              "          const dataTable =\n",
              "            await google.colab.kernel.invokeFunction('convertToInteractive',\n",
              "                                                     [key], {});\n",
              "          if (!dataTable) return;\n",
              "\n",
              "          const docLinkHtml = 'Like what you see? Visit the ' +\n",
              "            '<a target=\"_blank\" href=https://colab.research.google.com/notebooks/data_table.ipynb>data table notebook</a>'\n",
              "            + ' to learn more about interactive tables.';\n",
              "          element.innerHTML = '';\n",
              "          dataTable['output_type'] = 'display_data';\n",
              "          await google.colab.output.renderOutput(dataTable, element);\n",
              "          const docLink = document.createElement('div');\n",
              "          docLink.innerHTML = docLinkHtml;\n",
              "          element.appendChild(docLink);\n",
              "        }\n",
              "      </script>\n",
              "    </div>\n",
              "  </div>\n",
              "  "
            ]
          },
          "metadata": {},
          "execution_count": 33
        }
      ],
      "source": [
        "pd.merge(FirstQuarter,march,how='outer')\n",
        "\n"
      ]
    },
    {
      "cell_type": "code",
      "execution_count": 34,
      "metadata": {
        "id": "4bKNgcqUe-Gf"
      },
      "outputs": [],
      "source": [
        "FirstQuarter=pd.merge(FirstQuarter,march,how='outer')"
      ]
    },
    {
      "cell_type": "code",
      "execution_count": 35,
      "metadata": {
        "id": "lmToL4DZe-Ge",
        "colab": {
          "base_uri": "https://localhost:8080/"
        },
        "outputId": "cb2002f5-9fc6-41b4-c5a8-66667b7bdec1"
      },
      "outputs": [
        {
          "output_type": "execute_result",
          "data": {
            "text/plain": [
              "True"
            ]
          },
          "metadata": {},
          "execution_count": 35
        }
      ],
      "source": [
        "FirstQuarter['ride_id'].is_unique #Ride_ID unique over months"
      ]
    },
    {
      "cell_type": "code",
      "execution_count": 36,
      "metadata": {
        "id": "zMlPsW1Ue-Gf",
        "colab": {
          "base_uri": "https://localhost:8080/"
        },
        "outputId": "b5eda279-d696-4250-8b2f-2bbd31c586c1"
      },
      "outputs": [
        {
          "output_type": "execute_result",
          "data": {
            "text/plain": [
              "(4179576, 7)"
            ]
          },
          "metadata": {},
          "execution_count": 36
        }
      ],
      "source": [
        "FirstQuarter.shape"
      ]
    },
    {
      "cell_type": "code",
      "source": [
        "FirstQuarter.info()"
      ],
      "metadata": {
        "colab": {
          "base_uri": "https://localhost:8080/"
        },
        "id": "ll9biMgXiY0y",
        "outputId": "b1d81f80-19f3-480f-dba5-c8f821328d2a"
      },
      "execution_count": 37,
      "outputs": [
        {
          "output_type": "stream",
          "name": "stdout",
          "text": [
            "<class 'pandas.core.frame.DataFrame'>\n",
            "Int64Index: 4179576 entries, 0 to 4179575\n",
            "Data columns (total 7 columns):\n",
            " #   Column              Dtype \n",
            "---  ------              ----- \n",
            " 0   ride_id             object\n",
            " 1   rideable_type       object\n",
            " 2   started_at          object\n",
            " 3   ended_at            object\n",
            " 4   start_station_name  object\n",
            " 5   end_station_name    object\n",
            " 6   member_casual       object\n",
            "dtypes: object(7)\n",
            "memory usage: 255.1+ MB\n"
          ]
        }
      ]
    },
    {
      "cell_type": "code",
      "source": [
        "FirstQuarter['started_at']=pd.to_datetime(FirstQuarter['started_at'],infer_datetime_format=True)"
      ],
      "metadata": {
        "id": "Lv2X9A0_ikJX"
      },
      "execution_count": 38,
      "outputs": []
    },
    {
      "cell_type": "code",
      "source": [
        "FirstQuarter['ended_at']=pd.to_datetime(FirstQuarter['ended_at'],infer_datetime_format=True)"
      ],
      "metadata": {
        "id": "3ye9i9gBi4SP"
      },
      "execution_count": 39,
      "outputs": []
    },
    {
      "cell_type": "code",
      "source": [
        "from datetime import date,timedelta\n",
        "FirstQuarter['ride_time']=FirstQuarter['ended_at']-FirstQuarter['started_at']\n",
        "FirstQuarter.head(2)"
      ],
      "metadata": {
        "colab": {
          "base_uri": "https://localhost:8080/",
          "height": 106
        },
        "id": "pXbhFt_Li4q8",
        "outputId": "c80551e9-941b-4196-e16f-6c071c8aa9a1"
      },
      "execution_count": 40,
      "outputs": [
        {
          "output_type": "execute_result",
          "data": {
            "text/plain": [
              "            ride_id rideable_type          started_at            ended_at  \\\n",
              "0  55262E4365A955A2  classic_bike 2022-01-18 08:23:52 2022-01-18 08:28:18   \n",
              "1  D272F1B15D841EC0  classic_bike 2022-01-21 09:03:22 2022-01-21 09:05:44   \n",
              "\n",
              "        start_station_name           end_station_name member_casual  \\\n",
              "0  Boerum Pl\\t& Pacific St  Clinton St & Joralemon St        member   \n",
              "1          E 12 St & Ave C         E 10 St & Avenue A        member   \n",
              "\n",
              "        ride_time  \n",
              "0 0 days 00:04:26  \n",
              "1 0 days 00:02:22  "
            ],
            "text/html": [
              "\n",
              "  <div id=\"df-9c3a7eb4-93c0-43e7-93fd-b0e0d07cb806\">\n",
              "    <div class=\"colab-df-container\">\n",
              "      <div>\n",
              "<style scoped>\n",
              "    .dataframe tbody tr th:only-of-type {\n",
              "        vertical-align: middle;\n",
              "    }\n",
              "\n",
              "    .dataframe tbody tr th {\n",
              "        vertical-align: top;\n",
              "    }\n",
              "\n",
              "    .dataframe thead th {\n",
              "        text-align: right;\n",
              "    }\n",
              "</style>\n",
              "<table border=\"1\" class=\"dataframe\">\n",
              "  <thead>\n",
              "    <tr style=\"text-align: right;\">\n",
              "      <th></th>\n",
              "      <th>ride_id</th>\n",
              "      <th>rideable_type</th>\n",
              "      <th>started_at</th>\n",
              "      <th>ended_at</th>\n",
              "      <th>start_station_name</th>\n",
              "      <th>end_station_name</th>\n",
              "      <th>member_casual</th>\n",
              "      <th>ride_time</th>\n",
              "    </tr>\n",
              "  </thead>\n",
              "  <tbody>\n",
              "    <tr>\n",
              "      <th>0</th>\n",
              "      <td>55262E4365A955A2</td>\n",
              "      <td>classic_bike</td>\n",
              "      <td>2022-01-18 08:23:52</td>\n",
              "      <td>2022-01-18 08:28:18</td>\n",
              "      <td>Boerum Pl\\t&amp; Pacific St</td>\n",
              "      <td>Clinton St &amp; Joralemon St</td>\n",
              "      <td>member</td>\n",
              "      <td>0 days 00:04:26</td>\n",
              "    </tr>\n",
              "    <tr>\n",
              "      <th>1</th>\n",
              "      <td>D272F1B15D841EC0</td>\n",
              "      <td>classic_bike</td>\n",
              "      <td>2022-01-21 09:03:22</td>\n",
              "      <td>2022-01-21 09:05:44</td>\n",
              "      <td>E 12 St &amp; Ave C</td>\n",
              "      <td>E 10 St &amp; Avenue A</td>\n",
              "      <td>member</td>\n",
              "      <td>0 days 00:02:22</td>\n",
              "    </tr>\n",
              "  </tbody>\n",
              "</table>\n",
              "</div>\n",
              "      <button class=\"colab-df-convert\" onclick=\"convertToInteractive('df-9c3a7eb4-93c0-43e7-93fd-b0e0d07cb806')\"\n",
              "              title=\"Convert this dataframe to an interactive table.\"\n",
              "              style=\"display:none;\">\n",
              "        \n",
              "  <svg xmlns=\"http://www.w3.org/2000/svg\" height=\"24px\"viewBox=\"0 0 24 24\"\n",
              "       width=\"24px\">\n",
              "    <path d=\"M0 0h24v24H0V0z\" fill=\"none\"/>\n",
              "    <path d=\"M18.56 5.44l.94 2.06.94-2.06 2.06-.94-2.06-.94-.94-2.06-.94 2.06-2.06.94zm-11 1L8.5 8.5l.94-2.06 2.06-.94-2.06-.94L8.5 2.5l-.94 2.06-2.06.94zm10 10l.94 2.06.94-2.06 2.06-.94-2.06-.94-.94-2.06-.94 2.06-2.06.94z\"/><path d=\"M17.41 7.96l-1.37-1.37c-.4-.4-.92-.59-1.43-.59-.52 0-1.04.2-1.43.59L10.3 9.45l-7.72 7.72c-.78.78-.78 2.05 0 2.83L4 21.41c.39.39.9.59 1.41.59.51 0 1.02-.2 1.41-.59l7.78-7.78 2.81-2.81c.8-.78.8-2.07 0-2.86zM5.41 20L4 18.59l7.72-7.72 1.47 1.35L5.41 20z\"/>\n",
              "  </svg>\n",
              "      </button>\n",
              "      \n",
              "  <style>\n",
              "    .colab-df-container {\n",
              "      display:flex;\n",
              "      flex-wrap:wrap;\n",
              "      gap: 12px;\n",
              "    }\n",
              "\n",
              "    .colab-df-convert {\n",
              "      background-color: #E8F0FE;\n",
              "      border: none;\n",
              "      border-radius: 50%;\n",
              "      cursor: pointer;\n",
              "      display: none;\n",
              "      fill: #1967D2;\n",
              "      height: 32px;\n",
              "      padding: 0 0 0 0;\n",
              "      width: 32px;\n",
              "    }\n",
              "\n",
              "    .colab-df-convert:hover {\n",
              "      background-color: #E2EBFA;\n",
              "      box-shadow: 0px 1px 2px rgba(60, 64, 67, 0.3), 0px 1px 3px 1px rgba(60, 64, 67, 0.15);\n",
              "      fill: #174EA6;\n",
              "    }\n",
              "\n",
              "    [theme=dark] .colab-df-convert {\n",
              "      background-color: #3B4455;\n",
              "      fill: #D2E3FC;\n",
              "    }\n",
              "\n",
              "    [theme=dark] .colab-df-convert:hover {\n",
              "      background-color: #434B5C;\n",
              "      box-shadow: 0px 1px 3px 1px rgba(0, 0, 0, 0.15);\n",
              "      filter: drop-shadow(0px 1px 2px rgba(0, 0, 0, 0.3));\n",
              "      fill: #FFFFFF;\n",
              "    }\n",
              "  </style>\n",
              "\n",
              "      <script>\n",
              "        const buttonEl =\n",
              "          document.querySelector('#df-9c3a7eb4-93c0-43e7-93fd-b0e0d07cb806 button.colab-df-convert');\n",
              "        buttonEl.style.display =\n",
              "          google.colab.kernel.accessAllowed ? 'block' : 'none';\n",
              "\n",
              "        async function convertToInteractive(key) {\n",
              "          const element = document.querySelector('#df-9c3a7eb4-93c0-43e7-93fd-b0e0d07cb806');\n",
              "          const dataTable =\n",
              "            await google.colab.kernel.invokeFunction('convertToInteractive',\n",
              "                                                     [key], {});\n",
              "          if (!dataTable) return;\n",
              "\n",
              "          const docLinkHtml = 'Like what you see? Visit the ' +\n",
              "            '<a target=\"_blank\" href=https://colab.research.google.com/notebooks/data_table.ipynb>data table notebook</a>'\n",
              "            + ' to learn more about interactive tables.';\n",
              "          element.innerHTML = '';\n",
              "          dataTable['output_type'] = 'display_data';\n",
              "          await google.colab.output.renderOutput(dataTable, element);\n",
              "          const docLink = document.createElement('div');\n",
              "          docLink.innerHTML = docLinkHtml;\n",
              "          element.appendChild(docLink);\n",
              "        }\n",
              "      </script>\n",
              "    </div>\n",
              "  </div>\n",
              "  "
            ]
          },
          "metadata": {},
          "execution_count": 40
        }
      ]
    },
    {
      "cell_type": "markdown",
      "source": [
        "#**Data Research Question & Analysis**#\n",
        "\n",
        "The goal of this analysis is to determine what can be learned from first quarter trip data that would inform the marketing department on who to target and why. \n",
        "\n",
        "As such, the analysis focuses on users and relevant trip data.  Unfortunately, the data does not include any particulars about the users (e.g., unique user ID as opposed to unique trip ID). As such, it is rather difficult to come up with any specific data that could practically inform user personas, though ride use cases might provide system insight (such as which stations are most utilized by members versus non-members for example). \n",
        "\n"
      ],
      "metadata": {
        "id": "LdhMpxjAxP10"
      }
    },
    {
      "cell_type": "code",
      "source": [
        "FirstQuarter['ride_time'].median()"
      ],
      "metadata": {
        "colab": {
          "base_uri": "https://localhost:8080/"
        },
        "id": "miOI6cjxKN9R",
        "outputId": "c77ba6ac-c894-421d-ab29-27fc4597a132"
      },
      "execution_count": 41,
      "outputs": [
        {
          "output_type": "execute_result",
          "data": {
            "text/plain": [
              "Timedelta('0 days 00:08:51')"
            ]
          },
          "metadata": {},
          "execution_count": 41
        }
      ]
    },
    {
      "cell_type": "code",
      "source": [
        "FirstQuarter['ride_time'].mode()"
      ],
      "metadata": {
        "colab": {
          "base_uri": "https://localhost:8080/"
        },
        "id": "gZJZ4yqx7tKR",
        "outputId": "7036d886-64aa-47b4-c3f1-cab4b78d4d1d"
      },
      "execution_count": 42,
      "outputs": [
        {
          "output_type": "execute_result",
          "data": {
            "text/plain": [
              "0   0 days 00:05:04\n",
              "1   0 days 00:05:21\n",
              "dtype: timedelta64[ns]"
            ]
          },
          "metadata": {},
          "execution_count": 42
        }
      ]
    },
    {
      "cell_type": "code",
      "source": [
        "jan.groupby(['rideable_type'])['started_at'].count()"
      ],
      "metadata": {
        "colab": {
          "base_uri": "https://localhost:8080/"
        },
        "id": "dUH78BsZWppW",
        "outputId": "e1b3797f-cac9-4c62-c664-54f9a028fdc2"
      },
      "execution_count": 43,
      "outputs": [
        {
          "output_type": "execute_result",
          "data": {
            "text/plain": [
              "rideable_type\n",
              "classic_bike     598975\n",
              "docked_bike        2818\n",
              "electric_bike    450625\n",
              "Name: started_at, dtype: int64"
            ]
          },
          "metadata": {},
          "execution_count": 43
        }
      ]
    },
    {
      "cell_type": "code",
      "source": [
        "jan.groupby(['rideable_type'])['started_at'].count().sort_values(ascending=False).plot(kind='bar').tick_params(axis='x', rotation=0)\n"
      ],
      "metadata": {
        "colab": {
          "base_uri": "https://localhost:8080/",
          "height": 281
        },
        "id": "mKAExhjYYF49",
        "outputId": "53edbf9b-5afa-4e60-ece0-670435e6e212"
      },
      "execution_count": 44,
      "outputs": [
        {
          "output_type": "display_data",
          "data": {
            "text/plain": [
              "<Figure size 432x288 with 1 Axes>"
            ],
            "image/png": "[encoded data removed]"
          },
          "metadata": {
            "needs_background": "light"
          }
        }
      ]
    },
    {
      "cell_type": "code",
      "source": [
        "feb.groupby(['rideable_type'])['started_at'].count()"
      ],
      "metadata": {
        "colab": {
          "base_uri": "https://localhost:8080/"
        },
        "id": "d5VDemdsWzVs",
        "outputId": "1d3aaf1b-00c1-44b6-f250-4b2e753561ba"
      },
      "execution_count": 45,
      "outputs": [
        {
          "output_type": "execute_result",
          "data": {
            "text/plain": [
              "rideable_type\n",
              "classic_bike     675566\n",
              "docked_bike        5247\n",
              "electric_bike    552901\n",
              "Name: started_at, dtype: int64"
            ]
          },
          "metadata": {},
          "execution_count": 45
        }
      ]
    },
    {
      "cell_type": "code",
      "source": [
        "feb.groupby(['rideable_type'])['started_at'].count().sort_values(ascending=False).plot(kind='bar').tick_params(axis='x', rotation=0)"
      ],
      "metadata": {
        "colab": {
          "base_uri": "https://localhost:8080/",
          "height": 282
        },
        "id": "PXbYU1ltYrXM",
        "outputId": "7fe3a0b7-0ddf-4b79-a65f-912d4aae7686"
      },
      "execution_count": 46,
      "outputs": [
        {
          "output_type": "display_data",
          "data": {
            "text/plain": [
              "<Figure size 432x288 with 1 Axes>"
            ],
            "image/png": "[encoded data removed]"
          },
          "metadata": {
            "needs_background": "light"
          }
        }
      ]
    },
    {
      "cell_type": "code",
      "source": [
        "march.groupby(['rideable_type'])['started_at'].count()"
      ],
      "metadata": {
        "colab": {
          "base_uri": "https://localhost:8080/"
        },
        "id": "W0cmkAD-W6Yv",
        "outputId": "91408f21-3e7a-4467-d2aa-03c9a18e1a24"
      },
      "execution_count": 47,
      "outputs": [
        {
          "output_type": "execute_result",
          "data": {
            "text/plain": [
              "rideable_type\n",
              "classic_bike     1100249\n",
              "docked_bike        13924\n",
              "electric_bike     779271\n",
              "Name: started_at, dtype: int64"
            ]
          },
          "metadata": {},
          "execution_count": 47
        }
      ]
    },
    {
      "cell_type": "code",
      "source": [
        "march.groupby(['rideable_type'])['started_at'].count().sort_values(ascending=False).plot(kind='bar').tick_params(axis='x', rotation=0)"
      ],
      "metadata": {
        "colab": {
          "base_uri": "https://localhost:8080/",
          "height": 292
        },
        "id": "8BlBwVgIY0lA",
        "outputId": "e341c5f8-28a6-49b8-f7c9-1d9529a8b503"
      },
      "execution_count": 48,
      "outputs": [
        {
          "output_type": "display_data",
          "data": {
            "text/plain": [
              "<Figure size 432x288 with 1 Axes>"
            ],
            "image/png": "[encoded data removed]"
          },
          "metadata": {
            "needs_background": "light"
          }
        }
      ]
    },
    {
      "cell_type": "code",
      "source": [
        "FirstQuarter['ride_time'].describe() #First Quarter average ride time around 81/2 minutes, with 75% of rides under 16 minutes."
      ],
      "metadata": {
        "colab": {
          "base_uri": "https://localhost:8080/"
        },
        "id": "Q23kGMIfKWyh",
        "outputId": "bbcf224c-867c-455e-be4b-8f3d8b9b1f9c"
      },
      "execution_count": 49,
      "outputs": [
        {
          "output_type": "execute_result",
          "data": {
            "text/plain": [
              "count                      4179576\n",
              "mean     0 days 00:17:06.592914687\n",
              "std      0 days 01:42:38.239046684\n",
              "min              -1 days +23:51:16\n",
              "25%                0 days 00:05:05\n",
              "50%                0 days 00:08:51\n",
              "75%                0 days 00:15:23\n",
              "max               40 days 06:25:59\n",
              "Name: ride_time, dtype: object"
            ]
          },
          "metadata": {},
          "execution_count": 49
        }
      ]
    },
    {
      "cell_type": "code",
      "source": [
        "FirstQuarter['member_casual'].value_counts().plot(kind='bar',ylabel='Rides (millions)', title='Total Member vs. Casual Rides').tick_params(axis='x', rotation=0)\n"
      ],
      "metadata": {
        "colab": {
          "base_uri": "https://localhost:8080/",
          "height": 281
        },
        "id": "qsnCbjxqjfwR",
        "outputId": "c69bc449-760b-49e3-ee70-58857750ee76"
      },
      "execution_count": 50,
      "outputs": [
        {
          "output_type": "display_data",
          "data": {
            "text/plain": [
              "<Figure size 432x288 with 1 Axes>"
            ],
            "image/png": "[encoded data removed]"
          },
          "metadata": {
            "needs_background": "light"
          }
        }
      ]
    },
    {
      "cell_type": "code",
      "source": [
        "FirstQuarter.groupby(['rideable_type'])['started_at'].count()"
      ],
      "metadata": {
        "colab": {
          "base_uri": "https://localhost:8080/"
        },
        "id": "Rf6Kn7cskA2g",
        "outputId": "c73b8222-75ed-4c46-9c8a-547168db7f0d"
      },
      "execution_count": 51,
      "outputs": [
        {
          "output_type": "execute_result",
          "data": {
            "text/plain": [
              "rideable_type\n",
              "classic_bike     2374790\n",
              "docked_bike        21989\n",
              "electric_bike    1782797\n",
              "Name: started_at, dtype: int64"
            ]
          },
          "metadata": {},
          "execution_count": 51
        }
      ]
    },
    {
      "cell_type": "code",
      "source": [
        "FirstQuarter.groupby(['rideable_type'])['started_at'].count().sum()"
      ],
      "metadata": {
        "colab": {
          "base_uri": "https://localhost:8080/"
        },
        "id": "s6F3XX356C0-",
        "outputId": "a8edfee6-370a-47bd-c415-2feeef653c71"
      },
      "execution_count": 52,
      "outputs": [
        {
          "output_type": "execute_result",
          "data": {
            "text/plain": [
              "4179576"
            ]
          },
          "metadata": {},
          "execution_count": 52
        }
      ]
    },
    {
      "cell_type": "code",
      "source": [
        "2374790/4179576 #classic bike rides over total bike rides for Q1 55.8% of rides are taken on classic citibikes"
      ],
      "metadata": {
        "colab": {
          "base_uri": "https://localhost:8080/"
        },
        "id": "6unXIL6O6NWi",
        "outputId": "6b010fe3-47e8-4965-f6ad-7a25510d2a1d"
      },
      "execution_count": 53,
      "outputs": [
        {
          "output_type": "execute_result",
          "data": {
            "text/plain": [
              "0.5681892134513166"
            ]
          },
          "metadata": {},
          "execution_count": 53
        }
      ]
    },
    {
      "cell_type": "code",
      "source": [
        "1782797/4179576   #42.7% of trips in Q1 were on electric bikes"
      ],
      "metadata": {
        "colab": {
          "base_uri": "https://localhost:8080/"
        },
        "id": "NrVds5EI6fUz",
        "outputId": "418f1786-b58a-4cd4-9877-d13d35a71ee7"
      },
      "execution_count": 54,
      "outputs": [
        {
          "output_type": "execute_result",
          "data": {
            "text/plain": [
              "0.42654972657513585"
            ]
          },
          "metadata": {},
          "execution_count": 54
        }
      ]
    },
    {
      "cell_type": "markdown",
      "source": [
        ""
      ],
      "metadata": {
        "id": "wbcYl1rJSv8I"
      }
    },
    {
      "cell_type": "code",
      "source": [
        "FirstQuarter.groupby(['rideable_type','member_casual'])['started_at'].count()"
      ],
      "metadata": {
        "colab": {
          "base_uri": "https://localhost:8080/"
        },
        "id": "1XWf2g_wkQEh",
        "outputId": "6cbe5c0a-4f8c-471d-a079-d49358bea9c8"
      },
      "execution_count": 55,
      "outputs": [
        {
          "output_type": "execute_result",
          "data": {
            "text/plain": [
              "rideable_type  member_casual\n",
              "classic_bike   casual            336115\n",
              "               member           2038675\n",
              "docked_bike    casual             21989\n",
              "electric_bike  casual            370891\n",
              "               member           1411906\n",
              "Name: started_at, dtype: int64"
            ]
          },
          "metadata": {},
          "execution_count": 55
        }
      ]
    },
    {
      "cell_type": "code",
      "source": [
        "FirstQuarter.groupby(['rideable_type','member_casual'])['started_at'].count().plot(kind='barh',title='Ride Type by Rider Type')"
      ],
      "metadata": {
        "colab": {
          "base_uri": "https://localhost:8080/",
          "height": 312
        },
        "id": "pcMmFyBrHj2Q",
        "outputId": "cff5d38d-9f7f-4672-8b0b-2bf416de4a88"
      },
      "execution_count": 79,
      "outputs": [
        {
          "output_type": "execute_result",
          "data": {
            "text/plain": [
              "<matplotlib.axes._subplots.AxesSubplot at 0x7fd751142090>"
            ]
          },
          "metadata": {},
          "execution_count": 79
        },
        {
          "output_type": "display_data",
          "data": {
            "text/plain": [
              "<Figure size 432x288 with 1 Axes>"
            ],
            "image/png": "[encoded data removed]"
          },
          "metadata": {
            "needs_background": "light"
          }
        }
      ]
    },
    {
      "cell_type": "code",
      "source": [
        "FirstQuarter.groupby(['start_station_name'])['ride_id'].count().sort_values(ascending=False).head(10) #Top 10 starting stations\n",
        "\n",
        "                                                                                                                        "
      ],
      "metadata": {
        "colab": {
          "base_uri": "https://localhost:8080/"
        },
        "id": "EkfCXiDUDGYe",
        "outputId": "71deb500-217f-4e9e-f291-99ab05787d64"
      },
      "execution_count": 57,
      "outputs": [
        {
          "output_type": "execute_result",
          "data": {
            "text/plain": [
              "start_station_name\n",
              "W 21 St & 6 Ave            20699\n",
              "1 Ave & E 68 St            18892\n",
              "E 17 St & Broadway         17265\n",
              "Broadway & W 58 St         16541\n",
              "Broadway & E 21 St         16275\n",
              "University Pl & E 14 St    16017\n",
              "E 33 St & 1 Ave            15838\n",
              "6 Ave & W 33 St            15428\n",
              "8 Ave & W 33 St            14930\n",
              "Broadway & E 14 St         14504\n",
              "Name: ride_id, dtype: int64"
            ]
          },
          "metadata": {},
          "execution_count": 57
        }
      ]
    },
    {
      "cell_type": "code",
      "source": [
        "FirstQuarter.groupby(['start_station_name'])['ride_id'].count().sort_values(ascending=False).head(10).plot(kind='barh',title=\"Top 10 Starting Stations\") #Top 10 starting stations"
      ],
      "metadata": {
        "colab": {
          "base_uri": "https://localhost:8080/",
          "height": 299
        },
        "id": "-7CAUd6qHyc3",
        "outputId": "38270321-05d9-4417-f56c-6826581eb594"
      },
      "execution_count": 58,
      "outputs": [
        {
          "output_type": "execute_result",
          "data": {
            "text/plain": [
              "<matplotlib.axes._subplots.AxesSubplot at 0x7fd7511506d0>"
            ]
          },
          "metadata": {},
          "execution_count": 58
        },
        {
          "output_type": "display_data",
          "data": {
            "text/plain": [
              "<Figure size 432x288 with 1 Axes>"
            ],
            "image/png": "[encoded data removed]"
          },
          "metadata": {
            "needs_background": "light"
          }
        }
      ]
    },
    {
      "cell_type": "code",
      "source": [
        "#Top Ten Ending Destination stations\n",
        "FirstQuarter.groupby(['end_station_name'])['ride_id'].count().sort_values(ascending=False).head(10)"
      ],
      "metadata": {
        "colab": {
          "base_uri": "https://localhost:8080/"
        },
        "id": "3DbexPWXHJTc",
        "outputId": "670fe4d3-8b20-4500-a2a7-8691cfa069ea"
      },
      "execution_count": 59,
      "outputs": [
        {
          "output_type": "execute_result",
          "data": {
            "text/plain": [
              "end_station_name\n",
              "W 21 St & 6 Ave            20773\n",
              "1 Ave & E 68 St            18681\n",
              "E 17 St & Broadway         17508\n",
              "Broadway & E 21 St         16284\n",
              "Broadway & W 58 St         16210\n",
              "University Pl & E 14 St    16176\n",
              "E 33 St & 1 Ave            15871\n",
              "6 Ave & W 33 St            15463\n",
              "8 Ave & W 33 St            14679\n",
              "West St & Chambers St      14578\n",
              "Name: ride_id, dtype: int64"
            ]
          },
          "metadata": {},
          "execution_count": 59
        }
      ]
    },
    {
      "cell_type": "code",
      "source": [
        "FirstQuarter.groupby(['end_station_name'])['ride_id'].count().sort_values(ascending=False).head(10).plot(kind='barh',title='Top End Destinations')"
      ],
      "metadata": {
        "colab": {
          "base_uri": "https://localhost:8080/",
          "height": 299
        },
        "id": "UiEwSfYNDHju",
        "outputId": "4a9d6ec9-29af-4a51-d3f3-280c78b669cd"
      },
      "execution_count": 82,
      "outputs": [
        {
          "output_type": "execute_result",
          "data": {
            "text/plain": [
              "<matplotlib.axes._subplots.AxesSubplot at 0x7fd751203890>"
            ]
          },
          "metadata": {},
          "execution_count": 82
        },
        {
          "output_type": "display_data",
          "data": {
            "text/plain": [
              "<Figure size 432x288 with 1 Axes>"
            ],
            "image/png": "[encoded data removed]"
          },
          "metadata": {
            "needs_background": "light"
          }
        }
      ]
    },
    {
      "cell_type": "markdown",
      "source": [
        "rt"
      ],
      "metadata": {
        "id": "8ykUNpTWN84V"
      }
    },
    {
      "cell_type": "code",
      "source": [
        "FirstQuarter.groupby(['rideable_type'])['started_at'].count().sort_values(ascending=True).plot(kind='barh',ylabel='Rides (millions)',title=\"Type of Ride\")"
      ],
      "metadata": {
        "colab": {
          "base_uri": "https://localhost:8080/",
          "height": 312
        },
        "id": "zi07KkEN-W9C",
        "outputId": "be9077f1-1c4d-4452-bdb0-6764ecd26e41"
      },
      "execution_count": 61,
      "outputs": [
        {
          "output_type": "execute_result",
          "data": {
            "text/plain": [
              "<matplotlib.axes._subplots.AxesSubplot at 0x7fd750ff0cd0>"
            ]
          },
          "metadata": {},
          "execution_count": 61
        },
        {
          "output_type": "display_data",
          "data": {
            "text/plain": [
              "<Figure size 432x288 with 1 Axes>"
            ],
            "image/png": "[encoded data removed]"
          },
          "metadata": {
            "needs_background": "light"
          }
        }
      ]
    },
    {
      "cell_type": "code",
      "source": [
        "FirstQuarter.groupby(['rideable_type','member_casual'])['started_at'].count().sort_values(ascending=False)\n"
      ],
      "metadata": {
        "colab": {
          "base_uri": "https://localhost:8080/"
        },
        "id": "U2gP8sFnlx1t",
        "outputId": "27259ffd-04f6-40cc-efe9-1c999bcabd0a"
      },
      "execution_count": 62,
      "outputs": [
        {
          "output_type": "execute_result",
          "data": {
            "text/plain": [
              "rideable_type  member_casual\n",
              "classic_bike   member           2038675\n",
              "electric_bike  member           1411906\n",
              "               casual            370891\n",
              "classic_bike   casual            336115\n",
              "docked_bike    casual             21989\n",
              "Name: started_at, dtype: int64"
            ]
          },
          "metadata": {},
          "execution_count": 62
        }
      ]
    },
    {
      "cell_type": "markdown",
      "source": [
        ""
      ],
      "metadata": {
        "id": "pd7Ic0IQ7Qxc"
      }
    },
    {
      "cell_type": "markdown",
      "source": [
        "#**Summary & Key Findings**#\n",
        "\n",
        "\n",
        "**Users**\n",
        "The majority of users in Q122 (Jan, Feb, March 2022) were annual members. Out of 4,179,576 trips, ___\n",
        "\n",
        "Members: \n",
        "2,038,675 trips were made on classic bikes vs. 1,411,906 on electric bikes\n",
        "The majority of members (59%) ride classic bikes suggesting that members like to ride\n",
        "\n",
        "Casual Riders: \n",
        "336,115 trips were made on classic bikes vs. 370,891 on electric\n",
        "52% of casual riders ride electric bikes.\n",
        "\n",
        "Further research into how many electric versus classic bikes are available at different stations would help to flush out whether any preferences exist for one type of bike over the other. \n",
        "\n",
        "\n",
        "\n",
        "**Trips**\n",
        "\n",
        "Trip Time:\n",
        "Average trip time (using median) was almost 9 minutes (8 minutes, 51 seconds) with the majority of rides taking ___  minutes. 75% of trips take under 16 minutes.\n",
        "\n",
        "Trip Type:\n",
        "55.8% of trips are made on classic citibikes (manual) versus 42.7% on electric bikes. \n",
        "\n",
        "Top Start Destinations: 21st & 6th Avnue, 1st & 68th Street, East 17th & Broadway, Broadway & 58th Street, Broadway & 21st Street, University Place & 14th Street, 33rd and 1st Avenue, 33rd and 6th Avenue, 33rd & 8th Avenue, Broadway & 14th Street.\n",
        "\n",
        "The above suggests that an analysis of whether a significant correlation exists between the presence of hospitals, schools and train stations (such as NYU Hospital and the many hospitals near east 68th Street, Path and Penn Station stations such as 33rd street or Broadway and 14th and 17th) play a role in station utilization.\n",
        "\n",
        "Top end destinations include many of the same destinations: 21st & 6th, 1st & 68th, with the addition of Chambers Street (suggesting work commuter rides but also potentially hospitals as well due to NYU having offices there). "
      ],
      "metadata": {
        "id": "tLi-ISaB7RK-"
      }
    },
    {
      "cell_type": "markdown",
      "source": [
        "**2nd Quarter Analysis omitted from this project due to size/processing constraints. I'll likely do Q2 in another file and then combine the analysis externally.**"
      ],
      "metadata": {
        "id": "KyLiqhgKrbvq"
      }
    },
    {
      "cell_type": "code",
      "source": [
        ""
      ],
      "metadata": {
        "id": "xz9LeySFloRV"
      },
      "execution_count": 62,
      "outputs": []
    },
    {
      "cell_type": "code",
      "source": [
        "#from google.colab import files\n",
        "#uploaded = files.upload(202204-citibike-tripdata.csv)"
      ],
      "metadata": {
        "id": "k1mC3fBz34r6"
      },
      "execution_count": 63,
      "outputs": []
    },
    {
      "cell_type": "code",
      "source": [
        "#import io\n",
        "#april = pd.read_csv(io.BytesIO(uploaded['202204-citibike-tripdata.csv']))"
      ],
      "metadata": {
        "id": "I-dC1-gs4NKJ"
      },
      "execution_count": 64,
      "outputs": []
    },
    {
      "cell_type": "code",
      "source": [
        "#april.shape"
      ],
      "metadata": {
        "id": "RsPn2lkl4ewE"
      },
      "execution_count": 65,
      "outputs": []
    },
    {
      "cell_type": "code",
      "source": [
        "#from google.colab import files\n",
        "#uploaded = files.upload(202205-citibike-tripdata.csv)"
      ],
      "metadata": {
        "id": "yF6KE0UDbSYB"
      },
      "execution_count": 66,
      "outputs": []
    },
    {
      "cell_type": "code",
      "source": [
        "#import io\n",
        "#may = pd.read_csv(io.BytesIO(uploaded['202205-citibike-tripdata.csv']))"
      ],
      "metadata": {
        "id": "IVE6BX1O4kN4"
      },
      "execution_count": 67,
      "outputs": []
    },
    {
      "cell_type": "code",
      "source": [
        "#may.shape"
      ],
      "metadata": {
        "id": "p43kNzfi6jD2"
      },
      "execution_count": 68,
      "outputs": []
    },
    {
      "cell_type": "code",
      "source": [
        "#from google.colab import files\n",
        "#uploaded = files.upload(202206-citibike-tripdata.csv)"
      ],
      "metadata": {
        "id": "zvsrksnC6pg6"
      },
      "execution_count": 69,
      "outputs": []
    },
    {
      "cell_type": "code",
      "source": [
        "#import io\n",
        "#june = pd.read_csv(io.BytesIO(uploaded['202206-citibike-tripdata.csv']))"
      ],
      "metadata": {
        "id": "D-UMkV8-6pij"
      },
      "execution_count": 70,
      "outputs": []
    },
    {
      "cell_type": "code",
      "execution_count": 71,
      "metadata": {
        "id": "QaylB57Ue-GZ"
      },
      "outputs": [],
      "source": [
        "#june.shape"
      ]
    },
    {
      "cell_type": "code",
      "execution_count": 72,
      "metadata": {
        "id": "ONzHhSZRe-Gg"
      },
      "outputs": [],
      "source": [
        "#pd.merge(april,may,how='outer')"
      ]
    },
    {
      "cell_type": "code",
      "execution_count": 73,
      "metadata": {
        "id": "rEvGIRh6e-Gg"
      },
      "outputs": [],
      "source": [
        "#AprMay=pd.merge(april,may,how='outer')"
      ]
    },
    {
      "cell_type": "code",
      "execution_count": 74,
      "metadata": {
        "id": "cr6VC4PNe-Gg"
      },
      "outputs": [],
      "source": [
        "#AprMay.shape"
      ]
    },
    {
      "cell_type": "code",
      "execution_count": 75,
      "metadata": {
        "id": "z_wV9H5_e-Gg"
      },
      "outputs": [],
      "source": [
        "#pd.merge(AprMay,june,how='outer')"
      ]
    },
    {
      "cell_type": "code",
      "execution_count": 76,
      "metadata": {
        "id": "mzh5RmVIe-Gh"
      },
      "outputs": [],
      "source": [
        "#pd.merge(AprMay,june,how='outer')"
      ]
    },
    {
      "cell_type": "code",
      "execution_count": 77,
      "metadata": {
        "id": "N2qdVVxAe-Gh"
      },
      "outputs": [],
      "source": [
        "#SecondQuarter=pd.merge(AprMay,june,how='outer')"
      ]
    },
    {
      "cell_type": "code",
      "execution_count": 78,
      "metadata": {
        "id": "iN0PMrWVe-Gh"
      },
      "outputs": [],
      "source": [
        "#SecondQuarter.shape"
      ]
    },
    {
      "cell_type": "code",
      "execution_count": 78,
      "metadata": {
        "id": "0Ar3CI1Ze-Gh"
      },
      "outputs": [],
      "source": [
        ""
      ]
    }
  ],
  "metadata": {
    "kernelspec": {
      "display_name": "Python 3",
      "language": "python",
      "name": "python3"
    },
    "language_info": {
      "codemirror_mode": {
        "name": "ipython",
        "version": 3
      },
      "file_extension": ".py",
      "mimetype": "text/x-python",
      "name": "python",
      "nbconvert_exporter": "python",
      "pygments_lexer": "ipython3",
      "version": "3.8.3"
    },
    "colab": {
      "name": "Citibike_Analysis.ipynb",
      "provenance": [],
      "collapsed_sections": [],
      "include_colab_link": true
    }
  },
  "nbformat": 4,
  "nbformat_minor": 0
}