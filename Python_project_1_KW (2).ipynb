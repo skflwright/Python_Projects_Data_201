{
  "nbformat": 4,
  "nbformat_minor": 0,
  "metadata": {
    "colab": {
      "name": "Copy of Python_project_1_KW",
      "provenance": [],
      "collapsed_sections": [
        "WRKXOqZPQ47I"
      ]
    },
    "kernelspec": {
      "name": "python3",
      "display_name": "Python 3"
    },
    "language_info": {
      "name": "python"
    }
  },
  "cells": [
    {
      "cell_type": "markdown",
      "source": [
        "# **Python for Data Analytics: Project 1 Assignment**\n",
        "\n",
        "The goal of this project is to analyze student test performance.\n",
        "Pick any school as an initial comparison point\n",
        "Pick a feature/measure/score.\n",
        "Compare the selected school to schools in the entire dataset, schools in a particular borough or schools in a particular district - you need to do only one additional comparison point but could do more.\n",
        "The analysis should include some descriptive statistics.\n",
        "The analysis should include at least one cleaning task.\n",
        "The analysis should include at least one visualization.\n"
      ],
      "metadata": {
        "id": "f3T8UjOnqA8j"
      }
    },
    {
      "cell_type": "code",
      "execution_count": null,
      "metadata": {
        "id": "w3KzhqEtp4aw"
      },
      "outputs": [],
      "source": [
        "import pandas as pd\n",
        "import numpy as np\n",
        "import matplotlib.pyplot as plt\n",
        "%matplotlib inline\n",
        "import seaborn as sns\n",
        "\n",
        "\n"
      ]
    },
    {
      "cell_type": "code",
      "source": [
        "# IMPORT DATA SET\n",
        "df=pd.read_csv(\"https://raw.githubusercontent.com/CunyLaguardiaDataAnalytics/datasets/master/2014-15_To_2016-17_School-_Level_NYC_Regents_Report_For_All_Variables.csv\")\n"
      ],
      "metadata": {
        "id": "To7T-ZfVrrxT"
      },
      "execution_count": null,
      "outputs": []
    },
    {
      "cell_type": "markdown",
      "source": [
        "# **Data Exploration & Upload**"
      ],
      "metadata": {
        "id": "k807yOKx2gFA"
      }
    },
    {
      "cell_type": "code",
      "source": [
        "df.shape"
      ],
      "metadata": {
        "colab": {
          "base_uri": "https://localhost:8080/"
        },
        "id": "TwgUkU55euNX",
        "outputId": "442058a1-ca57-42b4-9341-5e85968c8145"
      },
      "execution_count": null,
      "outputs": [
        {
          "output_type": "execute_result",
          "data": {
            "text/plain": [
              "(212331, 15)"
            ]
          },
          "metadata": {},
          "execution_count": 3
        }
      ]
    },
    {
      "cell_type": "code",
      "source": [
        "df.head(3)"
      ],
      "metadata": {
        "colab": {
          "base_uri": "https://localhost:8080/",
          "height": 326
        },
        "id": "SXS5cX6n21Ay",
        "outputId": "3d60b1a4-0a4d-4034-e21f-97fb53e9a0eb"
      },
      "execution_count": null,
      "outputs": [
        {
          "output_type": "execute_result",
          "data": {
            "text/plain": [
              "  School DBN                     School Name School Level  \\\n",
              "0     01M034  P.S. 034 Franklin D. Roosevelt          K-8   \n",
              "1     01M034  P.S. 034 Franklin D. Roosevelt          K-8   \n",
              "2     01M034  P.S. 034 Franklin D. Roosevelt          K-8   \n",
              "\n",
              "          Regents Exam  Year  Total Tested Mean Score Number Scoring Below 65  \\\n",
              "0  Common Core Algebra  2017             4          s                       s   \n",
              "1   Living Environment  2015            16       77.9                       1   \n",
              "2   Living Environment  2016             9         74                       1   \n",
              "\n",
              "  Percent Scoring Below 65 Number Scoring 65 or Above  \\\n",
              "0                        s                          s   \n",
              "1                      6.3                         15   \n",
              "2                     11.1                          8   \n",
              "\n",
              "  Percent Scoring 65 or Above Number Scoring 80 or Above  \\\n",
              "0                           s                          s   \n",
              "1                        93.8                          7   \n",
              "2                        88.9                          2   \n",
              "\n",
              "  Percent Scoring 80 or Above Number Scoring CR Percent Scoring CR  \n",
              "0                           s                na                 na  \n",
              "1                        43.8                na                 na  \n",
              "2                        22.2                na                 na  "
            ],
            "text/html": [
              "\n",
              "  <div id=\"df-b642e3d7-863f-4bc7-bea1-a90ea57c8e4a\">\n",
              "    <div class=\"colab-df-container\">\n",
              "      <div>\n",
              "<style scoped>\n",
              "    .dataframe tbody tr th:only-of-type {\n",
              "        vertical-align: middle;\n",
              "    }\n",
              "\n",
              "    .dataframe tbody tr th {\n",
              "        vertical-align: top;\n",
              "    }\n",
              "\n",
              "    .dataframe thead th {\n",
              "        text-align: right;\n",
              "    }\n",
              "</style>\n",
              "<table border=\"1\" class=\"dataframe\">\n",
              "  <thead>\n",
              "    <tr style=\"text-align: right;\">\n",
              "      <th></th>\n",
              "      <th>School DBN</th>\n",
              "      <th>School Name</th>\n",
              "      <th>School Level</th>\n",
              "      <th>Regents Exam</th>\n",
              "      <th>Year</th>\n",
              "      <th>Total Tested</th>\n",
              "      <th>Mean Score</th>\n",
              "      <th>Number Scoring Below 65</th>\n",
              "      <th>Percent Scoring Below 65</th>\n",
              "      <th>Number Scoring 65 or Above</th>\n",
              "      <th>Percent Scoring 65 or Above</th>\n",
              "      <th>Number Scoring 80 or Above</th>\n",
              "      <th>Percent Scoring 80 or Above</th>\n",
              "      <th>Number Scoring CR</th>\n",
              "      <th>Percent Scoring CR</th>\n",
              "    </tr>\n",
              "  </thead>\n",
              "  <tbody>\n",
              "    <tr>\n",
              "      <th>0</th>\n",
              "      <td>01M034</td>\n",
              "      <td>P.S. 034 Franklin D. Roosevelt</td>\n",
              "      <td>K-8</td>\n",
              "      <td>Common Core Algebra</td>\n",
              "      <td>2017</td>\n",
              "      <td>4</td>\n",
              "      <td>s</td>\n",
              "      <td>s</td>\n",
              "      <td>s</td>\n",
              "      <td>s</td>\n",
              "      <td>s</td>\n",
              "      <td>s</td>\n",
              "      <td>s</td>\n",
              "      <td>na</td>\n",
              "      <td>na</td>\n",
              "    </tr>\n",
              "    <tr>\n",
              "      <th>1</th>\n",
              "      <td>01M034</td>\n",
              "      <td>P.S. 034 Franklin D. Roosevelt</td>\n",
              "      <td>K-8</td>\n",
              "      <td>Living Environment</td>\n",
              "      <td>2015</td>\n",
              "      <td>16</td>\n",
              "      <td>77.9</td>\n",
              "      <td>1</td>\n",
              "      <td>6.3</td>\n",
              "      <td>15</td>\n",
              "      <td>93.8</td>\n",
              "      <td>7</td>\n",
              "      <td>43.8</td>\n",
              "      <td>na</td>\n",
              "      <td>na</td>\n",
              "    </tr>\n",
              "    <tr>\n",
              "      <th>2</th>\n",
              "      <td>01M034</td>\n",
              "      <td>P.S. 034 Franklin D. Roosevelt</td>\n",
              "      <td>K-8</td>\n",
              "      <td>Living Environment</td>\n",
              "      <td>2016</td>\n",
              "      <td>9</td>\n",
              "      <td>74</td>\n",
              "      <td>1</td>\n",
              "      <td>11.1</td>\n",
              "      <td>8</td>\n",
              "      <td>88.9</td>\n",
              "      <td>2</td>\n",
              "      <td>22.2</td>\n",
              "      <td>na</td>\n",
              "      <td>na</td>\n",
              "    </tr>\n",
              "  </tbody>\n",
              "</table>\n",
              "</div>\n",
              "      <button class=\"colab-df-convert\" onclick=\"convertToInteractive('df-b642e3d7-863f-4bc7-bea1-a90ea57c8e4a')\"\n",
              "              title=\"Convert this dataframe to an interactive table.\"\n",
              "              style=\"display:none;\">\n",
              "        \n",
              "  <svg xmlns=\"http://www.w3.org/2000/svg\" height=\"24px\"viewBox=\"0 0 24 24\"\n",
              "       width=\"24px\">\n",
              "    <path d=\"M0 0h24v24H0V0z\" fill=\"none\"/>\n",
              "    <path d=\"M18.56 5.44l.94 2.06.94-2.06 2.06-.94-2.06-.94-.94-2.06-.94 2.06-2.06.94zm-11 1L8.5 8.5l.94-2.06 2.06-.94-2.06-.94L8.5 2.5l-.94 2.06-2.06.94zm10 10l.94 2.06.94-2.06 2.06-.94-2.06-.94-.94-2.06-.94 2.06-2.06.94z\"/><path d=\"M17.41 7.96l-1.37-1.37c-.4-.4-.92-.59-1.43-.59-.52 0-1.04.2-1.43.59L10.3 9.45l-7.72 7.72c-.78.78-.78 2.05 0 2.83L4 21.41c.39.39.9.59 1.41.59.51 0 1.02-.2 1.41-.59l7.78-7.78 2.81-2.81c.8-.78.8-2.07 0-2.86zM5.41 20L4 18.59l7.72-7.72 1.47 1.35L5.41 20z\"/>\n",
              "  </svg>\n",
              "      </button>\n",
              "      \n",
              "  <style>\n",
              "    .colab-df-container {\n",
              "      display:flex;\n",
              "      flex-wrap:wrap;\n",
              "      gap: 12px;\n",
              "    }\n",
              "\n",
              "    .colab-df-convert {\n",
              "      background-color: #E8F0FE;\n",
              "      border: none;\n",
              "      border-radius: 50%;\n",
              "      cursor: pointer;\n",
              "      display: none;\n",
              "      fill: #1967D2;\n",
              "      height: 32px;\n",
              "      padding: 0 0 0 0;\n",
              "      width: 32px;\n",
              "    }\n",
              "\n",
              "    .colab-df-convert:hover {\n",
              "      background-color: #E2EBFA;\n",
              "      box-shadow: 0px 1px 2px rgba(60, 64, 67, 0.3), 0px 1px 3px 1px rgba(60, 64, 67, 0.15);\n",
              "      fill: #174EA6;\n",
              "    }\n",
              "\n",
              "    [theme=dark] .colab-df-convert {\n",
              "      background-color: #3B4455;\n",
              "      fill: #D2E3FC;\n",
              "    }\n",
              "\n",
              "    [theme=dark] .colab-df-convert:hover {\n",
              "      background-color: #434B5C;\n",
              "      box-shadow: 0px 1px 3px 1px rgba(0, 0, 0, 0.15);\n",
              "      filter: drop-shadow(0px 1px 2px rgba(0, 0, 0, 0.3));\n",
              "      fill: #FFFFFF;\n",
              "    }\n",
              "  </style>\n",
              "\n",
              "      <script>\n",
              "        const buttonEl =\n",
              "          document.querySelector('#df-b642e3d7-863f-4bc7-bea1-a90ea57c8e4a button.colab-df-convert');\n",
              "        buttonEl.style.display =\n",
              "          google.colab.kernel.accessAllowed ? 'block' : 'none';\n",
              "\n",
              "        async function convertToInteractive(key) {\n",
              "          const element = document.querySelector('#df-b642e3d7-863f-4bc7-bea1-a90ea57c8e4a');\n",
              "          const dataTable =\n",
              "            await google.colab.kernel.invokeFunction('convertToInteractive',\n",
              "                                                     [key], {});\n",
              "          if (!dataTable) return;\n",
              "\n",
              "          const docLinkHtml = 'Like what you see? Visit the ' +\n",
              "            '<a target=\"_blank\" href=https://colab.research.google.com/notebooks/data_table.ipynb>data table notebook</a>'\n",
              "            + ' to learn more about interactive tables.';\n",
              "          element.innerHTML = '';\n",
              "          dataTable['output_type'] = 'display_data';\n",
              "          await google.colab.output.renderOutput(dataTable, element);\n",
              "          const docLink = document.createElement('div');\n",
              "          docLink.innerHTML = docLinkHtml;\n",
              "          element.appendChild(docLink);\n",
              "        }\n",
              "      </script>\n",
              "    </div>\n",
              "  </div>\n",
              "  "
            ]
          },
          "metadata": {},
          "execution_count": 4
        }
      ]
    },
    {
      "cell_type": "code",
      "source": [
        "df.tail(3)"
      ],
      "metadata": {
        "colab": {
          "base_uri": "https://localhost:8080/",
          "height": 326
        },
        "id": "nEYjDW2SwYRg",
        "outputId": "d18bca40-4998-4be0-944b-f8d7988f82b5"
      },
      "execution_count": null,
      "outputs": [
        {
          "output_type": "execute_result",
          "data": {
            "text/plain": [
              "       School DBN           School Name School Level  \\\n",
              "212328     84X717  Icahn Charter School          K-8   \n",
              "212329     84X717  Icahn Charter School          K-8   \n",
              "212330     84X717  Icahn Charter School          K-8   \n",
              "\n",
              "                       Regents Exam  Year  Total Tested Mean Score  \\\n",
              "212328           Living Environment  2017             6          s   \n",
              "212329           Living Environment  2017             4          s   \n",
              "212330  U.S. History and Government  2015             1          s   \n",
              "\n",
              "       Number Scoring Below 65 Percent Scoring Below 65  \\\n",
              "212328                       s                        s   \n",
              "212329                       s                        s   \n",
              "212330                       s                        s   \n",
              "\n",
              "       Number Scoring 65 or Above Percent Scoring 65 or Above  \\\n",
              "212328                          s                           s   \n",
              "212329                          s                           s   \n",
              "212330                          s                           s   \n",
              "\n",
              "       Number Scoring 80 or Above Percent Scoring 80 or Above  \\\n",
              "212328                          s                           s   \n",
              "212329                          s                           s   \n",
              "212330                          s                           s   \n",
              "\n",
              "       Number Scoring CR Percent Scoring CR  \n",
              "212328                na                 na  \n",
              "212329                na                 na  \n",
              "212330                na                 na  "
            ],
            "text/html": [
              "\n",
              "  <div id=\"df-81bcbd91-352e-4763-91c6-4cb294fb14d4\">\n",
              "    <div class=\"colab-df-container\">\n",
              "      <div>\n",
              "<style scoped>\n",
              "    .dataframe tbody tr th:only-of-type {\n",
              "        vertical-align: middle;\n",
              "    }\n",
              "\n",
              "    .dataframe tbody tr th {\n",
              "        vertical-align: top;\n",
              "    }\n",
              "\n",
              "    .dataframe thead th {\n",
              "        text-align: right;\n",
              "    }\n",
              "</style>\n",
              "<table border=\"1\" class=\"dataframe\">\n",
              "  <thead>\n",
              "    <tr style=\"text-align: right;\">\n",
              "      <th></th>\n",
              "      <th>School DBN</th>\n",
              "      <th>School Name</th>\n",
              "      <th>School Level</th>\n",
              "      <th>Regents Exam</th>\n",
              "      <th>Year</th>\n",
              "      <th>Total Tested</th>\n",
              "      <th>Mean Score</th>\n",
              "      <th>Number Scoring Below 65</th>\n",
              "      <th>Percent Scoring Below 65</th>\n",
              "      <th>Number Scoring 65 or Above</th>\n",
              "      <th>Percent Scoring 65 or Above</th>\n",
              "      <th>Number Scoring 80 or Above</th>\n",
              "      <th>Percent Scoring 80 or Above</th>\n",
              "      <th>Number Scoring CR</th>\n",
              "      <th>Percent Scoring CR</th>\n",
              "    </tr>\n",
              "  </thead>\n",
              "  <tbody>\n",
              "    <tr>\n",
              "      <th>212328</th>\n",
              "      <td>84X717</td>\n",
              "      <td>Icahn Charter School</td>\n",
              "      <td>K-8</td>\n",
              "      <td>Living Environment</td>\n",
              "      <td>2017</td>\n",
              "      <td>6</td>\n",
              "      <td>s</td>\n",
              "      <td>s</td>\n",
              "      <td>s</td>\n",
              "      <td>s</td>\n",
              "      <td>s</td>\n",
              "      <td>s</td>\n",
              "      <td>s</td>\n",
              "      <td>na</td>\n",
              "      <td>na</td>\n",
              "    </tr>\n",
              "    <tr>\n",
              "      <th>212329</th>\n",
              "      <td>84X717</td>\n",
              "      <td>Icahn Charter School</td>\n",
              "      <td>K-8</td>\n",
              "      <td>Living Environment</td>\n",
              "      <td>2017</td>\n",
              "      <td>4</td>\n",
              "      <td>s</td>\n",
              "      <td>s</td>\n",
              "      <td>s</td>\n",
              "      <td>s</td>\n",
              "      <td>s</td>\n",
              "      <td>s</td>\n",
              "      <td>s</td>\n",
              "      <td>na</td>\n",
              "      <td>na</td>\n",
              "    </tr>\n",
              "    <tr>\n",
              "      <th>212330</th>\n",
              "      <td>84X717</td>\n",
              "      <td>Icahn Charter School</td>\n",
              "      <td>K-8</td>\n",
              "      <td>U.S. History and Government</td>\n",
              "      <td>2015</td>\n",
              "      <td>1</td>\n",
              "      <td>s</td>\n",
              "      <td>s</td>\n",
              "      <td>s</td>\n",
              "      <td>s</td>\n",
              "      <td>s</td>\n",
              "      <td>s</td>\n",
              "      <td>s</td>\n",
              "      <td>na</td>\n",
              "      <td>na</td>\n",
              "    </tr>\n",
              "  </tbody>\n",
              "</table>\n",
              "</div>\n",
              "      <button class=\"colab-df-convert\" onclick=\"convertToInteractive('df-81bcbd91-352e-4763-91c6-4cb294fb14d4')\"\n",
              "              title=\"Convert this dataframe to an interactive table.\"\n",
              "              style=\"display:none;\">\n",
              "        \n",
              "  <svg xmlns=\"http://www.w3.org/2000/svg\" height=\"24px\"viewBox=\"0 0 24 24\"\n",
              "       width=\"24px\">\n",
              "    <path d=\"M0 0h24v24H0V0z\" fill=\"none\"/>\n",
              "    <path d=\"M18.56 5.44l.94 2.06.94-2.06 2.06-.94-2.06-.94-.94-2.06-.94 2.06-2.06.94zm-11 1L8.5 8.5l.94-2.06 2.06-.94-2.06-.94L8.5 2.5l-.94 2.06-2.06.94zm10 10l.94 2.06.94-2.06 2.06-.94-2.06-.94-.94-2.06-.94 2.06-2.06.94z\"/><path d=\"M17.41 7.96l-1.37-1.37c-.4-.4-.92-.59-1.43-.59-.52 0-1.04.2-1.43.59L10.3 9.45l-7.72 7.72c-.78.78-.78 2.05 0 2.83L4 21.41c.39.39.9.59 1.41.59.51 0 1.02-.2 1.41-.59l7.78-7.78 2.81-2.81c.8-.78.8-2.07 0-2.86zM5.41 20L4 18.59l7.72-7.72 1.47 1.35L5.41 20z\"/>\n",
              "  </svg>\n",
              "      </button>\n",
              "      \n",
              "  <style>\n",
              "    .colab-df-container {\n",
              "      display:flex;\n",
              "      flex-wrap:wrap;\n",
              "      gap: 12px;\n",
              "    }\n",
              "\n",
              "    .colab-df-convert {\n",
              "      background-color: #E8F0FE;\n",
              "      border: none;\n",
              "      border-radius: 50%;\n",
              "      cursor: pointer;\n",
              "      display: none;\n",
              "      fill: #1967D2;\n",
              "      height: 32px;\n",
              "      padding: 0 0 0 0;\n",
              "      width: 32px;\n",
              "    }\n",
              "\n",
              "    .colab-df-convert:hover {\n",
              "      background-color: #E2EBFA;\n",
              "      box-shadow: 0px 1px 2px rgba(60, 64, 67, 0.3), 0px 1px 3px 1px rgba(60, 64, 67, 0.15);\n",
              "      fill: #174EA6;\n",
              "    }\n",
              "\n",
              "    [theme=dark] .colab-df-convert {\n",
              "      background-color: #3B4455;\n",
              "      fill: #D2E3FC;\n",
              "    }\n",
              "\n",
              "    [theme=dark] .colab-df-convert:hover {\n",
              "      background-color: #434B5C;\n",
              "      box-shadow: 0px 1px 3px 1px rgba(0, 0, 0, 0.15);\n",
              "      filter: drop-shadow(0px 1px 2px rgba(0, 0, 0, 0.3));\n",
              "      fill: #FFFFFF;\n",
              "    }\n",
              "  </style>\n",
              "\n",
              "      <script>\n",
              "        const buttonEl =\n",
              "          document.querySelector('#df-81bcbd91-352e-4763-91c6-4cb294fb14d4 button.colab-df-convert');\n",
              "        buttonEl.style.display =\n",
              "          google.colab.kernel.accessAllowed ? 'block' : 'none';\n",
              "\n",
              "        async function convertToInteractive(key) {\n",
              "          const element = document.querySelector('#df-81bcbd91-352e-4763-91c6-4cb294fb14d4');\n",
              "          const dataTable =\n",
              "            await google.colab.kernel.invokeFunction('convertToInteractive',\n",
              "                                                     [key], {});\n",
              "          if (!dataTable) return;\n",
              "\n",
              "          const docLinkHtml = 'Like what you see? Visit the ' +\n",
              "            '<a target=\"_blank\" href=https://colab.research.google.com/notebooks/data_table.ipynb>data table notebook</a>'\n",
              "            + ' to learn more about interactive tables.';\n",
              "          element.innerHTML = '';\n",
              "          dataTable['output_type'] = 'display_data';\n",
              "          await google.colab.output.renderOutput(dataTable, element);\n",
              "          const docLink = document.createElement('div');\n",
              "          docLink.innerHTML = docLinkHtml;\n",
              "          element.appendChild(docLink);\n",
              "        }\n",
              "      </script>\n",
              "    </div>\n",
              "  </div>\n",
              "  "
            ]
          },
          "metadata": {},
          "execution_count": 5
        }
      ]
    },
    {
      "cell_type": "markdown",
      "source": [
        "**The Data:**\n",
        "\n",
        "This data reflects the scores of students taking high-school level Regents exams, though students do take them in 8th grade (hence the inclusion of K-8 category schools).  \n",
        "\n",
        "Grades for each of category of Regents were taken over the years 2015-2017 in June and then aggregated into the number of students scoring above or below 65 or over 80. \n",
        "\n",
        "The following analysis will compare Regents and college readiness scores for Beacon High School to all schools in Manhattan and all high schools in NYC for the year 2016 (While a greater number of tests was taken in 2015, there were no Math scores for Beacon 2015).  "
      ],
      "metadata": {
        "id": "cdLOpUeVyXIR"
      }
    },
    {
      "cell_type": "markdown",
      "source": [
        "**Data Source**\n",
        "\n",
        "The Data is taken from NYC Open Gov's 2014-15 To 2016-17 School- Level NYC Regents Report For All Variables report: (https://data.cityofnewyork.us/Education/2014-15-To-2016-17-School-Level-NYC-Regents-Report/csps-2ne9)\n",
        "\n",
        "**Data Dictionary:**\n",
        "\n",
        "The following information can be found at: https://data.cityofnewyork.us/api/views/csps-2ne9/files/3db3f2bd-d8d4-4ab2-b746-42fc56118066?download=true&filename=2014-15_To_2016-17_School_Level_NYC_Regents_Report_For_All_Variables.xlsx\n",
        "\n",
        "1) Testing and score data includes all administrations of the Regents exam: January, June, and August. It reports the highest score for each student for \n",
        "each Regents exam for each school year. Non-numeric marks are dropped from the data.  \n",
        "\n",
        "2) Due to ongoing updates to the data, including late uploads of Regents scores from prior test administrations, the numbers reported will likely change in subsequent years' reports.\n",
        "\n",
        "3) School DBNs are as of  June 30th for each school year. \n",
        "\n",
        "4) Pursuant to the legislation and in accordance with the Family Educational Rights and Privacy Act (FERPA), rows with 5 or fewer students have been replaced with an \"s\". In addition, other rows have been replaced with an \"s\" when they could reveal, through addition or subtraction, the underlying numbers that have been redacted.\n",
        "\n",
        "5) CR: College & career readiness scores only apply to ELA and Math exams. The CR benchmarks on Regents exams include:\n",
        "     - English Regents exam score of 75+\n",
        "     - Any Math Regents exam score of 80+\n",
        "     - Common Core-aligned Algebra I or Geometry Regents exam score of 70+ or Algebra II/Trigonometry exam score of 65+\n",
        "\n",
        "6) Students with disabilities are defined as any child receiving an IEP as of the end of the school year.\n",
        "\n",
        "7) Data on students with disabilities and English language learners are as of June 30th for each school year.\n",
        "\n",
        "8) Multiple Race Categories Not Represented columns includes students who do not report their race, as well as students reported as Native American or Multi-Racial."
      ],
      "metadata": {
        "id": "z1PPLVvbSVz6"
      }
    },
    {
      "cell_type": "code",
      "source": [
        "df.columns"
      ],
      "metadata": {
        "colab": {
          "base_uri": "https://localhost:8080/"
        },
        "id": "OxwpVWuG1d9K",
        "outputId": "6f7a86a8-8e0e-4db1-b34c-49291eba5f32"
      },
      "execution_count": null,
      "outputs": [
        {
          "output_type": "execute_result",
          "data": {
            "text/plain": [
              "Index(['School DBN', 'School Name', 'School Level', 'Regents Exam', 'Year',\n",
              "       'Total Tested', 'Mean Score', 'Number Scoring Below 65',\n",
              "       'Percent Scoring Below 65', 'Number Scoring 65 or Above',\n",
              "       'Percent Scoring 65 or Above', 'Number Scoring 80 or Above',\n",
              "       'Percent Scoring 80 or Above', 'Number Scoring CR',\n",
              "       'Percent Scoring CR'],\n",
              "      dtype='object')"
            ]
          },
          "metadata": {},
          "execution_count": 6
        }
      ]
    },
    {
      "cell_type": "markdown",
      "source": [
        "All of the columns have the same number of entries and only teh Year and Total Tested are dtype Int. The remaining columns are listed as objects, which will need to be changed for descriptive analysis. "
      ],
      "metadata": {
        "id": "UMW3zPRdEWBk"
      }
    },
    {
      "cell_type": "code",
      "source": [
        "df.info() \n",
        "#No need for df.count().\n"
      ],
      "metadata": {
        "colab": {
          "base_uri": "https://localhost:8080/"
        },
        "id": "g_HW-zQBvqvc",
        "outputId": "fe91233d-b633-40df-dbf7-e430b09b6196"
      },
      "execution_count": null,
      "outputs": [
        {
          "output_type": "stream",
          "name": "stdout",
          "text": [
            "<class 'pandas.core.frame.DataFrame'>\n",
            "RangeIndex: 212331 entries, 0 to 212330\n",
            "Data columns (total 15 columns):\n",
            " #   Column                       Non-Null Count   Dtype \n",
            "---  ------                       --------------   ----- \n",
            " 0   School DBN                   212331 non-null  object\n",
            " 1   School Name                  212331 non-null  object\n",
            " 2   School Level                 212331 non-null  object\n",
            " 3   Regents Exam                 212321 non-null  object\n",
            " 4   Year                         212331 non-null  int64 \n",
            " 5   Total Tested                 212331 non-null  int64 \n",
            " 6   Mean Score                   212331 non-null  object\n",
            " 7   Number Scoring Below 65      212331 non-null  object\n",
            " 8   Percent Scoring Below 65     212331 non-null  object\n",
            " 9   Number Scoring 65 or Above   212331 non-null  object\n",
            " 10  Percent Scoring 65 or Above  212331 non-null  object\n",
            " 11  Number Scoring 80 or Above   212331 non-null  object\n",
            " 12  Percent Scoring 80 or Above  212331 non-null  object\n",
            " 13  Number Scoring CR            212331 non-null  object\n",
            " 14  Percent Scoring CR           212331 non-null  object\n",
            "dtypes: int64(2), object(13)\n",
            "memory usage: 24.3+ MB\n"
          ]
        }
      ]
    },
    {
      "cell_type": "markdown",
      "source": [
        "#**Data Cleaning**\n",
        "\n",
        "To clean the data, I first eliminated the columns I would not be using, including all percent data as these could be extracted from the number data.\n",
        "\n",
        "Rather than impute the \"s\" values with an average number between 1-5, I chose to eliminate the rows with \"s\" or \"na\" because a good number of schools with less than five students taking the test entered the actual number, suggesting that a significant number of the 's' entries might well represent redacted data. To avoid any bias that might affect the performance results of those students that did test and those schools who did correctly include the data, I included and analyzed only completed data provided. "
      ],
      "metadata": {
        "id": "tpox_zVT4SQj"
      }
    },
    {
      "cell_type": "code",
      "source": [
        "sns.heatmap(df.isnull(),cbar=True, vmin=0, vmax=.3) #data visualization shows no missing values"
      ],
      "metadata": {
        "id": "C4-nSaYjcQS4",
        "colab": {
          "base_uri": "https://localhost:8080/",
          "height": 422
        },
        "outputId": "89332e7c-f401-4e1b-b234-3c78232f60fc"
      },
      "execution_count": null,
      "outputs": [
        {
          "output_type": "execute_result",
          "data": {
            "text/plain": [
              "<matplotlib.axes._subplots.AxesSubplot at 0x7fec73432810>"
            ]
          },
          "metadata": {},
          "execution_count": 8
        },
        {
          "output_type": "display_data",
          "data": {
            "text/plain": [
              "<Figure size 432x288 with 2 Axes>"
            ],
            "image/png": "[encoded data removed]"
          },
          "metadata": {
            "needs_background": "light"
          }
        }
      ]
    },
    {
      "cell_type": "markdown",
      "source": [
        "Deleted Columns not used for this analysis include the percentage figures based on the numbers provided, which are outlined in the drop_cols cell."
      ],
      "metadata": {
        "id": "NG0ySbZ8bul5"
      }
    },
    {
      "cell_type": "code",
      "source": [
        "#Delete columns not used for this analysis.\n",
        "drop_cols = ['Percent Scoring Below 65','Percent Scoring 65 or Above','Percent Scoring 80 or Above','Percent Scoring CR']\n",
        "df.drop(drop_cols, inplace=True, axis=1)"
      ],
      "metadata": {
        "id": "_V5QmHrDp-oS"
      },
      "execution_count": null,
      "outputs": []
    },
    {
      "cell_type": "code",
      "source": [
        "drop_cols"
      ],
      "metadata": {
        "colab": {
          "base_uri": "https://localhost:8080/"
        },
        "id": "7QvvpImYEXvg",
        "outputId": "c31c0cf9-8e4b-44ba-ccf4-b043f3016753"
      },
      "execution_count": null,
      "outputs": [
        {
          "output_type": "execute_result",
          "data": {
            "text/plain": [
              "['Percent Scoring Below 65',\n",
              " 'Percent Scoring 65 or Above',\n",
              " 'Percent Scoring 80 or Above',\n",
              " 'Percent Scoring CR']"
            ]
          },
          "metadata": {},
          "execution_count": 10
        }
      ]
    },
    {
      "cell_type": "code",
      "source": [
        "df.columns"
      ],
      "metadata": {
        "colab": {
          "base_uri": "https://localhost:8080/"
        },
        "id": "wLcqpgd-tJL2",
        "outputId": "faf44ad0-93eb-46b6-b2da-edea6b634c86"
      },
      "execution_count": null,
      "outputs": [
        {
          "output_type": "execute_result",
          "data": {
            "text/plain": [
              "Index(['School DBN', 'School Name', 'School Level', 'Regents Exam', 'Year',\n",
              "       'Total Tested', 'Mean Score', 'Number Scoring Below 65',\n",
              "       'Number Scoring 65 or Above', 'Number Scoring 80 or Above',\n",
              "       'Number Scoring CR'],\n",
              "      dtype='object')"
            ]
          },
          "metadata": {},
          "execution_count": 11
        }
      ]
    },
    {
      "cell_type": "markdown",
      "source": [
        "**NOTE: Significant Data Loss Due to Missing or Non-classifiable Data.**\n",
        "\n",
        "Given that the 's' values can represent 5 or fewer test takers OR redacted grades and that it was not possible to access the source data or uncover which 's' classified cells belonged to which category, I removed them from the analysis. Following, the reader will note that 75,222 rows of data were removed due to the 's' classification. However, mean or median imputing those cells with data would run the risk of biasing or skewing the data and data analysis. "
      ],
      "metadata": {
        "id": "_2yU4pvecDUW"
      }
    },
    {
      "cell_type": "code",
      "source": [
        "#Get rid of 's' entries NOTE: You could also create list of missing values as per Lecture 6 but I did this before that\n",
        "#and don't want to mess with what is already done!\n",
        "df = df[(df[\"Mean Score\"].str.contains(\"s\") == False) & (df[\"Number Scoring Below 65\"].str.contains(\"s\")==False)&(df[\"Number Scoring 65 or Above\"].str.contains(\"s\")==False) &(df[\"Number Scoring 80 or Above\"].str.contains(\"s\")==False)&(df[\"Number Scoring CR\"].str.contains(\"s\")==False)]\n",
        "df.head(10) #displaying more rows to see if anything else (like \"na\") occurring.\n",
        "\n",
        "\n"
      ],
      "metadata": {
        "id": "lzISVfekh5Ns",
        "colab": {
          "base_uri": "https://localhost:8080/",
          "height": 528
        },
        "outputId": "7411440f-d221-4785-b8ac-1249321526e7"
      },
      "execution_count": null,
      "outputs": [
        {
          "output_type": "execute_result",
          "data": {
            "text/plain": [
              "   School DBN                     School Name School Level  \\\n",
              "1      01M034  P.S. 034 Franklin D. Roosevelt          K-8   \n",
              "2      01M034  P.S. 034 Franklin D. Roosevelt          K-8   \n",
              "5      01M140          P.S. 140 Nathan Straus          K-8   \n",
              "6      01M140          P.S. 140 Nathan Straus          K-8   \n",
              "7      01M140          P.S. 140 Nathan Straus          K-8   \n",
              "8      01M184            P.S. 184m Shuang Wen          K-8   \n",
              "9      01M184            P.S. 184m Shuang Wen          K-8   \n",
              "10     01M184            P.S. 184m Shuang Wen          K-8   \n",
              "11     01M184            P.S. 184m Shuang Wen          K-8   \n",
              "12     01M188      P.S. 188 The Island School          K-8   \n",
              "\n",
              "           Regents Exam  Year  Total Tested Mean Score  \\\n",
              "1    Living Environment  2015            16       77.9   \n",
              "2    Living Environment  2016             9         74   \n",
              "5    Living Environment  2015             9       67.4   \n",
              "6    Living Environment  2016            15       72.6   \n",
              "7    Living Environment  2017             9       64.4   \n",
              "8   Common Core Algebra  2015            49       78.4   \n",
              "9   Common Core Algebra  2016            51         79   \n",
              "10  Common Core Algebra  2017            51       84.8   \n",
              "11   Living Environment  2017            55       83.9   \n",
              "12  Common Core Algebra  2015            23       62.9   \n",
              "\n",
              "   Number Scoring Below 65 Number Scoring 65 or Above  \\\n",
              "1                        1                         15   \n",
              "2                        1                          8   \n",
              "5                        3                          6   \n",
              "6                        2                         13   \n",
              "7                        5                          4   \n",
              "8                        1                         48   \n",
              "9                        9                         42   \n",
              "10                       0                         51   \n",
              "11                       1                         54   \n",
              "12                      14                          9   \n",
              "\n",
              "   Number Scoring 80 or Above Number Scoring CR  \n",
              "1                           7                na  \n",
              "2                           2                na  \n",
              "5                           0                na  \n",
              "6                           5                na  \n",
              "7                           1                na  \n",
              "8                          23                48  \n",
              "9                          33                40  \n",
              "10                         44                50  \n",
              "11                         43                na  \n",
              "12                          0                 2  "
            ],
            "text/html": [
              "\n",
              "  <div id=\"df-7d3c4f73-8351-4978-991d-f27fb40b0fc0\">\n",
              "    <div class=\"colab-df-container\">\n",
              "      <div>\n",
              "<style scoped>\n",
              "    .dataframe tbody tr th:only-of-type {\n",
              "        vertical-align: middle;\n",
              "    }\n",
              "\n",
              "    .dataframe tbody tr th {\n",
              "        vertical-align: top;\n",
              "    }\n",
              "\n",
              "    .dataframe thead th {\n",
              "        text-align: right;\n",
              "    }\n",
              "</style>\n",
              "<table border=\"1\" class=\"dataframe\">\n",
              "  <thead>\n",
              "    <tr style=\"text-align: right;\">\n",
              "      <th></th>\n",
              "      <th>School DBN</th>\n",
              "      <th>School Name</th>\n",
              "      <th>School Level</th>\n",
              "      <th>Regents Exam</th>\n",
              "      <th>Year</th>\n",
              "      <th>Total Tested</th>\n",
              "      <th>Mean Score</th>\n",
              "      <th>Number Scoring Below 65</th>\n",
              "      <th>Number Scoring 65 or Above</th>\n",
              "      <th>Number Scoring 80 or Above</th>\n",
              "      <th>Number Scoring CR</th>\n",
              "    </tr>\n",
              "  </thead>\n",
              "  <tbody>\n",
              "    <tr>\n",
              "      <th>1</th>\n",
              "      <td>01M034</td>\n",
              "      <td>P.S. 034 Franklin D. Roosevelt</td>\n",
              "      <td>K-8</td>\n",
              "      <td>Living Environment</td>\n",
              "      <td>2015</td>\n",
              "      <td>16</td>\n",
              "      <td>77.9</td>\n",
              "      <td>1</td>\n",
              "      <td>15</td>\n",
              "      <td>7</td>\n",
              "      <td>na</td>\n",
              "    </tr>\n",
              "    <tr>\n",
              "      <th>2</th>\n",
              "      <td>01M034</td>\n",
              "      <td>P.S. 034 Franklin D. Roosevelt</td>\n",
              "      <td>K-8</td>\n",
              "      <td>Living Environment</td>\n",
              "      <td>2016</td>\n",
              "      <td>9</td>\n",
              "      <td>74</td>\n",
              "      <td>1</td>\n",
              "      <td>8</td>\n",
              "      <td>2</td>\n",
              "      <td>na</td>\n",
              "    </tr>\n",
              "    <tr>\n",
              "      <th>5</th>\n",
              "      <td>01M140</td>\n",
              "      <td>P.S. 140 Nathan Straus</td>\n",
              "      <td>K-8</td>\n",
              "      <td>Living Environment</td>\n",
              "      <td>2015</td>\n",
              "      <td>9</td>\n",
              "      <td>67.4</td>\n",
              "      <td>3</td>\n",
              "      <td>6</td>\n",
              "      <td>0</td>\n",
              "      <td>na</td>\n",
              "    </tr>\n",
              "    <tr>\n",
              "      <th>6</th>\n",
              "      <td>01M140</td>\n",
              "      <td>P.S. 140 Nathan Straus</td>\n",
              "      <td>K-8</td>\n",
              "      <td>Living Environment</td>\n",
              "      <td>2016</td>\n",
              "      <td>15</td>\n",
              "      <td>72.6</td>\n",
              "      <td>2</td>\n",
              "      <td>13</td>\n",
              "      <td>5</td>\n",
              "      <td>na</td>\n",
              "    </tr>\n",
              "    <tr>\n",
              "      <th>7</th>\n",
              "      <td>01M140</td>\n",
              "      <td>P.S. 140 Nathan Straus</td>\n",
              "      <td>K-8</td>\n",
              "      <td>Living Environment</td>\n",
              "      <td>2017</td>\n",
              "      <td>9</td>\n",
              "      <td>64.4</td>\n",
              "      <td>5</td>\n",
              "      <td>4</td>\n",
              "      <td>1</td>\n",
              "      <td>na</td>\n",
              "    </tr>\n",
              "    <tr>\n",
              "      <th>8</th>\n",
              "      <td>01M184</td>\n",
              "      <td>P.S. 184m Shuang Wen</td>\n",
              "      <td>K-8</td>\n",
              "      <td>Common Core Algebra</td>\n",
              "      <td>2015</td>\n",
              "      <td>49</td>\n",
              "      <td>78.4</td>\n",
              "      <td>1</td>\n",
              "      <td>48</td>\n",
              "      <td>23</td>\n",
              "      <td>48</td>\n",
              "    </tr>\n",
              "    <tr>\n",
              "      <th>9</th>\n",
              "      <td>01M184</td>\n",
              "      <td>P.S. 184m Shuang Wen</td>\n",
              "      <td>K-8</td>\n",
              "      <td>Common Core Algebra</td>\n",
              "      <td>2016</td>\n",
              "      <td>51</td>\n",
              "      <td>79</td>\n",
              "      <td>9</td>\n",
              "      <td>42</td>\n",
              "      <td>33</td>\n",
              "      <td>40</td>\n",
              "    </tr>\n",
              "    <tr>\n",
              "      <th>10</th>\n",
              "      <td>01M184</td>\n",
              "      <td>P.S. 184m Shuang Wen</td>\n",
              "      <td>K-8</td>\n",
              "      <td>Common Core Algebra</td>\n",
              "      <td>2017</td>\n",
              "      <td>51</td>\n",
              "      <td>84.8</td>\n",
              "      <td>0</td>\n",
              "      <td>51</td>\n",
              "      <td>44</td>\n",
              "      <td>50</td>\n",
              "    </tr>\n",
              "    <tr>\n",
              "      <th>11</th>\n",
              "      <td>01M184</td>\n",
              "      <td>P.S. 184m Shuang Wen</td>\n",
              "      <td>K-8</td>\n",
              "      <td>Living Environment</td>\n",
              "      <td>2017</td>\n",
              "      <td>55</td>\n",
              "      <td>83.9</td>\n",
              "      <td>1</td>\n",
              "      <td>54</td>\n",
              "      <td>43</td>\n",
              "      <td>na</td>\n",
              "    </tr>\n",
              "    <tr>\n",
              "      <th>12</th>\n",
              "      <td>01M188</td>\n",
              "      <td>P.S. 188 The Island School</td>\n",
              "      <td>K-8</td>\n",
              "      <td>Common Core Algebra</td>\n",
              "      <td>2015</td>\n",
              "      <td>23</td>\n",
              "      <td>62.9</td>\n",
              "      <td>14</td>\n",
              "      <td>9</td>\n",
              "      <td>0</td>\n",
              "      <td>2</td>\n",
              "    </tr>\n",
              "  </tbody>\n",
              "</table>\n",
              "</div>\n",
              "      <button class=\"colab-df-convert\" onclick=\"convertToInteractive('df-7d3c4f73-8351-4978-991d-f27fb40b0fc0')\"\n",
              "              title=\"Convert this dataframe to an interactive table.\"\n",
              "              style=\"display:none;\">\n",
              "        \n",
              "  <svg xmlns=\"http://www.w3.org/2000/svg\" height=\"24px\"viewBox=\"0 0 24 24\"\n",
              "       width=\"24px\">\n",
              "    <path d=\"M0 0h24v24H0V0z\" fill=\"none\"/>\n",
              "    <path d=\"M18.56 5.44l.94 2.06.94-2.06 2.06-.94-2.06-.94-.94-2.06-.94 2.06-2.06.94zm-11 1L8.5 8.5l.94-2.06 2.06-.94-2.06-.94L8.5 2.5l-.94 2.06-2.06.94zm10 10l.94 2.06.94-2.06 2.06-.94-2.06-.94-.94-2.06-.94 2.06-2.06.94z\"/><path d=\"M17.41 7.96l-1.37-1.37c-.4-.4-.92-.59-1.43-.59-.52 0-1.04.2-1.43.59L10.3 9.45l-7.72 7.72c-.78.78-.78 2.05 0 2.83L4 21.41c.39.39.9.59 1.41.59.51 0 1.02-.2 1.41-.59l7.78-7.78 2.81-2.81c.8-.78.8-2.07 0-2.86zM5.41 20L4 18.59l7.72-7.72 1.47 1.35L5.41 20z\"/>\n",
              "  </svg>\n",
              "      </button>\n",
              "      \n",
              "  <style>\n",
              "    .colab-df-container {\n",
              "      display:flex;\n",
              "      flex-wrap:wrap;\n",
              "      gap: 12px;\n",
              "    }\n",
              "\n",
              "    .colab-df-convert {\n",
              "      background-color: #E8F0FE;\n",
              "      border: none;\n",
              "      border-radius: 50%;\n",
              "      cursor: pointer;\n",
              "      display: none;\n",
              "      fill: #1967D2;\n",
              "      height: 32px;\n",
              "      padding: 0 0 0 0;\n",
              "      width: 32px;\n",
              "    }\n",
              "\n",
              "    .colab-df-convert:hover {\n",
              "      background-color: #E2EBFA;\n",
              "      box-shadow: 0px 1px 2px rgba(60, 64, 67, 0.3), 0px 1px 3px 1px rgba(60, 64, 67, 0.15);\n",
              "      fill: #174EA6;\n",
              "    }\n",
              "\n",
              "    [theme=dark] .colab-df-convert {\n",
              "      background-color: #3B4455;\n",
              "      fill: #D2E3FC;\n",
              "    }\n",
              "\n",
              "    [theme=dark] .colab-df-convert:hover {\n",
              "      background-color: #434B5C;\n",
              "      box-shadow: 0px 1px 3px 1px rgba(0, 0, 0, 0.15);\n",
              "      filter: drop-shadow(0px 1px 2px rgba(0, 0, 0, 0.3));\n",
              "      fill: #FFFFFF;\n",
              "    }\n",
              "  </style>\n",
              "\n",
              "      <script>\n",
              "        const buttonEl =\n",
              "          document.querySelector('#df-7d3c4f73-8351-4978-991d-f27fb40b0fc0 button.colab-df-convert');\n",
              "        buttonEl.style.display =\n",
              "          google.colab.kernel.accessAllowed ? 'block' : 'none';\n",
              "\n",
              "        async function convertToInteractive(key) {\n",
              "          const element = document.querySelector('#df-7d3c4f73-8351-4978-991d-f27fb40b0fc0');\n",
              "          const dataTable =\n",
              "            await google.colab.kernel.invokeFunction('convertToInteractive',\n",
              "                                                     [key], {});\n",
              "          if (!dataTable) return;\n",
              "\n",
              "          const docLinkHtml = 'Like what you see? Visit the ' +\n",
              "            '<a target=\"_blank\" href=https://colab.research.google.com/notebooks/data_table.ipynb>data table notebook</a>'\n",
              "            + ' to learn more about interactive tables.';\n",
              "          element.innerHTML = '';\n",
              "          dataTable['output_type'] = 'display_data';\n",
              "          await google.colab.output.renderOutput(dataTable, element);\n",
              "          const docLink = document.createElement('div');\n",
              "          docLink.innerHTML = docLinkHtml;\n",
              "          element.appendChild(docLink);\n",
              "        }\n",
              "      </script>\n",
              "    </div>\n",
              "  </div>\n",
              "  "
            ]
          },
          "metadata": {},
          "execution_count": 12
        }
      ]
    },
    {
      "cell_type": "code",
      "source": [
        "df.shape #Removing 'na' entries reduced the number of rows by an additional 67,518! \n",
        "#Someone needs to talk to the data managers in charge of school Regents data entry!\n"
      ],
      "metadata": {
        "colab": {
          "base_uri": "https://localhost:8080/"
        },
        "id": "Mqr2L30cSVkE",
        "outputId": "f47faebc-3388-45b1-b00f-7d4a6a08c218"
      },
      "execution_count": null,
      "outputs": [
        {
          "output_type": "execute_result",
          "data": {
            "text/plain": [
              "(137109, 11)"
            ]
          },
          "metadata": {},
          "execution_count": 13
        }
      ]
    },
    {
      "cell_type": "code",
      "source": [
        "#Get rid of cells containing \"na\"\n",
        "df = df[(df[\"Mean Score\"].str.contains(\"na\") == False) & (df[\"Number Scoring Below 65\"].str.contains(\"na\")==False)&(df[\"Number Scoring 65 or Above\"].str.contains(\"na\")==False) &(df[\"Number Scoring 80 or Above\"].str.contains(\"na\")==False)&(df[\"Number Scoring CR\"].str.contains(\"na\")==False)]\n",
        "df.head(10)"
      ],
      "metadata": {
        "colab": {
          "base_uri": "https://localhost:8080/",
          "height": 598
        },
        "id": "8hCbh0xXHy0f",
        "outputId": "3e04445e-7f76-479f-a0da-d10592c244ad"
      },
      "execution_count": null,
      "outputs": [
        {
          "output_type": "execute_result",
          "data": {
            "text/plain": [
              "   School DBN                 School Name School Level          Regents Exam  \\\n",
              "8      01M184        P.S. 184m Shuang Wen          K-8   Common Core Algebra   \n",
              "9      01M184        P.S. 184m Shuang Wen          K-8   Common Core Algebra   \n",
              "10     01M184        P.S. 184m Shuang Wen          K-8   Common Core Algebra   \n",
              "12     01M188  P.S. 188 The Island School          K-8   Common Core Algebra   \n",
              "13     01M188  P.S. 188 The Island School          K-8   Common Core Algebra   \n",
              "14     01M188  P.S. 188 The Island School          K-8   Common Core Algebra   \n",
              "20     01M292  Orchard Collegiate Academy  High school   Common Core Algebra   \n",
              "21     01M292  Orchard Collegiate Academy  High school   Common Core Algebra   \n",
              "22     01M292  Orchard Collegiate Academy  High school   Common Core Algebra   \n",
              "23     01M292  Orchard Collegiate Academy  High school  Common Core Algebra2   \n",
              "\n",
              "    Year  Total Tested Mean Score Number Scoring Below 65  \\\n",
              "8   2015            49       78.4                       1   \n",
              "9   2016            51         79                       9   \n",
              "10  2017            51       84.8                       0   \n",
              "12  2015            23       62.9                      14   \n",
              "13  2016            22         69                       6   \n",
              "14  2017            20       67.4                       7   \n",
              "20  2015            12       52.3                      11   \n",
              "21  2016            50       63.9                      25   \n",
              "22  2017            53       67.5                      15   \n",
              "23  2016             6         48                       6   \n",
              "\n",
              "   Number Scoring 65 or Above Number Scoring 80 or Above Number Scoring CR  \n",
              "8                          48                         23                48  \n",
              "9                          42                         33                40  \n",
              "10                         51                         44                50  \n",
              "12                          9                          0                 2  \n",
              "13                         16                          2                15  \n",
              "14                         13                          1                10  \n",
              "20                          1                          0                 0  \n",
              "21                         25                          3                15  \n",
              "22                         38                          6                29  \n",
              "23                          0                          0                 0  "
            ],
            "text/html": [
              "\n",
              "  <div id=\"df-f2109de2-3196-4a8c-b541-c91fa2ee90ed\">\n",
              "    <div class=\"colab-df-container\">\n",
              "      <div>\n",
              "<style scoped>\n",
              "    .dataframe tbody tr th:only-of-type {\n",
              "        vertical-align: middle;\n",
              "    }\n",
              "\n",
              "    .dataframe tbody tr th {\n",
              "        vertical-align: top;\n",
              "    }\n",
              "\n",
              "    .dataframe thead th {\n",
              "        text-align: right;\n",
              "    }\n",
              "</style>\n",
              "<table border=\"1\" class=\"dataframe\">\n",
              "  <thead>\n",
              "    <tr style=\"text-align: right;\">\n",
              "      <th></th>\n",
              "      <th>School DBN</th>\n",
              "      <th>School Name</th>\n",
              "      <th>School Level</th>\n",
              "      <th>Regents Exam</th>\n",
              "      <th>Year</th>\n",
              "      <th>Total Tested</th>\n",
              "      <th>Mean Score</th>\n",
              "      <th>Number Scoring Below 65</th>\n",
              "      <th>Number Scoring 65 or Above</th>\n",
              "      <th>Number Scoring 80 or Above</th>\n",
              "      <th>Number Scoring CR</th>\n",
              "    </tr>\n",
              "  </thead>\n",
              "  <tbody>\n",
              "    <tr>\n",
              "      <th>8</th>\n",
              "      <td>01M184</td>\n",
              "      <td>P.S. 184m Shuang Wen</td>\n",
              "      <td>K-8</td>\n",
              "      <td>Common Core Algebra</td>\n",
              "      <td>2015</td>\n",
              "      <td>49</td>\n",
              "      <td>78.4</td>\n",
              "      <td>1</td>\n",
              "      <td>48</td>\n",
              "      <td>23</td>\n",
              "      <td>48</td>\n",
              "    </tr>\n",
              "    <tr>\n",
              "      <th>9</th>\n",
              "      <td>01M184</td>\n",
              "      <td>P.S. 184m Shuang Wen</td>\n",
              "      <td>K-8</td>\n",
              "      <td>Common Core Algebra</td>\n",
              "      <td>2016</td>\n",
              "      <td>51</td>\n",
              "      <td>79</td>\n",
              "      <td>9</td>\n",
              "      <td>42</td>\n",
              "      <td>33</td>\n",
              "      <td>40</td>\n",
              "    </tr>\n",
              "    <tr>\n",
              "      <th>10</th>\n",
              "      <td>01M184</td>\n",
              "      <td>P.S. 184m Shuang Wen</td>\n",
              "      <td>K-8</td>\n",
              "      <td>Common Core Algebra</td>\n",
              "      <td>2017</td>\n",
              "      <td>51</td>\n",
              "      <td>84.8</td>\n",
              "      <td>0</td>\n",
              "      <td>51</td>\n",
              "      <td>44</td>\n",
              "      <td>50</td>\n",
              "    </tr>\n",
              "    <tr>\n",
              "      <th>12</th>\n",
              "      <td>01M188</td>\n",
              "      <td>P.S. 188 The Island School</td>\n",
              "      <td>K-8</td>\n",
              "      <td>Common Core Algebra</td>\n",
              "      <td>2015</td>\n",
              "      <td>23</td>\n",
              "      <td>62.9</td>\n",
              "      <td>14</td>\n",
              "      <td>9</td>\n",
              "      <td>0</td>\n",
              "      <td>2</td>\n",
              "    </tr>\n",
              "    <tr>\n",
              "      <th>13</th>\n",
              "      <td>01M188</td>\n",
              "      <td>P.S. 188 The Island School</td>\n",
              "      <td>K-8</td>\n",
              "      <td>Common Core Algebra</td>\n",
              "      <td>2016</td>\n",
              "      <td>22</td>\n",
              "      <td>69</td>\n",
              "      <td>6</td>\n",
              "      <td>16</td>\n",
              "      <td>2</td>\n",
              "      <td>15</td>\n",
              "    </tr>\n",
              "    <tr>\n",
              "      <th>14</th>\n",
              "      <td>01M188</td>\n",
              "      <td>P.S. 188 The Island School</td>\n",
              "      <td>K-8</td>\n",
              "      <td>Common Core Algebra</td>\n",
              "      <td>2017</td>\n",
              "      <td>20</td>\n",
              "      <td>67.4</td>\n",
              "      <td>7</td>\n",
              "      <td>13</td>\n",
              "      <td>1</td>\n",
              "      <td>10</td>\n",
              "    </tr>\n",
              "    <tr>\n",
              "      <th>20</th>\n",
              "      <td>01M292</td>\n",
              "      <td>Orchard Collegiate Academy</td>\n",
              "      <td>High school</td>\n",
              "      <td>Common Core Algebra</td>\n",
              "      <td>2015</td>\n",
              "      <td>12</td>\n",
              "      <td>52.3</td>\n",
              "      <td>11</td>\n",
              "      <td>1</td>\n",
              "      <td>0</td>\n",
              "      <td>0</td>\n",
              "    </tr>\n",
              "    <tr>\n",
              "      <th>21</th>\n",
              "      <td>01M292</td>\n",
              "      <td>Orchard Collegiate Academy</td>\n",
              "      <td>High school</td>\n",
              "      <td>Common Core Algebra</td>\n",
              "      <td>2016</td>\n",
              "      <td>50</td>\n",
              "      <td>63.9</td>\n",
              "      <td>25</td>\n",
              "      <td>25</td>\n",
              "      <td>3</td>\n",
              "      <td>15</td>\n",
              "    </tr>\n",
              "    <tr>\n",
              "      <th>22</th>\n",
              "      <td>01M292</td>\n",
              "      <td>Orchard Collegiate Academy</td>\n",
              "      <td>High school</td>\n",
              "      <td>Common Core Algebra</td>\n",
              "      <td>2017</td>\n",
              "      <td>53</td>\n",
              "      <td>67.5</td>\n",
              "      <td>15</td>\n",
              "      <td>38</td>\n",
              "      <td>6</td>\n",
              "      <td>29</td>\n",
              "    </tr>\n",
              "    <tr>\n",
              "      <th>23</th>\n",
              "      <td>01M292</td>\n",
              "      <td>Orchard Collegiate Academy</td>\n",
              "      <td>High school</td>\n",
              "      <td>Common Core Algebra2</td>\n",
              "      <td>2016</td>\n",
              "      <td>6</td>\n",
              "      <td>48</td>\n",
              "      <td>6</td>\n",
              "      <td>0</td>\n",
              "      <td>0</td>\n",
              "      <td>0</td>\n",
              "    </tr>\n",
              "  </tbody>\n",
              "</table>\n",
              "</div>\n",
              "      <button class=\"colab-df-convert\" onclick=\"convertToInteractive('df-f2109de2-3196-4a8c-b541-c91fa2ee90ed')\"\n",
              "              title=\"Convert this dataframe to an interactive table.\"\n",
              "              style=\"display:none;\">\n",
              "        \n",
              "  <svg xmlns=\"http://www.w3.org/2000/svg\" height=\"24px\"viewBox=\"0 0 24 24\"\n",
              "       width=\"24px\">\n",
              "    <path d=\"M0 0h24v24H0V0z\" fill=\"none\"/>\n",
              "    <path d=\"M18.56 5.44l.94 2.06.94-2.06 2.06-.94-2.06-.94-.94-2.06-.94 2.06-2.06.94zm-11 1L8.5 8.5l.94-2.06 2.06-.94-2.06-.94L8.5 2.5l-.94 2.06-2.06.94zm10 10l.94 2.06.94-2.06 2.06-.94-2.06-.94-.94-2.06-.94 2.06-2.06.94z\"/><path d=\"M17.41 7.96l-1.37-1.37c-.4-.4-.92-.59-1.43-.59-.52 0-1.04.2-1.43.59L10.3 9.45l-7.72 7.72c-.78.78-.78 2.05 0 2.83L4 21.41c.39.39.9.59 1.41.59.51 0 1.02-.2 1.41-.59l7.78-7.78 2.81-2.81c.8-.78.8-2.07 0-2.86zM5.41 20L4 18.59l7.72-7.72 1.47 1.35L5.41 20z\"/>\n",
              "  </svg>\n",
              "      </button>\n",
              "      \n",
              "  <style>\n",
              "    .colab-df-container {\n",
              "      display:flex;\n",
              "      flex-wrap:wrap;\n",
              "      gap: 12px;\n",
              "    }\n",
              "\n",
              "    .colab-df-convert {\n",
              "      background-color: #E8F0FE;\n",
              "      border: none;\n",
              "      border-radius: 50%;\n",
              "      cursor: pointer;\n",
              "      display: none;\n",
              "      fill: #1967D2;\n",
              "      height: 32px;\n",
              "      padding: 0 0 0 0;\n",
              "      width: 32px;\n",
              "    }\n",
              "\n",
              "    .colab-df-convert:hover {\n",
              "      background-color: #E2EBFA;\n",
              "      box-shadow: 0px 1px 2px rgba(60, 64, 67, 0.3), 0px 1px 3px 1px rgba(60, 64, 67, 0.15);\n",
              "      fill: #174EA6;\n",
              "    }\n",
              "\n",
              "    [theme=dark] .colab-df-convert {\n",
              "      background-color: #3B4455;\n",
              "      fill: #D2E3FC;\n",
              "    }\n",
              "\n",
              "    [theme=dark] .colab-df-convert:hover {\n",
              "      background-color: #434B5C;\n",
              "      box-shadow: 0px 1px 3px 1px rgba(0, 0, 0, 0.15);\n",
              "      filter: drop-shadow(0px 1px 2px rgba(0, 0, 0, 0.3));\n",
              "      fill: #FFFFFF;\n",
              "    }\n",
              "  </style>\n",
              "\n",
              "      <script>\n",
              "        const buttonEl =\n",
              "          document.querySelector('#df-f2109de2-3196-4a8c-b541-c91fa2ee90ed button.colab-df-convert');\n",
              "        buttonEl.style.display =\n",
              "          google.colab.kernel.accessAllowed ? 'block' : 'none';\n",
              "\n",
              "        async function convertToInteractive(key) {\n",
              "          const element = document.querySelector('#df-f2109de2-3196-4a8c-b541-c91fa2ee90ed');\n",
              "          const dataTable =\n",
              "            await google.colab.kernel.invokeFunction('convertToInteractive',\n",
              "                                                     [key], {});\n",
              "          if (!dataTable) return;\n",
              "\n",
              "          const docLinkHtml = 'Like what you see? Visit the ' +\n",
              "            '<a target=\"_blank\" href=https://colab.research.google.com/notebooks/data_table.ipynb>data table notebook</a>'\n",
              "            + ' to learn more about interactive tables.';\n",
              "          element.innerHTML = '';\n",
              "          dataTable['output_type'] = 'display_data';\n",
              "          await google.colab.output.renderOutput(dataTable, element);\n",
              "          const docLink = document.createElement('div');\n",
              "          docLink.innerHTML = docLinkHtml;\n",
              "          element.appendChild(docLink);\n",
              "        }\n",
              "      </script>\n",
              "    </div>\n",
              "  </div>\n",
              "  "
            ]
          },
          "metadata": {},
          "execution_count": 14
        }
      ]
    },
    {
      "cell_type": "code",
      "source": [
        "df.shape"
      ],
      "metadata": {
        "colab": {
          "base_uri": "https://localhost:8080/"
        },
        "id": "BwSFQqRprduE",
        "outputId": "7ee45582-3c7c-4ec9-c2b4-379ba05d6cb4"
      },
      "execution_count": null,
      "outputs": [
        {
          "output_type": "execute_result",
          "data": {
            "text/plain": [
              "(69651, 11)"
            ]
          },
          "metadata": {},
          "execution_count": 15
        }
      ]
    },
    {
      "cell_type": "markdown",
      "source": [
        "Removing entries with 's' and 'na' reduced the dataset to 69,651 rows from 212,331."
      ],
      "metadata": {
        "id": "JTqslFi4Eq8P"
      }
    },
    {
      "cell_type": "code",
      "source": [
        "df.info() "
      ],
      "metadata": {
        "colab": {
          "base_uri": "https://localhost:8080/"
        },
        "id": "5vk2d6dIJj85",
        "outputId": "84f3da78-4d97-40ed-9990-4d056a00c7b5"
      },
      "execution_count": null,
      "outputs": [
        {
          "output_type": "stream",
          "name": "stdout",
          "text": [
            "<class 'pandas.core.frame.DataFrame'>\n",
            "Int64Index: 69651 entries, 8 to 212323\n",
            "Data columns (total 11 columns):\n",
            " #   Column                      Non-Null Count  Dtype \n",
            "---  ------                      --------------  ----- \n",
            " 0   School DBN                  69651 non-null  object\n",
            " 1   School Name                 69651 non-null  object\n",
            " 2   School Level                69651 non-null  object\n",
            " 3   Regents Exam                69643 non-null  object\n",
            " 4   Year                        69651 non-null  int64 \n",
            " 5   Total Tested                69651 non-null  int64 \n",
            " 6   Mean Score                  69651 non-null  object\n",
            " 7   Number Scoring Below 65     69651 non-null  object\n",
            " 8   Number Scoring 65 or Above  69651 non-null  object\n",
            " 9   Number Scoring 80 or Above  69651 non-null  object\n",
            " 10  Number Scoring CR           69651 non-null  object\n",
            "dtypes: int64(2), object(9)\n",
            "memory usage: 6.4+ MB\n"
          ]
        }
      ]
    },
    {
      "cell_type": "code",
      "source": [
        "df.isnull().sum() #Verifying using numeric summary shows no missing values in Regents Exam column. These should be removed."
      ],
      "metadata": {
        "id": "HzSoUZn33q7t",
        "colab": {
          "base_uri": "https://localhost:8080/"
        },
        "outputId": "7933dd80-41c1-436c-c3b7-8fa521ec2ae1"
      },
      "execution_count": null,
      "outputs": [
        {
          "output_type": "execute_result",
          "data": {
            "text/plain": [
              "School DBN                    0\n",
              "School Name                   0\n",
              "School Level                  0\n",
              "Regents Exam                  8\n",
              "Year                          0\n",
              "Total Tested                  0\n",
              "Mean Score                    0\n",
              "Number Scoring Below 65       0\n",
              "Number Scoring 65 or Above    0\n",
              "Number Scoring 80 or Above    0\n",
              "Number Scoring CR             0\n",
              "dtype: int64"
            ]
          },
          "metadata": {},
          "execution_count": 17
        }
      ]
    },
    {
      "cell_type": "markdown",
      "source": [
        "This removes the last of the null values not addresssed already through removing 's' and 'na' values.  The final step will be to remove duplicates."
      ],
      "metadata": {
        "id": "sHZg2HFheYYK"
      }
    },
    {
      "cell_type": "code",
      "source": [
        "df.dropna(inplace=True) #\n",
        "df.shape"
      ],
      "metadata": {
        "id": "QlHDI1nBDyLg",
        "colab": {
          "base_uri": "https://localhost:8080/"
        },
        "outputId": "2d888815-90f0-4197-aa31-8afed57159c9"
      },
      "execution_count": null,
      "outputs": [
        {
          "output_type": "execute_result",
          "data": {
            "text/plain": [
              "(69643, 11)"
            ]
          },
          "metadata": {},
          "execution_count": 18
        }
      ]
    },
    {
      "cell_type": "code",
      "source": [
        "#Check for duplicate entries\n",
        "df=df.drop_duplicates()\n",
        "df.shape # 2,041 duplicate rows were removed. Curious to learn what constitutes duplicate in this instance...."
      ],
      "metadata": {
        "id": "PlSlXHruCC4d",
        "colab": {
          "base_uri": "https://localhost:8080/"
        },
        "outputId": "d7aabb24-d8f8-4ab9-89ad-c5fed7023646"
      },
      "execution_count": null,
      "outputs": [
        {
          "output_type": "execute_result",
          "data": {
            "text/plain": [
              "(67602, 11)"
            ]
          },
          "metadata": {},
          "execution_count": 19
        }
      ]
    },
    {
      "cell_type": "markdown",
      "source": [
        "Next, in order to facilitate numeric analysis, I reassigned the object classified columns to numeric."
      ],
      "metadata": {
        "id": "FoiaRij0enDT"
      }
    },
    {
      "cell_type": "code",
      "source": [
        "#Re-assign object classified columns as numeric\n",
        "df = df.astype({\"Mean Score\":\"float\",\"Number Scoring Below 65\":\"float\",\"Number Scoring 65 or Above\": \"float\",\"Number Scoring 80 or Above\":\"float\",\"Number Scoring CR\":\"float\"})\n",
        "df.info()"
      ],
      "metadata": {
        "colab": {
          "base_uri": "https://localhost:8080/"
        },
        "id": "pT5q0-Wlk4ul",
        "outputId": "979564e4-dca0-4475-9e53-38dd0c2e6b6f"
      },
      "execution_count": null,
      "outputs": [
        {
          "output_type": "stream",
          "name": "stdout",
          "text": [
            "<class 'pandas.core.frame.DataFrame'>\n",
            "Int64Index: 67602 entries, 8 to 212323\n",
            "Data columns (total 11 columns):\n",
            " #   Column                      Non-Null Count  Dtype  \n",
            "---  ------                      --------------  -----  \n",
            " 0   School DBN                  67602 non-null  object \n",
            " 1   School Name                 67602 non-null  object \n",
            " 2   School Level                67602 non-null  object \n",
            " 3   Regents Exam                67602 non-null  object \n",
            " 4   Year                        67602 non-null  int64  \n",
            " 5   Total Tested                67602 non-null  int64  \n",
            " 6   Mean Score                  67602 non-null  float64\n",
            " 7   Number Scoring Below 65     67602 non-null  float64\n",
            " 8   Number Scoring 65 or Above  67602 non-null  float64\n",
            " 9   Number Scoring 80 or Above  67602 non-null  float64\n",
            " 10  Number Scoring CR           67602 non-null  float64\n",
            "dtypes: float64(5), int64(2), object(4)\n",
            "memory usage: 6.2+ MB\n"
          ]
        }
      ]
    },
    {
      "cell_type": "code",
      "source": [
        "df.describe()# We have not ommitted year even though it does not make much sense for describe but other numbers confirm re-assignment. \n",
        "#Following represents the descriptive summary of all Regents Data for All Schools.\n",
        "#This data is not really comparable but provides useful information such as the total number tested: 67,602, \n",
        "#the average score of 65 across all Regents,\n"
      ],
      "metadata": {
        "colab": {
          "base_uri": "https://localhost:8080/",
          "height": 300
        },
        "id": "ZW5WgU7pmdIp",
        "outputId": "2ad2ad5d-b3de-49a0-d40f-c2c9b9dc8f3d"
      },
      "execution_count": null,
      "outputs": [
        {
          "output_type": "execute_result",
          "data": {
            "text/plain": [
              "               Year  Total Tested    Mean Score  Number Scoring Below 65  \\\n",
              "count  67602.000000  67602.000000  67602.000000             67602.000000   \n",
              "mean    2015.898006     69.494601     65.033211                24.962368   \n",
              "std        0.799492    106.637434     11.229314                38.038172   \n",
              "min     2015.000000      6.000000     15.000000                 0.000000   \n",
              "25%     2015.000000     17.000000     57.500000                 5.000000   \n",
              "50%     2016.000000     37.000000     64.700000                12.000000   \n",
              "75%     2017.000000     79.000000     72.400000                30.000000   \n",
              "max     2017.000000   1554.000000     98.300000               697.000000   \n",
              "\n",
              "       Number Scoring 65 or Above  Number Scoring 80 or Above  \\\n",
              "count                67602.000000                67602.000000   \n",
              "mean                    44.532233                   17.854279   \n",
              "std                     83.889913                   53.002063   \n",
              "min                      0.000000                    0.000000   \n",
              "25%                      7.000000                    0.000000   \n",
              "50%                     19.000000                    3.000000   \n",
              "75%                     50.000000                   14.000000   \n",
              "max                   1497.000000                 1318.000000   \n",
              "\n",
              "       Number Scoring CR  \n",
              "count       67602.000000  \n",
              "mean           30.360256  \n",
              "std            69.113377  \n",
              "min             0.000000  \n",
              "25%             2.000000  \n",
              "50%             9.000000  \n",
              "75%            31.000000  \n",
              "max          1465.000000  "
            ],
            "text/html": [
              "\n",
              "  <div id=\"df-5f1e2873-b0bf-4787-b5bf-092aa9a1864b\">\n",
              "    <div class=\"colab-df-container\">\n",
              "      <div>\n",
              "<style scoped>\n",
              "    .dataframe tbody tr th:only-of-type {\n",
              "        vertical-align: middle;\n",
              "    }\n",
              "\n",
              "    .dataframe tbody tr th {\n",
              "        vertical-align: top;\n",
              "    }\n",
              "\n",
              "    .dataframe thead th {\n",
              "        text-align: right;\n",
              "    }\n",
              "</style>\n",
              "<table border=\"1\" class=\"dataframe\">\n",
              "  <thead>\n",
              "    <tr style=\"text-align: right;\">\n",
              "      <th></th>\n",
              "      <th>Year</th>\n",
              "      <th>Total Tested</th>\n",
              "      <th>Mean Score</th>\n",
              "      <th>Number Scoring Below 65</th>\n",
              "      <th>Number Scoring 65 or Above</th>\n",
              "      <th>Number Scoring 80 or Above</th>\n",
              "      <th>Number Scoring CR</th>\n",
              "    </tr>\n",
              "  </thead>\n",
              "  <tbody>\n",
              "    <tr>\n",
              "      <th>count</th>\n",
              "      <td>67602.000000</td>\n",
              "      <td>67602.000000</td>\n",
              "      <td>67602.000000</td>\n",
              "      <td>67602.000000</td>\n",
              "      <td>67602.000000</td>\n",
              "      <td>67602.000000</td>\n",
              "      <td>67602.000000</td>\n",
              "    </tr>\n",
              "    <tr>\n",
              "      <th>mean</th>\n",
              "      <td>2015.898006</td>\n",
              "      <td>69.494601</td>\n",
              "      <td>65.033211</td>\n",
              "      <td>24.962368</td>\n",
              "      <td>44.532233</td>\n",
              "      <td>17.854279</td>\n",
              "      <td>30.360256</td>\n",
              "    </tr>\n",
              "    <tr>\n",
              "      <th>std</th>\n",
              "      <td>0.799492</td>\n",
              "      <td>106.637434</td>\n",
              "      <td>11.229314</td>\n",
              "      <td>38.038172</td>\n",
              "      <td>83.889913</td>\n",
              "      <td>53.002063</td>\n",
              "      <td>69.113377</td>\n",
              "    </tr>\n",
              "    <tr>\n",
              "      <th>min</th>\n",
              "      <td>2015.000000</td>\n",
              "      <td>6.000000</td>\n",
              "      <td>15.000000</td>\n",
              "      <td>0.000000</td>\n",
              "      <td>0.000000</td>\n",
              "      <td>0.000000</td>\n",
              "      <td>0.000000</td>\n",
              "    </tr>\n",
              "    <tr>\n",
              "      <th>25%</th>\n",
              "      <td>2015.000000</td>\n",
              "      <td>17.000000</td>\n",
              "      <td>57.500000</td>\n",
              "      <td>5.000000</td>\n",
              "      <td>7.000000</td>\n",
              "      <td>0.000000</td>\n",
              "      <td>2.000000</td>\n",
              "    </tr>\n",
              "    <tr>\n",
              "      <th>50%</th>\n",
              "      <td>2016.000000</td>\n",
              "      <td>37.000000</td>\n",
              "      <td>64.700000</td>\n",
              "      <td>12.000000</td>\n",
              "      <td>19.000000</td>\n",
              "      <td>3.000000</td>\n",
              "      <td>9.000000</td>\n",
              "    </tr>\n",
              "    <tr>\n",
              "      <th>75%</th>\n",
              "      <td>2017.000000</td>\n",
              "      <td>79.000000</td>\n",
              "      <td>72.400000</td>\n",
              "      <td>30.000000</td>\n",
              "      <td>50.000000</td>\n",
              "      <td>14.000000</td>\n",
              "      <td>31.000000</td>\n",
              "    </tr>\n",
              "    <tr>\n",
              "      <th>max</th>\n",
              "      <td>2017.000000</td>\n",
              "      <td>1554.000000</td>\n",
              "      <td>98.300000</td>\n",
              "      <td>697.000000</td>\n",
              "      <td>1497.000000</td>\n",
              "      <td>1318.000000</td>\n",
              "      <td>1465.000000</td>\n",
              "    </tr>\n",
              "  </tbody>\n",
              "</table>\n",
              "</div>\n",
              "      <button class=\"colab-df-convert\" onclick=\"convertToInteractive('df-5f1e2873-b0bf-4787-b5bf-092aa9a1864b')\"\n",
              "              title=\"Convert this dataframe to an interactive table.\"\n",
              "              style=\"display:none;\">\n",
              "        \n",
              "  <svg xmlns=\"http://www.w3.org/2000/svg\" height=\"24px\"viewBox=\"0 0 24 24\"\n",
              "       width=\"24px\">\n",
              "    <path d=\"M0 0h24v24H0V0z\" fill=\"none\"/>\n",
              "    <path d=\"M18.56 5.44l.94 2.06.94-2.06 2.06-.94-2.06-.94-.94-2.06-.94 2.06-2.06.94zm-11 1L8.5 8.5l.94-2.06 2.06-.94-2.06-.94L8.5 2.5l-.94 2.06-2.06.94zm10 10l.94 2.06.94-2.06 2.06-.94-2.06-.94-.94-2.06-.94 2.06-2.06.94z\"/><path d=\"M17.41 7.96l-1.37-1.37c-.4-.4-.92-.59-1.43-.59-.52 0-1.04.2-1.43.59L10.3 9.45l-7.72 7.72c-.78.78-.78 2.05 0 2.83L4 21.41c.39.39.9.59 1.41.59.51 0 1.02-.2 1.41-.59l7.78-7.78 2.81-2.81c.8-.78.8-2.07 0-2.86zM5.41 20L4 18.59l7.72-7.72 1.47 1.35L5.41 20z\"/>\n",
              "  </svg>\n",
              "      </button>\n",
              "      \n",
              "  <style>\n",
              "    .colab-df-container {\n",
              "      display:flex;\n",
              "      flex-wrap:wrap;\n",
              "      gap: 12px;\n",
              "    }\n",
              "\n",
              "    .colab-df-convert {\n",
              "      background-color: #E8F0FE;\n",
              "      border: none;\n",
              "      border-radius: 50%;\n",
              "      cursor: pointer;\n",
              "      display: none;\n",
              "      fill: #1967D2;\n",
              "      height: 32px;\n",
              "      padding: 0 0 0 0;\n",
              "      width: 32px;\n",
              "    }\n",
              "\n",
              "    .colab-df-convert:hover {\n",
              "      background-color: #E2EBFA;\n",
              "      box-shadow: 0px 1px 2px rgba(60, 64, 67, 0.3), 0px 1px 3px 1px rgba(60, 64, 67, 0.15);\n",
              "      fill: #174EA6;\n",
              "    }\n",
              "\n",
              "    [theme=dark] .colab-df-convert {\n",
              "      background-color: #3B4455;\n",
              "      fill: #D2E3FC;\n",
              "    }\n",
              "\n",
              "    [theme=dark] .colab-df-convert:hover {\n",
              "      background-color: #434B5C;\n",
              "      box-shadow: 0px 1px 3px 1px rgba(0, 0, 0, 0.15);\n",
              "      filter: drop-shadow(0px 1px 2px rgba(0, 0, 0, 0.3));\n",
              "      fill: #FFFFFF;\n",
              "    }\n",
              "  </style>\n",
              "\n",
              "      <script>\n",
              "        const buttonEl =\n",
              "          document.querySelector('#df-5f1e2873-b0bf-4787-b5bf-092aa9a1864b button.colab-df-convert');\n",
              "        buttonEl.style.display =\n",
              "          google.colab.kernel.accessAllowed ? 'block' : 'none';\n",
              "\n",
              "        async function convertToInteractive(key) {\n",
              "          const element = document.querySelector('#df-5f1e2873-b0bf-4787-b5bf-092aa9a1864b');\n",
              "          const dataTable =\n",
              "            await google.colab.kernel.invokeFunction('convertToInteractive',\n",
              "                                                     [key], {});\n",
              "          if (!dataTable) return;\n",
              "\n",
              "          const docLinkHtml = 'Like what you see? Visit the ' +\n",
              "            '<a target=\"_blank\" href=https://colab.research.google.com/notebooks/data_table.ipynb>data table notebook</a>'\n",
              "            + ' to learn more about interactive tables.';\n",
              "          element.innerHTML = '';\n",
              "          dataTable['output_type'] = 'display_data';\n",
              "          await google.colab.output.renderOutput(dataTable, element);\n",
              "          const docLink = document.createElement('div');\n",
              "          docLink.innerHTML = docLinkHtml;\n",
              "          element.appendChild(docLink);\n",
              "        }\n",
              "      </script>\n",
              "    </div>\n",
              "  </div>\n",
              "  "
            ]
          },
          "metadata": {},
          "execution_count": 21
        }
      ]
    },
    {
      "cell_type": "code",
      "source": [
        "df.columns"
      ],
      "metadata": {
        "id": "9ylOXRNDX6Eh",
        "colab": {
          "base_uri": "https://localhost:8080/"
        },
        "outputId": "698bacd5-07e6-45e8-e854-d02ff29ce82b"
      },
      "execution_count": null,
      "outputs": [
        {
          "output_type": "execute_result",
          "data": {
            "text/plain": [
              "Index(['School DBN', 'School Name', 'School Level', 'Regents Exam', 'Year',\n",
              "       'Total Tested', 'Mean Score', 'Number Scoring Below 65',\n",
              "       'Number Scoring 65 or Above', 'Number Scoring 80 or Above',\n",
              "       'Number Scoring CR'],\n",
              "      dtype='object')"
            ]
          },
          "metadata": {},
          "execution_count": 22
        }
      ]
    },
    {
      "cell_type": "markdown",
      "source": [
        "Finally, to ensure reader comprehension and enable comparative analysis with other boroughs, I renamed the \"School DBN\" column to \"School District Borough Number\". Each borough has a letter and associated district numbers.  For example, DBNs with \"M\" are for schools in Manhattan, \"Q\" for schools in Queens, \"B\" for Brooklyn, \"R\" for Staten Island and \"X\" for the Bronx. For more information about NYC School Boroughs and district see: https://teachnyc.zendesk.com/hc/en-us/articles/360053601831-What-is-a-DBN-District-Borough-Number-\n",
        " "
      ],
      "metadata": {
        "id": "RKVk4Z69fIMS"
      }
    },
    {
      "cell_type": "code",
      "source": [
        "#Rename School DBN to School District Borough Number \n",
        "df.rename(columns={'School DBN':'School District Borough Number'},inplace=True)\n",
        "df.columns"
      ],
      "metadata": {
        "id": "2IrP2-1P6bq_",
        "colab": {
          "base_uri": "https://localhost:8080/"
        },
        "outputId": "41f564b9-a34c-496a-90f8-c029ff847303"
      },
      "execution_count": null,
      "outputs": [
        {
          "output_type": "execute_result",
          "data": {
            "text/plain": [
              "Index(['School District Borough Number', 'School Name', 'School Level',\n",
              "       'Regents Exam', 'Year', 'Total Tested', 'Mean Score',\n",
              "       'Number Scoring Below 65', 'Number Scoring 65 or Above',\n",
              "       'Number Scoring 80 or Above', 'Number Scoring CR'],\n",
              "      dtype='object')"
            ]
          },
          "metadata": {},
          "execution_count": 23
        }
      ]
    },
    {
      "cell_type": "markdown",
      "source": [
        "#**Initial Analysis of Regents Data**\n"
      ],
      "metadata": {
        "id": "KpFv-_2eFmLf"
      }
    },
    {
      "cell_type": "code",
      "source": [
        "df.groupby(['School Level'])['School Name'].count()\n",
        "\n"
      ],
      "metadata": {
        "id": "LQdJAL-g0IoQ",
        "colab": {
          "base_uri": "https://localhost:8080/"
        },
        "outputId": "6eccb510-6a54-4014-f3dd-8985ef13030a"
      },
      "execution_count": null,
      "outputs": [
        {
          "output_type": "execute_result",
          "data": {
            "text/plain": [
              "School Level\n",
              "High school                        50437\n",
              "Junior High-Intermediate-Middle     3657\n",
              "K-12 all grades                     2627\n",
              "K-8                                 1429\n",
              "Secondary School                    9452\n",
              "Name: School Name, dtype: int64"
            ]
          },
          "metadata": {},
          "execution_count": 24
        }
      ]
    },
    {
      "cell_type": "markdown",
      "source": [
        "Here we see that the majority of test scores are taken from high school students but that a large number of middle schoolers \n",
        "are also taking the 9th grade tests.  From the following, we see that 75% of the regents exams are taken by high school students, 21% by middle school students (likely 8th graders) and the remaining 4% by an unclassified grade level in schools with K-12 grades (likely parochial or private or alternative)"
      ],
      "metadata": {
        "id": "0D1hc0yJgcKf"
      }
    },
    {
      "cell_type": "code",
      "source": [
        "df.groupby(['School Level'])['School Name'].count().plot(kind=\"pie\", title=\"Regents Exams Taken by School Level\",autopct='%.0f%%',radius=1.3)\n"
      ],
      "metadata": {
        "id": "N_M5rmOr4z6G",
        "colab": {
          "base_uri": "https://localhost:8080/",
          "height": 302
        },
        "outputId": "cdb2eb1c-3781-4040-ab80-2a6bbb954c90"
      },
      "execution_count": null,
      "outputs": [
        {
          "output_type": "execute_result",
          "data": {
            "text/plain": [
              "<matplotlib.axes._subplots.AxesSubplot at 0x7fec705a3410>"
            ]
          },
          "metadata": {},
          "execution_count": 25
        },
        {
          "output_type": "display_data",
          "data": {
            "text/plain": [
              "<Figure size 432x288 with 1 Axes>"
            ],
            "image/png": "[encoded data removed]"
          },
          "metadata": {}
        }
      ]
    },
    {
      "cell_type": "code",
      "source": [
        "df.groupby(['School Level'])['School Name'].count().sum()"
      ],
      "metadata": {
        "id": "LOGW-TutMU02",
        "colab": {
          "base_uri": "https://localhost:8080/"
        },
        "outputId": "f880c816-40e6-49f0-ffb9-8860c3765140"
      },
      "execution_count": null,
      "outputs": [
        {
          "output_type": "execute_result",
          "data": {
            "text/plain": [
              "67602"
            ]
          },
          "metadata": {},
          "execution_count": 26
        }
      ]
    },
    {
      "cell_type": "code",
      "source": [
        "df.groupby(['Regents Exam'])['Year'].count()  #Here we see that there are multiple Regents Exams as well. \n",
        "#Given the importance of Math and English in college readiness, we'll focus on those.\n"
      ],
      "metadata": {
        "id": "ZGLfTiLDGvbE",
        "colab": {
          "base_uri": "https://localhost:8080/"
        },
        "outputId": "1de47d36-2595-4724-9f06-3a5371c03ce5"
      },
      "execution_count": null,
      "outputs": [
        {
          "output_type": "execute_result",
          "data": {
            "text/plain": [
              "Regents Exam\n",
              "Algebra2/Trigonometry     5013\n",
              "Common Core Algebra      18948\n",
              "Common Core Algebra2      4110\n",
              "Common Core English      13169\n",
              "Common Core Geometry      9326\n",
              "English                   6682\n",
              "Geometry                  4176\n",
              "Integrated Algebra        6178\n",
              "Name: Year, dtype: int64"
            ]
          },
          "metadata": {},
          "execution_count": 27
        }
      ]
    },
    {
      "cell_type": "markdown",
      "source": [
        "The greatest number of Regents tests taken over aggregately was in the subjects of Alegebra 1 & Common Core English."
      ],
      "metadata": {
        "id": "ev_j_QEXE-Js"
      }
    },
    {
      "cell_type": "code",
      "source": [
        "df.groupby(['Regents Exam'])['School Level'].count().plot(kind=\"bar\",title=\"Number of Regents by Subject Matter\")\n"
      ],
      "metadata": {
        "id": "JyjpDsQr55v7",
        "colab": {
          "base_uri": "https://localhost:8080/",
          "height": 426
        },
        "outputId": "f4c93d7a-1099-4f6c-aaeb-b2e49cf3c643"
      },
      "execution_count": null,
      "outputs": [
        {
          "output_type": "execute_result",
          "data": {
            "text/plain": [
              "<matplotlib.axes._subplots.AxesSubplot at 0x7fec70515410>"
            ]
          },
          "metadata": {},
          "execution_count": 28
        },
        {
          "output_type": "display_data",
          "data": {
            "text/plain": [
              "<Figure size 432x288 with 1 Axes>"
            ],
            "image/png": "[encoded data removed]"
          },
          "metadata": {
            "needs_background": "light"
          }
        }
      ]
    },
    {
      "cell_type": "markdown",
      "source": [
        "The total number of students tested each year: the greatest number of Regents tests taken was in the year 2015. However, since Beacon did not have students taking the Regents in 2015, I'll use 2016 as comparison year."
      ],
      "metadata": {
        "id": "KdwH_P2KFi7e"
      }
    },
    {
      "cell_type": "code",
      "source": [
        "df.groupby(['Year'])['Total Tested'].count().plot(kind=\"bar\", title=\"Total Regents Taken per Year\")"
      ],
      "metadata": {
        "id": "7C8XqErKbDxX",
        "colab": {
          "base_uri": "https://localhost:8080/",
          "height": 329
        },
        "outputId": "d8988f93-ec0f-48bb-d295-9b9783f390c7"
      },
      "execution_count": null,
      "outputs": [
        {
          "output_type": "execute_result",
          "data": {
            "text/plain": [
              "<matplotlib.axes._subplots.AxesSubplot at 0x7fec704a9610>"
            ]
          },
          "metadata": {},
          "execution_count": 29
        },
        {
          "output_type": "display_data",
          "data": {
            "text/plain": [
              "<Figure size 432x288 with 1 Axes>"
            ],
            "image/png": "[encoded data removed]"
          },
          "metadata": {
            "needs_background": "light"
          }
        }
      ]
    },
    {
      "cell_type": "markdown",
      "source": [
        "Total Tested counts the number of tests taken and not the number of students (as one student can take up to 5 different tests). This confirms that to make any comparisons, we must break it down by individual Regents Exam and Year."
      ],
      "metadata": {
        "id": "tGCBZWcMF4Vq"
      }
    },
    {
      "cell_type": "code",
      "source": [
        "df.groupby(['Year'])['Total Tested'].sum() #Lets figure out the actual total number of kids tested in 2016: 1,522,839!! \n",
        "#(greater than the total number of K-12 students)\n"
      ],
      "metadata": {
        "colab": {
          "base_uri": "https://localhost:8080/"
        },
        "id": "UkiGKUvT-A1d",
        "outputId": "b6be63f3-f90b-4d79-e93e-a1b04e17a8fb"
      },
      "execution_count": null,
      "outputs": [
        {
          "output_type": "execute_result",
          "data": {
            "text/plain": [
              "Year\n",
              "2015    1746874\n",
              "2016    1522839\n",
              "2017    1428261\n",
              "Name: Total Tested, dtype: int64"
            ]
          },
          "metadata": {},
          "execution_count": 30
        }
      ]
    },
    {
      "cell_type": "code",
      "source": [
        "df.groupby(['Year'])['Number Scoring 65 or Above'].sum().plot(kind='bar',title='Number Passing Regents') "
      ],
      "metadata": {
        "colab": {
          "base_uri": "https://localhost:8080/",
          "height": 329
        },
        "id": "bd5gqpEONPBq",
        "outputId": "ac1ea2aa-44f3-46da-fa9c-b535779d5d20"
      },
      "execution_count": null,
      "outputs": [
        {
          "output_type": "execute_result",
          "data": {
            "text/plain": [
              "<matplotlib.axes._subplots.AxesSubplot at 0x7fec70412c50>"
            ]
          },
          "metadata": {},
          "execution_count": 31
        },
        {
          "output_type": "display_data",
          "data": {
            "text/plain": [
              "<Figure size 432x288 with 1 Axes>"
            ],
            "image/png": "[encoded data removed]"
          },
          "metadata": {
            "needs_background": "light"
          }
        }
      ]
    },
    {
      "cell_type": "code",
      "source": [
        "df.groupby(['Year'])['Number Scoring 65 or Above'].sum()\n",
        "#Here we see that of the total number of tests taken, not necessarily the total tested by number of student. \n",
        "# So, out of 1,522,839 tests taken, 967,718 or 64% tests received a passing score."
      ],
      "metadata": {
        "colab": {
          "base_uri": "https://localhost:8080/"
        },
        "id": "55Szagt47hEw",
        "outputId": "fcf11ee9-b4ef-4611-c820-42ad00f280ce"
      },
      "execution_count": null,
      "outputs": [
        {
          "output_type": "execute_result",
          "data": {
            "text/plain": [
              "Year\n",
              "2015    1073302.0\n",
              "2016     967718.0\n",
              "2017     969448.0\n",
              "Name: Number Scoring 65 or Above, dtype: float64"
            ]
          },
          "metadata": {},
          "execution_count": 32
        }
      ]
    },
    {
      "cell_type": "code",
      "source": [
        "df.groupby(['Year'])['Number Scoring Below 65'].sum() #This shows that the numbers above correspond correctly to the information provided. "
      ],
      "metadata": {
        "colab": {
          "base_uri": "https://localhost:8080/"
        },
        "id": "XB05uW-g-YFR",
        "outputId": "15368496-ce0b-4da8-d3ce-fedd671029ef"
      },
      "execution_count": null,
      "outputs": [
        {
          "output_type": "execute_result",
          "data": {
            "text/plain": [
              "Year\n",
              "2015    673572.0\n",
              "2016    555121.0\n",
              "2017    458813.0\n",
              "Name: Number Scoring Below 65, dtype: float64"
            ]
          },
          "metadata": {},
          "execution_count": 33
        }
      ]
    },
    {
      "cell_type": "markdown",
      "source": [
        "**General Observations about 2016 Regents Data**\n",
        "\n",
        "\n",
        "*  The most administered and taken tests are the Common Core Alebra and English exams, likely because many schools still require these, though they are not an NYC DOE requirement. The only test that all NYC public school kids need to take is the English exam. \n",
        "*  In 2016, 1,522,839 regents tests were submitted for grading\n",
        "*  Of that number, 64% of test takers passed passed the exam, scoring 65 or over\n",
        "*  36% failed, scoring under 65%\n",
        "\n",
        "\n",
        "\n",
        "\n",
        "\n",
        "\n"
      ],
      "metadata": {
        "id": "btcu5tBtg6Ei"
      }
    },
    {
      "cell_type": "markdown",
      "source": [
        "#**Assignment Questions & Analysis**\n",
        "**1) Compare individual school results to all results in a given measure.School selected: Beacon High School 2016** "
      ],
      "metadata": {
        "id": "FerGz1OxH5o0"
      }
    },
    {
      "cell_type": "markdown",
      "source": [
        "#**Beacon High School 2016**"
      ],
      "metadata": {
        "id": "D5CUdTx-kYm5"
      }
    },
    {
      "cell_type": "code",
      "source": [
        "#Pick one individual school and compare results from that school to all other schools.  \n",
        "df[df['School Name']=='Beacon High School'] \n",
        "df_Beacon=df[df['School Name']=='Beacon High School']\n",
        "df_Beacon.head() \n",
        "#2016 is the best year to use as mean scores are not availabe for 2015 or 2017!\n",
        "#We also see that Beacon is in the borough of Manhattan (\"M\") and in district 3\n"
      ],
      "metadata": {
        "id": "SCVneiwJWLok",
        "colab": {
          "base_uri": "https://localhost:8080/",
          "height": 354
        },
        "outputId": "c6b4e961-5637-4491-fbc4-d383b270a338"
      },
      "execution_count": null,
      "outputs": [
        {
          "output_type": "execute_result",
          "data": {
            "text/plain": [
              "      School District Borough Number         School Name School Level  \\\n",
              "2640                          03M479  Beacon High School  High school   \n",
              "2642                          03M479  Beacon High School  High school   \n",
              "2643                          03M479  Beacon High School  High school   \n",
              "2646                          03M479  Beacon High School  High school   \n",
              "24257                         03M479  Beacon High School  High school   \n",
              "\n",
              "              Regents Exam  Year  Total Tested  Mean Score  \\\n",
              "2640   Common Core Algebra  2016             6        70.8   \n",
              "2642   Common Core English  2016           291        91.0   \n",
              "2643   Common Core English  2017           321        90.5   \n",
              "2646               English  2015           370        87.2   \n",
              "24257  Common Core English  2016           275        91.4   \n",
              "\n",
              "       Number Scoring Below 65  Number Scoring 65 or Above  \\\n",
              "2640                       2.0                         4.0   \n",
              "2642                       0.0                       291.0   \n",
              "2643                       0.0                       321.0   \n",
              "2646                       0.0                       370.0   \n",
              "24257                      0.0                       275.0   \n",
              "\n",
              "       Number Scoring 80 or Above  Number Scoring CR  \n",
              "2640                          2.0                3.0  \n",
              "2642                        276.0              286.0  \n",
              "2643                        307.0              316.0  \n",
              "2646                        303.0              347.0  \n",
              "24257                       265.0              272.0  "
            ],
            "text/html": [
              "\n",
              "  <div id=\"df-371bdc2f-e489-47ad-a4a1-dc387fd50ebe\">\n",
              "    <div class=\"colab-df-container\">\n",
              "      <div>\n",
              "<style scoped>\n",
              "    .dataframe tbody tr th:only-of-type {\n",
              "        vertical-align: middle;\n",
              "    }\n",
              "\n",
              "    .dataframe tbody tr th {\n",
              "        vertical-align: top;\n",
              "    }\n",
              "\n",
              "    .dataframe thead th {\n",
              "        text-align: right;\n",
              "    }\n",
              "</style>\n",
              "<table border=\"1\" class=\"dataframe\">\n",
              "  <thead>\n",
              "    <tr style=\"text-align: right;\">\n",
              "      <th></th>\n",
              "      <th>School District Borough Number</th>\n",
              "      <th>School Name</th>\n",
              "      <th>School Level</th>\n",
              "      <th>Regents Exam</th>\n",
              "      <th>Year</th>\n",
              "      <th>Total Tested</th>\n",
              "      <th>Mean Score</th>\n",
              "      <th>Number Scoring Below 65</th>\n",
              "      <th>Number Scoring 65 or Above</th>\n",
              "      <th>Number Scoring 80 or Above</th>\n",
              "      <th>Number Scoring CR</th>\n",
              "    </tr>\n",
              "  </thead>\n",
              "  <tbody>\n",
              "    <tr>\n",
              "      <th>2640</th>\n",
              "      <td>03M479</td>\n",
              "      <td>Beacon High School</td>\n",
              "      <td>High school</td>\n",
              "      <td>Common Core Algebra</td>\n",
              "      <td>2016</td>\n",
              "      <td>6</td>\n",
              "      <td>70.8</td>\n",
              "      <td>2.0</td>\n",
              "      <td>4.0</td>\n",
              "      <td>2.0</td>\n",
              "      <td>3.0</td>\n",
              "    </tr>\n",
              "    <tr>\n",
              "      <th>2642</th>\n",
              "      <td>03M479</td>\n",
              "      <td>Beacon High School</td>\n",
              "      <td>High school</td>\n",
              "      <td>Common Core English</td>\n",
              "      <td>2016</td>\n",
              "      <td>291</td>\n",
              "      <td>91.0</td>\n",
              "      <td>0.0</td>\n",
              "      <td>291.0</td>\n",
              "      <td>276.0</td>\n",
              "      <td>286.0</td>\n",
              "    </tr>\n",
              "    <tr>\n",
              "      <th>2643</th>\n",
              "      <td>03M479</td>\n",
              "      <td>Beacon High School</td>\n",
              "      <td>High school</td>\n",
              "      <td>Common Core English</td>\n",
              "      <td>2017</td>\n",
              "      <td>321</td>\n",
              "      <td>90.5</td>\n",
              "      <td>0.0</td>\n",
              "      <td>321.0</td>\n",
              "      <td>307.0</td>\n",
              "      <td>316.0</td>\n",
              "    </tr>\n",
              "    <tr>\n",
              "      <th>2646</th>\n",
              "      <td>03M479</td>\n",
              "      <td>Beacon High School</td>\n",
              "      <td>High school</td>\n",
              "      <td>English</td>\n",
              "      <td>2015</td>\n",
              "      <td>370</td>\n",
              "      <td>87.2</td>\n",
              "      <td>0.0</td>\n",
              "      <td>370.0</td>\n",
              "      <td>303.0</td>\n",
              "      <td>347.0</td>\n",
              "    </tr>\n",
              "    <tr>\n",
              "      <th>24257</th>\n",
              "      <td>03M479</td>\n",
              "      <td>Beacon High School</td>\n",
              "      <td>High school</td>\n",
              "      <td>Common Core English</td>\n",
              "      <td>2016</td>\n",
              "      <td>275</td>\n",
              "      <td>91.4</td>\n",
              "      <td>0.0</td>\n",
              "      <td>275.0</td>\n",
              "      <td>265.0</td>\n",
              "      <td>272.0</td>\n",
              "    </tr>\n",
              "  </tbody>\n",
              "</table>\n",
              "</div>\n",
              "      <button class=\"colab-df-convert\" onclick=\"convertToInteractive('df-371bdc2f-e489-47ad-a4a1-dc387fd50ebe')\"\n",
              "              title=\"Convert this dataframe to an interactive table.\"\n",
              "              style=\"display:none;\">\n",
              "        \n",
              "  <svg xmlns=\"http://www.w3.org/2000/svg\" height=\"24px\"viewBox=\"0 0 24 24\"\n",
              "       width=\"24px\">\n",
              "    <path d=\"M0 0h24v24H0V0z\" fill=\"none\"/>\n",
              "    <path d=\"M18.56 5.44l.94 2.06.94-2.06 2.06-.94-2.06-.94-.94-2.06-.94 2.06-2.06.94zm-11 1L8.5 8.5l.94-2.06 2.06-.94-2.06-.94L8.5 2.5l-.94 2.06-2.06.94zm10 10l.94 2.06.94-2.06 2.06-.94-2.06-.94-.94-2.06-.94 2.06-2.06.94z\"/><path d=\"M17.41 7.96l-1.37-1.37c-.4-.4-.92-.59-1.43-.59-.52 0-1.04.2-1.43.59L10.3 9.45l-7.72 7.72c-.78.78-.78 2.05 0 2.83L4 21.41c.39.39.9.59 1.41.59.51 0 1.02-.2 1.41-.59l7.78-7.78 2.81-2.81c.8-.78.8-2.07 0-2.86zM5.41 20L4 18.59l7.72-7.72 1.47 1.35L5.41 20z\"/>\n",
              "  </svg>\n",
              "      </button>\n",
              "      \n",
              "  <style>\n",
              "    .colab-df-container {\n",
              "      display:flex;\n",
              "      flex-wrap:wrap;\n",
              "      gap: 12px;\n",
              "    }\n",
              "\n",
              "    .colab-df-convert {\n",
              "      background-color: #E8F0FE;\n",
              "      border: none;\n",
              "      border-radius: 50%;\n",
              "      cursor: pointer;\n",
              "      display: none;\n",
              "      fill: #1967D2;\n",
              "      height: 32px;\n",
              "      padding: 0 0 0 0;\n",
              "      width: 32px;\n",
              "    }\n",
              "\n",
              "    .colab-df-convert:hover {\n",
              "      background-color: #E2EBFA;\n",
              "      box-shadow: 0px 1px 2px rgba(60, 64, 67, 0.3), 0px 1px 3px 1px rgba(60, 64, 67, 0.15);\n",
              "      fill: #174EA6;\n",
              "    }\n",
              "\n",
              "    [theme=dark] .colab-df-convert {\n",
              "      background-color: #3B4455;\n",
              "      fill: #D2E3FC;\n",
              "    }\n",
              "\n",
              "    [theme=dark] .colab-df-convert:hover {\n",
              "      background-color: #434B5C;\n",
              "      box-shadow: 0px 1px 3px 1px rgba(0, 0, 0, 0.15);\n",
              "      filter: drop-shadow(0px 1px 2px rgba(0, 0, 0, 0.3));\n",
              "      fill: #FFFFFF;\n",
              "    }\n",
              "  </style>\n",
              "\n",
              "      <script>\n",
              "        const buttonEl =\n",
              "          document.querySelector('#df-371bdc2f-e489-47ad-a4a1-dc387fd50ebe button.colab-df-convert');\n",
              "        buttonEl.style.display =\n",
              "          google.colab.kernel.accessAllowed ? 'block' : 'none';\n",
              "\n",
              "        async function convertToInteractive(key) {\n",
              "          const element = document.querySelector('#df-371bdc2f-e489-47ad-a4a1-dc387fd50ebe');\n",
              "          const dataTable =\n",
              "            await google.colab.kernel.invokeFunction('convertToInteractive',\n",
              "                                                     [key], {});\n",
              "          if (!dataTable) return;\n",
              "\n",
              "          const docLinkHtml = 'Like what you see? Visit the ' +\n",
              "            '<a target=\"_blank\" href=https://colab.research.google.com/notebooks/data_table.ipynb>data table notebook</a>'\n",
              "            + ' to learn more about interactive tables.';\n",
              "          element.innerHTML = '';\n",
              "          dataTable['output_type'] = 'display_data';\n",
              "          await google.colab.output.renderOutput(dataTable, element);\n",
              "          const docLink = document.createElement('div');\n",
              "          docLink.innerHTML = docLinkHtml;\n",
              "          element.appendChild(docLink);\n",
              "        }\n",
              "      </script>\n",
              "    </div>\n",
              "  </div>\n",
              "  "
            ]
          },
          "metadata": {},
          "execution_count": 34
        }
      ]
    },
    {
      "cell_type": "markdown",
      "source": [
        "#**Regents Math Test Results Beacon 2016**"
      ],
      "metadata": {
        "id": "AbNMop6CjYzR"
      }
    },
    {
      "cell_type": "markdown",
      "source": [
        "In looking at the Beacon Common Core Math data, only six students took the Math Regents Exam! This is likely because it is not required. Most students who gain acceptance into Beacon have already scored well in Math and English. "
      ],
      "metadata": {
        "id": "BxVq-O9Tig9Z"
      }
    },
    {
      "cell_type": "code",
      "source": [
        "df[df['School Name']=='Beacon High School'] \n",
        "df_Beacon_16= df[(df['School Name']=='Beacon High School')&(df['Year'] == 2016)]\n",
        "df_Beacon_16_Alg = df[(df['School Name']=='Beacon High School') & (df['Year']== 2016) & (df['Regents Exam']=='Common Core Algebra')]\n",
        "df_Beacon_16_Alg.describe() #Here we see that there is no standard deviation for the 2016 Alg Regents numbers. The reason for this is that there is only one row of data that has been aggregated. As such\n",
        "#we can compare the mean to the mean of all schools and the college readiness mean to the mean of all schools.\n"
      ],
      "metadata": {
        "id": "Wy83cNSpwyzj",
        "colab": {
          "base_uri": "https://localhost:8080/",
          "height": 300
        },
        "outputId": "50f05c99-0c8b-46ef-d4be-7167711e883d"
      },
      "execution_count": null,
      "outputs": [
        {
          "output_type": "execute_result",
          "data": {
            "text/plain": [
              "         Year  Total Tested  Mean Score  Number Scoring Below 65  \\\n",
              "count     1.0           1.0         1.0                      1.0   \n",
              "mean   2016.0           6.0        70.8                      2.0   \n",
              "std       NaN           NaN         NaN                      NaN   \n",
              "min    2016.0           6.0        70.8                      2.0   \n",
              "25%    2016.0           6.0        70.8                      2.0   \n",
              "50%    2016.0           6.0        70.8                      2.0   \n",
              "75%    2016.0           6.0        70.8                      2.0   \n",
              "max    2016.0           6.0        70.8                      2.0   \n",
              "\n",
              "       Number Scoring 65 or Above  Number Scoring 80 or Above  \\\n",
              "count                         1.0                         1.0   \n",
              "mean                          4.0                         2.0   \n",
              "std                           NaN                         NaN   \n",
              "min                           4.0                         2.0   \n",
              "25%                           4.0                         2.0   \n",
              "50%                           4.0                         2.0   \n",
              "75%                           4.0                         2.0   \n",
              "max                           4.0                         2.0   \n",
              "\n",
              "       Number Scoring CR  \n",
              "count                1.0  \n",
              "mean                 3.0  \n",
              "std                  NaN  \n",
              "min                  3.0  \n",
              "25%                  3.0  \n",
              "50%                  3.0  \n",
              "75%                  3.0  \n",
              "max                  3.0  "
            ],
            "text/html": [
              "\n",
              "  <div id=\"df-37e8cb6f-cf19-4b8c-9871-3d24395de977\">\n",
              "    <div class=\"colab-df-container\">\n",
              "      <div>\n",
              "<style scoped>\n",
              "    .dataframe tbody tr th:only-of-type {\n",
              "        vertical-align: middle;\n",
              "    }\n",
              "\n",
              "    .dataframe tbody tr th {\n",
              "        vertical-align: top;\n",
              "    }\n",
              "\n",
              "    .dataframe thead th {\n",
              "        text-align: right;\n",
              "    }\n",
              "</style>\n",
              "<table border=\"1\" class=\"dataframe\">\n",
              "  <thead>\n",
              "    <tr style=\"text-align: right;\">\n",
              "      <th></th>\n",
              "      <th>Year</th>\n",
              "      <th>Total Tested</th>\n",
              "      <th>Mean Score</th>\n",
              "      <th>Number Scoring Below 65</th>\n",
              "      <th>Number Scoring 65 or Above</th>\n",
              "      <th>Number Scoring 80 or Above</th>\n",
              "      <th>Number Scoring CR</th>\n",
              "    </tr>\n",
              "  </thead>\n",
              "  <tbody>\n",
              "    <tr>\n",
              "      <th>count</th>\n",
              "      <td>1.0</td>\n",
              "      <td>1.0</td>\n",
              "      <td>1.0</td>\n",
              "      <td>1.0</td>\n",
              "      <td>1.0</td>\n",
              "      <td>1.0</td>\n",
              "      <td>1.0</td>\n",
              "    </tr>\n",
              "    <tr>\n",
              "      <th>mean</th>\n",
              "      <td>2016.0</td>\n",
              "      <td>6.0</td>\n",
              "      <td>70.8</td>\n",
              "      <td>2.0</td>\n",
              "      <td>4.0</td>\n",
              "      <td>2.0</td>\n",
              "      <td>3.0</td>\n",
              "    </tr>\n",
              "    <tr>\n",
              "      <th>std</th>\n",
              "      <td>NaN</td>\n",
              "      <td>NaN</td>\n",
              "      <td>NaN</td>\n",
              "      <td>NaN</td>\n",
              "      <td>NaN</td>\n",
              "      <td>NaN</td>\n",
              "      <td>NaN</td>\n",
              "    </tr>\n",
              "    <tr>\n",
              "      <th>min</th>\n",
              "      <td>2016.0</td>\n",
              "      <td>6.0</td>\n",
              "      <td>70.8</td>\n",
              "      <td>2.0</td>\n",
              "      <td>4.0</td>\n",
              "      <td>2.0</td>\n",
              "      <td>3.0</td>\n",
              "    </tr>\n",
              "    <tr>\n",
              "      <th>25%</th>\n",
              "      <td>2016.0</td>\n",
              "      <td>6.0</td>\n",
              "      <td>70.8</td>\n",
              "      <td>2.0</td>\n",
              "      <td>4.0</td>\n",
              "      <td>2.0</td>\n",
              "      <td>3.0</td>\n",
              "    </tr>\n",
              "    <tr>\n",
              "      <th>50%</th>\n",
              "      <td>2016.0</td>\n",
              "      <td>6.0</td>\n",
              "      <td>70.8</td>\n",
              "      <td>2.0</td>\n",
              "      <td>4.0</td>\n",
              "      <td>2.0</td>\n",
              "      <td>3.0</td>\n",
              "    </tr>\n",
              "    <tr>\n",
              "      <th>75%</th>\n",
              "      <td>2016.0</td>\n",
              "      <td>6.0</td>\n",
              "      <td>70.8</td>\n",
              "      <td>2.0</td>\n",
              "      <td>4.0</td>\n",
              "      <td>2.0</td>\n",
              "      <td>3.0</td>\n",
              "    </tr>\n",
              "    <tr>\n",
              "      <th>max</th>\n",
              "      <td>2016.0</td>\n",
              "      <td>6.0</td>\n",
              "      <td>70.8</td>\n",
              "      <td>2.0</td>\n",
              "      <td>4.0</td>\n",
              "      <td>2.0</td>\n",
              "      <td>3.0</td>\n",
              "    </tr>\n",
              "  </tbody>\n",
              "</table>\n",
              "</div>\n",
              "      <button class=\"colab-df-convert\" onclick=\"convertToInteractive('df-37e8cb6f-cf19-4b8c-9871-3d24395de977')\"\n",
              "              title=\"Convert this dataframe to an interactive table.\"\n",
              "              style=\"display:none;\">\n",
              "        \n",
              "  <svg xmlns=\"http://www.w3.org/2000/svg\" height=\"24px\"viewBox=\"0 0 24 24\"\n",
              "       width=\"24px\">\n",
              "    <path d=\"M0 0h24v24H0V0z\" fill=\"none\"/>\n",
              "    <path d=\"M18.56 5.44l.94 2.06.94-2.06 2.06-.94-2.06-.94-.94-2.06-.94 2.06-2.06.94zm-11 1L8.5 8.5l.94-2.06 2.06-.94-2.06-.94L8.5 2.5l-.94 2.06-2.06.94zm10 10l.94 2.06.94-2.06 2.06-.94-2.06-.94-.94-2.06-.94 2.06-2.06.94z\"/><path d=\"M17.41 7.96l-1.37-1.37c-.4-.4-.92-.59-1.43-.59-.52 0-1.04.2-1.43.59L10.3 9.45l-7.72 7.72c-.78.78-.78 2.05 0 2.83L4 21.41c.39.39.9.59 1.41.59.51 0 1.02-.2 1.41-.59l7.78-7.78 2.81-2.81c.8-.78.8-2.07 0-2.86zM5.41 20L4 18.59l7.72-7.72 1.47 1.35L5.41 20z\"/>\n",
              "  </svg>\n",
              "      </button>\n",
              "      \n",
              "  <style>\n",
              "    .colab-df-container {\n",
              "      display:flex;\n",
              "      flex-wrap:wrap;\n",
              "      gap: 12px;\n",
              "    }\n",
              "\n",
              "    .colab-df-convert {\n",
              "      background-color: #E8F0FE;\n",
              "      border: none;\n",
              "      border-radius: 50%;\n",
              "      cursor: pointer;\n",
              "      display: none;\n",
              "      fill: #1967D2;\n",
              "      height: 32px;\n",
              "      padding: 0 0 0 0;\n",
              "      width: 32px;\n",
              "    }\n",
              "\n",
              "    .colab-df-convert:hover {\n",
              "      background-color: #E2EBFA;\n",
              "      box-shadow: 0px 1px 2px rgba(60, 64, 67, 0.3), 0px 1px 3px 1px rgba(60, 64, 67, 0.15);\n",
              "      fill: #174EA6;\n",
              "    }\n",
              "\n",
              "    [theme=dark] .colab-df-convert {\n",
              "      background-color: #3B4455;\n",
              "      fill: #D2E3FC;\n",
              "    }\n",
              "\n",
              "    [theme=dark] .colab-df-convert:hover {\n",
              "      background-color: #434B5C;\n",
              "      box-shadow: 0px 1px 3px 1px rgba(0, 0, 0, 0.15);\n",
              "      filter: drop-shadow(0px 1px 2px rgba(0, 0, 0, 0.3));\n",
              "      fill: #FFFFFF;\n",
              "    }\n",
              "  </style>\n",
              "\n",
              "      <script>\n",
              "        const buttonEl =\n",
              "          document.querySelector('#df-37e8cb6f-cf19-4b8c-9871-3d24395de977 button.colab-df-convert');\n",
              "        buttonEl.style.display =\n",
              "          google.colab.kernel.accessAllowed ? 'block' : 'none';\n",
              "\n",
              "        async function convertToInteractive(key) {\n",
              "          const element = document.querySelector('#df-37e8cb6f-cf19-4b8c-9871-3d24395de977');\n",
              "          const dataTable =\n",
              "            await google.colab.kernel.invokeFunction('convertToInteractive',\n",
              "                                                     [key], {});\n",
              "          if (!dataTable) return;\n",
              "\n",
              "          const docLinkHtml = 'Like what you see? Visit the ' +\n",
              "            '<a target=\"_blank\" href=https://colab.research.google.com/notebooks/data_table.ipynb>data table notebook</a>'\n",
              "            + ' to learn more about interactive tables.';\n",
              "          element.innerHTML = '';\n",
              "          dataTable['output_type'] = 'display_data';\n",
              "          await google.colab.output.renderOutput(dataTable, element);\n",
              "          const docLink = document.createElement('div');\n",
              "          docLink.innerHTML = docLinkHtml;\n",
              "          element.appendChild(docLink);\n",
              "        }\n",
              "      </script>\n",
              "    </div>\n",
              "  </div>\n",
              "  "
            ]
          },
          "metadata": {},
          "execution_count": 35
        }
      ]
    },
    {
      "cell_type": "code",
      "source": [
        "#to confirm that there is only one row for Beacon 2016 Algebra\n",
        "df_Beacon_16_Alg.shape\n"
      ],
      "metadata": {
        "colab": {
          "base_uri": "https://localhost:8080/"
        },
        "id": "pPJKpyXms-l7",
        "outputId": "6a46751f-eb2f-48c5-ba4d-a153e3b5c4c3"
      },
      "execution_count": null,
      "outputs": [
        {
          "output_type": "execute_result",
          "data": {
            "text/plain": [
              "(1, 11)"
            ]
          },
          "metadata": {},
          "execution_count": 36
        }
      ]
    },
    {
      "cell_type": "code",
      "source": [
        "df_Beacon_16_Alg.mean()"
      ],
      "metadata": {
        "colab": {
          "base_uri": "https://localhost:8080/"
        },
        "id": "ZsVij388gl6s",
        "outputId": "f3d472ee-e112-43b3-c051-d56a7dca8d6a"
      },
      "execution_count": null,
      "outputs": [
        {
          "output_type": "stream",
          "name": "stderr",
          "text": [
            "/usr/local/lib/python3.7/dist-packages/ipykernel_launcher.py:1: FutureWarning: Dropping of nuisance columns in DataFrame reductions (with 'numeric_only=None') is deprecated; in a future version this will raise TypeError.  Select only valid columns before calling the reduction.\n",
            "  \"\"\"Entry point for launching an IPython kernel.\n"
          ]
        },
        {
          "output_type": "execute_result",
          "data": {
            "text/plain": [
              "Year                          2016.0\n",
              "Total Tested                     6.0\n",
              "Mean Score                      70.8\n",
              "Number Scoring Below 65          2.0\n",
              "Number Scoring 65 or Above       4.0\n",
              "Number Scoring 80 or Above       2.0\n",
              "Number Scoring CR                3.0\n",
              "dtype: float64"
            ]
          },
          "metadata": {},
          "execution_count": 37
        }
      ]
    },
    {
      "cell_type": "markdown",
      "source": [
        ""
      ],
      "metadata": {
        "id": "E2OowqlzI9bQ"
      }
    },
    {
      "cell_type": "code",
      "source": [
        "df_Beacon_16_Alg.sum()"
      ],
      "metadata": {
        "colab": {
          "base_uri": "https://localhost:8080/"
        },
        "id": "rIrBTYtg7uTo",
        "outputId": "5879d442-0968-4cad-f760-15f0fe80ec35"
      },
      "execution_count": null,
      "outputs": [
        {
          "output_type": "execute_result",
          "data": {
            "text/plain": [
              "School District Borough Number                 03M479\n",
              "School Name                        Beacon High School\n",
              "School Level                              High school\n",
              "Regents Exam                      Common Core Algebra\n",
              "Year                                             2016\n",
              "Total Tested                                        6\n",
              "Mean Score                                       70.8\n",
              "Number Scoring Below 65                           2.0\n",
              "Number Scoring 65 or Above                        4.0\n",
              "Number Scoring 80 or Above                        2.0\n",
              "Number Scoring CR                                 3.0\n",
              "dtype: object"
            ]
          },
          "metadata": {},
          "execution_count": 38
        }
      ]
    },
    {
      "cell_type": "markdown",
      "source": [
        "#**Regents Math Test Results for All Schools 2016**"
      ],
      "metadata": {
        "id": "fN9rbW2Hig_R"
      }
    },
    {
      "cell_type": "code",
      "source": [
        "df[df['Year']==2016] #Create comparison year for all schools for \"Common Core Algebra\" in 2016\n",
        "df_16=df[df['Year']==2016]\n",
        "df_16_Alg=df[(df['Year']==2016) & (df['Regents Exam']=='Common Core Algebra')]\n",
        "df_16_Alg.describe()\n",
        "\n"
      ],
      "metadata": {
        "id": "W7p6Q4-wwATQ",
        "colab": {
          "base_uri": "https://localhost:8080/",
          "height": 300
        },
        "outputId": "66790c20-6683-4196-9dd9-82e444c35bdf"
      },
      "execution_count": null,
      "outputs": [
        {
          "output_type": "execute_result",
          "data": {
            "text/plain": [
              "         Year  Total Tested   Mean Score  Number Scoring Below 65  \\\n",
              "count  6408.0   6408.000000  6408.000000              6408.000000   \n",
              "mean   2016.0     82.818508    68.433817                29.286361   \n",
              "std       0.0    112.229183     9.669473                44.968694   \n",
              "min    2016.0      6.000000    41.000000                 0.000000   \n",
              "25%    2016.0     20.000000    61.200000                 3.000000   \n",
              "50%    2016.0     49.000000    67.000000                13.000000   \n",
              "75%    2016.0    103.000000    75.300000                39.000000   \n",
              "max    2016.0   1258.000000    94.100000               521.000000   \n",
              "\n",
              "       Number Scoring 65 or Above  Number Scoring 80 or Above  \\\n",
              "count                 6408.000000                 6408.000000   \n",
              "mean                    53.532147                   15.906991   \n",
              "std                     77.935067                   31.700867   \n",
              "min                      0.000000                    0.000000   \n",
              "25%                     11.000000                    1.000000   \n",
              "50%                     30.000000                    5.000000   \n",
              "75%                     66.000000                   16.000000   \n",
              "max                    884.000000                  478.000000   \n",
              "\n",
              "       Number Scoring CR  \n",
              "count        6408.000000  \n",
              "mean           40.253121  \n",
              "std            61.336931  \n",
              "min             0.000000  \n",
              "25%             8.000000  \n",
              "50%            22.000000  \n",
              "75%            48.000000  \n",
              "max           744.000000  "
            ],
            "text/html": [
              "\n",
              "  <div id=\"df-eca66d73-3d19-4f65-b606-169a6e3135fd\">\n",
              "    <div class=\"colab-df-container\">\n",
              "      <div>\n",
              "<style scoped>\n",
              "    .dataframe tbody tr th:only-of-type {\n",
              "        vertical-align: middle;\n",
              "    }\n",
              "\n",
              "    .dataframe tbody tr th {\n",
              "        vertical-align: top;\n",
              "    }\n",
              "\n",
              "    .dataframe thead th {\n",
              "        text-align: right;\n",
              "    }\n",
              "</style>\n",
              "<table border=\"1\" class=\"dataframe\">\n",
              "  <thead>\n",
              "    <tr style=\"text-align: right;\">\n",
              "      <th></th>\n",
              "      <th>Year</th>\n",
              "      <th>Total Tested</th>\n",
              "      <th>Mean Score</th>\n",
              "      <th>Number Scoring Below 65</th>\n",
              "      <th>Number Scoring 65 or Above</th>\n",
              "      <th>Number Scoring 80 or Above</th>\n",
              "      <th>Number Scoring CR</th>\n",
              "    </tr>\n",
              "  </thead>\n",
              "  <tbody>\n",
              "    <tr>\n",
              "      <th>count</th>\n",
              "      <td>6408.0</td>\n",
              "      <td>6408.000000</td>\n",
              "      <td>6408.000000</td>\n",
              "      <td>6408.000000</td>\n",
              "      <td>6408.000000</td>\n",
              "      <td>6408.000000</td>\n",
              "      <td>6408.000000</td>\n",
              "    </tr>\n",
              "    <tr>\n",
              "      <th>mean</th>\n",
              "      <td>2016.0</td>\n",
              "      <td>82.818508</td>\n",
              "      <td>68.433817</td>\n",
              "      <td>29.286361</td>\n",
              "      <td>53.532147</td>\n",
              "      <td>15.906991</td>\n",
              "      <td>40.253121</td>\n",
              "    </tr>\n",
              "    <tr>\n",
              "      <th>std</th>\n",
              "      <td>0.0</td>\n",
              "      <td>112.229183</td>\n",
              "      <td>9.669473</td>\n",
              "      <td>44.968694</td>\n",
              "      <td>77.935067</td>\n",
              "      <td>31.700867</td>\n",
              "      <td>61.336931</td>\n",
              "    </tr>\n",
              "    <tr>\n",
              "      <th>min</th>\n",
              "      <td>2016.0</td>\n",
              "      <td>6.000000</td>\n",
              "      <td>41.000000</td>\n",
              "      <td>0.000000</td>\n",
              "      <td>0.000000</td>\n",
              "      <td>0.000000</td>\n",
              "      <td>0.000000</td>\n",
              "    </tr>\n",
              "    <tr>\n",
              "      <th>25%</th>\n",
              "      <td>2016.0</td>\n",
              "      <td>20.000000</td>\n",
              "      <td>61.200000</td>\n",
              "      <td>3.000000</td>\n",
              "      <td>11.000000</td>\n",
              "      <td>1.000000</td>\n",
              "      <td>8.000000</td>\n",
              "    </tr>\n",
              "    <tr>\n",
              "      <th>50%</th>\n",
              "      <td>2016.0</td>\n",
              "      <td>49.000000</td>\n",
              "      <td>67.000000</td>\n",
              "      <td>13.000000</td>\n",
              "      <td>30.000000</td>\n",
              "      <td>5.000000</td>\n",
              "      <td>22.000000</td>\n",
              "    </tr>\n",
              "    <tr>\n",
              "      <th>75%</th>\n",
              "      <td>2016.0</td>\n",
              "      <td>103.000000</td>\n",
              "      <td>75.300000</td>\n",
              "      <td>39.000000</td>\n",
              "      <td>66.000000</td>\n",
              "      <td>16.000000</td>\n",
              "      <td>48.000000</td>\n",
              "    </tr>\n",
              "    <tr>\n",
              "      <th>max</th>\n",
              "      <td>2016.0</td>\n",
              "      <td>1258.000000</td>\n",
              "      <td>94.100000</td>\n",
              "      <td>521.000000</td>\n",
              "      <td>884.000000</td>\n",
              "      <td>478.000000</td>\n",
              "      <td>744.000000</td>\n",
              "    </tr>\n",
              "  </tbody>\n",
              "</table>\n",
              "</div>\n",
              "      <button class=\"colab-df-convert\" onclick=\"convertToInteractive('df-eca66d73-3d19-4f65-b606-169a6e3135fd')\"\n",
              "              title=\"Convert this dataframe to an interactive table.\"\n",
              "              style=\"display:none;\">\n",
              "        \n",
              "  <svg xmlns=\"http://www.w3.org/2000/svg\" height=\"24px\"viewBox=\"0 0 24 24\"\n",
              "       width=\"24px\">\n",
              "    <path d=\"M0 0h24v24H0V0z\" fill=\"none\"/>\n",
              "    <path d=\"M18.56 5.44l.94 2.06.94-2.06 2.06-.94-2.06-.94-.94-2.06-.94 2.06-2.06.94zm-11 1L8.5 8.5l.94-2.06 2.06-.94-2.06-.94L8.5 2.5l-.94 2.06-2.06.94zm10 10l.94 2.06.94-2.06 2.06-.94-2.06-.94-.94-2.06-.94 2.06-2.06.94z\"/><path d=\"M17.41 7.96l-1.37-1.37c-.4-.4-.92-.59-1.43-.59-.52 0-1.04.2-1.43.59L10.3 9.45l-7.72 7.72c-.78.78-.78 2.05 0 2.83L4 21.41c.39.39.9.59 1.41.59.51 0 1.02-.2 1.41-.59l7.78-7.78 2.81-2.81c.8-.78.8-2.07 0-2.86zM5.41 20L4 18.59l7.72-7.72 1.47 1.35L5.41 20z\"/>\n",
              "  </svg>\n",
              "      </button>\n",
              "      \n",
              "  <style>\n",
              "    .colab-df-container {\n",
              "      display:flex;\n",
              "      flex-wrap:wrap;\n",
              "      gap: 12px;\n",
              "    }\n",
              "\n",
              "    .colab-df-convert {\n",
              "      background-color: #E8F0FE;\n",
              "      border: none;\n",
              "      border-radius: 50%;\n",
              "      cursor: pointer;\n",
              "      display: none;\n",
              "      fill: #1967D2;\n",
              "      height: 32px;\n",
              "      padding: 0 0 0 0;\n",
              "      width: 32px;\n",
              "    }\n",
              "\n",
              "    .colab-df-convert:hover {\n",
              "      background-color: #E2EBFA;\n",
              "      box-shadow: 0px 1px 2px rgba(60, 64, 67, 0.3), 0px 1px 3px 1px rgba(60, 64, 67, 0.15);\n",
              "      fill: #174EA6;\n",
              "    }\n",
              "\n",
              "    [theme=dark] .colab-df-convert {\n",
              "      background-color: #3B4455;\n",
              "      fill: #D2E3FC;\n",
              "    }\n",
              "\n",
              "    [theme=dark] .colab-df-convert:hover {\n",
              "      background-color: #434B5C;\n",
              "      box-shadow: 0px 1px 3px 1px rgba(0, 0, 0, 0.15);\n",
              "      filter: drop-shadow(0px 1px 2px rgba(0, 0, 0, 0.3));\n",
              "      fill: #FFFFFF;\n",
              "    }\n",
              "  </style>\n",
              "\n",
              "      <script>\n",
              "        const buttonEl =\n",
              "          document.querySelector('#df-eca66d73-3d19-4f65-b606-169a6e3135fd button.colab-df-convert');\n",
              "        buttonEl.style.display =\n",
              "          google.colab.kernel.accessAllowed ? 'block' : 'none';\n",
              "\n",
              "        async function convertToInteractive(key) {\n",
              "          const element = document.querySelector('#df-eca66d73-3d19-4f65-b606-169a6e3135fd');\n",
              "          const dataTable =\n",
              "            await google.colab.kernel.invokeFunction('convertToInteractive',\n",
              "                                                     [key], {});\n",
              "          if (!dataTable) return;\n",
              "\n",
              "          const docLinkHtml = 'Like what you see? Visit the ' +\n",
              "            '<a target=\"_blank\" href=https://colab.research.google.com/notebooks/data_table.ipynb>data table notebook</a>'\n",
              "            + ' to learn more about interactive tables.';\n",
              "          element.innerHTML = '';\n",
              "          dataTable['output_type'] = 'display_data';\n",
              "          await google.colab.output.renderOutput(dataTable, element);\n",
              "          const docLink = document.createElement('div');\n",
              "          docLink.innerHTML = docLinkHtml;\n",
              "          element.appendChild(docLink);\n",
              "        }\n",
              "      </script>\n",
              "    </div>\n",
              "  </div>\n",
              "  "
            ]
          },
          "metadata": {},
          "execution_count": 39
        }
      ]
    },
    {
      "cell_type": "code",
      "source": [
        "df_16_Alg.sum()"
      ],
      "metadata": {
        "colab": {
          "base_uri": "https://localhost:8080/"
        },
        "id": "WLaDwN-pgXmK",
        "outputId": "bc3496a9-d264-4173-a586-f5fc83db98b3"
      },
      "execution_count": null,
      "outputs": [
        {
          "output_type": "execute_result",
          "data": {
            "text/plain": [
              "School District Borough Number    01M18401M18801M29201M37801M44801M45001M50901M5...\n",
              "School Name                       P.S. 184m Shuang WenP.S. 188 The Island School...\n",
              "School Level                      K-8K-8High schoolJunior High-Intermediate-Midd...\n",
              "Regents Exam                      Common Core AlgebraCommon Core AlgebraCommon C...\n",
              "Year                                                                       12918528\n",
              "Total Tested                                                                 530701\n",
              "Mean Score                                                                 438523.9\n",
              "Number Scoring Below 65                                                    187667.0\n",
              "Number Scoring 65 or Above                                                 343034.0\n",
              "Number Scoring 80 or Above                                                 101932.0\n",
              "Number Scoring CR                                                          257942.0\n",
              "dtype: object"
            ]
          },
          "metadata": {},
          "execution_count": 40
        }
      ]
    },
    {
      "cell_type": "code",
      "source": [
        "#Compare All Passing Common Core Algebra Tests by School Name Visually\n",
        "df_16_Alg.groupby(['School Name'])['Number Scoring 65 or Above'].sum().plot(kind='bar',title='Number Passing Regents')\n",
        "#comparison of schools"
      ],
      "metadata": {
        "colab": {
          "base_uri": "https://localhost:8080/",
          "height": 599
        },
        "id": "b1GseCT_cEB4",
        "outputId": "62822f32-1d25-4f82-bdd5-c0cd032d1186"
      },
      "execution_count": null,
      "outputs": [
        {
          "output_type": "execute_result",
          "data": {
            "text/plain": [
              "<matplotlib.axes._subplots.AxesSubplot at 0x7fec704a2650>"
            ]
          },
          "metadata": {},
          "execution_count": 41
        },
        {
          "output_type": "display_data",
          "data": {
            "text/plain": [
              "<Figure size 432x288 with 1 Axes>"
            ],
            "image/png": "[encoded data removed]"
          },
          "metadata": {
            "needs_background": "light"
          }
        }
      ]
    },
    {
      "cell_type": "markdown",
      "source": [
        "#**English Regents Test Results Beacon 2016**\n",
        "Note: Significantly, this is the only Regents that the students are required to take. Every student that takes it passes it, and 95% score over 80 on the test, confirming that the mean score of 89.9 is not skewed by outliers."
      ],
      "metadata": {
        "id": "OMit-qLrkoRh"
      }
    },
    {
      "cell_type": "code",
      "source": [
        "df_Beacon_16_Eng = df[(df['School Name']=='Beacon High School') & (df['Year']== 2016) & (df['Regents Exam']=='Common Core English')]\n",
        "df_Beacon_16_Eng.describe()\n"
      ],
      "metadata": {
        "colab": {
          "base_uri": "https://localhost:8080/",
          "height": 300
        },
        "id": "4erJTSOzrCY7",
        "outputId": "8652f422-31bd-4341-aac0-99aa545ac190"
      },
      "execution_count": null,
      "outputs": [
        {
          "output_type": "execute_result",
          "data": {
            "text/plain": [
              "         Year  Total Tested  Mean Score  Number Scoring Below 65  \\\n",
              "count    10.0     10.000000   10.000000                     10.0   \n",
              "mean   2016.0    142.900000   89.940000                      0.0   \n",
              "std       0.0    104.714904    2.392674                      0.0   \n",
              "min    2016.0     16.000000   84.000000                      0.0   \n",
              "25%    2016.0     51.500000   89.275000                      0.0   \n",
              "50%    2016.0    117.500000   91.000000                      0.0   \n",
              "75%    2016.0    239.250000   91.250000                      0.0   \n",
              "max    2016.0    291.000000   92.300000                      0.0   \n",
              "\n",
              "       Number Scoring 65 or Above  Number Scoring 80 or Above  \\\n",
              "count                   10.000000                   10.000000   \n",
              "mean                   142.900000                  135.600000   \n",
              "std                    104.714904                  101.400416   \n",
              "min                     16.000000                   11.000000   \n",
              "25%                     51.500000                   46.000000   \n",
              "50%                    117.500000                  115.500000   \n",
              "75%                    239.250000                  229.000000   \n",
              "max                    291.000000                  276.000000   \n",
              "\n",
              "       Number Scoring CR  \n",
              "count          10.000000  \n",
              "mean          140.400000  \n",
              "std           103.588073  \n",
              "min            14.000000  \n",
              "25%            49.500000  \n",
              "50%           116.500000  \n",
              "75%           235.250000  \n",
              "max           286.000000  "
            ],
            "text/html": [
              "\n",
              "  <div id=\"df-4af0295a-9ea7-498e-b3f8-1a37a5ed8e5e\">\n",
              "    <div class=\"colab-df-container\">\n",
              "      <div>\n",
              "<style scoped>\n",
              "    .dataframe tbody tr th:only-of-type {\n",
              "        vertical-align: middle;\n",
              "    }\n",
              "\n",
              "    .dataframe tbody tr th {\n",
              "        vertical-align: top;\n",
              "    }\n",
              "\n",
              "    .dataframe thead th {\n",
              "        text-align: right;\n",
              "    }\n",
              "</style>\n",
              "<table border=\"1\" class=\"dataframe\">\n",
              "  <thead>\n",
              "    <tr style=\"text-align: right;\">\n",
              "      <th></th>\n",
              "      <th>Year</th>\n",
              "      <th>Total Tested</th>\n",
              "      <th>Mean Score</th>\n",
              "      <th>Number Scoring Below 65</th>\n",
              "      <th>Number Scoring 65 or Above</th>\n",
              "      <th>Number Scoring 80 or Above</th>\n",
              "      <th>Number Scoring CR</th>\n",
              "    </tr>\n",
              "  </thead>\n",
              "  <tbody>\n",
              "    <tr>\n",
              "      <th>count</th>\n",
              "      <td>10.0</td>\n",
              "      <td>10.000000</td>\n",
              "      <td>10.000000</td>\n",
              "      <td>10.0</td>\n",
              "      <td>10.000000</td>\n",
              "      <td>10.000000</td>\n",
              "      <td>10.000000</td>\n",
              "    </tr>\n",
              "    <tr>\n",
              "      <th>mean</th>\n",
              "      <td>2016.0</td>\n",
              "      <td>142.900000</td>\n",
              "      <td>89.940000</td>\n",
              "      <td>0.0</td>\n",
              "      <td>142.900000</td>\n",
              "      <td>135.600000</td>\n",
              "      <td>140.400000</td>\n",
              "    </tr>\n",
              "    <tr>\n",
              "      <th>std</th>\n",
              "      <td>0.0</td>\n",
              "      <td>104.714904</td>\n",
              "      <td>2.392674</td>\n",
              "      <td>0.0</td>\n",
              "      <td>104.714904</td>\n",
              "      <td>101.400416</td>\n",
              "      <td>103.588073</td>\n",
              "    </tr>\n",
              "    <tr>\n",
              "      <th>min</th>\n",
              "      <td>2016.0</td>\n",
              "      <td>16.000000</td>\n",
              "      <td>84.000000</td>\n",
              "      <td>0.0</td>\n",
              "      <td>16.000000</td>\n",
              "      <td>11.000000</td>\n",
              "      <td>14.000000</td>\n",
              "    </tr>\n",
              "    <tr>\n",
              "      <th>25%</th>\n",
              "      <td>2016.0</td>\n",
              "      <td>51.500000</td>\n",
              "      <td>89.275000</td>\n",
              "      <td>0.0</td>\n",
              "      <td>51.500000</td>\n",
              "      <td>46.000000</td>\n",
              "      <td>49.500000</td>\n",
              "    </tr>\n",
              "    <tr>\n",
              "      <th>50%</th>\n",
              "      <td>2016.0</td>\n",
              "      <td>117.500000</td>\n",
              "      <td>91.000000</td>\n",
              "      <td>0.0</td>\n",
              "      <td>117.500000</td>\n",
              "      <td>115.500000</td>\n",
              "      <td>116.500000</td>\n",
              "    </tr>\n",
              "    <tr>\n",
              "      <th>75%</th>\n",
              "      <td>2016.0</td>\n",
              "      <td>239.250000</td>\n",
              "      <td>91.250000</td>\n",
              "      <td>0.0</td>\n",
              "      <td>239.250000</td>\n",
              "      <td>229.000000</td>\n",
              "      <td>235.250000</td>\n",
              "    </tr>\n",
              "    <tr>\n",
              "      <th>max</th>\n",
              "      <td>2016.0</td>\n",
              "      <td>291.000000</td>\n",
              "      <td>92.300000</td>\n",
              "      <td>0.0</td>\n",
              "      <td>291.000000</td>\n",
              "      <td>276.000000</td>\n",
              "      <td>286.000000</td>\n",
              "    </tr>\n",
              "  </tbody>\n",
              "</table>\n",
              "</div>\n",
              "      <button class=\"colab-df-convert\" onclick=\"convertToInteractive('df-4af0295a-9ea7-498e-b3f8-1a37a5ed8e5e')\"\n",
              "              title=\"Convert this dataframe to an interactive table.\"\n",
              "              style=\"display:none;\">\n",
              "        \n",
              "  <svg xmlns=\"http://www.w3.org/2000/svg\" height=\"24px\"viewBox=\"0 0 24 24\"\n",
              "       width=\"24px\">\n",
              "    <path d=\"M0 0h24v24H0V0z\" fill=\"none\"/>\n",
              "    <path d=\"M18.56 5.44l.94 2.06.94-2.06 2.06-.94-2.06-.94-.94-2.06-.94 2.06-2.06.94zm-11 1L8.5 8.5l.94-2.06 2.06-.94-2.06-.94L8.5 2.5l-.94 2.06-2.06.94zm10 10l.94 2.06.94-2.06 2.06-.94-2.06-.94-.94-2.06-.94 2.06-2.06.94z\"/><path d=\"M17.41 7.96l-1.37-1.37c-.4-.4-.92-.59-1.43-.59-.52 0-1.04.2-1.43.59L10.3 9.45l-7.72 7.72c-.78.78-.78 2.05 0 2.83L4 21.41c.39.39.9.59 1.41.59.51 0 1.02-.2 1.41-.59l7.78-7.78 2.81-2.81c.8-.78.8-2.07 0-2.86zM5.41 20L4 18.59l7.72-7.72 1.47 1.35L5.41 20z\"/>\n",
              "  </svg>\n",
              "      </button>\n",
              "      \n",
              "  <style>\n",
              "    .colab-df-container {\n",
              "      display:flex;\n",
              "      flex-wrap:wrap;\n",
              "      gap: 12px;\n",
              "    }\n",
              "\n",
              "    .colab-df-convert {\n",
              "      background-color: #E8F0FE;\n",
              "      border: none;\n",
              "      border-radius: 50%;\n",
              "      cursor: pointer;\n",
              "      display: none;\n",
              "      fill: #1967D2;\n",
              "      height: 32px;\n",
              "      padding: 0 0 0 0;\n",
              "      width: 32px;\n",
              "    }\n",
              "\n",
              "    .colab-df-convert:hover {\n",
              "      background-color: #E2EBFA;\n",
              "      box-shadow: 0px 1px 2px rgba(60, 64, 67, 0.3), 0px 1px 3px 1px rgba(60, 64, 67, 0.15);\n",
              "      fill: #174EA6;\n",
              "    }\n",
              "\n",
              "    [theme=dark] .colab-df-convert {\n",
              "      background-color: #3B4455;\n",
              "      fill: #D2E3FC;\n",
              "    }\n",
              "\n",
              "    [theme=dark] .colab-df-convert:hover {\n",
              "      background-color: #434B5C;\n",
              "      box-shadow: 0px 1px 3px 1px rgba(0, 0, 0, 0.15);\n",
              "      filter: drop-shadow(0px 1px 2px rgba(0, 0, 0, 0.3));\n",
              "      fill: #FFFFFF;\n",
              "    }\n",
              "  </style>\n",
              "\n",
              "      <script>\n",
              "        const buttonEl =\n",
              "          document.querySelector('#df-4af0295a-9ea7-498e-b3f8-1a37a5ed8e5e button.colab-df-convert');\n",
              "        buttonEl.style.display =\n",
              "          google.colab.kernel.accessAllowed ? 'block' : 'none';\n",
              "\n",
              "        async function convertToInteractive(key) {\n",
              "          const element = document.querySelector('#df-4af0295a-9ea7-498e-b3f8-1a37a5ed8e5e');\n",
              "          const dataTable =\n",
              "            await google.colab.kernel.invokeFunction('convertToInteractive',\n",
              "                                                     [key], {});\n",
              "          if (!dataTable) return;\n",
              "\n",
              "          const docLinkHtml = 'Like what you see? Visit the ' +\n",
              "            '<a target=\"_blank\" href=https://colab.research.google.com/notebooks/data_table.ipynb>data table notebook</a>'\n",
              "            + ' to learn more about interactive tables.';\n",
              "          element.innerHTML = '';\n",
              "          dataTable['output_type'] = 'display_data';\n",
              "          await google.colab.output.renderOutput(dataTable, element);\n",
              "          const docLink = document.createElement('div');\n",
              "          docLink.innerHTML = docLinkHtml;\n",
              "          element.appendChild(docLink);\n",
              "        }\n",
              "      </script>\n",
              "    </div>\n",
              "  </div>\n",
              "  "
            ]
          },
          "metadata": {},
          "execution_count": 42
        }
      ]
    },
    {
      "cell_type": "code",
      "source": [
        "df_Beacon_16_Eng.sum()"
      ],
      "metadata": {
        "colab": {
          "base_uri": "https://localhost:8080/"
        },
        "id": "TSUjfl2j78qO",
        "outputId": "3663ae4c-fe9c-4976-a5a7-1ef9cf49bf11"
      },
      "execution_count": null,
      "outputs": [
        {
          "output_type": "execute_result",
          "data": {
            "text/plain": [
              "School District Borough Number    03M47903M47903M47903M47903M47903M47903M47903M4...\n",
              "School Name                       Beacon High SchoolBeacon High SchoolBeacon Hig...\n",
              "School Level                      High schoolHigh schoolHigh schoolHigh schoolHi...\n",
              "Regents Exam                      Common Core EnglishCommon Core EnglishCommon C...\n",
              "Year                                                                          20160\n",
              "Total Tested                                                                   1429\n",
              "Mean Score                                                                    899.4\n",
              "Number Scoring Below 65                                                         0.0\n",
              "Number Scoring 65 or Above                                                   1429.0\n",
              "Number Scoring 80 or Above                                                   1356.0\n",
              "Number Scoring CR                                                            1404.0\n",
              "dtype: object"
            ]
          },
          "metadata": {},
          "execution_count": 43
        }
      ]
    },
    {
      "cell_type": "markdown",
      "source": [
        "#**English Regents Test Results for All Schools 2016**"
      ],
      "metadata": {
        "id": "ZHK7j6efiysT"
      }
    },
    {
      "cell_type": "markdown",
      "source": [
        ""
      ],
      "metadata": {
        "id": "7Tg_UoFsiyUG"
      }
    },
    {
      "cell_type": "code",
      "source": [
        "df[df['Year']==2016] #Create comparison year for all schools for \"Common Core English\" in 2016\n",
        "df_16=df[df['Year']==2016]\n",
        "df_16_Eng=df[(df['Year']==2016) & (df['Regents Exam']=='Common Core English')]\n",
        "df_16_Eng.describe()"
      ],
      "metadata": {
        "colab": {
          "base_uri": "https://localhost:8080/",
          "height": 300
        },
        "id": "ApfxJ2e4pvKa",
        "outputId": "bb5504b1-0976-4040-f832-9bd177e149aa"
      },
      "execution_count": null,
      "outputs": [
        {
          "output_type": "execute_result",
          "data": {
            "text/plain": [
              "         Year  Total Tested   Mean Score  Number Scoring Below 65  \\\n",
              "count  4980.0   4980.000000  4980.000000              4980.000000   \n",
              "mean   2016.0     80.031124    71.016265                15.582932   \n",
              "std       0.0    117.576574    11.474624                22.537745   \n",
              "min    2016.0      6.000000    26.200000                 0.000000   \n",
              "25%    2016.0     22.000000    64.500000                 3.000000   \n",
              "50%    2016.0     49.000000    72.200000                 9.000000   \n",
              "75%    2016.0     90.000000    78.900000                19.000000   \n",
              "max    2016.0   1554.000000    95.700000               360.000000   \n",
              "\n",
              "       Number Scoring 65 or Above  Number Scoring 80 or Above  \\\n",
              "count                 4980.000000                 4980.000000   \n",
              "mean                    64.448193                   39.416265   \n",
              "std                    104.467834                   80.863422   \n",
              "min                      0.000000                    0.000000   \n",
              "25%                     14.000000                    6.000000   \n",
              "50%                     37.000000                   17.000000   \n",
              "75%                     71.250000                   39.000000   \n",
              "max                   1311.000000                 1290.000000   \n",
              "\n",
              "       Number Scoring CR  \n",
              "count        4980.000000  \n",
              "mean           48.655422  \n",
              "std            90.039228  \n",
              "min             0.000000  \n",
              "25%             8.000000  \n",
              "50%            24.000000  \n",
              "75%            52.000000  \n",
              "max          1306.000000  "
            ],
            "text/html": [
              "\n",
              "  <div id=\"df-623f6409-306d-4925-8b25-9b0b24184a7e\">\n",
              "    <div class=\"colab-df-container\">\n",
              "      <div>\n",
              "<style scoped>\n",
              "    .dataframe tbody tr th:only-of-type {\n",
              "        vertical-align: middle;\n",
              "    }\n",
              "\n",
              "    .dataframe tbody tr th {\n",
              "        vertical-align: top;\n",
              "    }\n",
              "\n",
              "    .dataframe thead th {\n",
              "        text-align: right;\n",
              "    }\n",
              "</style>\n",
              "<table border=\"1\" class=\"dataframe\">\n",
              "  <thead>\n",
              "    <tr style=\"text-align: right;\">\n",
              "      <th></th>\n",
              "      <th>Year</th>\n",
              "      <th>Total Tested</th>\n",
              "      <th>Mean Score</th>\n",
              "      <th>Number Scoring Below 65</th>\n",
              "      <th>Number Scoring 65 or Above</th>\n",
              "      <th>Number Scoring 80 or Above</th>\n",
              "      <th>Number Scoring CR</th>\n",
              "    </tr>\n",
              "  </thead>\n",
              "  <tbody>\n",
              "    <tr>\n",
              "      <th>count</th>\n",
              "      <td>4980.0</td>\n",
              "      <td>4980.000000</td>\n",
              "      <td>4980.000000</td>\n",
              "      <td>4980.000000</td>\n",
              "      <td>4980.000000</td>\n",
              "      <td>4980.000000</td>\n",
              "      <td>4980.000000</td>\n",
              "    </tr>\n",
              "    <tr>\n",
              "      <th>mean</th>\n",
              "      <td>2016.0</td>\n",
              "      <td>80.031124</td>\n",
              "      <td>71.016265</td>\n",
              "      <td>15.582932</td>\n",
              "      <td>64.448193</td>\n",
              "      <td>39.416265</td>\n",
              "      <td>48.655422</td>\n",
              "    </tr>\n",
              "    <tr>\n",
              "      <th>std</th>\n",
              "      <td>0.0</td>\n",
              "      <td>117.576574</td>\n",
              "      <td>11.474624</td>\n",
              "      <td>22.537745</td>\n",
              "      <td>104.467834</td>\n",
              "      <td>80.863422</td>\n",
              "      <td>90.039228</td>\n",
              "    </tr>\n",
              "    <tr>\n",
              "      <th>min</th>\n",
              "      <td>2016.0</td>\n",
              "      <td>6.000000</td>\n",
              "      <td>26.200000</td>\n",
              "      <td>0.000000</td>\n",
              "      <td>0.000000</td>\n",
              "      <td>0.000000</td>\n",
              "      <td>0.000000</td>\n",
              "    </tr>\n",
              "    <tr>\n",
              "      <th>25%</th>\n",
              "      <td>2016.0</td>\n",
              "      <td>22.000000</td>\n",
              "      <td>64.500000</td>\n",
              "      <td>3.000000</td>\n",
              "      <td>14.000000</td>\n",
              "      <td>6.000000</td>\n",
              "      <td>8.000000</td>\n",
              "    </tr>\n",
              "    <tr>\n",
              "      <th>50%</th>\n",
              "      <td>2016.0</td>\n",
              "      <td>49.000000</td>\n",
              "      <td>72.200000</td>\n",
              "      <td>9.000000</td>\n",
              "      <td>37.000000</td>\n",
              "      <td>17.000000</td>\n",
              "      <td>24.000000</td>\n",
              "    </tr>\n",
              "    <tr>\n",
              "      <th>75%</th>\n",
              "      <td>2016.0</td>\n",
              "      <td>90.000000</td>\n",
              "      <td>78.900000</td>\n",
              "      <td>19.000000</td>\n",
              "      <td>71.250000</td>\n",
              "      <td>39.000000</td>\n",
              "      <td>52.000000</td>\n",
              "    </tr>\n",
              "    <tr>\n",
              "      <th>max</th>\n",
              "      <td>2016.0</td>\n",
              "      <td>1554.000000</td>\n",
              "      <td>95.700000</td>\n",
              "      <td>360.000000</td>\n",
              "      <td>1311.000000</td>\n",
              "      <td>1290.000000</td>\n",
              "      <td>1306.000000</td>\n",
              "    </tr>\n",
              "  </tbody>\n",
              "</table>\n",
              "</div>\n",
              "      <button class=\"colab-df-convert\" onclick=\"convertToInteractive('df-623f6409-306d-4925-8b25-9b0b24184a7e')\"\n",
              "              title=\"Convert this dataframe to an interactive table.\"\n",
              "              style=\"display:none;\">\n",
              "        \n",
              "  <svg xmlns=\"http://www.w3.org/2000/svg\" height=\"24px\"viewBox=\"0 0 24 24\"\n",
              "       width=\"24px\">\n",
              "    <path d=\"M0 0h24v24H0V0z\" fill=\"none\"/>\n",
              "    <path d=\"M18.56 5.44l.94 2.06.94-2.06 2.06-.94-2.06-.94-.94-2.06-.94 2.06-2.06.94zm-11 1L8.5 8.5l.94-2.06 2.06-.94-2.06-.94L8.5 2.5l-.94 2.06-2.06.94zm10 10l.94 2.06.94-2.06 2.06-.94-2.06-.94-.94-2.06-.94 2.06-2.06.94z\"/><path d=\"M17.41 7.96l-1.37-1.37c-.4-.4-.92-.59-1.43-.59-.52 0-1.04.2-1.43.59L10.3 9.45l-7.72 7.72c-.78.78-.78 2.05 0 2.83L4 21.41c.39.39.9.59 1.41.59.51 0 1.02-.2 1.41-.59l7.78-7.78 2.81-2.81c.8-.78.8-2.07 0-2.86zM5.41 20L4 18.59l7.72-7.72 1.47 1.35L5.41 20z\"/>\n",
              "  </svg>\n",
              "      </button>\n",
              "      \n",
              "  <style>\n",
              "    .colab-df-container {\n",
              "      display:flex;\n",
              "      flex-wrap:wrap;\n",
              "      gap: 12px;\n",
              "    }\n",
              "\n",
              "    .colab-df-convert {\n",
              "      background-color: #E8F0FE;\n",
              "      border: none;\n",
              "      border-radius: 50%;\n",
              "      cursor: pointer;\n",
              "      display: none;\n",
              "      fill: #1967D2;\n",
              "      height: 32px;\n",
              "      padding: 0 0 0 0;\n",
              "      width: 32px;\n",
              "    }\n",
              "\n",
              "    .colab-df-convert:hover {\n",
              "      background-color: #E2EBFA;\n",
              "      box-shadow: 0px 1px 2px rgba(60, 64, 67, 0.3), 0px 1px 3px 1px rgba(60, 64, 67, 0.15);\n",
              "      fill: #174EA6;\n",
              "    }\n",
              "\n",
              "    [theme=dark] .colab-df-convert {\n",
              "      background-color: #3B4455;\n",
              "      fill: #D2E3FC;\n",
              "    }\n",
              "\n",
              "    [theme=dark] .colab-df-convert:hover {\n",
              "      background-color: #434B5C;\n",
              "      box-shadow: 0px 1px 3px 1px rgba(0, 0, 0, 0.15);\n",
              "      filter: drop-shadow(0px 1px 2px rgba(0, 0, 0, 0.3));\n",
              "      fill: #FFFFFF;\n",
              "    }\n",
              "  </style>\n",
              "\n",
              "      <script>\n",
              "        const buttonEl =\n",
              "          document.querySelector('#df-623f6409-306d-4925-8b25-9b0b24184a7e button.colab-df-convert');\n",
              "        buttonEl.style.display =\n",
              "          google.colab.kernel.accessAllowed ? 'block' : 'none';\n",
              "\n",
              "        async function convertToInteractive(key) {\n",
              "          const element = document.querySelector('#df-623f6409-306d-4925-8b25-9b0b24184a7e');\n",
              "          const dataTable =\n",
              "            await google.colab.kernel.invokeFunction('convertToInteractive',\n",
              "                                                     [key], {});\n",
              "          if (!dataTable) return;\n",
              "\n",
              "          const docLinkHtml = 'Like what you see? Visit the ' +\n",
              "            '<a target=\"_blank\" href=https://colab.research.google.com/notebooks/data_table.ipynb>data table notebook</a>'\n",
              "            + ' to learn more about interactive tables.';\n",
              "          element.innerHTML = '';\n",
              "          dataTable['output_type'] = 'display_data';\n",
              "          await google.colab.output.renderOutput(dataTable, element);\n",
              "          const docLink = document.createElement('div');\n",
              "          docLink.innerHTML = docLinkHtml;\n",
              "          element.appendChild(docLink);\n",
              "        }\n",
              "      </script>\n",
              "    </div>\n",
              "  </div>\n",
              "  "
            ]
          },
          "metadata": {},
          "execution_count": 44
        }
      ]
    },
    {
      "cell_type": "code",
      "source": [
        "df_16_Eng.sum()"
      ],
      "metadata": {
        "colab": {
          "base_uri": "https://localhost:8080/"
        },
        "id": "nciUk_2osp5f",
        "outputId": "562c9d1d-7345-4b23-e5df-62d4cbc266ea"
      },
      "execution_count": null,
      "outputs": [
        {
          "output_type": "execute_result",
          "data": {
            "text/plain": [
              "School District Borough Number    01M29201M44801M45001M45801M50901M51501M53901M6...\n",
              "School Name                       Orchard Collegiate AcademyUniversity Neighborh...\n",
              "School Level                      High schoolHigh schoolSecondary SchoolHigh sch...\n",
              "Regents Exam                      Common Core EnglishCommon Core EnglishCommon C...\n",
              "Year                                                                       10039680\n",
              "Total Tested                                                                 398555\n",
              "Mean Score                                                                 353661.0\n",
              "Number Scoring Below 65                                                     77603.0\n",
              "Number Scoring 65 or Above                                                 320952.0\n",
              "Number Scoring 80 or Above                                                 196293.0\n",
              "Number Scoring CR                                                          242304.0\n",
              "dtype: object"
            ]
          },
          "metadata": {},
          "execution_count": 45
        }
      ]
    },
    {
      "cell_type": "code",
      "source": [
        "#Compare All Passing Common Core English Tests by School Name Visually - trying out a different method\n",
        "df_16_Eng.groupby(['School Name'])['Number Scoring 65 or Above'].sum().plot(kind='bar',title='Number Passing Regents')\n",
        "#comparison of schools"
      ],
      "metadata": {
        "colab": {
          "base_uri": "https://localhost:8080/",
          "height": 588
        },
        "id": "ThanDO6kxZ8a",
        "outputId": "eab89c2f-784d-4e0a-8a7d-98a1a1eaa998"
      },
      "execution_count": null,
      "outputs": [
        {
          "output_type": "execute_result",
          "data": {
            "text/plain": [
              "<matplotlib.axes._subplots.AxesSubplot at 0x7fec704a9790>"
            ]
          },
          "metadata": {},
          "execution_count": 46
        },
        {
          "output_type": "display_data",
          "data": {
            "text/plain": [
              "<Figure size 432x288 with 1 Axes>"
            ],
            "image/png": "[encoded data removed]"
          },
          "metadata": {
            "needs_background": "light"
          }
        }
      ]
    },
    {
      "cell_type": "markdown",
      "source": [
        "#**English College Readiness Results for All Schools**\n",
        "\n",
        "Note: The scores seem to be missing when filtering the dataframe to get to them but they are listed and so manually summarized and analyzed."
      ],
      "metadata": {
        "id": "aAstPeEhi6mV"
      }
    },
    {
      "cell_type": "code",
      "source": [
        "#df[df['Year']==2016] #Create comparison year for all schools for \"College Readiness \" in 2016. It can be gleaned\n",
        "#from the NaN values below, that not all schools calculated this or that it is not calculated automatically?\n",
        "df_16=df[df['Year']==2016]\n",
        "df_16_CR=df[(df['Year']==2016) & (df['Regents Exam']=='Number Scoring CR')]\n",
        "df_16_CR.describe() #DATA NOT AVAILABLE"
      ],
      "metadata": {
        "colab": {
          "base_uri": "https://localhost:8080/",
          "height": 300
        },
        "id": "f2gUHK7jp5il",
        "outputId": "4c0241c3-56c8-43a7-ab22-f3fd7b1415ce"
      },
      "execution_count": null,
      "outputs": [
        {
          "output_type": "execute_result",
          "data": {
            "text/plain": [
              "       Year  Total Tested  Mean Score  Number Scoring Below 65  \\\n",
              "count   0.0           0.0         0.0                      0.0   \n",
              "mean    NaN           NaN         NaN                      NaN   \n",
              "std     NaN           NaN         NaN                      NaN   \n",
              "min     NaN           NaN         NaN                      NaN   \n",
              "25%     NaN           NaN         NaN                      NaN   \n",
              "50%     NaN           NaN         NaN                      NaN   \n",
              "75%     NaN           NaN         NaN                      NaN   \n",
              "max     NaN           NaN         NaN                      NaN   \n",
              "\n",
              "       Number Scoring 65 or Above  Number Scoring 80 or Above  \\\n",
              "count                         0.0                         0.0   \n",
              "mean                          NaN                         NaN   \n",
              "std                           NaN                         NaN   \n",
              "min                           NaN                         NaN   \n",
              "25%                           NaN                         NaN   \n",
              "50%                           NaN                         NaN   \n",
              "75%                           NaN                         NaN   \n",
              "max                           NaN                         NaN   \n",
              "\n",
              "       Number Scoring CR  \n",
              "count                0.0  \n",
              "mean                 NaN  \n",
              "std                  NaN  \n",
              "min                  NaN  \n",
              "25%                  NaN  \n",
              "50%                  NaN  \n",
              "75%                  NaN  \n",
              "max                  NaN  "
            ],
            "text/html": [
              "\n",
              "  <div id=\"df-77d523a5-2841-4c38-b95c-7f7c8fa1dcf3\">\n",
              "    <div class=\"colab-df-container\">\n",
              "      <div>\n",
              "<style scoped>\n",
              "    .dataframe tbody tr th:only-of-type {\n",
              "        vertical-align: middle;\n",
              "    }\n",
              "\n",
              "    .dataframe tbody tr th {\n",
              "        vertical-align: top;\n",
              "    }\n",
              "\n",
              "    .dataframe thead th {\n",
              "        text-align: right;\n",
              "    }\n",
              "</style>\n",
              "<table border=\"1\" class=\"dataframe\">\n",
              "  <thead>\n",
              "    <tr style=\"text-align: right;\">\n",
              "      <th></th>\n",
              "      <th>Year</th>\n",
              "      <th>Total Tested</th>\n",
              "      <th>Mean Score</th>\n",
              "      <th>Number Scoring Below 65</th>\n",
              "      <th>Number Scoring 65 or Above</th>\n",
              "      <th>Number Scoring 80 or Above</th>\n",
              "      <th>Number Scoring CR</th>\n",
              "    </tr>\n",
              "  </thead>\n",
              "  <tbody>\n",
              "    <tr>\n",
              "      <th>count</th>\n",
              "      <td>0.0</td>\n",
              "      <td>0.0</td>\n",
              "      <td>0.0</td>\n",
              "      <td>0.0</td>\n",
              "      <td>0.0</td>\n",
              "      <td>0.0</td>\n",
              "      <td>0.0</td>\n",
              "    </tr>\n",
              "    <tr>\n",
              "      <th>mean</th>\n",
              "      <td>NaN</td>\n",
              "      <td>NaN</td>\n",
              "      <td>NaN</td>\n",
              "      <td>NaN</td>\n",
              "      <td>NaN</td>\n",
              "      <td>NaN</td>\n",
              "      <td>NaN</td>\n",
              "    </tr>\n",
              "    <tr>\n",
              "      <th>std</th>\n",
              "      <td>NaN</td>\n",
              "      <td>NaN</td>\n",
              "      <td>NaN</td>\n",
              "      <td>NaN</td>\n",
              "      <td>NaN</td>\n",
              "      <td>NaN</td>\n",
              "      <td>NaN</td>\n",
              "    </tr>\n",
              "    <tr>\n",
              "      <th>min</th>\n",
              "      <td>NaN</td>\n",
              "      <td>NaN</td>\n",
              "      <td>NaN</td>\n",
              "      <td>NaN</td>\n",
              "      <td>NaN</td>\n",
              "      <td>NaN</td>\n",
              "      <td>NaN</td>\n",
              "    </tr>\n",
              "    <tr>\n",
              "      <th>25%</th>\n",
              "      <td>NaN</td>\n",
              "      <td>NaN</td>\n",
              "      <td>NaN</td>\n",
              "      <td>NaN</td>\n",
              "      <td>NaN</td>\n",
              "      <td>NaN</td>\n",
              "      <td>NaN</td>\n",
              "    </tr>\n",
              "    <tr>\n",
              "      <th>50%</th>\n",
              "      <td>NaN</td>\n",
              "      <td>NaN</td>\n",
              "      <td>NaN</td>\n",
              "      <td>NaN</td>\n",
              "      <td>NaN</td>\n",
              "      <td>NaN</td>\n",
              "      <td>NaN</td>\n",
              "    </tr>\n",
              "    <tr>\n",
              "      <th>75%</th>\n",
              "      <td>NaN</td>\n",
              "      <td>NaN</td>\n",
              "      <td>NaN</td>\n",
              "      <td>NaN</td>\n",
              "      <td>NaN</td>\n",
              "      <td>NaN</td>\n",
              "      <td>NaN</td>\n",
              "    </tr>\n",
              "    <tr>\n",
              "      <th>max</th>\n",
              "      <td>NaN</td>\n",
              "      <td>NaN</td>\n",
              "      <td>NaN</td>\n",
              "      <td>NaN</td>\n",
              "      <td>NaN</td>\n",
              "      <td>NaN</td>\n",
              "      <td>NaN</td>\n",
              "    </tr>\n",
              "  </tbody>\n",
              "</table>\n",
              "</div>\n",
              "      <button class=\"colab-df-convert\" onclick=\"convertToInteractive('df-77d523a5-2841-4c38-b95c-7f7c8fa1dcf3')\"\n",
              "              title=\"Convert this dataframe to an interactive table.\"\n",
              "              style=\"display:none;\">\n",
              "        \n",
              "  <svg xmlns=\"http://www.w3.org/2000/svg\" height=\"24px\"viewBox=\"0 0 24 24\"\n",
              "       width=\"24px\">\n",
              "    <path d=\"M0 0h24v24H0V0z\" fill=\"none\"/>\n",
              "    <path d=\"M18.56 5.44l.94 2.06.94-2.06 2.06-.94-2.06-.94-.94-2.06-.94 2.06-2.06.94zm-11 1L8.5 8.5l.94-2.06 2.06-.94-2.06-.94L8.5 2.5l-.94 2.06-2.06.94zm10 10l.94 2.06.94-2.06 2.06-.94-2.06-.94-.94-2.06-.94 2.06-2.06.94z\"/><path d=\"M17.41 7.96l-1.37-1.37c-.4-.4-.92-.59-1.43-.59-.52 0-1.04.2-1.43.59L10.3 9.45l-7.72 7.72c-.78.78-.78 2.05 0 2.83L4 21.41c.39.39.9.59 1.41.59.51 0 1.02-.2 1.41-.59l7.78-7.78 2.81-2.81c.8-.78.8-2.07 0-2.86zM5.41 20L4 18.59l7.72-7.72 1.47 1.35L5.41 20z\"/>\n",
              "  </svg>\n",
              "      </button>\n",
              "      \n",
              "  <style>\n",
              "    .colab-df-container {\n",
              "      display:flex;\n",
              "      flex-wrap:wrap;\n",
              "      gap: 12px;\n",
              "    }\n",
              "\n",
              "    .colab-df-convert {\n",
              "      background-color: #E8F0FE;\n",
              "      border: none;\n",
              "      border-radius: 50%;\n",
              "      cursor: pointer;\n",
              "      display: none;\n",
              "      fill: #1967D2;\n",
              "      height: 32px;\n",
              "      padding: 0 0 0 0;\n",
              "      width: 32px;\n",
              "    }\n",
              "\n",
              "    .colab-df-convert:hover {\n",
              "      background-color: #E2EBFA;\n",
              "      box-shadow: 0px 1px 2px rgba(60, 64, 67, 0.3), 0px 1px 3px 1px rgba(60, 64, 67, 0.15);\n",
              "      fill: #174EA6;\n",
              "    }\n",
              "\n",
              "    [theme=dark] .colab-df-convert {\n",
              "      background-color: #3B4455;\n",
              "      fill: #D2E3FC;\n",
              "    }\n",
              "\n",
              "    [theme=dark] .colab-df-convert:hover {\n",
              "      background-color: #434B5C;\n",
              "      box-shadow: 0px 1px 3px 1px rgba(0, 0, 0, 0.15);\n",
              "      filter: drop-shadow(0px 1px 2px rgba(0, 0, 0, 0.3));\n",
              "      fill: #FFFFFF;\n",
              "    }\n",
              "  </style>\n",
              "\n",
              "      <script>\n",
              "        const buttonEl =\n",
              "          document.querySelector('#df-77d523a5-2841-4c38-b95c-7f7c8fa1dcf3 button.colab-df-convert');\n",
              "        buttonEl.style.display =\n",
              "          google.colab.kernel.accessAllowed ? 'block' : 'none';\n",
              "\n",
              "        async function convertToInteractive(key) {\n",
              "          const element = document.querySelector('#df-77d523a5-2841-4c38-b95c-7f7c8fa1dcf3');\n",
              "          const dataTable =\n",
              "            await google.colab.kernel.invokeFunction('convertToInteractive',\n",
              "                                                     [key], {});\n",
              "          if (!dataTable) return;\n",
              "\n",
              "          const docLinkHtml = 'Like what you see? Visit the ' +\n",
              "            '<a target=\"_blank\" href=https://colab.research.google.com/notebooks/data_table.ipynb>data table notebook</a>'\n",
              "            + ' to learn more about interactive tables.';\n",
              "          element.innerHTML = '';\n",
              "          dataTable['output_type'] = 'display_data';\n",
              "          await google.colab.output.renderOutput(dataTable, element);\n",
              "          const docLink = document.createElement('div');\n",
              "          docLink.innerHTML = docLinkHtml;\n",
              "          element.appendChild(docLink);\n",
              "        }\n",
              "      </script>\n",
              "    </div>\n",
              "  </div>\n",
              "  "
            ]
          },
          "metadata": {},
          "execution_count": 47
        }
      ]
    },
    {
      "cell_type": "code",
      "source": [
        "df_16_CR.shape"
      ],
      "metadata": {
        "colab": {
          "base_uri": "https://localhost:8080/"
        },
        "id": "btULPWK3snky",
        "outputId": "1cb1bff8-e825-4b6d-ac5e-7d8dea0b91ee"
      },
      "execution_count": null,
      "outputs": [
        {
          "output_type": "execute_result",
          "data": {
            "text/plain": [
              "(0, 11)"
            ]
          },
          "metadata": {},
          "execution_count": 48
        }
      ]
    },
    {
      "cell_type": "markdown",
      "source": [
        "##**Assignment Question 2: Compare the Selected School to the Entire dataset of schools.**\n",
        "**Note: I am focusing on the comparison of each regents subject for comparison.**"
      ],
      "metadata": {
        "id": "qduaC1sPjYvH"
      }
    },
    {
      "cell_type": "markdown",
      "source": [
        "#**Comparison of Mean Math Test Scores between Beacon and All Schools**"
      ],
      "metadata": {
        "id": "gd3HIiPZlV31"
      }
    },
    {
      "cell_type": "code",
      "source": [
        "#Compare Beacon High School Mean test score in Algebra 1 to Mean test score for all Manhattan Schools:\n",
        "import matplotlib.pyplot as plt\n",
        "plt.bar(df_Beacon_16_Alg['School Name'],df_Beacon_16_Alg['Mean Score'], label = 'Beacon')\n",
        "plt.bar(df_16_Alg['School Name'],df_16_Alg['Mean Score'],bottom=df_Beacon_16_Alg['Mean Score'], label = 'All Schools')\n",
        "plt.legend()\n",
        "plt.show()\n",
        "#Not a good visual\n",
        "\n"
      ],
      "metadata": {
        "id": "ZZgnUejIKdBf",
        "colab": {
          "base_uri": "https://localhost:8080/",
          "height": 265
        },
        "outputId": "22ff7683-4367-49fb-be34-9eea15fd3d5e"
      },
      "execution_count": null,
      "outputs": [
        {
          "output_type": "display_data",
          "data": {
            "text/plain": [
              "<Figure size 432x288 with 1 Axes>"
            ],
            "image/png": "[encoded data removed]"
          },
          "metadata": {
            "needs_background": "light"
          }
        }
      ]
    },
    {
      "cell_type": "markdown",
      "source": [
        "#**Assignment Question 3: Comparison of School to Borough: Beacon to other schools in Manhattan**"
      ],
      "metadata": {
        "id": "Lq12IxmfljV5"
      }
    },
    {
      "cell_type": "code",
      "source": [
        "df[df['School District Borough Number'].str.contains('M')]\n",
        "Manhattan = df[df['School District Borough Number'].str.contains('M')]\n",
        "Manhattan.shape"
      ],
      "metadata": {
        "colab": {
          "base_uri": "https://localhost:8080/"
        },
        "id": "ILVkL9a0k64Y",
        "outputId": "d6c4965b-0537-4e9f-bc97-bd78ac6dfc62"
      },
      "execution_count": null,
      "outputs": [
        {
          "output_type": "execute_result",
          "data": {
            "text/plain": [
              "(15695, 11)"
            ]
          },
          "metadata": {},
          "execution_count": 50
        }
      ]
    },
    {
      "cell_type": "code",
      "source": [
        "Manhattan.isnull().sum()"
      ],
      "metadata": {
        "id": "pvtsOaD4PiWl",
        "colab": {
          "base_uri": "https://localhost:8080/"
        },
        "outputId": "17cc96bd-5078-4e4c-dd5d-6b5ae9f78a0e"
      },
      "execution_count": null,
      "outputs": [
        {
          "output_type": "execute_result",
          "data": {
            "text/plain": [
              "School District Borough Number    0\n",
              "School Name                       0\n",
              "School Level                      0\n",
              "Regents Exam                      0\n",
              "Year                              0\n",
              "Total Tested                      0\n",
              "Mean Score                        0\n",
              "Number Scoring Below 65           0\n",
              "Number Scoring 65 or Above        0\n",
              "Number Scoring 80 or Above        0\n",
              "Number Scoring CR                 0\n",
              "dtype: int64"
            ]
          },
          "metadata": {},
          "execution_count": 51
        }
      ]
    },
    {
      "cell_type": "code",
      "source": [
        "Manhattan.describe()"
      ],
      "metadata": {
        "colab": {
          "base_uri": "https://localhost:8080/",
          "height": 300
        },
        "id": "fjaVQnVSlPxG",
        "outputId": "ec5e446e-0e87-41e2-bac8-2b6a07052623"
      },
      "execution_count": null,
      "outputs": [
        {
          "output_type": "execute_result",
          "data": {
            "text/plain": [
              "               Year  Total Tested    Mean Score  Number Scoring Below 65  \\\n",
              "count  15695.000000  15695.000000  15695.000000             15695.000000   \n",
              "mean    2015.908251     56.241351     67.120586                17.694106   \n",
              "std        0.805545     71.859726     11.587933                24.100283   \n",
              "min     2015.000000      6.000000     24.900000                 0.000000   \n",
              "25%     2015.000000     16.000000     59.200000                 3.000000   \n",
              "50%     2016.000000     35.000000     66.800000                 9.000000   \n",
              "75%     2017.000000     71.000000     75.400000                22.000000   \n",
              "max     2017.000000    909.000000     98.300000               310.000000   \n",
              "\n",
              "       Number Scoring 65 or Above  Number Scoring 80 or Above  \\\n",
              "count                15695.000000                15695.000000   \n",
              "mean                    38.547244                   17.525518   \n",
              "std                     63.212846                   48.506302   \n",
              "min                      0.000000                    0.000000   \n",
              "25%                      7.000000                    1.000000   \n",
              "50%                     19.000000                    4.000000   \n",
              "75%                     48.000000                   17.000000   \n",
              "max                    909.000000                  867.000000   \n",
              "\n",
              "       Number Scoring CR  \n",
              "count       15695.000000  \n",
              "mean           27.730933  \n",
              "std            57.031977  \n",
              "min             0.000000  \n",
              "25%             3.000000  \n",
              "50%            10.000000  \n",
              "75%            32.000000  \n",
              "max           908.000000  "
            ],
            "text/html": [
              "\n",
              "  <div id=\"df-5513d823-feef-4f83-b302-7bc20e6ffccd\">\n",
              "    <div class=\"colab-df-container\">\n",
              "      <div>\n",
              "<style scoped>\n",
              "    .dataframe tbody tr th:only-of-type {\n",
              "        vertical-align: middle;\n",
              "    }\n",
              "\n",
              "    .dataframe tbody tr th {\n",
              "        vertical-align: top;\n",
              "    }\n",
              "\n",
              "    .dataframe thead th {\n",
              "        text-align: right;\n",
              "    }\n",
              "</style>\n",
              "<table border=\"1\" class=\"dataframe\">\n",
              "  <thead>\n",
              "    <tr style=\"text-align: right;\">\n",
              "      <th></th>\n",
              "      <th>Year</th>\n",
              "      <th>Total Tested</th>\n",
              "      <th>Mean Score</th>\n",
              "      <th>Number Scoring Below 65</th>\n",
              "      <th>Number Scoring 65 or Above</th>\n",
              "      <th>Number Scoring 80 or Above</th>\n",
              "      <th>Number Scoring CR</th>\n",
              "    </tr>\n",
              "  </thead>\n",
              "  <tbody>\n",
              "    <tr>\n",
              "      <th>count</th>\n",
              "      <td>15695.000000</td>\n",
              "      <td>15695.000000</td>\n",
              "      <td>15695.000000</td>\n",
              "      <td>15695.000000</td>\n",
              "      <td>15695.000000</td>\n",
              "      <td>15695.000000</td>\n",
              "      <td>15695.000000</td>\n",
              "    </tr>\n",
              "    <tr>\n",
              "      <th>mean</th>\n",
              "      <td>2015.908251</td>\n",
              "      <td>56.241351</td>\n",
              "      <td>67.120586</td>\n",
              "      <td>17.694106</td>\n",
              "      <td>38.547244</td>\n",
              "      <td>17.525518</td>\n",
              "      <td>27.730933</td>\n",
              "    </tr>\n",
              "    <tr>\n",
              "      <th>std</th>\n",
              "      <td>0.805545</td>\n",
              "      <td>71.859726</td>\n",
              "      <td>11.587933</td>\n",
              "      <td>24.100283</td>\n",
              "      <td>63.212846</td>\n",
              "      <td>48.506302</td>\n",
              "      <td>57.031977</td>\n",
              "    </tr>\n",
              "    <tr>\n",
              "      <th>min</th>\n",
              "      <td>2015.000000</td>\n",
              "      <td>6.000000</td>\n",
              "      <td>24.900000</td>\n",
              "      <td>0.000000</td>\n",
              "      <td>0.000000</td>\n",
              "      <td>0.000000</td>\n",
              "      <td>0.000000</td>\n",
              "    </tr>\n",
              "    <tr>\n",
              "      <th>25%</th>\n",
              "      <td>2015.000000</td>\n",
              "      <td>16.000000</td>\n",
              "      <td>59.200000</td>\n",
              "      <td>3.000000</td>\n",
              "      <td>7.000000</td>\n",
              "      <td>1.000000</td>\n",
              "      <td>3.000000</td>\n",
              "    </tr>\n",
              "    <tr>\n",
              "      <th>50%</th>\n",
              "      <td>2016.000000</td>\n",
              "      <td>35.000000</td>\n",
              "      <td>66.800000</td>\n",
              "      <td>9.000000</td>\n",
              "      <td>19.000000</td>\n",
              "      <td>4.000000</td>\n",
              "      <td>10.000000</td>\n",
              "    </tr>\n",
              "    <tr>\n",
              "      <th>75%</th>\n",
              "      <td>2017.000000</td>\n",
              "      <td>71.000000</td>\n",
              "      <td>75.400000</td>\n",
              "      <td>22.000000</td>\n",
              "      <td>48.000000</td>\n",
              "      <td>17.000000</td>\n",
              "      <td>32.000000</td>\n",
              "    </tr>\n",
              "    <tr>\n",
              "      <th>max</th>\n",
              "      <td>2017.000000</td>\n",
              "      <td>909.000000</td>\n",
              "      <td>98.300000</td>\n",
              "      <td>310.000000</td>\n",
              "      <td>909.000000</td>\n",
              "      <td>867.000000</td>\n",
              "      <td>908.000000</td>\n",
              "    </tr>\n",
              "  </tbody>\n",
              "</table>\n",
              "</div>\n",
              "      <button class=\"colab-df-convert\" onclick=\"convertToInteractive('df-5513d823-feef-4f83-b302-7bc20e6ffccd')\"\n",
              "              title=\"Convert this dataframe to an interactive table.\"\n",
              "              style=\"display:none;\">\n",
              "        \n",
              "  <svg xmlns=\"http://www.w3.org/2000/svg\" height=\"24px\"viewBox=\"0 0 24 24\"\n",
              "       width=\"24px\">\n",
              "    <path d=\"M0 0h24v24H0V0z\" fill=\"none\"/>\n",
              "    <path d=\"M18.56 5.44l.94 2.06.94-2.06 2.06-.94-2.06-.94-.94-2.06-.94 2.06-2.06.94zm-11 1L8.5 8.5l.94-2.06 2.06-.94-2.06-.94L8.5 2.5l-.94 2.06-2.06.94zm10 10l.94 2.06.94-2.06 2.06-.94-2.06-.94-.94-2.06-.94 2.06-2.06.94z\"/><path d=\"M17.41 7.96l-1.37-1.37c-.4-.4-.92-.59-1.43-.59-.52 0-1.04.2-1.43.59L10.3 9.45l-7.72 7.72c-.78.78-.78 2.05 0 2.83L4 21.41c.39.39.9.59 1.41.59.51 0 1.02-.2 1.41-.59l7.78-7.78 2.81-2.81c.8-.78.8-2.07 0-2.86zM5.41 20L4 18.59l7.72-7.72 1.47 1.35L5.41 20z\"/>\n",
              "  </svg>\n",
              "      </button>\n",
              "      \n",
              "  <style>\n",
              "    .colab-df-container {\n",
              "      display:flex;\n",
              "      flex-wrap:wrap;\n",
              "      gap: 12px;\n",
              "    }\n",
              "\n",
              "    .colab-df-convert {\n",
              "      background-color: #E8F0FE;\n",
              "      border: none;\n",
              "      border-radius: 50%;\n",
              "      cursor: pointer;\n",
              "      display: none;\n",
              "      fill: #1967D2;\n",
              "      height: 32px;\n",
              "      padding: 0 0 0 0;\n",
              "      width: 32px;\n",
              "    }\n",
              "\n",
              "    .colab-df-convert:hover {\n",
              "      background-color: #E2EBFA;\n",
              "      box-shadow: 0px 1px 2px rgba(60, 64, 67, 0.3), 0px 1px 3px 1px rgba(60, 64, 67, 0.15);\n",
              "      fill: #174EA6;\n",
              "    }\n",
              "\n",
              "    [theme=dark] .colab-df-convert {\n",
              "      background-color: #3B4455;\n",
              "      fill: #D2E3FC;\n",
              "    }\n",
              "\n",
              "    [theme=dark] .colab-df-convert:hover {\n",
              "      background-color: #434B5C;\n",
              "      box-shadow: 0px 1px 3px 1px rgba(0, 0, 0, 0.15);\n",
              "      filter: drop-shadow(0px 1px 2px rgba(0, 0, 0, 0.3));\n",
              "      fill: #FFFFFF;\n",
              "    }\n",
              "  </style>\n",
              "\n",
              "      <script>\n",
              "        const buttonEl =\n",
              "          document.querySelector('#df-5513d823-feef-4f83-b302-7bc20e6ffccd button.colab-df-convert');\n",
              "        buttonEl.style.display =\n",
              "          google.colab.kernel.accessAllowed ? 'block' : 'none';\n",
              "\n",
              "        async function convertToInteractive(key) {\n",
              "          const element = document.querySelector('#df-5513d823-feef-4f83-b302-7bc20e6ffccd');\n",
              "          const dataTable =\n",
              "            await google.colab.kernel.invokeFunction('convertToInteractive',\n",
              "                                                     [key], {});\n",
              "          if (!dataTable) return;\n",
              "\n",
              "          const docLinkHtml = 'Like what you see? Visit the ' +\n",
              "            '<a target=\"_blank\" href=https://colab.research.google.com/notebooks/data_table.ipynb>data table notebook</a>'\n",
              "            + ' to learn more about interactive tables.';\n",
              "          element.innerHTML = '';\n",
              "          dataTable['output_type'] = 'display_data';\n",
              "          await google.colab.output.renderOutput(dataTable, element);\n",
              "          const docLink = document.createElement('div');\n",
              "          docLink.innerHTML = docLinkHtml;\n",
              "          element.appendChild(docLink);\n",
              "        }\n",
              "      </script>\n",
              "    </div>\n",
              "  </div>\n",
              "  "
            ]
          },
          "metadata": {},
          "execution_count": 52
        }
      ]
    },
    {
      "cell_type": "code",
      "source": [
        "df[df['Year']==2016] #Create comparison year for all schools for \"Common Core Algebra\" in 2016\n",
        "df_16=df[df['Year']==2016]\n",
        "df_16_Alg=df[(df['Year']==2016) & (df['Regents Exam']=='Common Core Algebra')]\n",
        "df_16_Alg.describe()"
      ],
      "metadata": {
        "colab": {
          "base_uri": "https://localhost:8080/",
          "height": 300
        },
        "id": "Vk2RkkQU-z5a",
        "outputId": "d9319d9d-c0eb-4989-a144-28d2fd176fda"
      },
      "execution_count": null,
      "outputs": [
        {
          "output_type": "execute_result",
          "data": {
            "text/plain": [
              "         Year  Total Tested   Mean Score  Number Scoring Below 65  \\\n",
              "count  6408.0   6408.000000  6408.000000              6408.000000   \n",
              "mean   2016.0     82.818508    68.433817                29.286361   \n",
              "std       0.0    112.229183     9.669473                44.968694   \n",
              "min    2016.0      6.000000    41.000000                 0.000000   \n",
              "25%    2016.0     20.000000    61.200000                 3.000000   \n",
              "50%    2016.0     49.000000    67.000000                13.000000   \n",
              "75%    2016.0    103.000000    75.300000                39.000000   \n",
              "max    2016.0   1258.000000    94.100000               521.000000   \n",
              "\n",
              "       Number Scoring 65 or Above  Number Scoring 80 or Above  \\\n",
              "count                 6408.000000                 6408.000000   \n",
              "mean                    53.532147                   15.906991   \n",
              "std                     77.935067                   31.700867   \n",
              "min                      0.000000                    0.000000   \n",
              "25%                     11.000000                    1.000000   \n",
              "50%                     30.000000                    5.000000   \n",
              "75%                     66.000000                   16.000000   \n",
              "max                    884.000000                  478.000000   \n",
              "\n",
              "       Number Scoring CR  \n",
              "count        6408.000000  \n",
              "mean           40.253121  \n",
              "std            61.336931  \n",
              "min             0.000000  \n",
              "25%             8.000000  \n",
              "50%            22.000000  \n",
              "75%            48.000000  \n",
              "max           744.000000  "
            ],
            "text/html": [
              "\n",
              "  <div id=\"df-0d97c1de-b826-402d-9826-aa9d9c3c8520\">\n",
              "    <div class=\"colab-df-container\">\n",
              "      <div>\n",
              "<style scoped>\n",
              "    .dataframe tbody tr th:only-of-type {\n",
              "        vertical-align: middle;\n",
              "    }\n",
              "\n",
              "    .dataframe tbody tr th {\n",
              "        vertical-align: top;\n",
              "    }\n",
              "\n",
              "    .dataframe thead th {\n",
              "        text-align: right;\n",
              "    }\n",
              "</style>\n",
              "<table border=\"1\" class=\"dataframe\">\n",
              "  <thead>\n",
              "    <tr style=\"text-align: right;\">\n",
              "      <th></th>\n",
              "      <th>Year</th>\n",
              "      <th>Total Tested</th>\n",
              "      <th>Mean Score</th>\n",
              "      <th>Number Scoring Below 65</th>\n",
              "      <th>Number Scoring 65 or Above</th>\n",
              "      <th>Number Scoring 80 or Above</th>\n",
              "      <th>Number Scoring CR</th>\n",
              "    </tr>\n",
              "  </thead>\n",
              "  <tbody>\n",
              "    <tr>\n",
              "      <th>count</th>\n",
              "      <td>6408.0</td>\n",
              "      <td>6408.000000</td>\n",
              "      <td>6408.000000</td>\n",
              "      <td>6408.000000</td>\n",
              "      <td>6408.000000</td>\n",
              "      <td>6408.000000</td>\n",
              "      <td>6408.000000</td>\n",
              "    </tr>\n",
              "    <tr>\n",
              "      <th>mean</th>\n",
              "      <td>2016.0</td>\n",
              "      <td>82.818508</td>\n",
              "      <td>68.433817</td>\n",
              "      <td>29.286361</td>\n",
              "      <td>53.532147</td>\n",
              "      <td>15.906991</td>\n",
              "      <td>40.253121</td>\n",
              "    </tr>\n",
              "    <tr>\n",
              "      <th>std</th>\n",
              "      <td>0.0</td>\n",
              "      <td>112.229183</td>\n",
              "      <td>9.669473</td>\n",
              "      <td>44.968694</td>\n",
              "      <td>77.935067</td>\n",
              "      <td>31.700867</td>\n",
              "      <td>61.336931</td>\n",
              "    </tr>\n",
              "    <tr>\n",
              "      <th>min</th>\n",
              "      <td>2016.0</td>\n",
              "      <td>6.000000</td>\n",
              "      <td>41.000000</td>\n",
              "      <td>0.000000</td>\n",
              "      <td>0.000000</td>\n",
              "      <td>0.000000</td>\n",
              "      <td>0.000000</td>\n",
              "    </tr>\n",
              "    <tr>\n",
              "      <th>25%</th>\n",
              "      <td>2016.0</td>\n",
              "      <td>20.000000</td>\n",
              "      <td>61.200000</td>\n",
              "      <td>3.000000</td>\n",
              "      <td>11.000000</td>\n",
              "      <td>1.000000</td>\n",
              "      <td>8.000000</td>\n",
              "    </tr>\n",
              "    <tr>\n",
              "      <th>50%</th>\n",
              "      <td>2016.0</td>\n",
              "      <td>49.000000</td>\n",
              "      <td>67.000000</td>\n",
              "      <td>13.000000</td>\n",
              "      <td>30.000000</td>\n",
              "      <td>5.000000</td>\n",
              "      <td>22.000000</td>\n",
              "    </tr>\n",
              "    <tr>\n",
              "      <th>75%</th>\n",
              "      <td>2016.0</td>\n",
              "      <td>103.000000</td>\n",
              "      <td>75.300000</td>\n",
              "      <td>39.000000</td>\n",
              "      <td>66.000000</td>\n",
              "      <td>16.000000</td>\n",
              "      <td>48.000000</td>\n",
              "    </tr>\n",
              "    <tr>\n",
              "      <th>max</th>\n",
              "      <td>2016.0</td>\n",
              "      <td>1258.000000</td>\n",
              "      <td>94.100000</td>\n",
              "      <td>521.000000</td>\n",
              "      <td>884.000000</td>\n",
              "      <td>478.000000</td>\n",
              "      <td>744.000000</td>\n",
              "    </tr>\n",
              "  </tbody>\n",
              "</table>\n",
              "</div>\n",
              "      <button class=\"colab-df-convert\" onclick=\"convertToInteractive('df-0d97c1de-b826-402d-9826-aa9d9c3c8520')\"\n",
              "              title=\"Convert this dataframe to an interactive table.\"\n",
              "              style=\"display:none;\">\n",
              "        \n",
              "  <svg xmlns=\"http://www.w3.org/2000/svg\" height=\"24px\"viewBox=\"0 0 24 24\"\n",
              "       width=\"24px\">\n",
              "    <path d=\"M0 0h24v24H0V0z\" fill=\"none\"/>\n",
              "    <path d=\"M18.56 5.44l.94 2.06.94-2.06 2.06-.94-2.06-.94-.94-2.06-.94 2.06-2.06.94zm-11 1L8.5 8.5l.94-2.06 2.06-.94-2.06-.94L8.5 2.5l-.94 2.06-2.06.94zm10 10l.94 2.06.94-2.06 2.06-.94-2.06-.94-.94-2.06-.94 2.06-2.06.94z\"/><path d=\"M17.41 7.96l-1.37-1.37c-.4-.4-.92-.59-1.43-.59-.52 0-1.04.2-1.43.59L10.3 9.45l-7.72 7.72c-.78.78-.78 2.05 0 2.83L4 21.41c.39.39.9.59 1.41.59.51 0 1.02-.2 1.41-.59l7.78-7.78 2.81-2.81c.8-.78.8-2.07 0-2.86zM5.41 20L4 18.59l7.72-7.72 1.47 1.35L5.41 20z\"/>\n",
              "  </svg>\n",
              "      </button>\n",
              "      \n",
              "  <style>\n",
              "    .colab-df-container {\n",
              "      display:flex;\n",
              "      flex-wrap:wrap;\n",
              "      gap: 12px;\n",
              "    }\n",
              "\n",
              "    .colab-df-convert {\n",
              "      background-color: #E8F0FE;\n",
              "      border: none;\n",
              "      border-radius: 50%;\n",
              "      cursor: pointer;\n",
              "      display: none;\n",
              "      fill: #1967D2;\n",
              "      height: 32px;\n",
              "      padding: 0 0 0 0;\n",
              "      width: 32px;\n",
              "    }\n",
              "\n",
              "    .colab-df-convert:hover {\n",
              "      background-color: #E2EBFA;\n",
              "      box-shadow: 0px 1px 2px rgba(60, 64, 67, 0.3), 0px 1px 3px 1px rgba(60, 64, 67, 0.15);\n",
              "      fill: #174EA6;\n",
              "    }\n",
              "\n",
              "    [theme=dark] .colab-df-convert {\n",
              "      background-color: #3B4455;\n",
              "      fill: #D2E3FC;\n",
              "    }\n",
              "\n",
              "    [theme=dark] .colab-df-convert:hover {\n",
              "      background-color: #434B5C;\n",
              "      box-shadow: 0px 1px 3px 1px rgba(0, 0, 0, 0.15);\n",
              "      filter: drop-shadow(0px 1px 2px rgba(0, 0, 0, 0.3));\n",
              "      fill: #FFFFFF;\n",
              "    }\n",
              "  </style>\n",
              "\n",
              "      <script>\n",
              "        const buttonEl =\n",
              "          document.querySelector('#df-0d97c1de-b826-402d-9826-aa9d9c3c8520 button.colab-df-convert');\n",
              "        buttonEl.style.display =\n",
              "          google.colab.kernel.accessAllowed ? 'block' : 'none';\n",
              "\n",
              "        async function convertToInteractive(key) {\n",
              "          const element = document.querySelector('#df-0d97c1de-b826-402d-9826-aa9d9c3c8520');\n",
              "          const dataTable =\n",
              "            await google.colab.kernel.invokeFunction('convertToInteractive',\n",
              "                                                     [key], {});\n",
              "          if (!dataTable) return;\n",
              "\n",
              "          const docLinkHtml = 'Like what you see? Visit the ' +\n",
              "            '<a target=\"_blank\" href=https://colab.research.google.com/notebooks/data_table.ipynb>data table notebook</a>'\n",
              "            + ' to learn more about interactive tables.';\n",
              "          element.innerHTML = '';\n",
              "          dataTable['output_type'] = 'display_data';\n",
              "          await google.colab.output.renderOutput(dataTable, element);\n",
              "          const docLink = document.createElement('div');\n",
              "          docLink.innerHTML = docLinkHtml;\n",
              "          element.appendChild(docLink);\n",
              "        }\n",
              "      </script>\n",
              "    </div>\n",
              "  </div>\n",
              "  "
            ]
          },
          "metadata": {},
          "execution_count": 53
        }
      ]
    },
    {
      "cell_type": "code",
      "source": [
        "Manhattan[Manhattan['Year']==2016]\n",
        "Manhattan_16=Manhattan[Manhattan['Year']==2016]\n",
        "Manhattan_16_Alg=Manhattan[(Manhattan['Year']==2016) & (Manhattan['Regents Exam']=='Common Core Algebra')]"
      ],
      "metadata": {
        "id": "PuZx7G8p_x-n"
      },
      "execution_count": null,
      "outputs": []
    },
    {
      "cell_type": "code",
      "source": [
        "Manhattan_16_Alg.describe()"
      ],
      "metadata": {
        "colab": {
          "base_uri": "https://localhost:8080/",
          "height": 300
        },
        "id": "3F_yLG4zAqRV",
        "outputId": "a6a6c434-16fd-4576-dbac-e5f658b95199"
      },
      "execution_count": null,
      "outputs": [
        {
          "output_type": "execute_result",
          "data": {
            "text/plain": [
              "         Year  Total Tested   Mean Score  Number Scoring Below 65  \\\n",
              "count  1413.0   1413.000000  1413.000000              1413.000000   \n",
              "mean   2016.0     68.794055    69.704105                22.346072   \n",
              "std       0.0     67.424804     9.517698                29.011180   \n",
              "min    2016.0      6.000000    44.300000                 0.000000   \n",
              "25%    2016.0     21.000000    62.200000                 2.000000   \n",
              "50%    2016.0     50.000000    68.800000                10.000000   \n",
              "75%    2016.0     94.000000    77.300000                32.000000   \n",
              "max    2016.0    518.000000    94.100000               183.000000   \n",
              "\n",
              "       Number Scoring 65 or Above  Number Scoring 80 or Above  \\\n",
              "count                 1413.000000                 1413.000000   \n",
              "mean                    46.447983                   15.666667   \n",
              "std                     51.561725                   28.356193   \n",
              "min                      0.000000                    0.000000   \n",
              "25%                     12.000000                    2.000000   \n",
              "50%                     32.000000                    6.000000   \n",
              "75%                     64.000000                   19.000000   \n",
              "max                    506.000000                  341.000000   \n",
              "\n",
              "       Number Scoring CR  \n",
              "count        1413.000000  \n",
              "mean           36.236377  \n",
              "std            44.467076  \n",
              "min             0.000000  \n",
              "25%             9.000000  \n",
              "50%            23.000000  \n",
              "75%            48.000000  \n",
              "max           477.000000  "
            ],
            "text/html": [
              "\n",
              "  <div id=\"df-8245a152-ecef-45ba-8470-6e36041ac123\">\n",
              "    <div class=\"colab-df-container\">\n",
              "      <div>\n",
              "<style scoped>\n",
              "    .dataframe tbody tr th:only-of-type {\n",
              "        vertical-align: middle;\n",
              "    }\n",
              "\n",
              "    .dataframe tbody tr th {\n",
              "        vertical-align: top;\n",
              "    }\n",
              "\n",
              "    .dataframe thead th {\n",
              "        text-align: right;\n",
              "    }\n",
              "</style>\n",
              "<table border=\"1\" class=\"dataframe\">\n",
              "  <thead>\n",
              "    <tr style=\"text-align: right;\">\n",
              "      <th></th>\n",
              "      <th>Year</th>\n",
              "      <th>Total Tested</th>\n",
              "      <th>Mean Score</th>\n",
              "      <th>Number Scoring Below 65</th>\n",
              "      <th>Number Scoring 65 or Above</th>\n",
              "      <th>Number Scoring 80 or Above</th>\n",
              "      <th>Number Scoring CR</th>\n",
              "    </tr>\n",
              "  </thead>\n",
              "  <tbody>\n",
              "    <tr>\n",
              "      <th>count</th>\n",
              "      <td>1413.0</td>\n",
              "      <td>1413.000000</td>\n",
              "      <td>1413.000000</td>\n",
              "      <td>1413.000000</td>\n",
              "      <td>1413.000000</td>\n",
              "      <td>1413.000000</td>\n",
              "      <td>1413.000000</td>\n",
              "    </tr>\n",
              "    <tr>\n",
              "      <th>mean</th>\n",
              "      <td>2016.0</td>\n",
              "      <td>68.794055</td>\n",
              "      <td>69.704105</td>\n",
              "      <td>22.346072</td>\n",
              "      <td>46.447983</td>\n",
              "      <td>15.666667</td>\n",
              "      <td>36.236377</td>\n",
              "    </tr>\n",
              "    <tr>\n",
              "      <th>std</th>\n",
              "      <td>0.0</td>\n",
              "      <td>67.424804</td>\n",
              "      <td>9.517698</td>\n",
              "      <td>29.011180</td>\n",
              "      <td>51.561725</td>\n",
              "      <td>28.356193</td>\n",
              "      <td>44.467076</td>\n",
              "    </tr>\n",
              "    <tr>\n",
              "      <th>min</th>\n",
              "      <td>2016.0</td>\n",
              "      <td>6.000000</td>\n",
              "      <td>44.300000</td>\n",
              "      <td>0.000000</td>\n",
              "      <td>0.000000</td>\n",
              "      <td>0.000000</td>\n",
              "      <td>0.000000</td>\n",
              "    </tr>\n",
              "    <tr>\n",
              "      <th>25%</th>\n",
              "      <td>2016.0</td>\n",
              "      <td>21.000000</td>\n",
              "      <td>62.200000</td>\n",
              "      <td>2.000000</td>\n",
              "      <td>12.000000</td>\n",
              "      <td>2.000000</td>\n",
              "      <td>9.000000</td>\n",
              "    </tr>\n",
              "    <tr>\n",
              "      <th>50%</th>\n",
              "      <td>2016.0</td>\n",
              "      <td>50.000000</td>\n",
              "      <td>68.800000</td>\n",
              "      <td>10.000000</td>\n",
              "      <td>32.000000</td>\n",
              "      <td>6.000000</td>\n",
              "      <td>23.000000</td>\n",
              "    </tr>\n",
              "    <tr>\n",
              "      <th>75%</th>\n",
              "      <td>2016.0</td>\n",
              "      <td>94.000000</td>\n",
              "      <td>77.300000</td>\n",
              "      <td>32.000000</td>\n",
              "      <td>64.000000</td>\n",
              "      <td>19.000000</td>\n",
              "      <td>48.000000</td>\n",
              "    </tr>\n",
              "    <tr>\n",
              "      <th>max</th>\n",
              "      <td>2016.0</td>\n",
              "      <td>518.000000</td>\n",
              "      <td>94.100000</td>\n",
              "      <td>183.000000</td>\n",
              "      <td>506.000000</td>\n",
              "      <td>341.000000</td>\n",
              "      <td>477.000000</td>\n",
              "    </tr>\n",
              "  </tbody>\n",
              "</table>\n",
              "</div>\n",
              "      <button class=\"colab-df-convert\" onclick=\"convertToInteractive('df-8245a152-ecef-45ba-8470-6e36041ac123')\"\n",
              "              title=\"Convert this dataframe to an interactive table.\"\n",
              "              style=\"display:none;\">\n",
              "        \n",
              "  <svg xmlns=\"http://www.w3.org/2000/svg\" height=\"24px\"viewBox=\"0 0 24 24\"\n",
              "       width=\"24px\">\n",
              "    <path d=\"M0 0h24v24H0V0z\" fill=\"none\"/>\n",
              "    <path d=\"M18.56 5.44l.94 2.06.94-2.06 2.06-.94-2.06-.94-.94-2.06-.94 2.06-2.06.94zm-11 1L8.5 8.5l.94-2.06 2.06-.94-2.06-.94L8.5 2.5l-.94 2.06-2.06.94zm10 10l.94 2.06.94-2.06 2.06-.94-2.06-.94-.94-2.06-.94 2.06-2.06.94z\"/><path d=\"M17.41 7.96l-1.37-1.37c-.4-.4-.92-.59-1.43-.59-.52 0-1.04.2-1.43.59L10.3 9.45l-7.72 7.72c-.78.78-.78 2.05 0 2.83L4 21.41c.39.39.9.59 1.41.59.51 0 1.02-.2 1.41-.59l7.78-7.78 2.81-2.81c.8-.78.8-2.07 0-2.86zM5.41 20L4 18.59l7.72-7.72 1.47 1.35L5.41 20z\"/>\n",
              "  </svg>\n",
              "      </button>\n",
              "      \n",
              "  <style>\n",
              "    .colab-df-container {\n",
              "      display:flex;\n",
              "      flex-wrap:wrap;\n",
              "      gap: 12px;\n",
              "    }\n",
              "\n",
              "    .colab-df-convert {\n",
              "      background-color: #E8F0FE;\n",
              "      border: none;\n",
              "      border-radius: 50%;\n",
              "      cursor: pointer;\n",
              "      display: none;\n",
              "      fill: #1967D2;\n",
              "      height: 32px;\n",
              "      padding: 0 0 0 0;\n",
              "      width: 32px;\n",
              "    }\n",
              "\n",
              "    .colab-df-convert:hover {\n",
              "      background-color: #E2EBFA;\n",
              "      box-shadow: 0px 1px 2px rgba(60, 64, 67, 0.3), 0px 1px 3px 1px rgba(60, 64, 67, 0.15);\n",
              "      fill: #174EA6;\n",
              "    }\n",
              "\n",
              "    [theme=dark] .colab-df-convert {\n",
              "      background-color: #3B4455;\n",
              "      fill: #D2E3FC;\n",
              "    }\n",
              "\n",
              "    [theme=dark] .colab-df-convert:hover {\n",
              "      background-color: #434B5C;\n",
              "      box-shadow: 0px 1px 3px 1px rgba(0, 0, 0, 0.15);\n",
              "      filter: drop-shadow(0px 1px 2px rgba(0, 0, 0, 0.3));\n",
              "      fill: #FFFFFF;\n",
              "    }\n",
              "  </style>\n",
              "\n",
              "      <script>\n",
              "        const buttonEl =\n",
              "          document.querySelector('#df-8245a152-ecef-45ba-8470-6e36041ac123 button.colab-df-convert');\n",
              "        buttonEl.style.display =\n",
              "          google.colab.kernel.accessAllowed ? 'block' : 'none';\n",
              "\n",
              "        async function convertToInteractive(key) {\n",
              "          const element = document.querySelector('#df-8245a152-ecef-45ba-8470-6e36041ac123');\n",
              "          const dataTable =\n",
              "            await google.colab.kernel.invokeFunction('convertToInteractive',\n",
              "                                                     [key], {});\n",
              "          if (!dataTable) return;\n",
              "\n",
              "          const docLinkHtml = 'Like what you see? Visit the ' +\n",
              "            '<a target=\"_blank\" href=https://colab.research.google.com/notebooks/data_table.ipynb>data table notebook</a>'\n",
              "            + ' to learn more about interactive tables.';\n",
              "          element.innerHTML = '';\n",
              "          dataTable['output_type'] = 'display_data';\n",
              "          await google.colab.output.renderOutput(dataTable, element);\n",
              "          const docLink = document.createElement('div');\n",
              "          docLink.innerHTML = docLinkHtml;\n",
              "          element.appendChild(docLink);\n",
              "        }\n",
              "      </script>\n",
              "    </div>\n",
              "  </div>\n",
              "  "
            ]
          },
          "metadata": {},
          "execution_count": 55
        }
      ]
    },
    {
      "cell_type": "code",
      "source": [
        "Manhattan_16_Alg.sum()"
      ],
      "metadata": {
        "colab": {
          "base_uri": "https://localhost:8080/"
        },
        "id": "qrK5o7J2Cl_4",
        "outputId": "d7477edd-3e60-4356-8648-b437f010ce94"
      },
      "execution_count": null,
      "outputs": [
        {
          "output_type": "execute_result",
          "data": {
            "text/plain": [
              "School District Borough Number    01M18401M18801M29201M37801M44801M45001M50901M5...\n",
              "School Name                       P.S. 184m Shuang WenP.S. 188 The Island School...\n",
              "School Level                      K-8K-8High schoolJunior High-Intermediate-Midd...\n",
              "Regents Exam                      Common Core AlgebraCommon Core AlgebraCommon C...\n",
              "Year                                                                        2848608\n",
              "Total Tested                                                                  97206\n",
              "Mean Score                                                                  98491.9\n",
              "Number Scoring Below 65                                                     31575.0\n",
              "Number Scoring 65 or Above                                                  65631.0\n",
              "Number Scoring 80 or Above                                                  22137.0\n",
              "Number Scoring CR                                                           51202.0\n",
              "dtype: object"
            ]
          },
          "metadata": {},
          "execution_count": 56
        }
      ]
    },
    {
      "cell_type": "code",
      "source": [
        "Manhattan[Manhattan['Year']==2016]\n",
        "Manhattan_16=Manhattan[Manhattan['Year']==2016]\n",
        "Manhattan_16_Eng=Manhattan[(Manhattan['Year']==2016) & (Manhattan['Regents Exam']=='Common Core English')]"
      ],
      "metadata": {
        "id": "xqbOw8nKCmDV"
      },
      "execution_count": null,
      "outputs": []
    },
    {
      "cell_type": "code",
      "source": [
        "Manhattan_16_Eng.sum()"
      ],
      "metadata": {
        "colab": {
          "base_uri": "https://localhost:8080/"
        },
        "id": "mYSNq5DBCmVP",
        "outputId": "5b9fb36d-1a34-4352-8ae8-e9c5868ce3d6"
      },
      "execution_count": null,
      "outputs": [
        {
          "output_type": "execute_result",
          "data": {
            "text/plain": [
              "School District Borough Number    01M29201M44801M45001M45801M50901M51501M53901M6...\n",
              "School Name                       Orchard Collegiate AcademyUniversity Neighborh...\n",
              "School Level                      High schoolHigh schoolSecondary SchoolHigh sch...\n",
              "Regents Exam                      Common Core EnglishCommon Core EnglishCommon C...\n",
              "Year                                                                        2461536\n",
              "Total Tested                                                                  77090\n",
              "Mean Score                                                                  90992.5\n",
              "Number Scoring Below 65                                                     10870.0\n",
              "Number Scoring 65 or Above                                                  66220.0\n",
              "Number Scoring 80 or Above                                                  44258.0\n",
              "Number Scoring CR                                                           52627.0\n",
              "dtype: object"
            ]
          },
          "metadata": {},
          "execution_count": 58
        }
      ]
    },
    {
      "cell_type": "code",
      "source": [
        "from pandas.io.pytables import SeriesFixed\n",
        "#Create the mother of all comparisons for Beacon against Manhattan and All NYC Schools for Math, English and College Readiness\n",
        "#First create series for each:\n",
        "School = pd.Series(['Beacon','Manhattan','All NYC Boroughs'])\n",
        "Total_Regents_Math = pd.Series([6,97200,530695])\n",
        "Math_Passing = pd.Series([4,65627,343030])\n",
        "Math_Over_80= pd.Series([2,22135,101930])\n",
        "College_Ready_Math = pd.Series([3,51199,257939])\n",
        "Total_Regents_English = pd.Series([1429,75661,397126])\n",
        "English_Passing = pd.Series([1429,64791,319523])\n",
        "English_Over_80 = pd.Series([1356,42902,194937])\n",
        "College_Ready_English = pd.Series([1404,51223,240900])\n"
      ],
      "metadata": {
        "id": "loS0uPoBDrK1"
      },
      "execution_count": null,
      "outputs": []
    },
    {
      "cell_type": "markdown",
      "source": [
        "#**Final Summary Comparison of Beacon to other Schools in Manhattan and to all NYC schools that tested for Regents Math and English in 2016**\n",
        "Note: Due to my limited understanding of how to manipulate dataframe rows and compare components of different data frames, I created a number of series columns which I then created an indexed dataframe for in order to compare the raw numbers for each category of interest. \n",
        "In order to ensure that the numbers were accurate I subtracted the Beacon figures from the aggregated numbers for Manhattan and All NYC Schools. I did this manually.\n"
      ],
      "metadata": {
        "id": "sI0N7axJlvWT"
      }
    },
    {
      "cell_type": "code",
      "source": [
        "pd.DataFrame([School,Total_Regents_Math,Math_Passing,Math_Over_80,College_Ready_Math,Total_Regents_English,English_Passing,English_Over_80, College_Ready_English],index=['School','Total_Regents_Math','Math_Passing','Math_Over_80','College_Ready_Math','Total_Regents_English','English_Passing','English_Over_80','College_Ready_English'])"
      ],
      "metadata": {
        "colab": {
          "base_uri": "https://localhost:8080/",
          "height": 331
        },
        "id": "JD_U3laqNN_m",
        "outputId": "09cec537-5b82-4c66-c5a5-7e54e99df1b6"
      },
      "execution_count": null,
      "outputs": [
        {
          "output_type": "execute_result",
          "data": {
            "text/plain": [
              "                            0          1                 2\n",
              "School                 Beacon  Manhattan  All NYC Boroughs\n",
              "Total_Regents_Math          6      97200            530695\n",
              "Math_Passing                4      65627            343030\n",
              "Math_Over_80                2      22135            101930\n",
              "College_Ready_Math          3      51199            257939\n",
              "Total_Regents_English    1429      75661            397126\n",
              "English_Passing          1429      64791            319523\n",
              "English_Over_80          1356      42902            194937\n",
              "College_Ready_English    1404      51223            240900"
            ],
            "text/html": [
              "\n",
              "  <div id=\"df-f33799e6-1f3e-44f6-b8d0-5514146ccda4\">\n",
              "    <div class=\"colab-df-container\">\n",
              "      <div>\n",
              "<style scoped>\n",
              "    .dataframe tbody tr th:only-of-type {\n",
              "        vertical-align: middle;\n",
              "    }\n",
              "\n",
              "    .dataframe tbody tr th {\n",
              "        vertical-align: top;\n",
              "    }\n",
              "\n",
              "    .dataframe thead th {\n",
              "        text-align: right;\n",
              "    }\n",
              "</style>\n",
              "<table border=\"1\" class=\"dataframe\">\n",
              "  <thead>\n",
              "    <tr style=\"text-align: right;\">\n",
              "      <th></th>\n",
              "      <th>0</th>\n",
              "      <th>1</th>\n",
              "      <th>2</th>\n",
              "    </tr>\n",
              "  </thead>\n",
              "  <tbody>\n",
              "    <tr>\n",
              "      <th>School</th>\n",
              "      <td>Beacon</td>\n",
              "      <td>Manhattan</td>\n",
              "      <td>All NYC Boroughs</td>\n",
              "    </tr>\n",
              "    <tr>\n",
              "      <th>Total_Regents_Math</th>\n",
              "      <td>6</td>\n",
              "      <td>97200</td>\n",
              "      <td>530695</td>\n",
              "    </tr>\n",
              "    <tr>\n",
              "      <th>Math_Passing</th>\n",
              "      <td>4</td>\n",
              "      <td>65627</td>\n",
              "      <td>343030</td>\n",
              "    </tr>\n",
              "    <tr>\n",
              "      <th>Math_Over_80</th>\n",
              "      <td>2</td>\n",
              "      <td>22135</td>\n",
              "      <td>101930</td>\n",
              "    </tr>\n",
              "    <tr>\n",
              "      <th>College_Ready_Math</th>\n",
              "      <td>3</td>\n",
              "      <td>51199</td>\n",
              "      <td>257939</td>\n",
              "    </tr>\n",
              "    <tr>\n",
              "      <th>Total_Regents_English</th>\n",
              "      <td>1429</td>\n",
              "      <td>75661</td>\n",
              "      <td>397126</td>\n",
              "    </tr>\n",
              "    <tr>\n",
              "      <th>English_Passing</th>\n",
              "      <td>1429</td>\n",
              "      <td>64791</td>\n",
              "      <td>319523</td>\n",
              "    </tr>\n",
              "    <tr>\n",
              "      <th>English_Over_80</th>\n",
              "      <td>1356</td>\n",
              "      <td>42902</td>\n",
              "      <td>194937</td>\n",
              "    </tr>\n",
              "    <tr>\n",
              "      <th>College_Ready_English</th>\n",
              "      <td>1404</td>\n",
              "      <td>51223</td>\n",
              "      <td>240900</td>\n",
              "    </tr>\n",
              "  </tbody>\n",
              "</table>\n",
              "</div>\n",
              "      <button class=\"colab-df-convert\" onclick=\"convertToInteractive('df-f33799e6-1f3e-44f6-b8d0-5514146ccda4')\"\n",
              "              title=\"Convert this dataframe to an interactive table.\"\n",
              "              style=\"display:none;\">\n",
              "        \n",
              "  <svg xmlns=\"http://www.w3.org/2000/svg\" height=\"24px\"viewBox=\"0 0 24 24\"\n",
              "       width=\"24px\">\n",
              "    <path d=\"M0 0h24v24H0V0z\" fill=\"none\"/>\n",
              "    <path d=\"M18.56 5.44l.94 2.06.94-2.06 2.06-.94-2.06-.94-.94-2.06-.94 2.06-2.06.94zm-11 1L8.5 8.5l.94-2.06 2.06-.94-2.06-.94L8.5 2.5l-.94 2.06-2.06.94zm10 10l.94 2.06.94-2.06 2.06-.94-2.06-.94-.94-2.06-.94 2.06-2.06.94z\"/><path d=\"M17.41 7.96l-1.37-1.37c-.4-.4-.92-.59-1.43-.59-.52 0-1.04.2-1.43.59L10.3 9.45l-7.72 7.72c-.78.78-.78 2.05 0 2.83L4 21.41c.39.39.9.59 1.41.59.51 0 1.02-.2 1.41-.59l7.78-7.78 2.81-2.81c.8-.78.8-2.07 0-2.86zM5.41 20L4 18.59l7.72-7.72 1.47 1.35L5.41 20z\"/>\n",
              "  </svg>\n",
              "      </button>\n",
              "      \n",
              "  <style>\n",
              "    .colab-df-container {\n",
              "      display:flex;\n",
              "      flex-wrap:wrap;\n",
              "      gap: 12px;\n",
              "    }\n",
              "\n",
              "    .colab-df-convert {\n",
              "      background-color: #E8F0FE;\n",
              "      border: none;\n",
              "      border-radius: 50%;\n",
              "      cursor: pointer;\n",
              "      display: none;\n",
              "      fill: #1967D2;\n",
              "      height: 32px;\n",
              "      padding: 0 0 0 0;\n",
              "      width: 32px;\n",
              "    }\n",
              "\n",
              "    .colab-df-convert:hover {\n",
              "      background-color: #E2EBFA;\n",
              "      box-shadow: 0px 1px 2px rgba(60, 64, 67, 0.3), 0px 1px 3px 1px rgba(60, 64, 67, 0.15);\n",
              "      fill: #174EA6;\n",
              "    }\n",
              "\n",
              "    [theme=dark] .colab-df-convert {\n",
              "      background-color: #3B4455;\n",
              "      fill: #D2E3FC;\n",
              "    }\n",
              "\n",
              "    [theme=dark] .colab-df-convert:hover {\n",
              "      background-color: #434B5C;\n",
              "      box-shadow: 0px 1px 3px 1px rgba(0, 0, 0, 0.15);\n",
              "      filter: drop-shadow(0px 1px 2px rgba(0, 0, 0, 0.3));\n",
              "      fill: #FFFFFF;\n",
              "    }\n",
              "  </style>\n",
              "\n",
              "      <script>\n",
              "        const buttonEl =\n",
              "          document.querySelector('#df-f33799e6-1f3e-44f6-b8d0-5514146ccda4 button.colab-df-convert');\n",
              "        buttonEl.style.display =\n",
              "          google.colab.kernel.accessAllowed ? 'block' : 'none';\n",
              "\n",
              "        async function convertToInteractive(key) {\n",
              "          const element = document.querySelector('#df-f33799e6-1f3e-44f6-b8d0-5514146ccda4');\n",
              "          const dataTable =\n",
              "            await google.colab.kernel.invokeFunction('convertToInteractive',\n",
              "                                                     [key], {});\n",
              "          if (!dataTable) return;\n",
              "\n",
              "          const docLinkHtml = 'Like what you see? Visit the ' +\n",
              "            '<a target=\"_blank\" href=https://colab.research.google.com/notebooks/data_table.ipynb>data table notebook</a>'\n",
              "            + ' to learn more about interactive tables.';\n",
              "          element.innerHTML = '';\n",
              "          dataTable['output_type'] = 'display_data';\n",
              "          await google.colab.output.renderOutput(dataTable, element);\n",
              "          const docLink = document.createElement('div');\n",
              "          docLink.innerHTML = docLinkHtml;\n",
              "          element.appendChild(docLink);\n",
              "        }\n",
              "      </script>\n",
              "    </div>\n",
              "  </div>\n",
              "  "
            ]
          },
          "metadata": {},
          "execution_count": 60
        }
      ]
    },
    {
      "cell_type": "markdown",
      "source": [
        "#**Summary:** \n",
        "\n",
        "**Project Assignment**\n",
        "\n",
        "This first assignment got us working with dirty data from NYC DOE Regents test scores. I selected Beacon High School as the school for comparison.\n",
        "\n",
        "**Data Source**\n",
        "The data source can be found through NYC Open Data but was provided to us in class.\n",
        "\n",
        "**Data Cleaning**\n",
        "To clean the data, I analyzed the data source, reviewed the data for discrepencies, missing values and anomomlies. As I was unable to determine how many of the 's' valued cells constituted redacted values versus how many represented 5 or fewer students (and since many schools with under 5 taking the test, listed the actual number), I chose to remove these rows even though the \n",
        "result was to more than half the dataset to avoid bias and faulty analysis.\n",
        "\n",
        "**Key Insights from Analysis of NYC Regents Scores**\n",
        "\n",
        "75% of the regents exams are taken by high school students, 21% by middle \n",
        "school students (likely 8th graders) and the remaining 4% by an unclassified grade level in schools with K-12 grades (likely parochial or private or alternative)\n",
        "\n",
        "A greater number of students take the Common Core Regents Math exam than the English exam. Further anlaysis might indicate that the majority taking this test are in middle school or first year high school as it would help efforts to gain acceptance or transfer into a good high-school. NYC has over 400 high schools, only 30 or so of which are considered nationally competitive. \n",
        "\n",
        "Across NYC, whether in Manhattan or Beacon, over 80% of students who take the English Regents pass, with only a 5% differential between Manhattan and the other boroughs.  \n",
        "\n",
        "Across NYC, 60% of students who take the Math Regents pass.\n",
        "\n",
        "Beacon High School was likely not the best choice for assessing Regents Exam Scores as they only require the English Regents. Further analysis would need to be made to determine which schools require all regents or the percentage of students seeking a Regents diploma for college applications. \n",
        "\n",
        "College Readiness is defined as students receiving a score of 75 or greater in English and 70 or more for Algebra1 or Geometry and 65 for Algebra 2/\n",
        "Trigonometry. 61% of all NYC English Regents test takers achieved college readiness scores, while on 49% of students taking Math Regents achieved college readiness levels."
      ],
      "metadata": {
        "id": "WRKXOqZPQ47I"
      }
    }
  ]
}