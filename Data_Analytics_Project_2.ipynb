{
  "nbformat": 4,
  "nbformat_minor": 0,
  "metadata": {
    "colab": {
      "name": "Data_Analytics_Project_2.ipynb",
      "provenance": [],
      "collapsed_sections": [],
      "authorship_tag": "ABX9TyPqnyCDV6uXna1VxiFrtpSB",
      "include_colab_link": true
    },
    "kernelspec": {
      "name": "python3",
      "display_name": "Python 3"
    },
    "language_info": {
      "name": "python"
    }
  },
  "cells": [
    {
      "cell_type": "markdown",
      "metadata": {
        "id": "view-in-github",
        "colab_type": "text"
      },
      "source": [
        "<a href=\"https://colab.research.google.com/github/skflwright/Python_Projects_Data_201/blob/main/Data_Analytics_Project_2.ipynb\" target=\"_parent\"><img src=\"https://colab.research.google.com/assets/colab-badge.svg\" alt=\"Open In Colab\"/></a>"
      ]
    },
    {
      "cell_type": "markdown",
      "source": [
        "#**Python for Data Analytics: Project 2 Assignment**#\n",
        "Kimberly Wright, Spring 2022\n",
        "\n",
        "The goal of this project is to analyze NYPD arrest data. As part of the assignment, we were asked to pick any zip code/neighborhood in this dataset as an initial comparison point and to pick a feature/measure/column and compare the above entity to any other different entity.\n",
        "\n",
        "The analysis should include data cleaning, descriptive statistics and data visualization. \n",
        "\n"
      ],
      "metadata": {
        "id": "3ER2uSx0aAYB"
      }
    },
    {
      "cell_type": "markdown",
      "source": [
        "##**Data Upload & Initial Exploration**##"
      ],
      "metadata": {
        "id": "Ra2dsSBpbLx2"
      }
    },
    {
      "cell_type": "code",
      "execution_count": 1,
      "metadata": {
        "id": "0OoDR46zy_2m"
      },
      "outputs": [],
      "source": [
        "import pandas as pd\n",
        "import numpy as np\n",
        "import matplotlib.pyplot as plt\n",
        "% matplotlib inline\n",
        "import seaborn as sns\n"
      ]
    },
    {
      "cell_type": "code",
      "source": [
        "df=pd.read_json(\"https://data.cityofnewyork.us/resource/uip8-fykc.json\")\n",
        "df.head()"
      ],
      "metadata": {
        "colab": {
          "base_uri": "https://localhost:8080/",
          "height": 473
        },
        "id": "kQRSRgAQzLnt",
        "outputId": "45e82ebb-1345-422a-fd26-9d95341e0d4b"
      },
      "execution_count": 2,
      "outputs": [
        {
          "output_type": "execute_result",
          "data": {
            "text/plain": [
              "   arrest_key              arrest_date  pd_cd                         pd_desc  \\\n",
              "0   238552639  2022-01-03T00:00:00.000  205.0            TRESPASS 2, CRIMINAL   \n",
              "1   238682242  2022-01-05T00:00:00.000  397.0  ROBBERY,OPEN AREA UNCLASSIFIED   \n",
              "2   238723993  2022-01-06T00:00:00.000  153.0                          RAPE 3   \n",
              "3   238821533  2022-01-08T00:00:00.000    NaN                          (null)   \n",
              "4   239029586  2022-01-12T00:00:00.000    NaN                          (null)   \n",
              "\n",
              "   ky_cd          ofns_desc    law_code law_cat_cd arrest_boro  \\\n",
              "0  352.0  CRIMINAL TRESPASS  PL 1401501          M           K   \n",
              "1  105.0            ROBBERY  PL 160050H          F           K   \n",
              "2  104.0               RAPE  PL 1302503          F           K   \n",
              "3    NaN             (null)  CPL5700600          9           Q   \n",
              "4    NaN             (null)  CPL5700600          9           Q   \n",
              "\n",
              "   arrest_precinct  ...  x_coord_cd y_coord_cd   latitude  longitude  \\\n",
              "0               75  ...     1015028     185895  40.676863 -73.889037   \n",
              "1               75  ...     1017119     183909  40.671404 -73.881509   \n",
              "2               77  ...     1003509     185018  40.674496 -73.930571   \n",
              "3              113  ...     1046367     186986  40.679701 -73.776047   \n",
              "4              113  ...     1046367     186986  40.679701 -73.776047   \n",
              "\n",
              "                                     geocoded_column  \\\n",
              "0  {'type': 'Point', 'coordinates': [-73.889037, ...   \n",
              "1  {'type': 'Point', 'coordinates': [-73.881509, ...   \n",
              "2  {'type': 'Point', 'coordinates': [-73.93057132...   \n",
              "3  {'type': 'Point', 'coordinates': [-73.77604735...   \n",
              "4  {'type': 'Point', 'coordinates': [-73.77604735...   \n",
              "\n",
              "   :@computed_region_f5dn_yrer  :@computed_region_yeji_bk3q  \\\n",
              "0                         45.0                          2.0   \n",
              "1                         45.0                          2.0   \n",
              "2                         16.0                          2.0   \n",
              "3                         41.0                          3.0   \n",
              "4                         41.0                          3.0   \n",
              "\n",
              "   :@computed_region_92fq_4b7q :@computed_region_sbqj_enih  \\\n",
              "0                         37.0                        47.0   \n",
              "1                         25.0                        47.0   \n",
              "2                         49.0                        49.0   \n",
              "3                         46.0                        71.0   \n",
              "4                         46.0                        71.0   \n",
              "\n",
              "   :@computed_region_efsh_h5xi  \n",
              "0                      17214.0  \n",
              "1                      17215.0  \n",
              "2                      17615.0  \n",
              "3                      24669.0  \n",
              "4                      24669.0  \n",
              "\n",
              "[5 rows x 24 columns]"
            ],
            "text/html": [
              "\n",
              "  <div id=\"df-f07d974f-4c1c-443b-ad7b-c5d9758e96f7\">\n",
              "    <div class=\"colab-df-container\">\n",
              "      <div>\n",
              "<style scoped>\n",
              "    .dataframe tbody tr th:only-of-type {\n",
              "        vertical-align: middle;\n",
              "    }\n",
              "\n",
              "    .dataframe tbody tr th {\n",
              "        vertical-align: top;\n",
              "    }\n",
              "\n",
              "    .dataframe thead th {\n",
              "        text-align: right;\n",
              "    }\n",
              "</style>\n",
              "<table border=\"1\" class=\"dataframe\">\n",
              "  <thead>\n",
              "    <tr style=\"text-align: right;\">\n",
              "      <th></th>\n",
              "      <th>arrest_key</th>\n",
              "      <th>arrest_date</th>\n",
              "      <th>pd_cd</th>\n",
              "      <th>pd_desc</th>\n",
              "      <th>ky_cd</th>\n",
              "      <th>ofns_desc</th>\n",
              "      <th>law_code</th>\n",
              "      <th>law_cat_cd</th>\n",
              "      <th>arrest_boro</th>\n",
              "      <th>arrest_precinct</th>\n",
              "      <th>...</th>\n",
              "      <th>x_coord_cd</th>\n",
              "      <th>y_coord_cd</th>\n",
              "      <th>latitude</th>\n",
              "      <th>longitude</th>\n",
              "      <th>geocoded_column</th>\n",
              "      <th>:@computed_region_f5dn_yrer</th>\n",
              "      <th>:@computed_region_yeji_bk3q</th>\n",
              "      <th>:@computed_region_92fq_4b7q</th>\n",
              "      <th>:@computed_region_sbqj_enih</th>\n",
              "      <th>:@computed_region_efsh_h5xi</th>\n",
              "    </tr>\n",
              "  </thead>\n",
              "  <tbody>\n",
              "    <tr>\n",
              "      <th>0</th>\n",
              "      <td>238552639</td>\n",
              "      <td>2022-01-03T00:00:00.000</td>\n",
              "      <td>205.0</td>\n",
              "      <td>TRESPASS 2, CRIMINAL</td>\n",
              "      <td>352.0</td>\n",
              "      <td>CRIMINAL TRESPASS</td>\n",
              "      <td>PL 1401501</td>\n",
              "      <td>M</td>\n",
              "      <td>K</td>\n",
              "      <td>75</td>\n",
              "      <td>...</td>\n",
              "      <td>1015028</td>\n",
              "      <td>185895</td>\n",
              "      <td>40.676863</td>\n",
              "      <td>-73.889037</td>\n",
              "      <td>{'type': 'Point', 'coordinates': [-73.889037, ...</td>\n",
              "      <td>45.0</td>\n",
              "      <td>2.0</td>\n",
              "      <td>37.0</td>\n",
              "      <td>47.0</td>\n",
              "      <td>17214.0</td>\n",
              "    </tr>\n",
              "    <tr>\n",
              "      <th>1</th>\n",
              "      <td>238682242</td>\n",
              "      <td>2022-01-05T00:00:00.000</td>\n",
              "      <td>397.0</td>\n",
              "      <td>ROBBERY,OPEN AREA UNCLASSIFIED</td>\n",
              "      <td>105.0</td>\n",
              "      <td>ROBBERY</td>\n",
              "      <td>PL 160050H</td>\n",
              "      <td>F</td>\n",
              "      <td>K</td>\n",
              "      <td>75</td>\n",
              "      <td>...</td>\n",
              "      <td>1017119</td>\n",
              "      <td>183909</td>\n",
              "      <td>40.671404</td>\n",
              "      <td>-73.881509</td>\n",
              "      <td>{'type': 'Point', 'coordinates': [-73.881509, ...</td>\n",
              "      <td>45.0</td>\n",
              "      <td>2.0</td>\n",
              "      <td>25.0</td>\n",
              "      <td>47.0</td>\n",
              "      <td>17215.0</td>\n",
              "    </tr>\n",
              "    <tr>\n",
              "      <th>2</th>\n",
              "      <td>238723993</td>\n",
              "      <td>2022-01-06T00:00:00.000</td>\n",
              "      <td>153.0</td>\n",
              "      <td>RAPE 3</td>\n",
              "      <td>104.0</td>\n",
              "      <td>RAPE</td>\n",
              "      <td>PL 1302503</td>\n",
              "      <td>F</td>\n",
              "      <td>K</td>\n",
              "      <td>77</td>\n",
              "      <td>...</td>\n",
              "      <td>1003509</td>\n",
              "      <td>185018</td>\n",
              "      <td>40.674496</td>\n",
              "      <td>-73.930571</td>\n",
              "      <td>{'type': 'Point', 'coordinates': [-73.93057132...</td>\n",
              "      <td>16.0</td>\n",
              "      <td>2.0</td>\n",
              "      <td>49.0</td>\n",
              "      <td>49.0</td>\n",
              "      <td>17615.0</td>\n",
              "    </tr>\n",
              "    <tr>\n",
              "      <th>3</th>\n",
              "      <td>238821533</td>\n",
              "      <td>2022-01-08T00:00:00.000</td>\n",
              "      <td>NaN</td>\n",
              "      <td>(null)</td>\n",
              "      <td>NaN</td>\n",
              "      <td>(null)</td>\n",
              "      <td>CPL5700600</td>\n",
              "      <td>9</td>\n",
              "      <td>Q</td>\n",
              "      <td>113</td>\n",
              "      <td>...</td>\n",
              "      <td>1046367</td>\n",
              "      <td>186986</td>\n",
              "      <td>40.679701</td>\n",
              "      <td>-73.776047</td>\n",
              "      <td>{'type': 'Point', 'coordinates': [-73.77604735...</td>\n",
              "      <td>41.0</td>\n",
              "      <td>3.0</td>\n",
              "      <td>46.0</td>\n",
              "      <td>71.0</td>\n",
              "      <td>24669.0</td>\n",
              "    </tr>\n",
              "    <tr>\n",
              "      <th>4</th>\n",
              "      <td>239029586</td>\n",
              "      <td>2022-01-12T00:00:00.000</td>\n",
              "      <td>NaN</td>\n",
              "      <td>(null)</td>\n",
              "      <td>NaN</td>\n",
              "      <td>(null)</td>\n",
              "      <td>CPL5700600</td>\n",
              "      <td>9</td>\n",
              "      <td>Q</td>\n",
              "      <td>113</td>\n",
              "      <td>...</td>\n",
              "      <td>1046367</td>\n",
              "      <td>186986</td>\n",
              "      <td>40.679701</td>\n",
              "      <td>-73.776047</td>\n",
              "      <td>{'type': 'Point', 'coordinates': [-73.77604735...</td>\n",
              "      <td>41.0</td>\n",
              "      <td>3.0</td>\n",
              "      <td>46.0</td>\n",
              "      <td>71.0</td>\n",
              "      <td>24669.0</td>\n",
              "    </tr>\n",
              "  </tbody>\n",
              "</table>\n",
              "<p>5 rows × 24 columns</p>\n",
              "</div>\n",
              "      <button class=\"colab-df-convert\" onclick=\"convertToInteractive('df-f07d974f-4c1c-443b-ad7b-c5d9758e96f7')\"\n",
              "              title=\"Convert this dataframe to an interactive table.\"\n",
              "              style=\"display:none;\">\n",
              "        \n",
              "  <svg xmlns=\"http://www.w3.org/2000/svg\" height=\"24px\"viewBox=\"0 0 24 24\"\n",
              "       width=\"24px\">\n",
              "    <path d=\"M0 0h24v24H0V0z\" fill=\"none\"/>\n",
              "    <path d=\"M18.56 5.44l.94 2.06.94-2.06 2.06-.94-2.06-.94-.94-2.06-.94 2.06-2.06.94zm-11 1L8.5 8.5l.94-2.06 2.06-.94-2.06-.94L8.5 2.5l-.94 2.06-2.06.94zm10 10l.94 2.06.94-2.06 2.06-.94-2.06-.94-.94-2.06-.94 2.06-2.06.94z\"/><path d=\"M17.41 7.96l-1.37-1.37c-.4-.4-.92-.59-1.43-.59-.52 0-1.04.2-1.43.59L10.3 9.45l-7.72 7.72c-.78.78-.78 2.05 0 2.83L4 21.41c.39.39.9.59 1.41.59.51 0 1.02-.2 1.41-.59l7.78-7.78 2.81-2.81c.8-.78.8-2.07 0-2.86zM5.41 20L4 18.59l7.72-7.72 1.47 1.35L5.41 20z\"/>\n",
              "  </svg>\n",
              "      </button>\n",
              "      \n",
              "  <style>\n",
              "    .colab-df-container {\n",
              "      display:flex;\n",
              "      flex-wrap:wrap;\n",
              "      gap: 12px;\n",
              "    }\n",
              "\n",
              "    .colab-df-convert {\n",
              "      background-color: #E8F0FE;\n",
              "      border: none;\n",
              "      border-radius: 50%;\n",
              "      cursor: pointer;\n",
              "      display: none;\n",
              "      fill: #1967D2;\n",
              "      height: 32px;\n",
              "      padding: 0 0 0 0;\n",
              "      width: 32px;\n",
              "    }\n",
              "\n",
              "    .colab-df-convert:hover {\n",
              "      background-color: #E2EBFA;\n",
              "      box-shadow: 0px 1px 2px rgba(60, 64, 67, 0.3), 0px 1px 3px 1px rgba(60, 64, 67, 0.15);\n",
              "      fill: #174EA6;\n",
              "    }\n",
              "\n",
              "    [theme=dark] .colab-df-convert {\n",
              "      background-color: #3B4455;\n",
              "      fill: #D2E3FC;\n",
              "    }\n",
              "\n",
              "    [theme=dark] .colab-df-convert:hover {\n",
              "      background-color: #434B5C;\n",
              "      box-shadow: 0px 1px 3px 1px rgba(0, 0, 0, 0.15);\n",
              "      filter: drop-shadow(0px 1px 2px rgba(0, 0, 0, 0.3));\n",
              "      fill: #FFFFFF;\n",
              "    }\n",
              "  </style>\n",
              "\n",
              "      <script>\n",
              "        const buttonEl =\n",
              "          document.querySelector('#df-f07d974f-4c1c-443b-ad7b-c5d9758e96f7 button.colab-df-convert');\n",
              "        buttonEl.style.display =\n",
              "          google.colab.kernel.accessAllowed ? 'block' : 'none';\n",
              "\n",
              "        async function convertToInteractive(key) {\n",
              "          const element = document.querySelector('#df-f07d974f-4c1c-443b-ad7b-c5d9758e96f7');\n",
              "          const dataTable =\n",
              "            await google.colab.kernel.invokeFunction('convertToInteractive',\n",
              "                                                     [key], {});\n",
              "          if (!dataTable) return;\n",
              "\n",
              "          const docLinkHtml = 'Like what you see? Visit the ' +\n",
              "            '<a target=\"_blank\" href=https://colab.research.google.com/notebooks/data_table.ipynb>data table notebook</a>'\n",
              "            + ' to learn more about interactive tables.';\n",
              "          element.innerHTML = '';\n",
              "          dataTable['output_type'] = 'display_data';\n",
              "          await google.colab.output.renderOutput(dataTable, element);\n",
              "          const docLink = document.createElement('div');\n",
              "          docLink.innerHTML = docLinkHtml;\n",
              "          element.appendChild(docLink);\n",
              "        }\n",
              "      </script>\n",
              "    </div>\n",
              "  </div>\n",
              "  "
            ]
          },
          "metadata": {},
          "execution_count": 2
        }
      ]
    },
    {
      "cell_type": "code",
      "source": [
        "df.shape # There are 1000 rows of arrest data and 24 columns\n"
      ],
      "metadata": {
        "id": "wP88D1dxzLvC",
        "colab": {
          "base_uri": "https://localhost:8080/",
          "height": 0
        },
        "outputId": "82828e7e-e080-4b0e-ef9a-c26c5fc27cb1"
      },
      "execution_count": 3,
      "outputs": [
        {
          "output_type": "execute_result",
          "data": {
            "text/plain": [
              "(1000, 24)"
            ]
          },
          "metadata": {},
          "execution_count": 3
        }
      ]
    },
    {
      "cell_type": "code",
      "source": [
        "df.info() #Look at the information and data types contained in the dataset"
      ],
      "metadata": {
        "colab": {
          "base_uri": "https://localhost:8080/",
          "height": 0
        },
        "id": "LvS8TLwiQLKy",
        "outputId": "7cc8b43a-3e22-4672-ec93-3f1419b8afde"
      },
      "execution_count": 4,
      "outputs": [
        {
          "output_type": "stream",
          "name": "stdout",
          "text": [
            "<class 'pandas.core.frame.DataFrame'>\n",
            "RangeIndex: 1000 entries, 0 to 999\n",
            "Data columns (total 24 columns):\n",
            " #   Column                       Non-Null Count  Dtype  \n",
            "---  ------                       --------------  -----  \n",
            " 0   arrest_key                   1000 non-null   int64  \n",
            " 1   arrest_date                  1000 non-null   object \n",
            " 2   pd_cd                        985 non-null    float64\n",
            " 3   pd_desc                      1000 non-null   object \n",
            " 4   ky_cd                        979 non-null    float64\n",
            " 5   ofns_desc                    1000 non-null   object \n",
            " 6   law_code                     1000 non-null   object \n",
            " 7   law_cat_cd                   990 non-null    object \n",
            " 8   arrest_boro                  1000 non-null   object \n",
            " 9   arrest_precinct              1000 non-null   int64  \n",
            " 10  jurisdiction_code            1000 non-null   int64  \n",
            " 11  age_group                    1000 non-null   object \n",
            " 12  perp_sex                     1000 non-null   object \n",
            " 13  perp_race                    1000 non-null   object \n",
            " 14  x_coord_cd                   1000 non-null   int64  \n",
            " 15  y_coord_cd                   1000 non-null   int64  \n",
            " 16  latitude                     1000 non-null   float64\n",
            " 17  longitude                    1000 non-null   float64\n",
            " 18  geocoded_column              1000 non-null   object \n",
            " 19  :@computed_region_f5dn_yrer  999 non-null    float64\n",
            " 20  :@computed_region_yeji_bk3q  999 non-null    float64\n",
            " 21  :@computed_region_92fq_4b7q  999 non-null    float64\n",
            " 22  :@computed_region_sbqj_enih  999 non-null    float64\n",
            " 23  :@computed_region_efsh_h5xi  999 non-null    float64\n",
            "dtypes: float64(9), int64(5), object(10)\n",
            "memory usage: 187.6+ KB\n"
          ]
        }
      ]
    },
    {
      "cell_type": "markdown",
      "source": [
        "**Data Sources**\n",
        "The data used for this analysis comes from:\n",
        "\n",
        "1) NYC Open Data's NYPD Arrest Data Year to Date. (The data is updated quarterly, with the last update on 7/15/2022).  The data can be found at: https://data.cityofnewyork.us/Public-Safety/NYPD-Arrest-Data-Year-to-Date-/uip8-fykc\n",
        "\n",
        "\n",
        "Null values appearing frequently in certain fields may be attributed to changes on official department forms where data was previously not collected. Null values may also appear in instances where information was not available or unknown at the time of the report and should be considered as either \"Unknown/Not Available/Not Reported\"\n",
        "\n",
        "Arrests which involve multiple charges are classified according to the top charge.\n",
        "\n",
        "Note: Many other arrests that were not able to be geocoded (for ex, due to an invalid address) have been located as occurring at the police station house within the precinct of occurrence. ** This should be cleaned/analyzed before conducting any kind of predictive analysis on crime location by address.\n",
        "\n",
        "Arrests occurring on a moving train on any of the transit systems are geo-coded as occurring at the train's next stop. \n",
        "\n",
        "All arrests occurring within the Department of Correction have been geo-coded as occurring on Riker's Island (!... wonder what this means for the stats at Rikers?)\n",
        "\n",
        "Only valid arrests are included in this data. Arrests that were voided when further investigation reveals a person did not commit the offense or it is determined no offense was committted are excluded from this data set. \n",
        "\n",
        "2) John Keefe's dataset of NYC Census population by precinct. https://johnkeefe.net/nyc-police-precinct-and-census-data.  This data includes a summary of the population based on 2020 Census data and the land-based borders (to account for shoreline boundaries that go into the water...). \n",
        "\n",
        "**Data Dictionary**\n",
        "\n",
        "The data dictionary outlining the definition of terms used in the column information can be found at: (more info here: https://data.cityofnewyork.us/api/views/uip8-fykc/files/62a746df-66ca-4603-aae4-46c02bac2972?download=true&filename=NYPD_Arrest_Incident_Level_Data_Footnotes.pdf)\n",
        "\n",
        "Important terms for the purpose of this analysis include:\n",
        "Arrest Key =     Randomly generated persistent ID for each arrest\n",
        "Arrest Date =    exact date of arrest for the reported event\n",
        "PD_Desc =        Description of the internal classification of PD_CD\n",
        "OFNS_DESC =      Offense description\n",
        "Arrest Borough = Borough where arrest occurred (Manhattan (M), Bronx (B),                Staten Island (S), Brooklyn (K) and Queens (Q)\n",
        "Age_Group =      Perpetrator's age within a category \n",
        "Perp_Sex=        Perpetrator's sex description\n",
        "Perp_Race =      Perpetrator's race description\n"
      ],
      "metadata": {
        "id": "QczHhAMrczI_"
      }
    },
    {
      "cell_type": "code",
      "source": [
        "df.columns"
      ],
      "metadata": {
        "colab": {
          "base_uri": "https://localhost:8080/",
          "height": 0
        },
        "id": "swjzJYVnQXnX",
        "outputId": "d8012497-1844-410a-e192-72cc942a99b8"
      },
      "execution_count": 5,
      "outputs": [
        {
          "output_type": "execute_result",
          "data": {
            "text/plain": [
              "Index(['arrest_key', 'arrest_date', 'pd_cd', 'pd_desc', 'ky_cd', 'ofns_desc',\n",
              "       'law_code', 'law_cat_cd', 'arrest_boro', 'arrest_precinct',\n",
              "       'jurisdiction_code', 'age_group', 'perp_sex', 'perp_race', 'x_coord_cd',\n",
              "       'y_coord_cd', 'latitude', 'longitude', 'geocoded_column',\n",
              "       ':@computed_region_f5dn_yrer', ':@computed_region_yeji_bk3q',\n",
              "       ':@computed_region_92fq_4b7q', ':@computed_region_sbqj_enih',\n",
              "       ':@computed_region_efsh_h5xi'],\n",
              "      dtype='object')"
            ]
          },
          "metadata": {},
          "execution_count": 5
        }
      ]
    },
    {
      "cell_type": "markdown",
      "source": [
        "#**Data Cleaning**#\n",
        "\n",
        "To clean the data, I checked for null and non-standard missing values, dropped unnecessary columns, renamed columns for reader clarity and organized the data for exploration. "
      ],
      "metadata": {
        "id": "6JRmCT-4f32M"
      }
    },
    {
      "cell_type": "code",
      "source": [
        "#Drop unnecessary columns from dataset for analysis\n",
        "drop_cols=['law_code',\n",
        "           'law_cat_cd',\n",
        "           'x_coord_cd',\n",
        "           'y_coord_cd',\n",
        "           ':@computed_region_f5dn_yrer',\n",
        "           ':@computed_region_yeji_bk3q',\n",
        "           ':@computed_region_92fq_4b7q',\n",
        "           ':@computed_region_sbqj_enih',\n",
        "           ':@computed_region_efsh_h5xi']\n",
        "df.drop(drop_cols, inplace=True, axis=1)\n"
      ],
      "metadata": {
        "id": "wG_G2J8LfHCU"
      },
      "execution_count": 6,
      "outputs": []
    },
    {
      "cell_type": "code",
      "source": [
        "df.columns #check that columns are gone\n"
      ],
      "metadata": {
        "id": "jSEnlAjyQnYP",
        "colab": {
          "base_uri": "https://localhost:8080/",
          "height": 0
        },
        "outputId": "3a55b406-a20b-4cd9-b40d-02f95a9b80af"
      },
      "execution_count": 7,
      "outputs": [
        {
          "output_type": "execute_result",
          "data": {
            "text/plain": [
              "Index(['arrest_key', 'arrest_date', 'pd_cd', 'pd_desc', 'ky_cd', 'ofns_desc',\n",
              "       'arrest_boro', 'arrest_precinct', 'jurisdiction_code', 'age_group',\n",
              "       'perp_sex', 'perp_race', 'latitude', 'longitude', 'geocoded_column'],\n",
              "      dtype='object')"
            ]
          },
          "metadata": {},
          "execution_count": 7
        }
      ]
    },
    {
      "cell_type": "code",
      "source": [
        "df.dtypes #check data types"
      ],
      "metadata": {
        "colab": {
          "base_uri": "https://localhost:8080/",
          "height": 0
        },
        "id": "6rmcbxwgC1sA",
        "outputId": "d0691e34-7baf-4972-fedb-47299eb8e622"
      },
      "execution_count": 8,
      "outputs": [
        {
          "output_type": "execute_result",
          "data": {
            "text/plain": [
              "arrest_key             int64\n",
              "arrest_date           object\n",
              "pd_cd                float64\n",
              "pd_desc               object\n",
              "ky_cd                float64\n",
              "ofns_desc             object\n",
              "arrest_boro           object\n",
              "arrest_precinct        int64\n",
              "jurisdiction_code      int64\n",
              "age_group             object\n",
              "perp_sex              object\n",
              "perp_race             object\n",
              "latitude             float64\n",
              "longitude            float64\n",
              "geocoded_column       object\n",
              "dtype: object"
            ]
          },
          "metadata": {},
          "execution_count": 8
        }
      ]
    },
    {
      "cell_type": "code",
      "source": [
        "sns.heatmap(df.isnull(),cbar=True,vmin=0,vmax=.3) #there is missing data in the crime coding & description columns."
      ],
      "metadata": {
        "colab": {
          "base_uri": "https://localhost:8080/",
          "height": 368
        },
        "id": "GvYZQ97zkNVS",
        "outputId": "263ebcf4-eaf5-4ec2-ca3c-e49159bfb760"
      },
      "execution_count": 9,
      "outputs": [
        {
          "output_type": "execute_result",
          "data": {
            "text/plain": [
              "<matplotlib.axes._subplots.AxesSubplot at 0x7ff3d9042c90>"
            ]
          },
          "metadata": {},
          "execution_count": 9
        },
        {
          "output_type": "display_data",
          "data": {
            "text/plain": [
              "<Figure size 432x288 with 2 Axes>"
            ],
            "image/png": "[encoded data removed]"
          },
          "metadata": {
            "needs_background": "light"
          }
        }
      ]
    },
    {
      "cell_type": "code",
      "source": [
        "df.isnull().sum() # Getting more granular, there are 15 internal classification code and 21 internal classification \n",
        "#descriptions missing.  As this information is only relevant to NYPD, the rows will remain in the dataset. "
      ],
      "metadata": {
        "id": "xnWPXKbekeBb",
        "colab": {
          "base_uri": "https://localhost:8080/",
          "height": 0
        },
        "outputId": "423f153e-b099-4134-ba62-a42849db8241"
      },
      "execution_count": 10,
      "outputs": [
        {
          "output_type": "execute_result",
          "data": {
            "text/plain": [
              "arrest_key            0\n",
              "arrest_date           0\n",
              "pd_cd                15\n",
              "pd_desc               0\n",
              "ky_cd                21\n",
              "ofns_desc             0\n",
              "arrest_boro           0\n",
              "arrest_precinct       0\n",
              "jurisdiction_code     0\n",
              "age_group             0\n",
              "perp_sex              0\n",
              "perp_race             0\n",
              "latitude              0\n",
              "longitude             0\n",
              "geocoded_column       0\n",
              "dtype: int64"
            ]
          },
          "metadata": {},
          "execution_count": 10
        }
      ]
    },
    {
      "cell_type": "code",
      "source": [
        "df=df[[\"arrest_key\",\"arrest_date\",\"ofns_desc\",\"arrest_boro\",\"arrest_precinct\",\"age_group\",\"perp_sex\",\"perp_race\",\"latitude\",\"longitude\"]]\n",
        "df.head()"
      ],
      "metadata": {
        "colab": {
          "base_uri": "https://localhost:8080/",
          "height": 206
        },
        "id": "PgLelT6r3BTP",
        "outputId": "06ce581c-3a86-4c18-ce20-59cf374d7aac"
      },
      "execution_count": 11,
      "outputs": [
        {
          "output_type": "execute_result",
          "data": {
            "text/plain": [
              "   arrest_key              arrest_date          ofns_desc arrest_boro  \\\n",
              "0   238552639  2022-01-03T00:00:00.000  CRIMINAL TRESPASS           K   \n",
              "1   238682242  2022-01-05T00:00:00.000            ROBBERY           K   \n",
              "2   238723993  2022-01-06T00:00:00.000               RAPE           K   \n",
              "3   238821533  2022-01-08T00:00:00.000             (null)           Q   \n",
              "4   239029586  2022-01-12T00:00:00.000             (null)           Q   \n",
              "\n",
              "   arrest_precinct age_group perp_sex       perp_race   latitude  longitude  \n",
              "0               75     18-24        M           BLACK  40.676863 -73.889037  \n",
              "1               75     25-44        M           BLACK  40.671404 -73.881509  \n",
              "2               77     25-44        M           WHITE  40.674496 -73.930571  \n",
              "3              113     45-64        M  WHITE HISPANIC  40.679701 -73.776047  \n",
              "4              113     25-44        M  WHITE HISPANIC  40.679701 -73.776047  "
            ],
            "text/html": [
              "\n",
              "  <div id=\"df-1fd33de6-18bf-41aa-98f5-5ec58c01228a\">\n",
              "    <div class=\"colab-df-container\">\n",
              "      <div>\n",
              "<style scoped>\n",
              "    .dataframe tbody tr th:only-of-type {\n",
              "        vertical-align: middle;\n",
              "    }\n",
              "\n",
              "    .dataframe tbody tr th {\n",
              "        vertical-align: top;\n",
              "    }\n",
              "\n",
              "    .dataframe thead th {\n",
              "        text-align: right;\n",
              "    }\n",
              "</style>\n",
              "<table border=\"1\" class=\"dataframe\">\n",
              "  <thead>\n",
              "    <tr style=\"text-align: right;\">\n",
              "      <th></th>\n",
              "      <th>arrest_key</th>\n",
              "      <th>arrest_date</th>\n",
              "      <th>ofns_desc</th>\n",
              "      <th>arrest_boro</th>\n",
              "      <th>arrest_precinct</th>\n",
              "      <th>age_group</th>\n",
              "      <th>perp_sex</th>\n",
              "      <th>perp_race</th>\n",
              "      <th>latitude</th>\n",
              "      <th>longitude</th>\n",
              "    </tr>\n",
              "  </thead>\n",
              "  <tbody>\n",
              "    <tr>\n",
              "      <th>0</th>\n",
              "      <td>238552639</td>\n",
              "      <td>2022-01-03T00:00:00.000</td>\n",
              "      <td>CRIMINAL TRESPASS</td>\n",
              "      <td>K</td>\n",
              "      <td>75</td>\n",
              "      <td>18-24</td>\n",
              "      <td>M</td>\n",
              "      <td>BLACK</td>\n",
              "      <td>40.676863</td>\n",
              "      <td>-73.889037</td>\n",
              "    </tr>\n",
              "    <tr>\n",
              "      <th>1</th>\n",
              "      <td>238682242</td>\n",
              "      <td>2022-01-05T00:00:00.000</td>\n",
              "      <td>ROBBERY</td>\n",
              "      <td>K</td>\n",
              "      <td>75</td>\n",
              "      <td>25-44</td>\n",
              "      <td>M</td>\n",
              "      <td>BLACK</td>\n",
              "      <td>40.671404</td>\n",
              "      <td>-73.881509</td>\n",
              "    </tr>\n",
              "    <tr>\n",
              "      <th>2</th>\n",
              "      <td>238723993</td>\n",
              "      <td>2022-01-06T00:00:00.000</td>\n",
              "      <td>RAPE</td>\n",
              "      <td>K</td>\n",
              "      <td>77</td>\n",
              "      <td>25-44</td>\n",
              "      <td>M</td>\n",
              "      <td>WHITE</td>\n",
              "      <td>40.674496</td>\n",
              "      <td>-73.930571</td>\n",
              "    </tr>\n",
              "    <tr>\n",
              "      <th>3</th>\n",
              "      <td>238821533</td>\n",
              "      <td>2022-01-08T00:00:00.000</td>\n",
              "      <td>(null)</td>\n",
              "      <td>Q</td>\n",
              "      <td>113</td>\n",
              "      <td>45-64</td>\n",
              "      <td>M</td>\n",
              "      <td>WHITE HISPANIC</td>\n",
              "      <td>40.679701</td>\n",
              "      <td>-73.776047</td>\n",
              "    </tr>\n",
              "    <tr>\n",
              "      <th>4</th>\n",
              "      <td>239029586</td>\n",
              "      <td>2022-01-12T00:00:00.000</td>\n",
              "      <td>(null)</td>\n",
              "      <td>Q</td>\n",
              "      <td>113</td>\n",
              "      <td>25-44</td>\n",
              "      <td>M</td>\n",
              "      <td>WHITE HISPANIC</td>\n",
              "      <td>40.679701</td>\n",
              "      <td>-73.776047</td>\n",
              "    </tr>\n",
              "  </tbody>\n",
              "</table>\n",
              "</div>\n",
              "      <button class=\"colab-df-convert\" onclick=\"convertToInteractive('df-1fd33de6-18bf-41aa-98f5-5ec58c01228a')\"\n",
              "              title=\"Convert this dataframe to an interactive table.\"\n",
              "              style=\"display:none;\">\n",
              "        \n",
              "  <svg xmlns=\"http://www.w3.org/2000/svg\" height=\"24px\"viewBox=\"0 0 24 24\"\n",
              "       width=\"24px\">\n",
              "    <path d=\"M0 0h24v24H0V0z\" fill=\"none\"/>\n",
              "    <path d=\"M18.56 5.44l.94 2.06.94-2.06 2.06-.94-2.06-.94-.94-2.06-.94 2.06-2.06.94zm-11 1L8.5 8.5l.94-2.06 2.06-.94-2.06-.94L8.5 2.5l-.94 2.06-2.06.94zm10 10l.94 2.06.94-2.06 2.06-.94-2.06-.94-.94-2.06-.94 2.06-2.06.94z\"/><path d=\"M17.41 7.96l-1.37-1.37c-.4-.4-.92-.59-1.43-.59-.52 0-1.04.2-1.43.59L10.3 9.45l-7.72 7.72c-.78.78-.78 2.05 0 2.83L4 21.41c.39.39.9.59 1.41.59.51 0 1.02-.2 1.41-.59l7.78-7.78 2.81-2.81c.8-.78.8-2.07 0-2.86zM5.41 20L4 18.59l7.72-7.72 1.47 1.35L5.41 20z\"/>\n",
              "  </svg>\n",
              "      </button>\n",
              "      \n",
              "  <style>\n",
              "    .colab-df-container {\n",
              "      display:flex;\n",
              "      flex-wrap:wrap;\n",
              "      gap: 12px;\n",
              "    }\n",
              "\n",
              "    .colab-df-convert {\n",
              "      background-color: #E8F0FE;\n",
              "      border: none;\n",
              "      border-radius: 50%;\n",
              "      cursor: pointer;\n",
              "      display: none;\n",
              "      fill: #1967D2;\n",
              "      height: 32px;\n",
              "      padding: 0 0 0 0;\n",
              "      width: 32px;\n",
              "    }\n",
              "\n",
              "    .colab-df-convert:hover {\n",
              "      background-color: #E2EBFA;\n",
              "      box-shadow: 0px 1px 2px rgba(60, 64, 67, 0.3), 0px 1px 3px 1px rgba(60, 64, 67, 0.15);\n",
              "      fill: #174EA6;\n",
              "    }\n",
              "\n",
              "    [theme=dark] .colab-df-convert {\n",
              "      background-color: #3B4455;\n",
              "      fill: #D2E3FC;\n",
              "    }\n",
              "\n",
              "    [theme=dark] .colab-df-convert:hover {\n",
              "      background-color: #434B5C;\n",
              "      box-shadow: 0px 1px 3px 1px rgba(0, 0, 0, 0.15);\n",
              "      filter: drop-shadow(0px 1px 2px rgba(0, 0, 0, 0.3));\n",
              "      fill: #FFFFFF;\n",
              "    }\n",
              "  </style>\n",
              "\n",
              "      <script>\n",
              "        const buttonEl =\n",
              "          document.querySelector('#df-1fd33de6-18bf-41aa-98f5-5ec58c01228a button.colab-df-convert');\n",
              "        buttonEl.style.display =\n",
              "          google.colab.kernel.accessAllowed ? 'block' : 'none';\n",
              "\n",
              "        async function convertToInteractive(key) {\n",
              "          const element = document.querySelector('#df-1fd33de6-18bf-41aa-98f5-5ec58c01228a');\n",
              "          const dataTable =\n",
              "            await google.colab.kernel.invokeFunction('convertToInteractive',\n",
              "                                                     [key], {});\n",
              "          if (!dataTable) return;\n",
              "\n",
              "          const docLinkHtml = 'Like what you see? Visit the ' +\n",
              "            '<a target=\"_blank\" href=https://colab.research.google.com/notebooks/data_table.ipynb>data table notebook</a>'\n",
              "            + ' to learn more about interactive tables.';\n",
              "          element.innerHTML = '';\n",
              "          dataTable['output_type'] = 'display_data';\n",
              "          await google.colab.output.renderOutput(dataTable, element);\n",
              "          const docLink = document.createElement('div');\n",
              "          docLink.innerHTML = docLinkHtml;\n",
              "          element.appendChild(docLink);\n",
              "        }\n",
              "      </script>\n",
              "    </div>\n",
              "  </div>\n",
              "  "
            ]
          },
          "metadata": {},
          "execution_count": 11
        }
      ]
    },
    {
      "cell_type": "code",
      "source": [
        "df=df[(df[\"ofns_desc\"].str.contains(\"(null)\")==False) & (df[\"ofns_desc\"].str.contains(\"NaN\")==False)]# get rid of Nan and (null) entries\n",
        "df.head()\n"
      ],
      "metadata": {
        "colab": {
          "base_uri": "https://localhost:8080/",
          "height": 241
        },
        "id": "MhULFn__omSD",
        "outputId": "f8603ff8-46a0-4d9e-fb95-39ce507aa9cc"
      },
      "execution_count": 12,
      "outputs": [
        {
          "output_type": "stream",
          "name": "stderr",
          "text": [
            "/usr/local/lib/python3.7/dist-packages/ipykernel_launcher.py:1: UserWarning: This pattern has match groups. To actually get the groups, use str.extract.\n",
            "  \"\"\"Entry point for launching an IPython kernel.\n"
          ]
        },
        {
          "output_type": "execute_result",
          "data": {
            "text/plain": [
              "   arrest_key              arrest_date                     ofns_desc  \\\n",
              "0   238552639  2022-01-03T00:00:00.000             CRIMINAL TRESPASS   \n",
              "1   238682242  2022-01-05T00:00:00.000                       ROBBERY   \n",
              "2   238723993  2022-01-06T00:00:00.000                          RAPE   \n",
              "5   239104920  2022-01-13T00:00:00.000  ASSAULT 3 & RELATED OFFENSES   \n",
              "7   239623520  2022-01-24T00:00:00.000  ASSAULT 3 & RELATED OFFENSES   \n",
              "\n",
              "  arrest_boro  arrest_precinct age_group perp_sex perp_race   latitude  \\\n",
              "0           K               75     18-24        M     BLACK  40.676863   \n",
              "1           K               75     25-44        M     BLACK  40.671404   \n",
              "2           K               77     25-44        M     WHITE  40.674496   \n",
              "5           K               77     45-64        M     BLACK  40.674593   \n",
              "7           K               60     45-64        M     WHITE  40.577258   \n",
              "\n",
              "   longitude  \n",
              "0 -73.889037  \n",
              "1 -73.881509  \n",
              "2 -73.930571  \n",
              "5 -73.930572  \n",
              "7 -73.976436  "
            ],
            "text/html": [
              "\n",
              "  <div id=\"df-84a24cb3-a1d3-4937-bfd9-47e7b3cac19e\">\n",
              "    <div class=\"colab-df-container\">\n",
              "      <div>\n",
              "<style scoped>\n",
              "    .dataframe tbody tr th:only-of-type {\n",
              "        vertical-align: middle;\n",
              "    }\n",
              "\n",
              "    .dataframe tbody tr th {\n",
              "        vertical-align: top;\n",
              "    }\n",
              "\n",
              "    .dataframe thead th {\n",
              "        text-align: right;\n",
              "    }\n",
              "</style>\n",
              "<table border=\"1\" class=\"dataframe\">\n",
              "  <thead>\n",
              "    <tr style=\"text-align: right;\">\n",
              "      <th></th>\n",
              "      <th>arrest_key</th>\n",
              "      <th>arrest_date</th>\n",
              "      <th>ofns_desc</th>\n",
              "      <th>arrest_boro</th>\n",
              "      <th>arrest_precinct</th>\n",
              "      <th>age_group</th>\n",
              "      <th>perp_sex</th>\n",
              "      <th>perp_race</th>\n",
              "      <th>latitude</th>\n",
              "      <th>longitude</th>\n",
              "    </tr>\n",
              "  </thead>\n",
              "  <tbody>\n",
              "    <tr>\n",
              "      <th>0</th>\n",
              "      <td>238552639</td>\n",
              "      <td>2022-01-03T00:00:00.000</td>\n",
              "      <td>CRIMINAL TRESPASS</td>\n",
              "      <td>K</td>\n",
              "      <td>75</td>\n",
              "      <td>18-24</td>\n",
              "      <td>M</td>\n",
              "      <td>BLACK</td>\n",
              "      <td>40.676863</td>\n",
              "      <td>-73.889037</td>\n",
              "    </tr>\n",
              "    <tr>\n",
              "      <th>1</th>\n",
              "      <td>238682242</td>\n",
              "      <td>2022-01-05T00:00:00.000</td>\n",
              "      <td>ROBBERY</td>\n",
              "      <td>K</td>\n",
              "      <td>75</td>\n",
              "      <td>25-44</td>\n",
              "      <td>M</td>\n",
              "      <td>BLACK</td>\n",
              "      <td>40.671404</td>\n",
              "      <td>-73.881509</td>\n",
              "    </tr>\n",
              "    <tr>\n",
              "      <th>2</th>\n",
              "      <td>238723993</td>\n",
              "      <td>2022-01-06T00:00:00.000</td>\n",
              "      <td>RAPE</td>\n",
              "      <td>K</td>\n",
              "      <td>77</td>\n",
              "      <td>25-44</td>\n",
              "      <td>M</td>\n",
              "      <td>WHITE</td>\n",
              "      <td>40.674496</td>\n",
              "      <td>-73.930571</td>\n",
              "    </tr>\n",
              "    <tr>\n",
              "      <th>5</th>\n",
              "      <td>239104920</td>\n",
              "      <td>2022-01-13T00:00:00.000</td>\n",
              "      <td>ASSAULT 3 &amp; RELATED OFFENSES</td>\n",
              "      <td>K</td>\n",
              "      <td>77</td>\n",
              "      <td>45-64</td>\n",
              "      <td>M</td>\n",
              "      <td>BLACK</td>\n",
              "      <td>40.674593</td>\n",
              "      <td>-73.930572</td>\n",
              "    </tr>\n",
              "    <tr>\n",
              "      <th>7</th>\n",
              "      <td>239623520</td>\n",
              "      <td>2022-01-24T00:00:00.000</td>\n",
              "      <td>ASSAULT 3 &amp; RELATED OFFENSES</td>\n",
              "      <td>K</td>\n",
              "      <td>60</td>\n",
              "      <td>45-64</td>\n",
              "      <td>M</td>\n",
              "      <td>WHITE</td>\n",
              "      <td>40.577258</td>\n",
              "      <td>-73.976436</td>\n",
              "    </tr>\n",
              "  </tbody>\n",
              "</table>\n",
              "</div>\n",
              "      <button class=\"colab-df-convert\" onclick=\"convertToInteractive('df-84a24cb3-a1d3-4937-bfd9-47e7b3cac19e')\"\n",
              "              title=\"Convert this dataframe to an interactive table.\"\n",
              "              style=\"display:none;\">\n",
              "        \n",
              "  <svg xmlns=\"http://www.w3.org/2000/svg\" height=\"24px\"viewBox=\"0 0 24 24\"\n",
              "       width=\"24px\">\n",
              "    <path d=\"M0 0h24v24H0V0z\" fill=\"none\"/>\n",
              "    <path d=\"M18.56 5.44l.94 2.06.94-2.06 2.06-.94-2.06-.94-.94-2.06-.94 2.06-2.06.94zm-11 1L8.5 8.5l.94-2.06 2.06-.94-2.06-.94L8.5 2.5l-.94 2.06-2.06.94zm10 10l.94 2.06.94-2.06 2.06-.94-2.06-.94-.94-2.06-.94 2.06-2.06.94z\"/><path d=\"M17.41 7.96l-1.37-1.37c-.4-.4-.92-.59-1.43-.59-.52 0-1.04.2-1.43.59L10.3 9.45l-7.72 7.72c-.78.78-.78 2.05 0 2.83L4 21.41c.39.39.9.59 1.41.59.51 0 1.02-.2 1.41-.59l7.78-7.78 2.81-2.81c.8-.78.8-2.07 0-2.86zM5.41 20L4 18.59l7.72-7.72 1.47 1.35L5.41 20z\"/>\n",
              "  </svg>\n",
              "      </button>\n",
              "      \n",
              "  <style>\n",
              "    .colab-df-container {\n",
              "      display:flex;\n",
              "      flex-wrap:wrap;\n",
              "      gap: 12px;\n",
              "    }\n",
              "\n",
              "    .colab-df-convert {\n",
              "      background-color: #E8F0FE;\n",
              "      border: none;\n",
              "      border-radius: 50%;\n",
              "      cursor: pointer;\n",
              "      display: none;\n",
              "      fill: #1967D2;\n",
              "      height: 32px;\n",
              "      padding: 0 0 0 0;\n",
              "      width: 32px;\n",
              "    }\n",
              "\n",
              "    .colab-df-convert:hover {\n",
              "      background-color: #E2EBFA;\n",
              "      box-shadow: 0px 1px 2px rgba(60, 64, 67, 0.3), 0px 1px 3px 1px rgba(60, 64, 67, 0.15);\n",
              "      fill: #174EA6;\n",
              "    }\n",
              "\n",
              "    [theme=dark] .colab-df-convert {\n",
              "      background-color: #3B4455;\n",
              "      fill: #D2E3FC;\n",
              "    }\n",
              "\n",
              "    [theme=dark] .colab-df-convert:hover {\n",
              "      background-color: #434B5C;\n",
              "      box-shadow: 0px 1px 3px 1px rgba(0, 0, 0, 0.15);\n",
              "      filter: drop-shadow(0px 1px 2px rgba(0, 0, 0, 0.3));\n",
              "      fill: #FFFFFF;\n",
              "    }\n",
              "  </style>\n",
              "\n",
              "      <script>\n",
              "        const buttonEl =\n",
              "          document.querySelector('#df-84a24cb3-a1d3-4937-bfd9-47e7b3cac19e button.colab-df-convert');\n",
              "        buttonEl.style.display =\n",
              "          google.colab.kernel.accessAllowed ? 'block' : 'none';\n",
              "\n",
              "        async function convertToInteractive(key) {\n",
              "          const element = document.querySelector('#df-84a24cb3-a1d3-4937-bfd9-47e7b3cac19e');\n",
              "          const dataTable =\n",
              "            await google.colab.kernel.invokeFunction('convertToInteractive',\n",
              "                                                     [key], {});\n",
              "          if (!dataTable) return;\n",
              "\n",
              "          const docLinkHtml = 'Like what you see? Visit the ' +\n",
              "            '<a target=\"_blank\" href=https://colab.research.google.com/notebooks/data_table.ipynb>data table notebook</a>'\n",
              "            + ' to learn more about interactive tables.';\n",
              "          element.innerHTML = '';\n",
              "          dataTable['output_type'] = 'display_data';\n",
              "          await google.colab.output.renderOutput(dataTable, element);\n",
              "          const docLink = document.createElement('div');\n",
              "          docLink.innerHTML = docLinkHtml;\n",
              "          element.appendChild(docLink);\n",
              "        }\n",
              "      </script>\n",
              "    </div>\n",
              "  </div>\n",
              "  "
            ]
          },
          "metadata": {},
          "execution_count": 12
        }
      ]
    },
    {
      "cell_type": "code",
      "source": [
        "df.shape #getting rid of NaN and (null)entries from the Offense Description column removed 21 rows fromt the dataset"
      ],
      "metadata": {
        "colab": {
          "base_uri": "https://localhost:8080/",
          "height": 0
        },
        "id": "bwYlK4pKFePG",
        "outputId": "919aa9e4-1298-402e-c43b-e85368e09ee9"
      },
      "execution_count": 13,
      "outputs": [
        {
          "output_type": "execute_result",
          "data": {
            "text/plain": [
              "(979, 10)"
            ]
          },
          "metadata": {},
          "execution_count": 13
        }
      ]
    },
    {
      "cell_type": "code",
      "source": [
        "df=df[(df[\"arrest_date\"].str.contains(\"(null)\")==False) & (df[\"arrest_date\"].str.contains(\"NaN\")==False)]# get rid of Nan and (null) entries\n",
        "df.head()"
      ],
      "metadata": {
        "colab": {
          "base_uri": "https://localhost:8080/",
          "height": 241
        },
        "id": "TcS29esYGIdx",
        "outputId": "324f1281-b45f-4c3e-e118-7281b9b8325e"
      },
      "execution_count": 14,
      "outputs": [
        {
          "output_type": "stream",
          "name": "stderr",
          "text": [
            "/usr/local/lib/python3.7/dist-packages/ipykernel_launcher.py:1: UserWarning: This pattern has match groups. To actually get the groups, use str.extract.\n",
            "  \"\"\"Entry point for launching an IPython kernel.\n"
          ]
        },
        {
          "output_type": "execute_result",
          "data": {
            "text/plain": [
              "   arrest_key              arrest_date                     ofns_desc  \\\n",
              "0   238552639  2022-01-03T00:00:00.000             CRIMINAL TRESPASS   \n",
              "1   238682242  2022-01-05T00:00:00.000                       ROBBERY   \n",
              "2   238723993  2022-01-06T00:00:00.000                          RAPE   \n",
              "5   239104920  2022-01-13T00:00:00.000  ASSAULT 3 & RELATED OFFENSES   \n",
              "7   239623520  2022-01-24T00:00:00.000  ASSAULT 3 & RELATED OFFENSES   \n",
              "\n",
              "  arrest_boro  arrest_precinct age_group perp_sex perp_race   latitude  \\\n",
              "0           K               75     18-24        M     BLACK  40.676863   \n",
              "1           K               75     25-44        M     BLACK  40.671404   \n",
              "2           K               77     25-44        M     WHITE  40.674496   \n",
              "5           K               77     45-64        M     BLACK  40.674593   \n",
              "7           K               60     45-64        M     WHITE  40.577258   \n",
              "\n",
              "   longitude  \n",
              "0 -73.889037  \n",
              "1 -73.881509  \n",
              "2 -73.930571  \n",
              "5 -73.930572  \n",
              "7 -73.976436  "
            ],
            "text/html": [
              "\n",
              "  <div id=\"df-9853fd47-5ff5-4262-a6f0-df4af92e6634\">\n",
              "    <div class=\"colab-df-container\">\n",
              "      <div>\n",
              "<style scoped>\n",
              "    .dataframe tbody tr th:only-of-type {\n",
              "        vertical-align: middle;\n",
              "    }\n",
              "\n",
              "    .dataframe tbody tr th {\n",
              "        vertical-align: top;\n",
              "    }\n",
              "\n",
              "    .dataframe thead th {\n",
              "        text-align: right;\n",
              "    }\n",
              "</style>\n",
              "<table border=\"1\" class=\"dataframe\">\n",
              "  <thead>\n",
              "    <tr style=\"text-align: right;\">\n",
              "      <th></th>\n",
              "      <th>arrest_key</th>\n",
              "      <th>arrest_date</th>\n",
              "      <th>ofns_desc</th>\n",
              "      <th>arrest_boro</th>\n",
              "      <th>arrest_precinct</th>\n",
              "      <th>age_group</th>\n",
              "      <th>perp_sex</th>\n",
              "      <th>perp_race</th>\n",
              "      <th>latitude</th>\n",
              "      <th>longitude</th>\n",
              "    </tr>\n",
              "  </thead>\n",
              "  <tbody>\n",
              "    <tr>\n",
              "      <th>0</th>\n",
              "      <td>238552639</td>\n",
              "      <td>2022-01-03T00:00:00.000</td>\n",
              "      <td>CRIMINAL TRESPASS</td>\n",
              "      <td>K</td>\n",
              "      <td>75</td>\n",
              "      <td>18-24</td>\n",
              "      <td>M</td>\n",
              "      <td>BLACK</td>\n",
              "      <td>40.676863</td>\n",
              "      <td>-73.889037</td>\n",
              "    </tr>\n",
              "    <tr>\n",
              "      <th>1</th>\n",
              "      <td>238682242</td>\n",
              "      <td>2022-01-05T00:00:00.000</td>\n",
              "      <td>ROBBERY</td>\n",
              "      <td>K</td>\n",
              "      <td>75</td>\n",
              "      <td>25-44</td>\n",
              "      <td>M</td>\n",
              "      <td>BLACK</td>\n",
              "      <td>40.671404</td>\n",
              "      <td>-73.881509</td>\n",
              "    </tr>\n",
              "    <tr>\n",
              "      <th>2</th>\n",
              "      <td>238723993</td>\n",
              "      <td>2022-01-06T00:00:00.000</td>\n",
              "      <td>RAPE</td>\n",
              "      <td>K</td>\n",
              "      <td>77</td>\n",
              "      <td>25-44</td>\n",
              "      <td>M</td>\n",
              "      <td>WHITE</td>\n",
              "      <td>40.674496</td>\n",
              "      <td>-73.930571</td>\n",
              "    </tr>\n",
              "    <tr>\n",
              "      <th>5</th>\n",
              "      <td>239104920</td>\n",
              "      <td>2022-01-13T00:00:00.000</td>\n",
              "      <td>ASSAULT 3 &amp; RELATED OFFENSES</td>\n",
              "      <td>K</td>\n",
              "      <td>77</td>\n",
              "      <td>45-64</td>\n",
              "      <td>M</td>\n",
              "      <td>BLACK</td>\n",
              "      <td>40.674593</td>\n",
              "      <td>-73.930572</td>\n",
              "    </tr>\n",
              "    <tr>\n",
              "      <th>7</th>\n",
              "      <td>239623520</td>\n",
              "      <td>2022-01-24T00:00:00.000</td>\n",
              "      <td>ASSAULT 3 &amp; RELATED OFFENSES</td>\n",
              "      <td>K</td>\n",
              "      <td>60</td>\n",
              "      <td>45-64</td>\n",
              "      <td>M</td>\n",
              "      <td>WHITE</td>\n",
              "      <td>40.577258</td>\n",
              "      <td>-73.976436</td>\n",
              "    </tr>\n",
              "  </tbody>\n",
              "</table>\n",
              "</div>\n",
              "      <button class=\"colab-df-convert\" onclick=\"convertToInteractive('df-9853fd47-5ff5-4262-a6f0-df4af92e6634')\"\n",
              "              title=\"Convert this dataframe to an interactive table.\"\n",
              "              style=\"display:none;\">\n",
              "        \n",
              "  <svg xmlns=\"http://www.w3.org/2000/svg\" height=\"24px\"viewBox=\"0 0 24 24\"\n",
              "       width=\"24px\">\n",
              "    <path d=\"M0 0h24v24H0V0z\" fill=\"none\"/>\n",
              "    <path d=\"M18.56 5.44l.94 2.06.94-2.06 2.06-.94-2.06-.94-.94-2.06-.94 2.06-2.06.94zm-11 1L8.5 8.5l.94-2.06 2.06-.94-2.06-.94L8.5 2.5l-.94 2.06-2.06.94zm10 10l.94 2.06.94-2.06 2.06-.94-2.06-.94-.94-2.06-.94 2.06-2.06.94z\"/><path d=\"M17.41 7.96l-1.37-1.37c-.4-.4-.92-.59-1.43-.59-.52 0-1.04.2-1.43.59L10.3 9.45l-7.72 7.72c-.78.78-.78 2.05 0 2.83L4 21.41c.39.39.9.59 1.41.59.51 0 1.02-.2 1.41-.59l7.78-7.78 2.81-2.81c.8-.78.8-2.07 0-2.86zM5.41 20L4 18.59l7.72-7.72 1.47 1.35L5.41 20z\"/>\n",
              "  </svg>\n",
              "      </button>\n",
              "      \n",
              "  <style>\n",
              "    .colab-df-container {\n",
              "      display:flex;\n",
              "      flex-wrap:wrap;\n",
              "      gap: 12px;\n",
              "    }\n",
              "\n",
              "    .colab-df-convert {\n",
              "      background-color: #E8F0FE;\n",
              "      border: none;\n",
              "      border-radius: 50%;\n",
              "      cursor: pointer;\n",
              "      display: none;\n",
              "      fill: #1967D2;\n",
              "      height: 32px;\n",
              "      padding: 0 0 0 0;\n",
              "      width: 32px;\n",
              "    }\n",
              "\n",
              "    .colab-df-convert:hover {\n",
              "      background-color: #E2EBFA;\n",
              "      box-shadow: 0px 1px 2px rgba(60, 64, 67, 0.3), 0px 1px 3px 1px rgba(60, 64, 67, 0.15);\n",
              "      fill: #174EA6;\n",
              "    }\n",
              "\n",
              "    [theme=dark] .colab-df-convert {\n",
              "      background-color: #3B4455;\n",
              "      fill: #D2E3FC;\n",
              "    }\n",
              "\n",
              "    [theme=dark] .colab-df-convert:hover {\n",
              "      background-color: #434B5C;\n",
              "      box-shadow: 0px 1px 3px 1px rgba(0, 0, 0, 0.15);\n",
              "      filter: drop-shadow(0px 1px 2px rgba(0, 0, 0, 0.3));\n",
              "      fill: #FFFFFF;\n",
              "    }\n",
              "  </style>\n",
              "\n",
              "      <script>\n",
              "        const buttonEl =\n",
              "          document.querySelector('#df-9853fd47-5ff5-4262-a6f0-df4af92e6634 button.colab-df-convert');\n",
              "        buttonEl.style.display =\n",
              "          google.colab.kernel.accessAllowed ? 'block' : 'none';\n",
              "\n",
              "        async function convertToInteractive(key) {\n",
              "          const element = document.querySelector('#df-9853fd47-5ff5-4262-a6f0-df4af92e6634');\n",
              "          const dataTable =\n",
              "            await google.colab.kernel.invokeFunction('convertToInteractive',\n",
              "                                                     [key], {});\n",
              "          if (!dataTable) return;\n",
              "\n",
              "          const docLinkHtml = 'Like what you see? Visit the ' +\n",
              "            '<a target=\"_blank\" href=https://colab.research.google.com/notebooks/data_table.ipynb>data table notebook</a>'\n",
              "            + ' to learn more about interactive tables.';\n",
              "          element.innerHTML = '';\n",
              "          dataTable['output_type'] = 'display_data';\n",
              "          await google.colab.output.renderOutput(dataTable, element);\n",
              "          const docLink = document.createElement('div');\n",
              "          docLink.innerHTML = docLinkHtml;\n",
              "          element.appendChild(docLink);\n",
              "        }\n",
              "      </script>\n",
              "    </div>\n",
              "  </div>\n",
              "  "
            ]
          },
          "metadata": {},
          "execution_count": 14
        }
      ]
    },
    {
      "cell_type": "code",
      "source": [
        "df.shape"
      ],
      "metadata": {
        "colab": {
          "base_uri": "https://localhost:8080/",
          "height": 0
        },
        "id": "CFMrqQrRGVWG",
        "outputId": "3b895d1d-f276-4e06-a20b-24dfb642737b"
      },
      "execution_count": 15,
      "outputs": [
        {
          "output_type": "execute_result",
          "data": {
            "text/plain": [
              "(979, 10)"
            ]
          },
          "metadata": {},
          "execution_count": 15
        }
      ]
    },
    {
      "cell_type": "code",
      "source": [
        "#rename columns \n",
        "df.rename(columns={'ofns_desc':'offense','arrest_precinct':'precinct'},inplace=True)\n",
        "df.head()"
      ],
      "metadata": {
        "colab": {
          "base_uri": "https://localhost:8080/",
          "height": 206
        },
        "id": "kK9T6C9JJIEC",
        "outputId": "4182f292-7e40-4a33-92e3-cd4a2c7ba08f"
      },
      "execution_count": 16,
      "outputs": [
        {
          "output_type": "execute_result",
          "data": {
            "text/plain": [
              "   arrest_key              arrest_date                       offense  \\\n",
              "0   238552639  2022-01-03T00:00:00.000             CRIMINAL TRESPASS   \n",
              "1   238682242  2022-01-05T00:00:00.000                       ROBBERY   \n",
              "2   238723993  2022-01-06T00:00:00.000                          RAPE   \n",
              "5   239104920  2022-01-13T00:00:00.000  ASSAULT 3 & RELATED OFFENSES   \n",
              "7   239623520  2022-01-24T00:00:00.000  ASSAULT 3 & RELATED OFFENSES   \n",
              "\n",
              "  arrest_boro  precinct age_group perp_sex perp_race   latitude  longitude  \n",
              "0           K        75     18-24        M     BLACK  40.676863 -73.889037  \n",
              "1           K        75     25-44        M     BLACK  40.671404 -73.881509  \n",
              "2           K        77     25-44        M     WHITE  40.674496 -73.930571  \n",
              "5           K        77     45-64        M     BLACK  40.674593 -73.930572  \n",
              "7           K        60     45-64        M     WHITE  40.577258 -73.976436  "
            ],
            "text/html": [
              "\n",
              "  <div id=\"df-1bf3a7d4-ad40-4b8b-b2cd-c0fb15fca491\">\n",
              "    <div class=\"colab-df-container\">\n",
              "      <div>\n",
              "<style scoped>\n",
              "    .dataframe tbody tr th:only-of-type {\n",
              "        vertical-align: middle;\n",
              "    }\n",
              "\n",
              "    .dataframe tbody tr th {\n",
              "        vertical-align: top;\n",
              "    }\n",
              "\n",
              "    .dataframe thead th {\n",
              "        text-align: right;\n",
              "    }\n",
              "</style>\n",
              "<table border=\"1\" class=\"dataframe\">\n",
              "  <thead>\n",
              "    <tr style=\"text-align: right;\">\n",
              "      <th></th>\n",
              "      <th>arrest_key</th>\n",
              "      <th>arrest_date</th>\n",
              "      <th>offense</th>\n",
              "      <th>arrest_boro</th>\n",
              "      <th>precinct</th>\n",
              "      <th>age_group</th>\n",
              "      <th>perp_sex</th>\n",
              "      <th>perp_race</th>\n",
              "      <th>latitude</th>\n",
              "      <th>longitude</th>\n",
              "    </tr>\n",
              "  </thead>\n",
              "  <tbody>\n",
              "    <tr>\n",
              "      <th>0</th>\n",
              "      <td>238552639</td>\n",
              "      <td>2022-01-03T00:00:00.000</td>\n",
              "      <td>CRIMINAL TRESPASS</td>\n",
              "      <td>K</td>\n",
              "      <td>75</td>\n",
              "      <td>18-24</td>\n",
              "      <td>M</td>\n",
              "      <td>BLACK</td>\n",
              "      <td>40.676863</td>\n",
              "      <td>-73.889037</td>\n",
              "    </tr>\n",
              "    <tr>\n",
              "      <th>1</th>\n",
              "      <td>238682242</td>\n",
              "      <td>2022-01-05T00:00:00.000</td>\n",
              "      <td>ROBBERY</td>\n",
              "      <td>K</td>\n",
              "      <td>75</td>\n",
              "      <td>25-44</td>\n",
              "      <td>M</td>\n",
              "      <td>BLACK</td>\n",
              "      <td>40.671404</td>\n",
              "      <td>-73.881509</td>\n",
              "    </tr>\n",
              "    <tr>\n",
              "      <th>2</th>\n",
              "      <td>238723993</td>\n",
              "      <td>2022-01-06T00:00:00.000</td>\n",
              "      <td>RAPE</td>\n",
              "      <td>K</td>\n",
              "      <td>77</td>\n",
              "      <td>25-44</td>\n",
              "      <td>M</td>\n",
              "      <td>WHITE</td>\n",
              "      <td>40.674496</td>\n",
              "      <td>-73.930571</td>\n",
              "    </tr>\n",
              "    <tr>\n",
              "      <th>5</th>\n",
              "      <td>239104920</td>\n",
              "      <td>2022-01-13T00:00:00.000</td>\n",
              "      <td>ASSAULT 3 &amp; RELATED OFFENSES</td>\n",
              "      <td>K</td>\n",
              "      <td>77</td>\n",
              "      <td>45-64</td>\n",
              "      <td>M</td>\n",
              "      <td>BLACK</td>\n",
              "      <td>40.674593</td>\n",
              "      <td>-73.930572</td>\n",
              "    </tr>\n",
              "    <tr>\n",
              "      <th>7</th>\n",
              "      <td>239623520</td>\n",
              "      <td>2022-01-24T00:00:00.000</td>\n",
              "      <td>ASSAULT 3 &amp; RELATED OFFENSES</td>\n",
              "      <td>K</td>\n",
              "      <td>60</td>\n",
              "      <td>45-64</td>\n",
              "      <td>M</td>\n",
              "      <td>WHITE</td>\n",
              "      <td>40.577258</td>\n",
              "      <td>-73.976436</td>\n",
              "    </tr>\n",
              "  </tbody>\n",
              "</table>\n",
              "</div>\n",
              "      <button class=\"colab-df-convert\" onclick=\"convertToInteractive('df-1bf3a7d4-ad40-4b8b-b2cd-c0fb15fca491')\"\n",
              "              title=\"Convert this dataframe to an interactive table.\"\n",
              "              style=\"display:none;\">\n",
              "        \n",
              "  <svg xmlns=\"http://www.w3.org/2000/svg\" height=\"24px\"viewBox=\"0 0 24 24\"\n",
              "       width=\"24px\">\n",
              "    <path d=\"M0 0h24v24H0V0z\" fill=\"none\"/>\n",
              "    <path d=\"M18.56 5.44l.94 2.06.94-2.06 2.06-.94-2.06-.94-.94-2.06-.94 2.06-2.06.94zm-11 1L8.5 8.5l.94-2.06 2.06-.94-2.06-.94L8.5 2.5l-.94 2.06-2.06.94zm10 10l.94 2.06.94-2.06 2.06-.94-2.06-.94-.94-2.06-.94 2.06-2.06.94z\"/><path d=\"M17.41 7.96l-1.37-1.37c-.4-.4-.92-.59-1.43-.59-.52 0-1.04.2-1.43.59L10.3 9.45l-7.72 7.72c-.78.78-.78 2.05 0 2.83L4 21.41c.39.39.9.59 1.41.59.51 0 1.02-.2 1.41-.59l7.78-7.78 2.81-2.81c.8-.78.8-2.07 0-2.86zM5.41 20L4 18.59l7.72-7.72 1.47 1.35L5.41 20z\"/>\n",
              "  </svg>\n",
              "      </button>\n",
              "      \n",
              "  <style>\n",
              "    .colab-df-container {\n",
              "      display:flex;\n",
              "      flex-wrap:wrap;\n",
              "      gap: 12px;\n",
              "    }\n",
              "\n",
              "    .colab-df-convert {\n",
              "      background-color: #E8F0FE;\n",
              "      border: none;\n",
              "      border-radius: 50%;\n",
              "      cursor: pointer;\n",
              "      display: none;\n",
              "      fill: #1967D2;\n",
              "      height: 32px;\n",
              "      padding: 0 0 0 0;\n",
              "      width: 32px;\n",
              "    }\n",
              "\n",
              "    .colab-df-convert:hover {\n",
              "      background-color: #E2EBFA;\n",
              "      box-shadow: 0px 1px 2px rgba(60, 64, 67, 0.3), 0px 1px 3px 1px rgba(60, 64, 67, 0.15);\n",
              "      fill: #174EA6;\n",
              "    }\n",
              "\n",
              "    [theme=dark] .colab-df-convert {\n",
              "      background-color: #3B4455;\n",
              "      fill: #D2E3FC;\n",
              "    }\n",
              "\n",
              "    [theme=dark] .colab-df-convert:hover {\n",
              "      background-color: #434B5C;\n",
              "      box-shadow: 0px 1px 3px 1px rgba(0, 0, 0, 0.15);\n",
              "      filter: drop-shadow(0px 1px 2px rgba(0, 0, 0, 0.3));\n",
              "      fill: #FFFFFF;\n",
              "    }\n",
              "  </style>\n",
              "\n",
              "      <script>\n",
              "        const buttonEl =\n",
              "          document.querySelector('#df-1bf3a7d4-ad40-4b8b-b2cd-c0fb15fca491 button.colab-df-convert');\n",
              "        buttonEl.style.display =\n",
              "          google.colab.kernel.accessAllowed ? 'block' : 'none';\n",
              "\n",
              "        async function convertToInteractive(key) {\n",
              "          const element = document.querySelector('#df-1bf3a7d4-ad40-4b8b-b2cd-c0fb15fca491');\n",
              "          const dataTable =\n",
              "            await google.colab.kernel.invokeFunction('convertToInteractive',\n",
              "                                                     [key], {});\n",
              "          if (!dataTable) return;\n",
              "\n",
              "          const docLinkHtml = 'Like what you see? Visit the ' +\n",
              "            '<a target=\"_blank\" href=https://colab.research.google.com/notebooks/data_table.ipynb>data table notebook</a>'\n",
              "            + ' to learn more about interactive tables.';\n",
              "          element.innerHTML = '';\n",
              "          dataTable['output_type'] = 'display_data';\n",
              "          await google.colab.output.renderOutput(dataTable, element);\n",
              "          const docLink = document.createElement('div');\n",
              "          docLink.innerHTML = docLinkHtml;\n",
              "          element.appendChild(docLink);\n",
              "        }\n",
              "      </script>\n",
              "    </div>\n",
              "  </div>\n",
              "  "
            ]
          },
          "metadata": {},
          "execution_count": 16
        }
      ]
    },
    {
      "cell_type": "code",
      "source": [
        "#rename rows in arrest_boro to match the name of the borough. I'll first create a dictionary of the boroughs to map \n",
        "#the letter keys to...\n",
        "borough={\n",
        "    'B':'Bronx',\n",
        "    'S':'Staten Island',\n",
        "    'K':'Brooklyn',\n",
        "    'M':'Manhattan',\n",
        "    'Q':'Queens'}\n"
      ],
      "metadata": {
        "id": "ORQny3ulGwyH"
      },
      "execution_count": 17,
      "outputs": []
    },
    {
      "cell_type": "code",
      "source": [
        "df['borough'] = df['arrest_boro'].map(borough)\n",
        "df.head()"
      ],
      "metadata": {
        "colab": {
          "base_uri": "https://localhost:8080/",
          "height": 206
        },
        "id": "3iCjfu9iM67q",
        "outputId": "4cf02ea1-5c1e-4f05-adcd-836a28919f88"
      },
      "execution_count": 18,
      "outputs": [
        {
          "output_type": "execute_result",
          "data": {
            "text/plain": [
              "   arrest_key              arrest_date                       offense  \\\n",
              "0   238552639  2022-01-03T00:00:00.000             CRIMINAL TRESPASS   \n",
              "1   238682242  2022-01-05T00:00:00.000                       ROBBERY   \n",
              "2   238723993  2022-01-06T00:00:00.000                          RAPE   \n",
              "5   239104920  2022-01-13T00:00:00.000  ASSAULT 3 & RELATED OFFENSES   \n",
              "7   239623520  2022-01-24T00:00:00.000  ASSAULT 3 & RELATED OFFENSES   \n",
              "\n",
              "  arrest_boro  precinct age_group perp_sex perp_race   latitude  longitude  \\\n",
              "0           K        75     18-24        M     BLACK  40.676863 -73.889037   \n",
              "1           K        75     25-44        M     BLACK  40.671404 -73.881509   \n",
              "2           K        77     25-44        M     WHITE  40.674496 -73.930571   \n",
              "5           K        77     45-64        M     BLACK  40.674593 -73.930572   \n",
              "7           K        60     45-64        M     WHITE  40.577258 -73.976436   \n",
              "\n",
              "    borough  \n",
              "0  Brooklyn  \n",
              "1  Brooklyn  \n",
              "2  Brooklyn  \n",
              "5  Brooklyn  \n",
              "7  Brooklyn  "
            ],
            "text/html": [
              "\n",
              "  <div id=\"df-04290b6b-6c0f-4969-8f2d-85b424944b0b\">\n",
              "    <div class=\"colab-df-container\">\n",
              "      <div>\n",
              "<style scoped>\n",
              "    .dataframe tbody tr th:only-of-type {\n",
              "        vertical-align: middle;\n",
              "    }\n",
              "\n",
              "    .dataframe tbody tr th {\n",
              "        vertical-align: top;\n",
              "    }\n",
              "\n",
              "    .dataframe thead th {\n",
              "        text-align: right;\n",
              "    }\n",
              "</style>\n",
              "<table border=\"1\" class=\"dataframe\">\n",
              "  <thead>\n",
              "    <tr style=\"text-align: right;\">\n",
              "      <th></th>\n",
              "      <th>arrest_key</th>\n",
              "      <th>arrest_date</th>\n",
              "      <th>offense</th>\n",
              "      <th>arrest_boro</th>\n",
              "      <th>precinct</th>\n",
              "      <th>age_group</th>\n",
              "      <th>perp_sex</th>\n",
              "      <th>perp_race</th>\n",
              "      <th>latitude</th>\n",
              "      <th>longitude</th>\n",
              "      <th>borough</th>\n",
              "    </tr>\n",
              "  </thead>\n",
              "  <tbody>\n",
              "    <tr>\n",
              "      <th>0</th>\n",
              "      <td>238552639</td>\n",
              "      <td>2022-01-03T00:00:00.000</td>\n",
              "      <td>CRIMINAL TRESPASS</td>\n",
              "      <td>K</td>\n",
              "      <td>75</td>\n",
              "      <td>18-24</td>\n",
              "      <td>M</td>\n",
              "      <td>BLACK</td>\n",
              "      <td>40.676863</td>\n",
              "      <td>-73.889037</td>\n",
              "      <td>Brooklyn</td>\n",
              "    </tr>\n",
              "    <tr>\n",
              "      <th>1</th>\n",
              "      <td>238682242</td>\n",
              "      <td>2022-01-05T00:00:00.000</td>\n",
              "      <td>ROBBERY</td>\n",
              "      <td>K</td>\n",
              "      <td>75</td>\n",
              "      <td>25-44</td>\n",
              "      <td>M</td>\n",
              "      <td>BLACK</td>\n",
              "      <td>40.671404</td>\n",
              "      <td>-73.881509</td>\n",
              "      <td>Brooklyn</td>\n",
              "    </tr>\n",
              "    <tr>\n",
              "      <th>2</th>\n",
              "      <td>238723993</td>\n",
              "      <td>2022-01-06T00:00:00.000</td>\n",
              "      <td>RAPE</td>\n",
              "      <td>K</td>\n",
              "      <td>77</td>\n",
              "      <td>25-44</td>\n",
              "      <td>M</td>\n",
              "      <td>WHITE</td>\n",
              "      <td>40.674496</td>\n",
              "      <td>-73.930571</td>\n",
              "      <td>Brooklyn</td>\n",
              "    </tr>\n",
              "    <tr>\n",
              "      <th>5</th>\n",
              "      <td>239104920</td>\n",
              "      <td>2022-01-13T00:00:00.000</td>\n",
              "      <td>ASSAULT 3 &amp; RELATED OFFENSES</td>\n",
              "      <td>K</td>\n",
              "      <td>77</td>\n",
              "      <td>45-64</td>\n",
              "      <td>M</td>\n",
              "      <td>BLACK</td>\n",
              "      <td>40.674593</td>\n",
              "      <td>-73.930572</td>\n",
              "      <td>Brooklyn</td>\n",
              "    </tr>\n",
              "    <tr>\n",
              "      <th>7</th>\n",
              "      <td>239623520</td>\n",
              "      <td>2022-01-24T00:00:00.000</td>\n",
              "      <td>ASSAULT 3 &amp; RELATED OFFENSES</td>\n",
              "      <td>K</td>\n",
              "      <td>60</td>\n",
              "      <td>45-64</td>\n",
              "      <td>M</td>\n",
              "      <td>WHITE</td>\n",
              "      <td>40.577258</td>\n",
              "      <td>-73.976436</td>\n",
              "      <td>Brooklyn</td>\n",
              "    </tr>\n",
              "  </tbody>\n",
              "</table>\n",
              "</div>\n",
              "      <button class=\"colab-df-convert\" onclick=\"convertToInteractive('df-04290b6b-6c0f-4969-8f2d-85b424944b0b')\"\n",
              "              title=\"Convert this dataframe to an interactive table.\"\n",
              "              style=\"display:none;\">\n",
              "        \n",
              "  <svg xmlns=\"http://www.w3.org/2000/svg\" height=\"24px\"viewBox=\"0 0 24 24\"\n",
              "       width=\"24px\">\n",
              "    <path d=\"M0 0h24v24H0V0z\" fill=\"none\"/>\n",
              "    <path d=\"M18.56 5.44l.94 2.06.94-2.06 2.06-.94-2.06-.94-.94-2.06-.94 2.06-2.06.94zm-11 1L8.5 8.5l.94-2.06 2.06-.94-2.06-.94L8.5 2.5l-.94 2.06-2.06.94zm10 10l.94 2.06.94-2.06 2.06-.94-2.06-.94-.94-2.06-.94 2.06-2.06.94z\"/><path d=\"M17.41 7.96l-1.37-1.37c-.4-.4-.92-.59-1.43-.59-.52 0-1.04.2-1.43.59L10.3 9.45l-7.72 7.72c-.78.78-.78 2.05 0 2.83L4 21.41c.39.39.9.59 1.41.59.51 0 1.02-.2 1.41-.59l7.78-7.78 2.81-2.81c.8-.78.8-2.07 0-2.86zM5.41 20L4 18.59l7.72-7.72 1.47 1.35L5.41 20z\"/>\n",
              "  </svg>\n",
              "      </button>\n",
              "      \n",
              "  <style>\n",
              "    .colab-df-container {\n",
              "      display:flex;\n",
              "      flex-wrap:wrap;\n",
              "      gap: 12px;\n",
              "    }\n",
              "\n",
              "    .colab-df-convert {\n",
              "      background-color: #E8F0FE;\n",
              "      border: none;\n",
              "      border-radius: 50%;\n",
              "      cursor: pointer;\n",
              "      display: none;\n",
              "      fill: #1967D2;\n",
              "      height: 32px;\n",
              "      padding: 0 0 0 0;\n",
              "      width: 32px;\n",
              "    }\n",
              "\n",
              "    .colab-df-convert:hover {\n",
              "      background-color: #E2EBFA;\n",
              "      box-shadow: 0px 1px 2px rgba(60, 64, 67, 0.3), 0px 1px 3px 1px rgba(60, 64, 67, 0.15);\n",
              "      fill: #174EA6;\n",
              "    }\n",
              "\n",
              "    [theme=dark] .colab-df-convert {\n",
              "      background-color: #3B4455;\n",
              "      fill: #D2E3FC;\n",
              "    }\n",
              "\n",
              "    [theme=dark] .colab-df-convert:hover {\n",
              "      background-color: #434B5C;\n",
              "      box-shadow: 0px 1px 3px 1px rgba(0, 0, 0, 0.15);\n",
              "      filter: drop-shadow(0px 1px 2px rgba(0, 0, 0, 0.3));\n",
              "      fill: #FFFFFF;\n",
              "    }\n",
              "  </style>\n",
              "\n",
              "      <script>\n",
              "        const buttonEl =\n",
              "          document.querySelector('#df-04290b6b-6c0f-4969-8f2d-85b424944b0b button.colab-df-convert');\n",
              "        buttonEl.style.display =\n",
              "          google.colab.kernel.accessAllowed ? 'block' : 'none';\n",
              "\n",
              "        async function convertToInteractive(key) {\n",
              "          const element = document.querySelector('#df-04290b6b-6c0f-4969-8f2d-85b424944b0b');\n",
              "          const dataTable =\n",
              "            await google.colab.kernel.invokeFunction('convertToInteractive',\n",
              "                                                     [key], {});\n",
              "          if (!dataTable) return;\n",
              "\n",
              "          const docLinkHtml = 'Like what you see? Visit the ' +\n",
              "            '<a target=\"_blank\" href=https://colab.research.google.com/notebooks/data_table.ipynb>data table notebook</a>'\n",
              "            + ' to learn more about interactive tables.';\n",
              "          element.innerHTML = '';\n",
              "          dataTable['output_type'] = 'display_data';\n",
              "          await google.colab.output.renderOutput(dataTable, element);\n",
              "          const docLink = document.createElement('div');\n",
              "          docLink.innerHTML = docLinkHtml;\n",
              "          element.appendChild(docLink);\n",
              "        }\n",
              "      </script>\n",
              "    </div>\n",
              "  </div>\n",
              "  "
            ]
          },
          "metadata": {},
          "execution_count": 18
        }
      ]
    },
    {
      "cell_type": "markdown",
      "source": [
        "##**Data Exploration**##"
      ],
      "metadata": {
        "id": "AzT6lvKYQSj4"
      }
    },
    {
      "cell_type": "markdown",
      "source": [
        "The greatest number of arrests across all boroughs are for  assault, followed by petit larceny and felony assault. "
      ],
      "metadata": {
        "id": "XipExKk5klcU"
      }
    },
    {
      "cell_type": "code",
      "source": [
        "df.groupby(['offense'])['arrest_date'].count().sort_values(ascending=True).plot(kind='barh',figsize=(4,10),xlabel='Most Prevalent Crimes') "
      ],
      "metadata": {
        "colab": {
          "base_uri": "https://localhost:8080/",
          "height": 609
        },
        "id": "IBPTdH2Dgxem",
        "outputId": "7ccfd1c1-8396-4676-92dc-cea854b264cf"
      },
      "execution_count": 19,
      "outputs": [
        {
          "output_type": "execute_result",
          "data": {
            "text/plain": [
              "<matplotlib.axes._subplots.AxesSubplot at 0x7ff3d83c7c90>"
            ]
          },
          "metadata": {},
          "execution_count": 19
        },
        {
          "output_type": "display_data",
          "data": {
            "text/plain": [
              "<Figure size 288x720 with 1 Axes>"
            ],
            "image/png": "[encoded data removed]"
          },
          "metadata": {
            "needs_background": "light"
          }
        }
      ]
    },
    {
      "cell_type": "code",
      "source": [
        "#groupby borough to count of arrests and count to find the boro with the greatest number of arrests\n",
        "df.groupby([\"borough\"])[\"offense\"].count() #Brooklyn has the greatest number of arrests\n"
      ],
      "metadata": {
        "colab": {
          "base_uri": "https://localhost:8080/",
          "height": 0
        },
        "id": "OnbRQ4vlH1AH",
        "outputId": "875a98b1-93a8-4a4e-c5d2-d313f194254d"
      },
      "execution_count": 20,
      "outputs": [
        {
          "output_type": "execute_result",
          "data": {
            "text/plain": [
              "borough\n",
              "Bronx            196\n",
              "Brooklyn         303\n",
              "Manhattan        215\n",
              "Queens           208\n",
              "Staten Island     57\n",
              "Name: offense, dtype: int64"
            ]
          },
          "metadata": {},
          "execution_count": 20
        }
      ]
    },
    {
      "cell_type": "code",
      "source": [
        "df.groupby([\"borough\"])[\"offense\"].count().plot(kind='barh')"
      ],
      "metadata": {
        "colab": {
          "base_uri": "https://localhost:8080/",
          "height": 282
        },
        "id": "wkGXknWzYzCw",
        "outputId": "1c5ee485-814b-4613-c31f-de149f03a112"
      },
      "execution_count": 21,
      "outputs": [
        {
          "output_type": "execute_result",
          "data": {
            "text/plain": [
              "<matplotlib.axes._subplots.AxesSubplot at 0x7ff3d83a5d90>"
            ]
          },
          "metadata": {},
          "execution_count": 21
        },
        {
          "output_type": "display_data",
          "data": {
            "text/plain": [
              "<Figure size 432x288 with 1 Axes>"
            ],
            "image/png": "[encoded data removed]"
          },
          "metadata": {
            "needs_background": "light"
          }
        }
      ]
    },
    {
      "cell_type": "markdown",
      "source": [
        "Brooklyn has the largest number of arrests.  Given that Brooklyn also has the largest population in NYC, it makes sense that it has the highest number of arrests (303). We are interested in understanding more about which neighborhoods have the highest crime rates and the lowest crime rates. Since the objective is to compare one neighborhood to another, I'd like to better understand the population sizes for each precinct to determine if the relative number of arrests is significant. This data was not included in the NYPD figures. Luckily, John Keefe, data weather analyst at NYT has mapped out the 2020 census population to each NYC precinct (see https://johnkeefe.net/nyc-police-precinct-and-census-data). Column P1_001N, according to his notes, should be the total population per precinct. I'll use this to see if I can determine the highest relative number of arrests per precinct. "
      ],
      "metadata": {
        "id": "tACbeRv1zkxd"
      }
    },
    {
      "cell_type": "code",
      "source": [
        "df_precinct_pop = pd.read_csv(\"https://raw.githubusercontent.com/jkeefe/census-by-precincts/master/data/nyc/nyc_precinct_2020pop.csv\")\n",
        "df_precinct_pop.head()"
      ],
      "metadata": {
        "id": "deaeIFGVSNVH",
        "colab": {
          "base_uri": "https://localhost:8080/",
          "height": 300
        },
        "outputId": "effb6c9b-83f8-4e80-9175-3dc8bc804a1f"
      },
      "execution_count": 22,
      "outputs": [
        {
          "output_type": "execute_result",
          "data": {
            "text/plain": [
              "   precinct  P1_001N  P1_002N  P1_003N  P1_004N  P1_005N  P1_006N  P1_007N  \\\n",
              "0         1    84799    76937    57501     2655       96    14624       55   \n",
              "1         5    50598    47663    13363     3556      109    27507       69   \n",
              "2         6    64643    59481    50320     1782       72     5635       34   \n",
              "3         7    57985    51746    18416     6934      396    17779       46   \n",
              "4         9    75951    68112    41843     6610      480    11322       84   \n",
              "\n",
              "   P1_008N  P1_009N  ...  P2_064N  P2_065N  P2_066N  P2_067N  P2_068N  \\\n",
              "0     2006     7862  ...        1        0        0        0        0   \n",
              "1     3059     2935  ...        0        1        0        1        0   \n",
              "2     1638     5162  ...        0        0        0        0        0   \n",
              "3     8175     6239  ...        0        0        0        0        0   \n",
              "4     7773     7839  ...        0        3        3        0        0   \n",
              "\n",
              "   P2_069N  P2_070N  P2_071N  P2_072N  P2_073N  \n",
              "0        0        0        0        0        0  \n",
              "1        0        0        0        0        0  \n",
              "2        0        0        0        0        0  \n",
              "3        0        0        0        0        0  \n",
              "4        0        0        0        0        0  \n",
              "\n",
              "[5 rows x 145 columns]"
            ],
            "text/html": [
              "\n",
              "  <div id=\"df-874a2ffa-d4e9-4a58-9d00-3101059b1251\">\n",
              "    <div class=\"colab-df-container\">\n",
              "      <div>\n",
              "<style scoped>\n",
              "    .dataframe tbody tr th:only-of-type {\n",
              "        vertical-align: middle;\n",
              "    }\n",
              "\n",
              "    .dataframe tbody tr th {\n",
              "        vertical-align: top;\n",
              "    }\n",
              "\n",
              "    .dataframe thead th {\n",
              "        text-align: right;\n",
              "    }\n",
              "</style>\n",
              "<table border=\"1\" class=\"dataframe\">\n",
              "  <thead>\n",
              "    <tr style=\"text-align: right;\">\n",
              "      <th></th>\n",
              "      <th>precinct</th>\n",
              "      <th>P1_001N</th>\n",
              "      <th>P1_002N</th>\n",
              "      <th>P1_003N</th>\n",
              "      <th>P1_004N</th>\n",
              "      <th>P1_005N</th>\n",
              "      <th>P1_006N</th>\n",
              "      <th>P1_007N</th>\n",
              "      <th>P1_008N</th>\n",
              "      <th>P1_009N</th>\n",
              "      <th>...</th>\n",
              "      <th>P2_064N</th>\n",
              "      <th>P2_065N</th>\n",
              "      <th>P2_066N</th>\n",
              "      <th>P2_067N</th>\n",
              "      <th>P2_068N</th>\n",
              "      <th>P2_069N</th>\n",
              "      <th>P2_070N</th>\n",
              "      <th>P2_071N</th>\n",
              "      <th>P2_072N</th>\n",
              "      <th>P2_073N</th>\n",
              "    </tr>\n",
              "  </thead>\n",
              "  <tbody>\n",
              "    <tr>\n",
              "      <th>0</th>\n",
              "      <td>1</td>\n",
              "      <td>84799</td>\n",
              "      <td>76937</td>\n",
              "      <td>57501</td>\n",
              "      <td>2655</td>\n",
              "      <td>96</td>\n",
              "      <td>14624</td>\n",
              "      <td>55</td>\n",
              "      <td>2006</td>\n",
              "      <td>7862</td>\n",
              "      <td>...</td>\n",
              "      <td>1</td>\n",
              "      <td>0</td>\n",
              "      <td>0</td>\n",
              "      <td>0</td>\n",
              "      <td>0</td>\n",
              "      <td>0</td>\n",
              "      <td>0</td>\n",
              "      <td>0</td>\n",
              "      <td>0</td>\n",
              "      <td>0</td>\n",
              "    </tr>\n",
              "    <tr>\n",
              "      <th>1</th>\n",
              "      <td>5</td>\n",
              "      <td>50598</td>\n",
              "      <td>47663</td>\n",
              "      <td>13363</td>\n",
              "      <td>3556</td>\n",
              "      <td>109</td>\n",
              "      <td>27507</td>\n",
              "      <td>69</td>\n",
              "      <td>3059</td>\n",
              "      <td>2935</td>\n",
              "      <td>...</td>\n",
              "      <td>0</td>\n",
              "      <td>1</td>\n",
              "      <td>0</td>\n",
              "      <td>1</td>\n",
              "      <td>0</td>\n",
              "      <td>0</td>\n",
              "      <td>0</td>\n",
              "      <td>0</td>\n",
              "      <td>0</td>\n",
              "      <td>0</td>\n",
              "    </tr>\n",
              "    <tr>\n",
              "      <th>2</th>\n",
              "      <td>6</td>\n",
              "      <td>64643</td>\n",
              "      <td>59481</td>\n",
              "      <td>50320</td>\n",
              "      <td>1782</td>\n",
              "      <td>72</td>\n",
              "      <td>5635</td>\n",
              "      <td>34</td>\n",
              "      <td>1638</td>\n",
              "      <td>5162</td>\n",
              "      <td>...</td>\n",
              "      <td>0</td>\n",
              "      <td>0</td>\n",
              "      <td>0</td>\n",
              "      <td>0</td>\n",
              "      <td>0</td>\n",
              "      <td>0</td>\n",
              "      <td>0</td>\n",
              "      <td>0</td>\n",
              "      <td>0</td>\n",
              "      <td>0</td>\n",
              "    </tr>\n",
              "    <tr>\n",
              "      <th>3</th>\n",
              "      <td>7</td>\n",
              "      <td>57985</td>\n",
              "      <td>51746</td>\n",
              "      <td>18416</td>\n",
              "      <td>6934</td>\n",
              "      <td>396</td>\n",
              "      <td>17779</td>\n",
              "      <td>46</td>\n",
              "      <td>8175</td>\n",
              "      <td>6239</td>\n",
              "      <td>...</td>\n",
              "      <td>0</td>\n",
              "      <td>0</td>\n",
              "      <td>0</td>\n",
              "      <td>0</td>\n",
              "      <td>0</td>\n",
              "      <td>0</td>\n",
              "      <td>0</td>\n",
              "      <td>0</td>\n",
              "      <td>0</td>\n",
              "      <td>0</td>\n",
              "    </tr>\n",
              "    <tr>\n",
              "      <th>4</th>\n",
              "      <td>9</td>\n",
              "      <td>75951</td>\n",
              "      <td>68112</td>\n",
              "      <td>41843</td>\n",
              "      <td>6610</td>\n",
              "      <td>480</td>\n",
              "      <td>11322</td>\n",
              "      <td>84</td>\n",
              "      <td>7773</td>\n",
              "      <td>7839</td>\n",
              "      <td>...</td>\n",
              "      <td>0</td>\n",
              "      <td>3</td>\n",
              "      <td>3</td>\n",
              "      <td>0</td>\n",
              "      <td>0</td>\n",
              "      <td>0</td>\n",
              "      <td>0</td>\n",
              "      <td>0</td>\n",
              "      <td>0</td>\n",
              "      <td>0</td>\n",
              "    </tr>\n",
              "  </tbody>\n",
              "</table>\n",
              "<p>5 rows × 145 columns</p>\n",
              "</div>\n",
              "      <button class=\"colab-df-convert\" onclick=\"convertToInteractive('df-874a2ffa-d4e9-4a58-9d00-3101059b1251')\"\n",
              "              title=\"Convert this dataframe to an interactive table.\"\n",
              "              style=\"display:none;\">\n",
              "        \n",
              "  <svg xmlns=\"http://www.w3.org/2000/svg\" height=\"24px\"viewBox=\"0 0 24 24\"\n",
              "       width=\"24px\">\n",
              "    <path d=\"M0 0h24v24H0V0z\" fill=\"none\"/>\n",
              "    <path d=\"M18.56 5.44l.94 2.06.94-2.06 2.06-.94-2.06-.94-.94-2.06-.94 2.06-2.06.94zm-11 1L8.5 8.5l.94-2.06 2.06-.94-2.06-.94L8.5 2.5l-.94 2.06-2.06.94zm10 10l.94 2.06.94-2.06 2.06-.94-2.06-.94-.94-2.06-.94 2.06-2.06.94z\"/><path d=\"M17.41 7.96l-1.37-1.37c-.4-.4-.92-.59-1.43-.59-.52 0-1.04.2-1.43.59L10.3 9.45l-7.72 7.72c-.78.78-.78 2.05 0 2.83L4 21.41c.39.39.9.59 1.41.59.51 0 1.02-.2 1.41-.59l7.78-7.78 2.81-2.81c.8-.78.8-2.07 0-2.86zM5.41 20L4 18.59l7.72-7.72 1.47 1.35L5.41 20z\"/>\n",
              "  </svg>\n",
              "      </button>\n",
              "      \n",
              "  <style>\n",
              "    .colab-df-container {\n",
              "      display:flex;\n",
              "      flex-wrap:wrap;\n",
              "      gap: 12px;\n",
              "    }\n",
              "\n",
              "    .colab-df-convert {\n",
              "      background-color: #E8F0FE;\n",
              "      border: none;\n",
              "      border-radius: 50%;\n",
              "      cursor: pointer;\n",
              "      display: none;\n",
              "      fill: #1967D2;\n",
              "      height: 32px;\n",
              "      padding: 0 0 0 0;\n",
              "      width: 32px;\n",
              "    }\n",
              "\n",
              "    .colab-df-convert:hover {\n",
              "      background-color: #E2EBFA;\n",
              "      box-shadow: 0px 1px 2px rgba(60, 64, 67, 0.3), 0px 1px 3px 1px rgba(60, 64, 67, 0.15);\n",
              "      fill: #174EA6;\n",
              "    }\n",
              "\n",
              "    [theme=dark] .colab-df-convert {\n",
              "      background-color: #3B4455;\n",
              "      fill: #D2E3FC;\n",
              "    }\n",
              "\n",
              "    [theme=dark] .colab-df-convert:hover {\n",
              "      background-color: #434B5C;\n",
              "      box-shadow: 0px 1px 3px 1px rgba(0, 0, 0, 0.15);\n",
              "      filter: drop-shadow(0px 1px 2px rgba(0, 0, 0, 0.3));\n",
              "      fill: #FFFFFF;\n",
              "    }\n",
              "  </style>\n",
              "\n",
              "      <script>\n",
              "        const buttonEl =\n",
              "          document.querySelector('#df-874a2ffa-d4e9-4a58-9d00-3101059b1251 button.colab-df-convert');\n",
              "        buttonEl.style.display =\n",
              "          google.colab.kernel.accessAllowed ? 'block' : 'none';\n",
              "\n",
              "        async function convertToInteractive(key) {\n",
              "          const element = document.querySelector('#df-874a2ffa-d4e9-4a58-9d00-3101059b1251');\n",
              "          const dataTable =\n",
              "            await google.colab.kernel.invokeFunction('convertToInteractive',\n",
              "                                                     [key], {});\n",
              "          if (!dataTable) return;\n",
              "\n",
              "          const docLinkHtml = 'Like what you see? Visit the ' +\n",
              "            '<a target=\"_blank\" href=https://colab.research.google.com/notebooks/data_table.ipynb>data table notebook</a>'\n",
              "            + ' to learn more about interactive tables.';\n",
              "          element.innerHTML = '';\n",
              "          dataTable['output_type'] = 'display_data';\n",
              "          await google.colab.output.renderOutput(dataTable, element);\n",
              "          const docLink = document.createElement('div');\n",
              "          docLink.innerHTML = docLinkHtml;\n",
              "          element.appendChild(docLink);\n",
              "        }\n",
              "      </script>\n",
              "    </div>\n",
              "  </div>\n",
              "  "
            ]
          },
          "metadata": {},
          "execution_count": 22
        }
      ]
    },
    {
      "cell_type": "code",
      "source": [
        "df_precinct_pop.columns"
      ],
      "metadata": {
        "colab": {
          "base_uri": "https://localhost:8080/",
          "height": 0
        },
        "id": "aROcwUpgIk9Z",
        "outputId": "c676a406-2a24-4c2d-9588-687b1a4fd388"
      },
      "execution_count": 23,
      "outputs": [
        {
          "output_type": "execute_result",
          "data": {
            "text/plain": [
              "Index(['precinct', 'P1_001N', 'P1_002N', 'P1_003N', 'P1_004N', 'P1_005N',\n",
              "       'P1_006N', 'P1_007N', 'P1_008N', 'P1_009N',\n",
              "       ...\n",
              "       'P2_064N', 'P2_065N', 'P2_066N', 'P2_067N', 'P2_068N', 'P2_069N',\n",
              "       'P2_070N', 'P2_071N', 'P2_072N', 'P2_073N'],\n",
              "      dtype='object', length=145)"
            ]
          },
          "metadata": {},
          "execution_count": 23
        }
      ]
    },
    {
      "cell_type": "code",
      "source": [
        "df_precinct_pop.shape # this confirms that there are 77 precincts in NYC ... note that precint 1 = 0 so should \n",
        "#likely set precinct as the index."
      ],
      "metadata": {
        "colab": {
          "base_uri": "https://localhost:8080/",
          "height": 0
        },
        "id": "aClH53VK6vFp",
        "outputId": "b8f3c855-0558-4901-c3e3-cbe60af7642b"
      },
      "execution_count": 24,
      "outputs": [
        {
          "output_type": "execute_result",
          "data": {
            "text/plain": [
              "(77, 145)"
            ]
          },
          "metadata": {},
          "execution_count": 24
        }
      ]
    },
    {
      "cell_type": "code",
      "source": [
        "df_precinct_pop[['precinct','P1_001N']]\n",
        "precinct_pop=df_precinct_pop[['precinct','P1_001N']]\n",
        "precinct_pop.head() #here we subset just the total population of each precinct. \n",
        "#Next I'll merge this dataframe with the arrest data frame on the 'precinct' column so we can identify the \n",
        "#precincts with the greatest number of arrests."
      ],
      "metadata": {
        "colab": {
          "base_uri": "https://localhost:8080/",
          "height": 206
        },
        "id": "JqwDWXSNIMhT",
        "outputId": "e335c283-a792-456b-ea14-fa598d76a250"
      },
      "execution_count": 25,
      "outputs": [
        {
          "output_type": "execute_result",
          "data": {
            "text/plain": [
              "   precinct  P1_001N\n",
              "0         1    84799\n",
              "1         5    50598\n",
              "2         6    64643\n",
              "3         7    57985\n",
              "4         9    75951"
            ],
            "text/html": [
              "\n",
              "  <div id=\"df-6fb04994-f437-4a35-b0d6-eb8017a6f2ac\">\n",
              "    <div class=\"colab-df-container\">\n",
              "      <div>\n",
              "<style scoped>\n",
              "    .dataframe tbody tr th:only-of-type {\n",
              "        vertical-align: middle;\n",
              "    }\n",
              "\n",
              "    .dataframe tbody tr th {\n",
              "        vertical-align: top;\n",
              "    }\n",
              "\n",
              "    .dataframe thead th {\n",
              "        text-align: right;\n",
              "    }\n",
              "</style>\n",
              "<table border=\"1\" class=\"dataframe\">\n",
              "  <thead>\n",
              "    <tr style=\"text-align: right;\">\n",
              "      <th></th>\n",
              "      <th>precinct</th>\n",
              "      <th>P1_001N</th>\n",
              "    </tr>\n",
              "  </thead>\n",
              "  <tbody>\n",
              "    <tr>\n",
              "      <th>0</th>\n",
              "      <td>1</td>\n",
              "      <td>84799</td>\n",
              "    </tr>\n",
              "    <tr>\n",
              "      <th>1</th>\n",
              "      <td>5</td>\n",
              "      <td>50598</td>\n",
              "    </tr>\n",
              "    <tr>\n",
              "      <th>2</th>\n",
              "      <td>6</td>\n",
              "      <td>64643</td>\n",
              "    </tr>\n",
              "    <tr>\n",
              "      <th>3</th>\n",
              "      <td>7</td>\n",
              "      <td>57985</td>\n",
              "    </tr>\n",
              "    <tr>\n",
              "      <th>4</th>\n",
              "      <td>9</td>\n",
              "      <td>75951</td>\n",
              "    </tr>\n",
              "  </tbody>\n",
              "</table>\n",
              "</div>\n",
              "      <button class=\"colab-df-convert\" onclick=\"convertToInteractive('df-6fb04994-f437-4a35-b0d6-eb8017a6f2ac')\"\n",
              "              title=\"Convert this dataframe to an interactive table.\"\n",
              "              style=\"display:none;\">\n",
              "        \n",
              "  <svg xmlns=\"http://www.w3.org/2000/svg\" height=\"24px\"viewBox=\"0 0 24 24\"\n",
              "       width=\"24px\">\n",
              "    <path d=\"M0 0h24v24H0V0z\" fill=\"none\"/>\n",
              "    <path d=\"M18.56 5.44l.94 2.06.94-2.06 2.06-.94-2.06-.94-.94-2.06-.94 2.06-2.06.94zm-11 1L8.5 8.5l.94-2.06 2.06-.94-2.06-.94L8.5 2.5l-.94 2.06-2.06.94zm10 10l.94 2.06.94-2.06 2.06-.94-2.06-.94-.94-2.06-.94 2.06-2.06.94z\"/><path d=\"M17.41 7.96l-1.37-1.37c-.4-.4-.92-.59-1.43-.59-.52 0-1.04.2-1.43.59L10.3 9.45l-7.72 7.72c-.78.78-.78 2.05 0 2.83L4 21.41c.39.39.9.59 1.41.59.51 0 1.02-.2 1.41-.59l7.78-7.78 2.81-2.81c.8-.78.8-2.07 0-2.86zM5.41 20L4 18.59l7.72-7.72 1.47 1.35L5.41 20z\"/>\n",
              "  </svg>\n",
              "      </button>\n",
              "      \n",
              "  <style>\n",
              "    .colab-df-container {\n",
              "      display:flex;\n",
              "      flex-wrap:wrap;\n",
              "      gap: 12px;\n",
              "    }\n",
              "\n",
              "    .colab-df-convert {\n",
              "      background-color: #E8F0FE;\n",
              "      border: none;\n",
              "      border-radius: 50%;\n",
              "      cursor: pointer;\n",
              "      display: none;\n",
              "      fill: #1967D2;\n",
              "      height: 32px;\n",
              "      padding: 0 0 0 0;\n",
              "      width: 32px;\n",
              "    }\n",
              "\n",
              "    .colab-df-convert:hover {\n",
              "      background-color: #E2EBFA;\n",
              "      box-shadow: 0px 1px 2px rgba(60, 64, 67, 0.3), 0px 1px 3px 1px rgba(60, 64, 67, 0.15);\n",
              "      fill: #174EA6;\n",
              "    }\n",
              "\n",
              "    [theme=dark] .colab-df-convert {\n",
              "      background-color: #3B4455;\n",
              "      fill: #D2E3FC;\n",
              "    }\n",
              "\n",
              "    [theme=dark] .colab-df-convert:hover {\n",
              "      background-color: #434B5C;\n",
              "      box-shadow: 0px 1px 3px 1px rgba(0, 0, 0, 0.15);\n",
              "      filter: drop-shadow(0px 1px 2px rgba(0, 0, 0, 0.3));\n",
              "      fill: #FFFFFF;\n",
              "    }\n",
              "  </style>\n",
              "\n",
              "      <script>\n",
              "        const buttonEl =\n",
              "          document.querySelector('#df-6fb04994-f437-4a35-b0d6-eb8017a6f2ac button.colab-df-convert');\n",
              "        buttonEl.style.display =\n",
              "          google.colab.kernel.accessAllowed ? 'block' : 'none';\n",
              "\n",
              "        async function convertToInteractive(key) {\n",
              "          const element = document.querySelector('#df-6fb04994-f437-4a35-b0d6-eb8017a6f2ac');\n",
              "          const dataTable =\n",
              "            await google.colab.kernel.invokeFunction('convertToInteractive',\n",
              "                                                     [key], {});\n",
              "          if (!dataTable) return;\n",
              "\n",
              "          const docLinkHtml = 'Like what you see? Visit the ' +\n",
              "            '<a target=\"_blank\" href=https://colab.research.google.com/notebooks/data_table.ipynb>data table notebook</a>'\n",
              "            + ' to learn more about interactive tables.';\n",
              "          element.innerHTML = '';\n",
              "          dataTable['output_type'] = 'display_data';\n",
              "          await google.colab.output.renderOutput(dataTable, element);\n",
              "          const docLink = document.createElement('div');\n",
              "          docLink.innerHTML = docLinkHtml;\n",
              "          element.appendChild(docLink);\n",
              "        }\n",
              "      </script>\n",
              "    </div>\n",
              "  </div>\n",
              "  "
            ]
          },
          "metadata": {},
          "execution_count": 25
        }
      ]
    },
    {
      "cell_type": "code",
      "source": [
        "precinct_pop.shape"
      ],
      "metadata": {
        "colab": {
          "base_uri": "https://localhost:8080/",
          "height": 0
        },
        "id": "tPWgDK4-dnyI",
        "outputId": "778f8490-0c4e-4f05-ce4a-8762680ddec2"
      },
      "execution_count": 26,
      "outputs": [
        {
          "output_type": "execute_result",
          "data": {
            "text/plain": [
              "(77, 2)"
            ]
          },
          "metadata": {},
          "execution_count": 26
        }
      ]
    },
    {
      "cell_type": "code",
      "source": [
        "pd.merge(df,precinct_pop,on='precinct', how='left')\n",
        "df = pd.merge(df,precinct_pop,on='precinct', how='left')\n",
        "df.head()\n"
      ],
      "metadata": {
        "colab": {
          "base_uri": "https://localhost:8080/",
          "height": 337
        },
        "id": "dsR1lepFbxId",
        "outputId": "b3908032-89df-4321-8212-5b9895d87b8d"
      },
      "execution_count": 27,
      "outputs": [
        {
          "output_type": "execute_result",
          "data": {
            "text/plain": [
              "   arrest_key              arrest_date                       offense  \\\n",
              "0   238552639  2022-01-03T00:00:00.000             CRIMINAL TRESPASS   \n",
              "1   238682242  2022-01-05T00:00:00.000                       ROBBERY   \n",
              "2   238723993  2022-01-06T00:00:00.000                          RAPE   \n",
              "3   239104920  2022-01-13T00:00:00.000  ASSAULT 3 & RELATED OFFENSES   \n",
              "4   239623520  2022-01-24T00:00:00.000  ASSAULT 3 & RELATED OFFENSES   \n",
              "\n",
              "  arrest_boro  precinct age_group perp_sex perp_race   latitude  longitude  \\\n",
              "0           K        75     18-24        M     BLACK  40.676863 -73.889037   \n",
              "1           K        75     25-44        M     BLACK  40.671404 -73.881509   \n",
              "2           K        77     25-44        M     WHITE  40.674496 -73.930571   \n",
              "3           K        77     45-64        M     BLACK  40.674593 -73.930572   \n",
              "4           K        60     45-64        M     WHITE  40.577258 -73.976436   \n",
              "\n",
              "    borough  P1_001N  \n",
              "0  Brooklyn   200994  \n",
              "1  Brooklyn   200994  \n",
              "2  Brooklyn   101267  \n",
              "3  Brooklyn   101267  \n",
              "4  Brooklyn   109024  "
            ],
            "text/html": [
              "\n",
              "  <div id=\"df-264dfa93-bb71-4622-a10a-e3736e7ac3cf\">\n",
              "    <div class=\"colab-df-container\">\n",
              "      <div>\n",
              "<style scoped>\n",
              "    .dataframe tbody tr th:only-of-type {\n",
              "        vertical-align: middle;\n",
              "    }\n",
              "\n",
              "    .dataframe tbody tr th {\n",
              "        vertical-align: top;\n",
              "    }\n",
              "\n",
              "    .dataframe thead th {\n",
              "        text-align: right;\n",
              "    }\n",
              "</style>\n",
              "<table border=\"1\" class=\"dataframe\">\n",
              "  <thead>\n",
              "    <tr style=\"text-align: right;\">\n",
              "      <th></th>\n",
              "      <th>arrest_key</th>\n",
              "      <th>arrest_date</th>\n",
              "      <th>offense</th>\n",
              "      <th>arrest_boro</th>\n",
              "      <th>precinct</th>\n",
              "      <th>age_group</th>\n",
              "      <th>perp_sex</th>\n",
              "      <th>perp_race</th>\n",
              "      <th>latitude</th>\n",
              "      <th>longitude</th>\n",
              "      <th>borough</th>\n",
              "      <th>P1_001N</th>\n",
              "    </tr>\n",
              "  </thead>\n",
              "  <tbody>\n",
              "    <tr>\n",
              "      <th>0</th>\n",
              "      <td>238552639</td>\n",
              "      <td>2022-01-03T00:00:00.000</td>\n",
              "      <td>CRIMINAL TRESPASS</td>\n",
              "      <td>K</td>\n",
              "      <td>75</td>\n",
              "      <td>18-24</td>\n",
              "      <td>M</td>\n",
              "      <td>BLACK</td>\n",
              "      <td>40.676863</td>\n",
              "      <td>-73.889037</td>\n",
              "      <td>Brooklyn</td>\n",
              "      <td>200994</td>\n",
              "    </tr>\n",
              "    <tr>\n",
              "      <th>1</th>\n",
              "      <td>238682242</td>\n",
              "      <td>2022-01-05T00:00:00.000</td>\n",
              "      <td>ROBBERY</td>\n",
              "      <td>K</td>\n",
              "      <td>75</td>\n",
              "      <td>25-44</td>\n",
              "      <td>M</td>\n",
              "      <td>BLACK</td>\n",
              "      <td>40.671404</td>\n",
              "      <td>-73.881509</td>\n",
              "      <td>Brooklyn</td>\n",
              "      <td>200994</td>\n",
              "    </tr>\n",
              "    <tr>\n",
              "      <th>2</th>\n",
              "      <td>238723993</td>\n",
              "      <td>2022-01-06T00:00:00.000</td>\n",
              "      <td>RAPE</td>\n",
              "      <td>K</td>\n",
              "      <td>77</td>\n",
              "      <td>25-44</td>\n",
              "      <td>M</td>\n",
              "      <td>WHITE</td>\n",
              "      <td>40.674496</td>\n",
              "      <td>-73.930571</td>\n",
              "      <td>Brooklyn</td>\n",
              "      <td>101267</td>\n",
              "    </tr>\n",
              "    <tr>\n",
              "      <th>3</th>\n",
              "      <td>239104920</td>\n",
              "      <td>2022-01-13T00:00:00.000</td>\n",
              "      <td>ASSAULT 3 &amp; RELATED OFFENSES</td>\n",
              "      <td>K</td>\n",
              "      <td>77</td>\n",
              "      <td>45-64</td>\n",
              "      <td>M</td>\n",
              "      <td>BLACK</td>\n",
              "      <td>40.674593</td>\n",
              "      <td>-73.930572</td>\n",
              "      <td>Brooklyn</td>\n",
              "      <td>101267</td>\n",
              "    </tr>\n",
              "    <tr>\n",
              "      <th>4</th>\n",
              "      <td>239623520</td>\n",
              "      <td>2022-01-24T00:00:00.000</td>\n",
              "      <td>ASSAULT 3 &amp; RELATED OFFENSES</td>\n",
              "      <td>K</td>\n",
              "      <td>60</td>\n",
              "      <td>45-64</td>\n",
              "      <td>M</td>\n",
              "      <td>WHITE</td>\n",
              "      <td>40.577258</td>\n",
              "      <td>-73.976436</td>\n",
              "      <td>Brooklyn</td>\n",
              "      <td>109024</td>\n",
              "    </tr>\n",
              "  </tbody>\n",
              "</table>\n",
              "</div>\n",
              "      <button class=\"colab-df-convert\" onclick=\"convertToInteractive('df-264dfa93-bb71-4622-a10a-e3736e7ac3cf')\"\n",
              "              title=\"Convert this dataframe to an interactive table.\"\n",
              "              style=\"display:none;\">\n",
              "        \n",
              "  <svg xmlns=\"http://www.w3.org/2000/svg\" height=\"24px\"viewBox=\"0 0 24 24\"\n",
              "       width=\"24px\">\n",
              "    <path d=\"M0 0h24v24H0V0z\" fill=\"none\"/>\n",
              "    <path d=\"M18.56 5.44l.94 2.06.94-2.06 2.06-.94-2.06-.94-.94-2.06-.94 2.06-2.06.94zm-11 1L8.5 8.5l.94-2.06 2.06-.94-2.06-.94L8.5 2.5l-.94 2.06-2.06.94zm10 10l.94 2.06.94-2.06 2.06-.94-2.06-.94-.94-2.06-.94 2.06-2.06.94z\"/><path d=\"M17.41 7.96l-1.37-1.37c-.4-.4-.92-.59-1.43-.59-.52 0-1.04.2-1.43.59L10.3 9.45l-7.72 7.72c-.78.78-.78 2.05 0 2.83L4 21.41c.39.39.9.59 1.41.59.51 0 1.02-.2 1.41-.59l7.78-7.78 2.81-2.81c.8-.78.8-2.07 0-2.86zM5.41 20L4 18.59l7.72-7.72 1.47 1.35L5.41 20z\"/>\n",
              "  </svg>\n",
              "      </button>\n",
              "      \n",
              "  <style>\n",
              "    .colab-df-container {\n",
              "      display:flex;\n",
              "      flex-wrap:wrap;\n",
              "      gap: 12px;\n",
              "    }\n",
              "\n",
              "    .colab-df-convert {\n",
              "      background-color: #E8F0FE;\n",
              "      border: none;\n",
              "      border-radius: 50%;\n",
              "      cursor: pointer;\n",
              "      display: none;\n",
              "      fill: #1967D2;\n",
              "      height: 32px;\n",
              "      padding: 0 0 0 0;\n",
              "      width: 32px;\n",
              "    }\n",
              "\n",
              "    .colab-df-convert:hover {\n",
              "      background-color: #E2EBFA;\n",
              "      box-shadow: 0px 1px 2px rgba(60, 64, 67, 0.3), 0px 1px 3px 1px rgba(60, 64, 67, 0.15);\n",
              "      fill: #174EA6;\n",
              "    }\n",
              "\n",
              "    [theme=dark] .colab-df-convert {\n",
              "      background-color: #3B4455;\n",
              "      fill: #D2E3FC;\n",
              "    }\n",
              "\n",
              "    [theme=dark] .colab-df-convert:hover {\n",
              "      background-color: #434B5C;\n",
              "      box-shadow: 0px 1px 3px 1px rgba(0, 0, 0, 0.15);\n",
              "      filter: drop-shadow(0px 1px 2px rgba(0, 0, 0, 0.3));\n",
              "      fill: #FFFFFF;\n",
              "    }\n",
              "  </style>\n",
              "\n",
              "      <script>\n",
              "        const buttonEl =\n",
              "          document.querySelector('#df-264dfa93-bb71-4622-a10a-e3736e7ac3cf button.colab-df-convert');\n",
              "        buttonEl.style.display =\n",
              "          google.colab.kernel.accessAllowed ? 'block' : 'none';\n",
              "\n",
              "        async function convertToInteractive(key) {\n",
              "          const element = document.querySelector('#df-264dfa93-bb71-4622-a10a-e3736e7ac3cf');\n",
              "          const dataTable =\n",
              "            await google.colab.kernel.invokeFunction('convertToInteractive',\n",
              "                                                     [key], {});\n",
              "          if (!dataTable) return;\n",
              "\n",
              "          const docLinkHtml = 'Like what you see? Visit the ' +\n",
              "            '<a target=\"_blank\" href=https://colab.research.google.com/notebooks/data_table.ipynb>data table notebook</a>'\n",
              "            + ' to learn more about interactive tables.';\n",
              "          element.innerHTML = '';\n",
              "          dataTable['output_type'] = 'display_data';\n",
              "          await google.colab.output.renderOutput(dataTable, element);\n",
              "          const docLink = document.createElement('div');\n",
              "          docLink.innerHTML = docLinkHtml;\n",
              "          element.appendChild(docLink);\n",
              "        }\n",
              "      </script>\n",
              "    </div>\n",
              "  </div>\n",
              "  "
            ]
          },
          "metadata": {},
          "execution_count": 27
        }
      ]
    },
    {
      "cell_type": "code",
      "source": [
        "df.rename(columns={'P1_001N':'precinct_population'}, inplace = True) \n",
        "df.head()"
      ],
      "metadata": {
        "colab": {
          "base_uri": "https://localhost:8080/",
          "height": 337
        },
        "id": "Jgb_RP6CffyR",
        "outputId": "99821af6-9771-44ca-fbb6-5f207ba33d3b"
      },
      "execution_count": 28,
      "outputs": [
        {
          "output_type": "execute_result",
          "data": {
            "text/plain": [
              "   arrest_key              arrest_date                       offense  \\\n",
              "0   238552639  2022-01-03T00:00:00.000             CRIMINAL TRESPASS   \n",
              "1   238682242  2022-01-05T00:00:00.000                       ROBBERY   \n",
              "2   238723993  2022-01-06T00:00:00.000                          RAPE   \n",
              "3   239104920  2022-01-13T00:00:00.000  ASSAULT 3 & RELATED OFFENSES   \n",
              "4   239623520  2022-01-24T00:00:00.000  ASSAULT 3 & RELATED OFFENSES   \n",
              "\n",
              "  arrest_boro  precinct age_group perp_sex perp_race   latitude  longitude  \\\n",
              "0           K        75     18-24        M     BLACK  40.676863 -73.889037   \n",
              "1           K        75     25-44        M     BLACK  40.671404 -73.881509   \n",
              "2           K        77     25-44        M     WHITE  40.674496 -73.930571   \n",
              "3           K        77     45-64        M     BLACK  40.674593 -73.930572   \n",
              "4           K        60     45-64        M     WHITE  40.577258 -73.976436   \n",
              "\n",
              "    borough  precinct_population  \n",
              "0  Brooklyn               200994  \n",
              "1  Brooklyn               200994  \n",
              "2  Brooklyn               101267  \n",
              "3  Brooklyn               101267  \n",
              "4  Brooklyn               109024  "
            ],
            "text/html": [
              "\n",
              "  <div id=\"df-b767668e-80b6-425e-aaa1-867a94301cea\">\n",
              "    <div class=\"colab-df-container\">\n",
              "      <div>\n",
              "<style scoped>\n",
              "    .dataframe tbody tr th:only-of-type {\n",
              "        vertical-align: middle;\n",
              "    }\n",
              "\n",
              "    .dataframe tbody tr th {\n",
              "        vertical-align: top;\n",
              "    }\n",
              "\n",
              "    .dataframe thead th {\n",
              "        text-align: right;\n",
              "    }\n",
              "</style>\n",
              "<table border=\"1\" class=\"dataframe\">\n",
              "  <thead>\n",
              "    <tr style=\"text-align: right;\">\n",
              "      <th></th>\n",
              "      <th>arrest_key</th>\n",
              "      <th>arrest_date</th>\n",
              "      <th>offense</th>\n",
              "      <th>arrest_boro</th>\n",
              "      <th>precinct</th>\n",
              "      <th>age_group</th>\n",
              "      <th>perp_sex</th>\n",
              "      <th>perp_race</th>\n",
              "      <th>latitude</th>\n",
              "      <th>longitude</th>\n",
              "      <th>borough</th>\n",
              "      <th>precinct_population</th>\n",
              "    </tr>\n",
              "  </thead>\n",
              "  <tbody>\n",
              "    <tr>\n",
              "      <th>0</th>\n",
              "      <td>238552639</td>\n",
              "      <td>2022-01-03T00:00:00.000</td>\n",
              "      <td>CRIMINAL TRESPASS</td>\n",
              "      <td>K</td>\n",
              "      <td>75</td>\n",
              "      <td>18-24</td>\n",
              "      <td>M</td>\n",
              "      <td>BLACK</td>\n",
              "      <td>40.676863</td>\n",
              "      <td>-73.889037</td>\n",
              "      <td>Brooklyn</td>\n",
              "      <td>200994</td>\n",
              "    </tr>\n",
              "    <tr>\n",
              "      <th>1</th>\n",
              "      <td>238682242</td>\n",
              "      <td>2022-01-05T00:00:00.000</td>\n",
              "      <td>ROBBERY</td>\n",
              "      <td>K</td>\n",
              "      <td>75</td>\n",
              "      <td>25-44</td>\n",
              "      <td>M</td>\n",
              "      <td>BLACK</td>\n",
              "      <td>40.671404</td>\n",
              "      <td>-73.881509</td>\n",
              "      <td>Brooklyn</td>\n",
              "      <td>200994</td>\n",
              "    </tr>\n",
              "    <tr>\n",
              "      <th>2</th>\n",
              "      <td>238723993</td>\n",
              "      <td>2022-01-06T00:00:00.000</td>\n",
              "      <td>RAPE</td>\n",
              "      <td>K</td>\n",
              "      <td>77</td>\n",
              "      <td>25-44</td>\n",
              "      <td>M</td>\n",
              "      <td>WHITE</td>\n",
              "      <td>40.674496</td>\n",
              "      <td>-73.930571</td>\n",
              "      <td>Brooklyn</td>\n",
              "      <td>101267</td>\n",
              "    </tr>\n",
              "    <tr>\n",
              "      <th>3</th>\n",
              "      <td>239104920</td>\n",
              "      <td>2022-01-13T00:00:00.000</td>\n",
              "      <td>ASSAULT 3 &amp; RELATED OFFENSES</td>\n",
              "      <td>K</td>\n",
              "      <td>77</td>\n",
              "      <td>45-64</td>\n",
              "      <td>M</td>\n",
              "      <td>BLACK</td>\n",
              "      <td>40.674593</td>\n",
              "      <td>-73.930572</td>\n",
              "      <td>Brooklyn</td>\n",
              "      <td>101267</td>\n",
              "    </tr>\n",
              "    <tr>\n",
              "      <th>4</th>\n",
              "      <td>239623520</td>\n",
              "      <td>2022-01-24T00:00:00.000</td>\n",
              "      <td>ASSAULT 3 &amp; RELATED OFFENSES</td>\n",
              "      <td>K</td>\n",
              "      <td>60</td>\n",
              "      <td>45-64</td>\n",
              "      <td>M</td>\n",
              "      <td>WHITE</td>\n",
              "      <td>40.577258</td>\n",
              "      <td>-73.976436</td>\n",
              "      <td>Brooklyn</td>\n",
              "      <td>109024</td>\n",
              "    </tr>\n",
              "  </tbody>\n",
              "</table>\n",
              "</div>\n",
              "      <button class=\"colab-df-convert\" onclick=\"convertToInteractive('df-b767668e-80b6-425e-aaa1-867a94301cea')\"\n",
              "              title=\"Convert this dataframe to an interactive table.\"\n",
              "              style=\"display:none;\">\n",
              "        \n",
              "  <svg xmlns=\"http://www.w3.org/2000/svg\" height=\"24px\"viewBox=\"0 0 24 24\"\n",
              "       width=\"24px\">\n",
              "    <path d=\"M0 0h24v24H0V0z\" fill=\"none\"/>\n",
              "    <path d=\"M18.56 5.44l.94 2.06.94-2.06 2.06-.94-2.06-.94-.94-2.06-.94 2.06-2.06.94zm-11 1L8.5 8.5l.94-2.06 2.06-.94-2.06-.94L8.5 2.5l-.94 2.06-2.06.94zm10 10l.94 2.06.94-2.06 2.06-.94-2.06-.94-.94-2.06-.94 2.06-2.06.94z\"/><path d=\"M17.41 7.96l-1.37-1.37c-.4-.4-.92-.59-1.43-.59-.52 0-1.04.2-1.43.59L10.3 9.45l-7.72 7.72c-.78.78-.78 2.05 0 2.83L4 21.41c.39.39.9.59 1.41.59.51 0 1.02-.2 1.41-.59l7.78-7.78 2.81-2.81c.8-.78.8-2.07 0-2.86zM5.41 20L4 18.59l7.72-7.72 1.47 1.35L5.41 20z\"/>\n",
              "  </svg>\n",
              "      </button>\n",
              "      \n",
              "  <style>\n",
              "    .colab-df-container {\n",
              "      display:flex;\n",
              "      flex-wrap:wrap;\n",
              "      gap: 12px;\n",
              "    }\n",
              "\n",
              "    .colab-df-convert {\n",
              "      background-color: #E8F0FE;\n",
              "      border: none;\n",
              "      border-radius: 50%;\n",
              "      cursor: pointer;\n",
              "      display: none;\n",
              "      fill: #1967D2;\n",
              "      height: 32px;\n",
              "      padding: 0 0 0 0;\n",
              "      width: 32px;\n",
              "    }\n",
              "\n",
              "    .colab-df-convert:hover {\n",
              "      background-color: #E2EBFA;\n",
              "      box-shadow: 0px 1px 2px rgba(60, 64, 67, 0.3), 0px 1px 3px 1px rgba(60, 64, 67, 0.15);\n",
              "      fill: #174EA6;\n",
              "    }\n",
              "\n",
              "    [theme=dark] .colab-df-convert {\n",
              "      background-color: #3B4455;\n",
              "      fill: #D2E3FC;\n",
              "    }\n",
              "\n",
              "    [theme=dark] .colab-df-convert:hover {\n",
              "      background-color: #434B5C;\n",
              "      box-shadow: 0px 1px 3px 1px rgba(0, 0, 0, 0.15);\n",
              "      filter: drop-shadow(0px 1px 2px rgba(0, 0, 0, 0.3));\n",
              "      fill: #FFFFFF;\n",
              "    }\n",
              "  </style>\n",
              "\n",
              "      <script>\n",
              "        const buttonEl =\n",
              "          document.querySelector('#df-b767668e-80b6-425e-aaa1-867a94301cea button.colab-df-convert');\n",
              "        buttonEl.style.display =\n",
              "          google.colab.kernel.accessAllowed ? 'block' : 'none';\n",
              "\n",
              "        async function convertToInteractive(key) {\n",
              "          const element = document.querySelector('#df-b767668e-80b6-425e-aaa1-867a94301cea');\n",
              "          const dataTable =\n",
              "            await google.colab.kernel.invokeFunction('convertToInteractive',\n",
              "                                                     [key], {});\n",
              "          if (!dataTable) return;\n",
              "\n",
              "          const docLinkHtml = 'Like what you see? Visit the ' +\n",
              "            '<a target=\"_blank\" href=https://colab.research.google.com/notebooks/data_table.ipynb>data table notebook</a>'\n",
              "            + ' to learn more about interactive tables.';\n",
              "          element.innerHTML = '';\n",
              "          dataTable['output_type'] = 'display_data';\n",
              "          await google.colab.output.renderOutput(dataTable, element);\n",
              "          const docLink = document.createElement('div');\n",
              "          docLink.innerHTML = docLinkHtml;\n",
              "          element.appendChild(docLink);\n",
              "        }\n",
              "      </script>\n",
              "    </div>\n",
              "  </div>\n",
              "  "
            ]
          },
          "metadata": {},
          "execution_count": 28
        }
      ]
    },
    {
      "cell_type": "code",
      "source": [
        "df['arrest_date'].describe() #In looking at the unique values, I can see that the arrests cover the first six months \n",
        "# of 2022"
      ],
      "metadata": {
        "colab": {
          "base_uri": "https://localhost:8080/",
          "height": 0
        },
        "id": "V3jdFHkgLgxH",
        "outputId": "4a46ee2d-42d2-4943-c0b9-8eb2e3967c2d"
      },
      "execution_count": 29,
      "outputs": [
        {
          "output_type": "execute_result",
          "data": {
            "text/plain": [
              "count                         979\n",
              "unique                        110\n",
              "top       2022-01-19T00:00:00.000\n",
              "freq                           32\n",
              "Name: arrest_date, dtype: object"
            ]
          },
          "metadata": {},
          "execution_count": 29
        }
      ]
    },
    {
      "cell_type": "code",
      "source": [
        "df.info()#here I'm checking to see what the data types are and if there are any non-nulls now that I added column.\n",
        "#there are not, but the date_time is listed as an object. If I want to do any descriptive stats on when crimes occur, \n",
        "#I'll need to change this. \n"
      ],
      "metadata": {
        "colab": {
          "base_uri": "https://localhost:8080/",
          "height": 0
        },
        "id": "K_bKetU2gMOH",
        "outputId": "07c91bc1-3254-4450-a8e5-10bc5b6a8391"
      },
      "execution_count": 30,
      "outputs": [
        {
          "output_type": "stream",
          "name": "stdout",
          "text": [
            "<class 'pandas.core.frame.DataFrame'>\n",
            "Int64Index: 979 entries, 0 to 978\n",
            "Data columns (total 12 columns):\n",
            " #   Column               Non-Null Count  Dtype  \n",
            "---  ------               --------------  -----  \n",
            " 0   arrest_key           979 non-null    int64  \n",
            " 1   arrest_date          979 non-null    object \n",
            " 2   offense              979 non-null    object \n",
            " 3   arrest_boro          979 non-null    object \n",
            " 4   precinct             979 non-null    int64  \n",
            " 5   age_group            979 non-null    object \n",
            " 6   perp_sex             979 non-null    object \n",
            " 7   perp_race            979 non-null    object \n",
            " 8   latitude             979 non-null    float64\n",
            " 9   longitude            979 non-null    float64\n",
            " 10  borough              979 non-null    object \n",
            " 11  precinct_population  979 non-null    int64  \n",
            "dtypes: float64(2), int64(3), object(7)\n",
            "memory usage: 99.4+ KB\n"
          ]
        }
      ]
    },
    {
      "cell_type": "code",
      "source": [
        "df['arrest_date']=df['arrest_date'].astype('datetime64[ns]')\n",
        "df['age_group']=df['age_group'].astype('string')\n",
        "df.info()"
      ],
      "metadata": {
        "colab": {
          "base_uri": "https://localhost:8080/",
          "height": 0
        },
        "id": "jlN4qYnuhfdY",
        "outputId": "645ba14d-277e-4d3f-f42a-00523d8d8702"
      },
      "execution_count": 31,
      "outputs": [
        {
          "output_type": "stream",
          "name": "stdout",
          "text": [
            "<class 'pandas.core.frame.DataFrame'>\n",
            "Int64Index: 979 entries, 0 to 978\n",
            "Data columns (total 12 columns):\n",
            " #   Column               Non-Null Count  Dtype         \n",
            "---  ------               --------------  -----         \n",
            " 0   arrest_key           979 non-null    int64         \n",
            " 1   arrest_date          979 non-null    datetime64[ns]\n",
            " 2   offense              979 non-null    object        \n",
            " 3   arrest_boro          979 non-null    object        \n",
            " 4   precinct             979 non-null    int64         \n",
            " 5   age_group            979 non-null    string        \n",
            " 6   perp_sex             979 non-null    object        \n",
            " 7   perp_race            979 non-null    object        \n",
            " 8   latitude             979 non-null    float64       \n",
            " 9   longitude            979 non-null    float64       \n",
            " 10  borough              979 non-null    object        \n",
            " 11  precinct_population  979 non-null    int64         \n",
            "dtypes: datetime64[ns](1), float64(2), int64(3), object(5), string(1)\n",
            "memory usage: 99.4+ KB\n"
          ]
        }
      ]
    },
    {
      "cell_type": "markdown",
      "source": [
        "From the scatter plot of offenses over time, we see the greatest concentration of crime across boroughs in pety larceny, assault, traffic violations, drugs and assault. The research question I'll set out to answer is: \n",
        "#**Research Question:**#\n",
        "##What are the top 5 high crime and top 5 low crime neighborhoods in terms of arrests? Of these, can we see any significant differences in any of the features? ##"
      ],
      "metadata": {
        "id": "XsQnQa4gln9Q"
      }
    },
    {
      "cell_type": "code",
      "source": [
        "df.plot(kind='scatter',x='arrest_date',y='offense',figsize=(6,18))"
      ],
      "metadata": {
        "colab": {
          "base_uri": "https://localhost:8080/",
          "height": 1058
        },
        "id": "58uOGKq8aDzW",
        "outputId": "6b0d496f-900a-4150-cbb7-ef48eedcb6e2"
      },
      "execution_count": 32,
      "outputs": [
        {
          "output_type": "execute_result",
          "data": {
            "text/plain": [
              "<matplotlib.axes._subplots.AxesSubplot at 0x7ff3d8333490>"
            ]
          },
          "metadata": {},
          "execution_count": 32
        },
        {
          "output_type": "display_data",
          "data": {
            "text/plain": [
              "<Figure size 432x1296 with 1 Axes>"
            ],
            "image/png": "[encoded data removed]"
          },
          "metadata": {
            "needs_background": "light"
          }
        }
      ]
    },
    {
      "cell_type": "code",
      "source": [
        "sns.distplot(df['arrest_key'],bins=20)# just seeing what this does. Despite reassigning date to datetime, python is not \n",
        "# letting me plot distribution but from reviewing data, it looks like it's going by number of arrests over time. \n",
        "# Need to learn more about how to visualize labels. "
      ],
      "metadata": {
        "colab": {
          "base_uri": "https://localhost:8080/",
          "height": 363
        },
        "id": "8KLuPDu9bKeY",
        "outputId": "ae04064e-639e-4d62-b5f4-92ee0f51d7f4"
      },
      "execution_count": 33,
      "outputs": [
        {
          "output_type": "stream",
          "name": "stderr",
          "text": [
            "/usr/local/lib/python3.7/dist-packages/seaborn/distributions.py:2619: FutureWarning: `distplot` is a deprecated function and will be removed in a future version. Please adapt your code to use either `displot` (a figure-level function with similar flexibility) or `histplot` (an axes-level function for histograms).\n",
            "  warnings.warn(msg, FutureWarning)\n"
          ]
        },
        {
          "output_type": "execute_result",
          "data": {
            "text/plain": [
              "<matplotlib.axes._subplots.AxesSubplot at 0x7ff3d82f6d90>"
            ]
          },
          "metadata": {},
          "execution_count": 33
        },
        {
          "output_type": "display_data",
          "data": {
            "text/plain": [
              "<Figure size 432x288 with 1 Axes>"
            ],
            "image/png": "[encoded data removed]"
          },
          "metadata": {
            "needs_background": "light"
          }
        }
      ]
    },
    {
      "cell_type": "markdown",
      "source": [
        "\n",
        "\n",
        "\n",
        "\n",
        "\n",
        "\n",
        "\n",
        "\n",
        "Looking at the total number of arrests by precinct enables us to get a better sense of the greatest number of arrests by local neighborhood.  The precincts with the greatest number of arrests between January and June 2022 include: the 44th, 120th, 75th, 105th and 110th precincts.\n",
        "\n",
        "The 44th precinct is located on 169th St in the Bronx, NY 10452; the 120th precinct is located in Richmond Terrace, Staten Island, NY 10301; the 75th precinct is located on Sutter Ave in Brooklyn, NY 11208; the 105th precinct in 222nd St, Queens and the 110th precinct is in Elmhurst Queens. \n",
        "\n",
        "The five precincts with the lowest number of arrests in the same period include: the 9th, the 10th, 94th, 111th and 112th.  The 9th precinct is located on the lower east side on 5th St. in Manhattan, 10003; the 10th precinct is located in Chelsea on 20th St in Manhattan 10011, the 94th precinct is 111th is located in Bayside Queens and the 112th precinct in Forest Hills and Rego Park. "
      ],
      "metadata": {
        "id": "BRDhirEBxgip"
      }
    },
    {
      "cell_type": "code",
      "source": [
        "df.groupby(['precinct'])['arrest_date'].count().sort_values(ascending=True).plot(kind='barh',figsize=(4,12),xlabel='Precinct')\n"
      ],
      "metadata": {
        "colab": {
          "base_uri": "https://localhost:8080/",
          "height": 717
        },
        "id": "8DflTzcNifyp",
        "outputId": "b342367a-c516-48d3-b957-fbe83d6829b0"
      },
      "execution_count": 34,
      "outputs": [
        {
          "output_type": "execute_result",
          "data": {
            "text/plain": [
              "<matplotlib.axes._subplots.AxesSubplot at 0x7ff3d82a1810>"
            ]
          },
          "metadata": {},
          "execution_count": 34
        },
        {
          "output_type": "display_data",
          "data": {
            "text/plain": [
              "<Figure size 288x864 with 1 Axes>"
            ],
            "image/png": "[encoded data removed]"
          },
          "metadata": {
            "needs_background": "light"
          }
        }
      ]
    },
    {
      "cell_type": "markdown",
      "source": [
        "In the following analysis, I'll compare the precinct/neighborhood with the second lowest number of arrests (the 9th in the Lower east side (the lowest number of arrests, the 10th in Chelsea, does not have any data) with the precinct/neighborhood with the highest number of arrests, the 44th precinct, in the southwest portion of the Bronx covering Grand Concourse, Bronx Terminal Market, and Yankee Stadium.\n",
        "\n",
        "I'll compare each by total arrests relative to the population and type of arrest."
      ],
      "metadata": {
        "id": "L3wkAnrt0-a7"
      }
    },
    {
      "cell_type": "markdown",
      "source": [
        "**Feature Comparison Between the 9th and 44th Precincts:**"
      ],
      "metadata": {
        "id": "snFcnr835yqR"
      }
    },
    {
      "cell_type": "markdown",
      "source": [
        "**Offense Comparison**"
      ],
      "metadata": {
        "id": "LO_P-osCrL0w"
      }
    },
    {
      "cell_type": "code",
      "source": [
        "df[df['precinct']==9]\n",
        "precinct_9 = df[df['precinct']==9]\n",
        "precinct_44 = df[df['precinct']==44]\n",
        "precinct_9.groupby(['offense'])['arrest_date'].count().plot(kind='barh',title='Lower East Side')\n"
      ],
      "metadata": {
        "colab": {
          "base_uri": "https://localhost:8080/",
          "height": 298
        },
        "id": "WJ1EUUB60c0X",
        "outputId": "59e681c5-08d6-4e97-82aa-ee4de14aa7c4"
      },
      "execution_count": 35,
      "outputs": [
        {
          "output_type": "execute_result",
          "data": {
            "text/plain": [
              "<matplotlib.axes._subplots.AxesSubplot at 0x7ff3d8219a10>"
            ]
          },
          "metadata": {},
          "execution_count": 35
        },
        {
          "output_type": "display_data",
          "data": {
            "text/plain": [
              "<Figure size 432x288 with 1 Axes>"
            ],
            "image/png": "[encoded data removed]"
          },
          "metadata": {
            "needs_background": "light"
          }
        }
      ]
    },
    {
      "cell_type": "code",
      "source": [
        "precinct_44.groupby(['offense'])['arrest_date'].count().plot(kind='barh',title='The Bronx, 44th Precinct')"
      ],
      "metadata": {
        "colab": {
          "base_uri": "https://localhost:8080/",
          "height": 298
        },
        "id": "os7LuENMK809",
        "outputId": "5ce0350f-1c86-4fa6-e0f2-9dc0c53fead6"
      },
      "execution_count": 36,
      "outputs": [
        {
          "output_type": "execute_result",
          "data": {
            "text/plain": [
              "<matplotlib.axes._subplots.AxesSubplot at 0x7ff3d8225990>"
            ]
          },
          "metadata": {},
          "execution_count": 36
        },
        {
          "output_type": "display_data",
          "data": {
            "text/plain": [
              "<Figure size 432x288 with 1 Axes>"
            ],
            "image/png": "[encoded data removed]"
          },
          "metadata": {
            "needs_background": "light"
          }
        }
      ]
    },
    {
      "cell_type": "markdown",
      "source": [
        "**Arrest to Population Comparison**\n",
        "\n",
        "In comparing the number of arrests to the total population of each precinct we see that the 44th precint population is twice the size of the lower east side population and exhibits greater variety in types of crime. \n",
        "\n",
        "While the number of arrests in the 44th precinct in the Bronx was ten times higher, the total numbers were insignificant when compared to the population, representing less than one percent. \n",
        "\n",
        "It should be noted that the data reflects actual arrests made, which means that the perpetrator was either caught in the act or someone pressed charges. As such, the data may not accurately depict the total level of crime that occurs in each area as many might go unreported or not end in arrest. \n"
      ],
      "metadata": {
        "id": "-ydxYlYUWtV1"
      }
    },
    {
      "cell_type": "code",
      "source": [
        "#add a column to show the number of arrests relative to the population in the 9th precinct (10003):\n",
        "precinct_9['arrest_date'].count() # =4 as illustrated above\n",
        "precinct_9['precinct_population']\n"
      ],
      "metadata": {
        "colab": {
          "base_uri": "https://localhost:8080/",
          "height": 0
        },
        "id": "BgVU5UovNrw-",
        "outputId": "60a233e1-d982-481b-a0f1-eb59b184624a"
      },
      "execution_count": 37,
      "outputs": [
        {
          "output_type": "execute_result",
          "data": {
            "text/plain": [
              "143    75951\n",
              "487    75951\n",
              "646    75951\n",
              "658    75951\n",
              "Name: precinct_population, dtype: int64"
            ]
          },
          "metadata": {},
          "execution_count": 37
        }
      ]
    },
    {
      "cell_type": "code",
      "source": [
        "x= 4\n",
        "y= 75951\n",
        "ratio_arrests_to_pop = x/y\n",
        "\n",
        "ratio_arrests_to_pop"
      ],
      "metadata": {
        "colab": {
          "base_uri": "https://localhost:8080/",
          "height": 0
        },
        "id": "Hhz3bztaSbvj",
        "outputId": "98e6af9f-f114-45e9-ed84-01e5a7f36976"
      },
      "execution_count": 38,
      "outputs": [
        {
          "output_type": "execute_result",
          "data": {
            "text/plain": [
              "5.266553435767798e-05"
            ]
          },
          "metadata": {},
          "execution_count": 38
        }
      ]
    },
    {
      "cell_type": "markdown",
      "source": [
        "The total number of arrests in the 9th precinct during the first six months of 2022 was 4 (1 for burglary, 2 for criminal mischief and 1 for miscellaneous penal law). The total population in the 9th precinct is 75,951. As such, the ratio of arrests to the population is minimal. The crimes (all four of them) were committed by persons falling in the age category of 25-44 and 45-64. "
      ],
      "metadata": {
        "id": "mDe6c7EmSMmA"
      }
    },
    {
      "cell_type": "code",
      "source": [
        "#the number of arrests relative to the population in the 44th precinct (10452):\n",
        "precinct_44['arrest_date'].count() # = 41 as illustrated above\n",
        "precinct_44['precinct_population'].head() # = 150436"
      ],
      "metadata": {
        "colab": {
          "base_uri": "https://localhost:8080/",
          "height": 0
        },
        "id": "i36cXXSfTMvQ",
        "outputId": "9b8e95e3-8f25-40ca-f9a3-b6d614499ed9"
      },
      "execution_count": 39,
      "outputs": [
        {
          "output_type": "execute_result",
          "data": {
            "text/plain": [
              "20     150436\n",
              "24     150436\n",
              "46     150436\n",
              "56     150436\n",
              "133    150436\n",
              "Name: precinct_population, dtype: int64"
            ]
          },
          "metadata": {},
          "execution_count": 39
        }
      ]
    },
    {
      "cell_type": "code",
      "source": [
        "x= 41\n",
        "y= 150436\n",
        "ratio_arrests_to_pop = x/y\n",
        "\n",
        "ratio_arrests_to_pop"
      ],
      "metadata": {
        "colab": {
          "base_uri": "https://localhost:8080/",
          "height": 0
        },
        "id": "IdyqOnw4TNZx",
        "outputId": "cf84ff96-1c47-4dc2-8e65-b2dbe7ac3b78"
      },
      "execution_count": 40,
      "outputs": [
        {
          "output_type": "execute_result",
          "data": {
            "text/plain": [
              "0.0002725411470658619"
            ]
          },
          "metadata": {},
          "execution_count": 40
        }
      ]
    },
    {
      "cell_type": "markdown",
      "source": [
        "The 44th precinct logged 41 arrests over the first six months of 2022. The greatest number of arrests involved theft (13 including burglary, robbery and petit larceny, 15 if you include grand larceny) followed by assault (9, including felony assault and assault3 & related offenses).   \n",
        "\n",
        "The majority of offenses were committed by adults between the ages of 25-44, with 12% (5) involving young adults aged 18-24.\n"
      ],
      "metadata": {
        "id": "EaJswNB0Xzfq"
      }
    },
    {
      "cell_type": "markdown",
      "source": [
        "**Age Group Comparison**\n",
        "\n",
        "In looking at the ages of each precinct, there was little to be gleaned from the 9th precinct arrests as there were only four, two of whom fall into the 25-44 age group and the other two into the 45-64 group.  In the 44th precinct, the greatest number of arrests were for individuals between the ages of 25-44."
      ],
      "metadata": {
        "id": "3L7t_ly4oSlD"
      }
    },
    {
      "cell_type": "code",
      "source": [
        "precinct_9['age_group'].mode() #there are only four crimes so the mode does not tell us much since 2 arrests were for individuals aged 25-44 and 2 were \n",
        "#for individuals aged 45-64."
      ],
      "metadata": {
        "colab": {
          "base_uri": "https://localhost:8080/",
          "height": 0
        },
        "id": "Os9yd__5aMGV",
        "outputId": "1a65fc6e-1c13-41bd-c325-72b173599982"
      },
      "execution_count": 41,
      "outputs": [
        {
          "output_type": "execute_result",
          "data": {
            "text/plain": [
              "0    25-44\n",
              "1    45-64\n",
              "dtype: string"
            ]
          },
          "metadata": {},
          "execution_count": 41
        }
      ]
    },
    {
      "cell_type": "code",
      "source": [
        "precinct_44['age_group'].mode() #the greatest number of arrests were for individuals between the ages of 25-44."
      ],
      "metadata": {
        "colab": {
          "base_uri": "https://localhost:8080/",
          "height": 0
        },
        "id": "-nrhK82lfBTP",
        "outputId": "6ef268a0-eed3-4cb7-a1bb-97dfbd1b3168"
      },
      "execution_count": 42,
      "outputs": [
        {
          "output_type": "execute_result",
          "data": {
            "text/plain": [
              "0    25-44\n",
              "dtype: string"
            ]
          },
          "metadata": {},
          "execution_count": 42
        }
      ]
    },
    {
      "cell_type": "markdown",
      "source": [
        "**Arrests by Sex**\n",
        "\n",
        "\n",
        "The majority of arrests in both precincts involved men. (Makes one wonder since the news reported a number of female shooters ... once again illustrating that not all perpetrators are caught or counted."
      ],
      "metadata": {
        "id": "MHMEc4WtsXxU"
      }
    },
    {
      "cell_type": "code",
      "source": [
        "precinct_9['perp_sex'].mode() #most 9th precinct arrests were of males."
      ],
      "metadata": {
        "colab": {
          "base_uri": "https://localhost:8080/",
          "height": 0
        },
        "id": "xlOtRdUdpNF5",
        "outputId": "08dab7ac-a438-4b53-bfa4-4946f2dd90e5"
      },
      "execution_count": 43,
      "outputs": [
        {
          "output_type": "execute_result",
          "data": {
            "text/plain": [
              "0    M\n",
              "dtype: object"
            ]
          },
          "metadata": {},
          "execution_count": 43
        }
      ]
    },
    {
      "cell_type": "code",
      "source": [
        "precinct_44['perp_sex'].mode() #most 44th precinct arrests were of males"
      ],
      "metadata": {
        "colab": {
          "base_uri": "https://localhost:8080/",
          "height": 0
        },
        "id": "mvpWe2ebpZJT",
        "outputId": "66a167fd-3064-4551-8b0c-08283b900333"
      },
      "execution_count": 44,
      "outputs": [
        {
          "output_type": "execute_result",
          "data": {
            "text/plain": [
              "0    M\n",
              "dtype: object"
            ]
          },
          "metadata": {},
          "execution_count": 44
        }
      ]
    },
    {
      "cell_type": "markdown",
      "source": [
        "**Comparision of Arrests by Race**\n",
        "\n",
        "The races of arrests made were primarily white and hispanic in the 9th precinct, located in Chelsea and primarily Black in the 44th precinct, located in the Bronx. This likely reflects the populations in each neighborhood. To determine if this is true, I would need to retrieve the Census population figures concerning race. These are available from Keefe's data but fall outside of the scope of this analysis. "
      ],
      "metadata": {
        "id": "LBV7S9U4szfi"
      }
    },
    {
      "cell_type": "code",
      "source": [
        "precinct_9['perp_race'].mode() #Of the four, there was even number of white and hispanic race arrests"
      ],
      "metadata": {
        "colab": {
          "base_uri": "https://localhost:8080/",
          "height": 0
        },
        "id": "3ruNOjAsp-89",
        "outputId": "3303fe0d-81cf-4184-d795-4ebebd077b4c"
      },
      "execution_count": 45,
      "outputs": [
        {
          "output_type": "execute_result",
          "data": {
            "text/plain": [
              "0    WHITE HISPANIC\n",
              "dtype: object"
            ]
          },
          "metadata": {},
          "execution_count": 45
        }
      ]
    },
    {
      "cell_type": "code",
      "source": [
        "precinct_44['perp_race'].mode() #The greatest number of arrests in the Bronx 44th precinct involved the Black race."
      ],
      "metadata": {
        "colab": {
          "base_uri": "https://localhost:8080/",
          "height": 0
        },
        "id": "_iyPwHSwqFsF",
        "outputId": "12f724ad-a795-4a95-f555-9560797db129"
      },
      "execution_count": 46,
      "outputs": [
        {
          "output_type": "execute_result",
          "data": {
            "text/plain": [
              "0    BLACK\n",
              "dtype: object"
            ]
          },
          "metadata": {},
          "execution_count": 46
        }
      ]
    },
    {
      "cell_type": "markdown",
      "source": [
        "**Comparison of Arrest Activity**"
      ],
      "metadata": {
        "id": "m7t-5DtptoJw"
      }
    },
    {
      "cell_type": "markdown",
      "source": [
        "In plotting out the crimes in both precincts,  we see that most of the arrests took place in the winter months:"
      ],
      "metadata": {
        "id": "zR6frXHzSHjs"
      }
    },
    {
      "cell_type": "code",
      "source": [
        "precinct_44.plot(kind='scatter',x='arrest_date',y='offense',figsize=(16,4))"
      ],
      "metadata": {
        "colab": {
          "base_uri": "https://localhost:8080/",
          "height": 297
        },
        "id": "QUixX3j2PWWJ",
        "outputId": "27acc0aa-d7f2-4612-f5e6-3dc00bd93cef"
      },
      "execution_count": 47,
      "outputs": [
        {
          "output_type": "execute_result",
          "data": {
            "text/plain": [
              "<matplotlib.axes._subplots.AxesSubplot at 0x7ff3d81d7310>"
            ]
          },
          "metadata": {},
          "execution_count": 47
        },
        {
          "output_type": "display_data",
          "data": {
            "text/plain": [
              "<Figure size 1152x288 with 1 Axes>"
            ],
            "image/png": "[encoded data removed]"
          },
          "metadata": {
            "needs_background": "light"
          }
        }
      ]
    },
    {
      "cell_type": "code",
      "source": [
        "precinct_9.plot(kind='scatter',x='arrest_date',y='offense',figsize=(16,4))"
      ],
      "metadata": {
        "colab": {
          "base_uri": "https://localhost:8080/",
          "height": 297
        },
        "id": "bxOug3bjSMT-",
        "outputId": "cad73052-cdab-4888-c596-adbde058d873"
      },
      "execution_count": 48,
      "outputs": [
        {
          "output_type": "execute_result",
          "data": {
            "text/plain": [
              "<matplotlib.axes._subplots.AxesSubplot at 0x7ff3d8248c90>"
            ]
          },
          "metadata": {},
          "execution_count": 48
        },
        {
          "output_type": "display_data",
          "data": {
            "text/plain": [
              "<Figure size 1152x288 with 1 Axes>"
            ],
            "image/png": "[encoded data removed]"
          },
          "metadata": {
            "needs_background": "light"
          }
        }
      ]
    },
    {
      "cell_type": "markdown",
      "source": [
        "##**Summary & Key Findings**##\n",
        "\n",
        "The objective of this project was to analyze NYPD Arrest data for arrests made in the first six months of 2022 (the Arrests to Date available on NYC Open Data).  To determine which areas to focus on, I first looked at which borough has the greatest number of arrests. This is Brooklyn but Brooklyn also has the greatest concentration of people.  I therefore looked at the crimes by precinct to determine which precincts had the greatest number of arrests. I then compared two neighborhoods- the Grand Concourse area of the Bronx (44th precinct) and the Lower East Side (LES) in Manhattan. The lowest arrests were in the 10th precinct in Chelsea but not enough data was available for comparison.\n",
        "\n",
        "In order to get a better sense of the significance of the number of crimes across precincts, I merged the NYPD Arrest data crossed with the Census population by precinct created by John Keefe of the New York Times. In learning the actual populations, it is clear that the number of arrests in both precincts relative to the population indicate that the number of arrests are not high, representing less than 1% of the precinct populations. \n",
        "\n",
        "The greatest concentration of arrests across boroughs are for offenses involving larceny, assault, traffic violations and drugs. As such, I determined that my research question would be whether there are any significant insights we can glean from comparing the arrest data for the precinct with the highest number of arrests to a precinct with the lowest number of arrests.  The top five in both cases (highest number of arrests and lowest numnber of arrests) cut across boroughs illustrating that crime and arrests depend on the neighborhodd in question. For ex, Chelsea in Manhattan and Forest Hills in Queens have the lowest number of crimes. \n",
        "\n",
        "In comparing the 9th and 44th precincts, we see that the population of the 44th precinct is twice the size of the 9th precinct, with 10x as many arrests but the ratio of arrests to population size is less than 1% in both. \n",
        "\n",
        "Arrests in both precincts primarily took place in the winter months (January, February and early March) and involved men between the ages of 25-44. Arrests in the lower east side involved white and hispanic men, while those in the Bronx involved mostly Black men, likely reflective of the populations in each neighborhood. "
      ],
      "metadata": {
        "id": "13qrB0Voj7Th"
      }
    }
  ]
}